{
 "cells": [
  {
   "cell_type": "code",
   "execution_count": 1,
   "metadata": {},
   "outputs": [],
   "source": [
    "import sys\n",
    "sys.path.append('..')"
   ]
  },
  {
   "cell_type": "code",
   "execution_count": 2,
   "metadata": {},
   "outputs": [],
   "source": [
    "# ckpt = '2501/COSEM_jrc-hela-UnetClassifier-l2/3/'\n",
    "# ckpt = '2501/COSEM_jrc-hela-UnetClassifier-l2/6'\n",
    "ckpt = '2502/Hagen-UnetClassifier-l2/0'\n",
    "evaluate_test_data = True\n",
    "\n",
    "training_rootdir = '/group/jug/ashesh/training/diffsplit/'"
   ]
  },
  {
   "cell_type": "code",
   "execution_count": 3,
   "metadata": {},
   "outputs": [],
   "source": [
    "import yaml\n",
    "import os\n",
    "import glob\n",
    "import torch\n",
    "\n",
    "def model_checkpoint_fpath(ckpt, fname=None):\n",
    "    ckpt_dir = os.path.join(training_rootdir, ckpt, 'checkpoint')\n",
    "    if fname is not None:\n",
    "        return os.path.join(training_rootdir, ckpt, fname)\n",
    "    else:\n",
    "        list_of_files = glob.glob(ckpt_dir +'/*_gen.pth') # * means all if need specific format then *.csv\n",
    "        latest_file = max(list_of_files, key=os.path.getctime)\n",
    "        fname = latest_file\n",
    "        return os.path.join(ckpt_dir,latest_file)\n",
    "\n",
    "def model_checkpoint_fpath_prefix(ckpt, fname=None):\n",
    "    fpath = model_checkpoint_fpath(ckpt, fname)\n",
    "    suffix = '_gen.pth'\n",
    "    assert fpath.endswith(suffix)\n",
    "    return fpath[:-len(suffix)]\n",
    "\n",
    "def load_config(ckpt):\n",
    "    config_path = os.path.join(training_rootdir,ckpt,'wandb/latest-run/files/config.yaml')\n",
    "\n",
    "    with open(config_path) as stream:\n",
    "        try:\n",
    "            opt = yaml.safe_load(stream)\n",
    "        except yaml.YAMLError as exc:\n",
    "            print(exc)\n",
    "    \n",
    "    keys = [\"name\",\"phase\",\"gpu_ids\",\"path\",\"datasets\",\"model\",\"train\"]\n",
    "    return {k: opt[k]['value'] for k in keys}"
   ]
  },
  {
   "cell_type": "code",
   "execution_count": 4,
   "metadata": {},
   "outputs": [
    {
     "name": "stderr",
     "output_type": "stream",
     "text": [
      "INFO:albumentations.check_version:A new version of Albumentations is available: 2.0.3 (you have 1.4.7). Upgrade using: pip install --upgrade albumentations\n"
     ]
    },
    {
     "name": "stdout",
     "output_type": "stream",
     "text": [
      "TimePredictor\n",
      "HARDCODED upperclip to 1993. Disable it if not needed !!!\n",
      "Computing mean and std for normalization\n",
      "[TimePredictorDataset] Data: 80x2x(2048, 2048) Patch:256 Random:1 Aug:True Q:1.0 UpperClip:0Uncor:False ChW:[1.0, 1.0]\n",
      "Adding Gaussian noise with std factor:  0.05\n",
      "HARDCODED upperclip to 1993. Disable it if not needed !!!\n",
      "Computing mean and std for normalization\n",
      "[TimePredictorDataset] Data: 10x2x(2048, 2048) Patch:256 Random:0 Aug:False Q:1.0 UpperClip:0Uncor:False ChW:[1.0, 1.0]\n"
     ]
    }
   ],
   "source": [
    "from model.ddpm_modules.time_predictor import TimePredictor\n",
    "from time_prediction_training import get_datasets\n",
    "import os\n",
    "\n",
    "classifier_ckpt = os.path.join(training_rootdir, ckpt)\n",
    "\n",
    "opt = load_config(classifier_ckpt)\n",
    "model_opt = opt['model']\n",
    "model = TimePredictor(\n",
    "    in_channel=model_opt['unet']['in_channel'],\n",
    "    out_channel=model_opt['unet']['out_channel'],\n",
    "    norm_groups=model_opt['unet']['norm_groups'],\n",
    "    inner_channel=model_opt['unet']['inner_channel'],\n",
    "    channel_mults=model_opt['unet']['channel_multiplier'],\n",
    "    attn_res=model_opt['unet']['attn_res'],\n",
    "    res_blocks=model_opt['unet']['res_blocks'],\n",
    "    dropout=model_opt['unet']['dropout'],\n",
    "    image_size=opt['datasets']['patch_size'],\n",
    "    )\n",
    "model = model.cuda()\n",
    "model.load_state_dict(torch.load(os.path.join(classifier_ckpt,'best_time_predictor.pth')), strict=True)\n",
    "\n",
    "\n",
    "# loading dataset.\n",
    "if evaluate_test_data:\n",
    "    if opt['datasets']['train']['name'] == 'Hagen':\n",
    "        opt['datasets']['val']['datapath'] = {\n",
    "        'ch0': '/group/jug/ashesh/data/diffsplit_hagen/test/test_actin-60x-noise2-highsnr.tif',\n",
    "        'ch1': '/group/jug/ashesh/data/diffsplit_hagen/test/test_mito-60x-noise2-highsnr.tif'\n",
    "        }\n",
    "    elif opt['datasets']['train']['name'] == 'COSEM_jrc-hela':\n",
    "        opt['datasets']['val']['datapath'] = \"/group/jug/ashesh/bleedthroughsimulation/jrc_hela-3/train-val-test-split/test_jrc_hela-3_bleedthrough_EGFP_Venus_R3.0_S4_D1_Ex100.0ms.tif\"\n",
    "    else:\n",
    "        raise NotImplementedError(f'{opt[\"datasets\"][\"train\"][\"name\"]} not implemented')\n",
    "\n",
    "if 'patch_size' not in opt['datasets']:\n",
    "    opt['datasets']['patch_size']  = opt['datasets']['train']['patch_size']\n",
    "\n",
    "if 'max_qval' not in opt['datasets']:\n",
    "    opt['datasets']['max_qval']  = 0.98\n",
    "\n",
    "if 'uncorrelated_channels' not in opt['datasets']['train']:\n",
    "    opt['datasets']['train']['uncorrelated_channels']  = False\n",
    "\n",
    "\n",
    "\n",
    "# data\n",
    "train_set, val_set = get_datasets(opt, tiled_pred=False)\n"
   ]
  },
  {
   "cell_type": "code",
   "execution_count": 5,
   "metadata": {},
   "outputs": [
    {
     "name": "stderr",
     "output_type": "stream",
     "text": [
      "  0%|          | 0/20 [00:00<?, ?it/s]"
     ]
    },
    {
     "name": "stderr",
     "output_type": "stream",
     "text": [
      "100%|██████████| 20/20 [04:51<00:00, 14.56s/it]\n"
     ]
    }
   ],
   "source": [
    "from model.normalizer import NormalizerXT\n",
    "from tqdm import tqdm \n",
    "data_mean_arr = []\n",
    "data_std_arr = []\n",
    "train_loader = torch.utils.data.DataLoader(train_set, batch_size=16, shuffle=True, num_workers=0)\n",
    "xt_normalizer = NormalizerXT()\n",
    "normalizer_count = 20\n",
    "for _ in tqdm(range(normalizer_count)):\n",
    "    bar = enumerate(train_loader)\n",
    "    for i, (x, t_float) in bar:\n",
    "        x = x.cuda()\n",
    "        t_float = t_float.cuda()\n",
    "        x = xt_normalizer.normalize(x,t_float, update=True)\n",
    "        data_mean_arr.append(xt_normalizer.data_mean.cpu().numpy())\n",
    "        data_std_arr.append(xt_normalizer.data_std.cpu().numpy())\n",
    "# num_timesteps = 100\n",
    "# input_normalization_dict = compute_input_normalization_dict(val_set._data_dict, num_timesteps, val_set._mean_target, val_set._std_target)"
   ]
  },
  {
   "cell_type": "code",
   "execution_count": 6,
   "metadata": {},
   "outputs": [
    {
     "data": {
      "text/plain": [
       "[<matplotlib.lines.Line2D at 0x7fa48c99c8e0>]"
      ]
     },
     "execution_count": 6,
     "metadata": {},
     "output_type": "execute_result"
    },
    {
     "data": {
      "image/png": "[encoded data removed]",
      "text/plain": [
       "<Figure size 640x480 with 1 Axes>"
      ]
     },
     "metadata": {},
     "output_type": "display_data"
    }
   ],
   "source": [
    "import numpy as np\n",
    "import matplotlib.pyplot as plt\n",
    "plt.plot(np.stack(data_mean_arr)[:,50])"
   ]
  },
  {
   "cell_type": "code",
   "execution_count": 11,
   "metadata": {},
   "outputs": [
    {
     "data": {
      "text/plain": [
       "(tensor([207.9309, 209.8582, 201.1971, 201.3117, 207.1694, 222.4589, 222.5293,\n",
       "         212.3515, 212.8442, 213.9749, 211.6873, 218.4521, 220.4082, 228.8017,\n",
       "         226.4997, 215.3270, 229.6512, 229.9554, 231.7651, 224.9548, 231.9993,\n",
       "         236.9146, 246.2326, 224.4057, 240.8654, 233.0239, 235.6391, 241.8418,\n",
       "         241.3162, 239.4689, 246.1572, 240.7437, 233.5865, 252.8899, 246.7936,\n",
       "         243.7923, 238.2566, 250.5132, 257.6071, 243.9788, 266.4674, 252.3456,\n",
       "         254.9192, 251.8018, 262.6486, 276.3286, 270.2734, 255.7286, 274.5067,\n",
       "         268.5882, 276.8044, 267.8880, 268.7016, 276.9833, 282.2574, 280.7555,\n",
       "         276.6780, 277.4962, 284.0116, 281.7312, 278.8719, 283.5656, 285.6760,\n",
       "         277.6881, 283.6781, 281.3565, 297.1489, 300.9760, 280.5334, 285.5208,\n",
       "         295.6346, 301.3905, 291.6940, 302.7913, 293.8474, 284.4949, 304.2952,\n",
       "         291.8373, 302.4218, 301.3359, 312.3977, 306.1514, 310.4192, 308.9536,\n",
       "         299.3395, 306.4963, 328.9318, 317.2181, 319.4586, 328.8686, 329.9796,\n",
       "         315.7875, 309.1055, 324.6051, 316.5146, 314.2714, 319.1285, 331.6756,\n",
       "         323.7095, 342.8887], device='cuda:0'),\n",
       " tensor([110.5086, 111.4558, 100.1662, 102.3410, 106.1141, 110.8772, 110.5109,\n",
       "         105.6910,  99.9166, 102.1721,  98.7947, 104.6759, 105.7129, 106.8564,\n",
       "         104.7148,  96.8052, 103.9342, 106.5711, 105.4974,  99.4790, 106.5162,\n",
       "         104.0349, 109.7585,  96.8243, 101.6569, 100.8198, 100.9091, 105.4143,\n",
       "         103.0878, 100.2320, 105.7318, 101.0508,  96.4287, 108.8722, 103.7328,\n",
       "         101.8800,  99.7887, 103.9801, 105.9813,  99.2430, 113.9984, 104.9404,\n",
       "         108.4346, 106.9182, 108.9773, 115.0384, 110.5345, 107.4864, 114.0621,\n",
       "         111.0912, 114.5298, 114.2544, 107.4730, 113.9900, 115.4576, 116.3813,\n",
       "         115.9565, 113.3884, 118.7264, 118.2349, 119.3717, 119.3071, 119.5613,\n",
       "         116.2777, 123.7552, 121.2710, 124.6130, 129.3959, 120.5131, 123.0598,\n",
       "         130.6084, 132.7765, 124.6748, 132.4012, 128.7964, 122.6840, 132.6004,\n",
       "         124.9769, 139.2867, 134.7551, 141.0787, 136.0607, 143.3781, 142.4904,\n",
       "         136.3206, 141.7852, 154.8204, 145.1629, 151.3873, 153.6776, 153.5642,\n",
       "         148.1531, 146.9626, 152.4895, 153.1572, 152.1602, 148.4859, 152.2125,\n",
       "         158.6260, 168.4939], device='cuda:0'))"
      ]
     },
     "execution_count": 11,
     "metadata": {},
     "output_type": "execute_result"
    }
   ],
   "source": [
    "xt_normalizer.data_mean, xt_normalizer.data_std"
   ]
  },
  {
   "cell_type": "code",
   "execution_count": 7,
   "metadata": {},
   "outputs": [
    {
     "name": "stderr",
     "output_type": "stream",
     "text": [
      "  0%|          | 0/80 [00:00<?, ?it/s]"
     ]
    },
    {
     "name": "stderr",
     "output_type": "stream",
     "text": [
      "100%|██████████| 80/80 [03:07<00:00,  2.35s/it]\n"
     ]
    }
   ],
   "source": [
    "from tqdm import tqdm\n",
    "import numpy as np\n",
    "\n",
    "num_timesteps = 80\n",
    "gt = np.arange(0,1.0,1/num_timesteps)\n",
    "pred_arr = []\n",
    "inp_arr = []\n",
    "# mean_inp = -0.7193205 \n",
    "# std_inp = 0.18258347\n",
    "# def normalize(inp):\n",
    "#     return 2*(inp - inp_min)/(inp_max-inp_min) - 1\n",
    "# def min_max_normalize(img, t_int):\n",
    "#     t_min, t_max = input_normalization_dict[t_int]\n",
    "#     return 2*(img - t_min)/(t_max - t_min) -1\n",
    "for mixing_t in tqdm(gt):\n",
    "    val_set.set_fixed_t(mixing_t)\n",
    "    dloader = torch.utils.data.DataLoader(\n",
    "                val_set,\n",
    "                batch_size=16,\n",
    "                shuffle=False,\n",
    "                num_workers=2,\n",
    "                pin_memory=True)\n",
    "    for data in dloader:\n",
    "        inp, t_float = data\n",
    "        assert torch.std(t_float) < 1e-6, f'{t_float}'\n",
    "        assert t_float[0] == mixing_t, f'{t_float} != {mixing_t}'\n",
    "        inp = inp.cuda()\n",
    "        t_float = t_float.cuda()\n",
    "        inp = xt_normalizer.normalize(inp, t_float)\n",
    "        inp_arr.append(inp.cpu().numpy())\n",
    "        with torch.no_grad():\n",
    "            pred = model(inp.cuda())\n",
    "            pred_arr.append(pred.cpu().numpy())\n",
    "all_pred = np.concatenate(pred_arr).reshape(len(gt),-1)\n",
    "inp_arr = np.concatenate(inp_arr,axis=0)\n"
   ]
  },
  {
   "cell_type": "code",
   "execution_count": 8,
   "metadata": {},
   "outputs": [],
   "source": [
    "all_pred = np.concatenate(pred_arr).reshape(len(gt),-1)\n",
    "inp_arr = np.concatenate(inp_arr,axis=0)\n"
   ]
  },
  {
   "cell_type": "code",
   "execution_count": 9,
   "metadata": {},
   "outputs": [
    {
     "name": "stderr",
     "output_type": "stream",
     "text": [
      "/tmp/ipykernel_21544/2798052624.py:8: UserWarning: color is redundantly defined by the 'color' keyword argument and the fmt string \"k--\" (-> color='k'). The keyword argument will take precedence.\n",
      "  ax.plot(gt,gt, 'k--', color='black')\n"
     ]
    },
    {
     "data": {
      "image/png": "[encoded data removed]",
      "text/plain": [
       "<Figure size 640x480 with 1 Axes>"
      ]
     },
     "metadata": {},
     "output_type": "display_data"
    }
   ],
   "source": [
    "import matplotlib.pyplot as plt\n",
    "\n",
    "err = all_pred.std(axis=1)\n",
    "avg_pred = all_pred.mean(axis=1)\n",
    "_,ax  = plt.subplots()\n",
    "# plot with error bars\n",
    "ax.errorbar(gt, avg_pred, yerr=err, fmt='o')\n",
    "ax.plot(gt,gt, 'k--', color='black')\n",
    "ax.set_xlabel('Ground Truth', fontsize=15)\n",
    "ax.set_ylabel('Predicted', fontsize=15)\n",
    "ax.grid()"
   ]
  },
  {
   "cell_type": "code",
   "execution_count": 10,
   "metadata": {},
   "outputs": [
    {
     "name": "stdout",
     "output_type": "stream",
     "text": [
      "Hagen Test NormCount:20 RMSE: 0.11162947901762457\n"
     ]
    }
   ],
   "source": [
    "mse = ((all_pred - gt.reshape(-1,1))**2).mean(axis=1)\n",
    "dataset_str = opt['datasets']['train']['name']\n",
    "dataset_str += ' Test' if evaluate_test_data else ' Val'\n",
    "print(f'{dataset_str} NormCount:{normalizer_count} RMSE: {np.sqrt(mse.mean())}')"
   ]
  },
  {
   "cell_type": "code",
   "execution_count": 11,
   "metadata": {},
   "outputs": [
    {
     "name": "stdout",
     "output_type": "stream",
     "text": [
      "COSEM_jrc-hela Test NormCount:20 RMSE wrt Aggregated (mean) prediction: 0.07338385015379031\n",
      "COSEM_jrc-hela Test NormCount:20 RMSE wrt Aggregated (median) prediction: 0.08459480328758699\n"
     ]
    }
   ],
   "source": [
    "mse_mean = ((np.mean(all_pred, axis=1) - gt)**2).mean()\n",
    "mse_median = ((np.median(all_pred, axis=1) - gt)**2).mean()\n",
    "print(f'{dataset_str} NormCount:{normalizer_count} RMSE wrt Aggregated (mean) prediction: {np.sqrt(mse_mean)}')\n",
    "print(f'{dataset_str} NormCount:{normalizer_count} RMSE wrt Aggregated (median) prediction: {np.sqrt(mse_median)}')"
   ]
  },
  {
   "cell_type": "code",
   "execution_count": 12,
   "metadata": {},
   "outputs": [
    {
     "data": {
      "text/plain": [
       "96"
      ]
     },
     "execution_count": 12,
     "metadata": {},
     "output_type": "execute_result"
    }
   ],
   "source": [
    "len(train_set._data_dict[0])"
   ]
  },
  {
   "cell_type": "code",
   "execution_count": 13,
   "metadata": {},
   "outputs": [],
   "source": [
    "# Test dataset\n",
    "\n",
    "# 1 RMSE: 0.18584609868369045\n",
    "# 10 COSEM_jrc-hela Test NormCount:10 RMSE: 0.11467985740375906\n",
    "# 20 COSEM_jrc-hela Test NormCount:20 RMSE: 0.10733180019946625\n",
    "# COSEM_jrc-hela Test NormCount:50 RMSE: 0.10229460707714132\n"
   ]
  },
  {
   "cell_type": "code",
   "execution_count": 14,
   "metadata": {},
   "outputs": [],
   "source": [
    "# COSEM_jrc-hela Test NormCount:50 RMSE: 0.10632874237278825\n",
    "# COSEM_jrc-hela Test NormCount:20 RMSE: 0.11445337831205459\n",
    "# COSEM_jrc-hela Test NormCount:10 RMSE: 0.11869922239826158\n",
    "# COSEM_jrc-hela Test NormCount:1 RMSE: 0.18200486158911253\n",
    "\n"
   ]
  },
  {
   "cell_type": "code",
   "execution_count": 15,
   "metadata": {},
   "outputs": [],
   "source": [
    "# RMSE\n",
    "# RMSE 0.12 (15 times training dataloader was used to generate the patch statistics)\n",
    "# RMSE 0.164 (1 times training dataloader was used to generate the patch statistics)"
   ]
  }
 ],
 "metadata": {
  "kernelspec": {
   "display_name": "Python 3",
   "language": "python",
   "name": "python3"
  },
  "language_info": {
   "codemirror_mode": {
    "name": "ipython",
    "version": 3
   },
   "file_extension": ".py",
   "mimetype": "text/x-python",
   "name": "python",
   "nbconvert_exporter": "python",
   "pygments_lexer": "ipython3",
   "version": "3.9.19"
  }
 },
 "nbformat": 4,
 "nbformat_minor": 2
}
