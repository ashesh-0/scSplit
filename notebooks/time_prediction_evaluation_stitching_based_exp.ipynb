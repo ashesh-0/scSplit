{
 "cells": [
  {
   "cell_type": "markdown",
   "metadata": {},
   "source": [
    "### Objective\n",
    "Here, we evaluate the predicted t by tiling it and compare it with the ground truth t. Assumption behind the experiment is that, in regions where one has both structures, one should get a better t prediction."
   ]
  },
  {
   "cell_type": "code",
   "execution_count": 1,
   "metadata": {},
   "outputs": [],
   "source": [
    "import sys\n",
    "sys.path.append('..')"
   ]
  },
  {
   "cell_type": "code",
   "execution_count": 2,
   "metadata": {},
   "outputs": [],
   "source": [
    "ckpt = '2502/HT_LIF24-UnetClassifier-l2/3'\n",
    "# ckpt = '2502/BioSR-UnetClassifier-l2/4/'\n",
    "\n",
    "\n",
    "# ckpt = '2502/HT_T24-UnetClassifier-l2/2'\n",
    "# ckpt = '/group/jug/ashesh/training/diffsplit/2502/BioSR-UnetClassifier-l2/4/'\n",
    "# ckpt = '/group/jug/ashesh/training/diffsplit/2502/Hagen-UnetClassifier-l2/11'\n",
    "evaluate_test_data = True\n",
    "# num_timesteps_normalization = 100_000\n",
    "# if normalize_channels is None, we use the setting (True/False) present in the trained model.\n",
    "# if normalize_channels is True, then we normalize the channels in the dataset and xt_normalizer, defined below is dummy\n",
    "# if normalize_channels is False, then we do not normalize the channels in the dataset and xt_normalizer, defined below normalizes the individual channels.\n",
    "def get_dataset_name():\n",
    "    if 'hagen' in ckpt.lower():\n",
    "        return 'hagen'\n",
    "    elif 'biosr' in ckpt.lower():\n",
    "        return 'bioSR'\n",
    "    elif 'ht_lif24' in ckpt.lower():\n",
    "        return 'HT_LIF24'\n",
    "    elif 'ht_t24' in ckpt.lower():\n",
    "        return 'HT_T24'\n",
    "    else:\n",
    "        raise ValueError('Unknown dataset')\n",
    "\n",
    "indisplit_unmixing_pred_subdirs = {\n",
    "    'hagen': '',\n",
    "    'bioSR': '2502/BioSR-joint_indi-l1/5',\n",
    "    'HT_LIF24': '2502/HT_LIF24-joint_indi-l1/60',\n",
    "    'HT_T24': '2502/HT_T24-joint_indi-l1/14',\n",
    "}\n",
    "\n",
    "indisplit_unmixing_dir = '_'.join(indisplit_unmixing_pred_subdirs[get_dataset_name()].split('/'))\n",
    "\n",
    "normalize_channels = False\n",
    "assert normalize_channels in [None, True, False]\n",
    "training_rootdir = '/group/jug/ashesh/training/diffsplit/'"
   ]
  },
  {
   "cell_type": "code",
   "execution_count": 3,
   "metadata": {},
   "outputs": [],
   "source": [
    "import yaml\n",
    "import os\n",
    "import glob\n",
    "import torch\n",
    "\n",
    "def model_checkpoint_fpath(ckpt, fname=None):\n",
    "    ckpt_dir = os.path.join(training_rootdir, ckpt, 'checkpoint')\n",
    "    if fname is not None:\n",
    "        return os.path.join(training_rootdir, ckpt, fname)\n",
    "    else:\n",
    "        list_of_files = glob.glob(ckpt_dir +'/*_gen.pth') # * means all if need specific format then *.csv\n",
    "        latest_file = max(list_of_files, key=os.path.getctime)\n",
    "        fname = latest_file\n",
    "        return os.path.join(ckpt_dir,latest_file)\n",
    "\n",
    "def model_checkpoint_fpath_prefix(ckpt, fname=None):\n",
    "    fpath = model_checkpoint_fpath(ckpt, fname)\n",
    "    suffix = '_gen.pth'\n",
    "    assert fpath.endswith(suffix)\n",
    "    return fpath[:-len(suffix)]\n",
    "\n",
    "def load_config(ckpt):\n",
    "    config_path = os.path.join(training_rootdir,ckpt,'wandb/latest-run/files/config.yaml')\n",
    "\n",
    "    with open(config_path) as stream:\n",
    "        try:\n",
    "            opt = yaml.safe_load(stream)\n",
    "        except yaml.YAMLError as exc:\n",
    "            print(exc)\n",
    "    \n",
    "    keys = [\"name\",\"phase\",\"gpu_ids\",\"path\",\"datasets\",\"model\",\"train\"]\n",
    "    return {k: opt[k]['value'] for k in keys}"
   ]
  },
  {
   "cell_type": "code",
   "execution_count": 4,
   "metadata": {},
   "outputs": [
    {
     "name": "stderr",
     "output_type": "stream",
     "text": [
      "/localscratch/miniforge3/envs/usplit_vdi/lib/python3.9/site-packages/albumentations/__init__.py:28: UserWarning: A new version of Albumentations is available: '2.0.5' (you have '2.0.4'). Upgrade using: pip install -U albumentations. To disable automatic update checks, set the environment variable NO_ALBUMENTATIONS_UPDATE to 1.\n",
      "  check_for_updates()\n"
     ]
    },
    {
     "name": "stdout",
     "output_type": "stream",
     "text": [
      "Overriding normalize_channels with False\n"
     ]
    }
   ],
   "source": [
    "from model.ddpm_modules.time_predictor import TimePredictor\n",
    "from time_prediction_training import get_datasets\n",
    "import os\n",
    "\n",
    "classifier_ckpt = os.path.join(training_rootdir, ckpt)\n",
    "\n",
    "opt = load_config(classifier_ckpt)\n",
    "# loading dataset.\n",
    "if evaluate_test_data:\n",
    "    if opt['datasets']['train']['name'] == 'Hagen':\n",
    "        opt['datasets']['val']['datapath'] = {\n",
    "        'ch0': '/group/jug/ashesh/data/diffsplit_hagen/test/test_actin-60x-noise2-highsnr.tif',\n",
    "        'ch1': '/group/jug/ashesh/data/diffsplit_hagen/test/test_mito-60x-noise2-highsnr.tif'\n",
    "        }\n",
    "    elif opt['datasets']['train']['name'] in ['COSEM_jrc-hela', 'BioSR', 'HT_LIF24','HT_T24']:\n",
    "        opt['datasets']['val']['datapath'] = opt['datasets']['val']['datapath'].replace('/val', '/test')\n",
    "    else:\n",
    "        raise NotImplementedError(f'{opt[\"datasets\"][\"train\"][\"name\"]} not implemented')\n",
    "\n",
    "if 'patch_size' not in opt['datasets']:\n",
    "    opt['datasets']['patch_size']  = opt['datasets']['train']['patch_size']\n",
    "\n",
    "if 'max_qval' not in opt['datasets']:\n",
    "    opt['datasets']['max_qval']  = 0.98\n",
    "\n",
    "if 'uncorrelated_channels' not in opt['datasets']['train']:\n",
    "    opt['datasets']['train']['uncorrelated_channels']  = False\n",
    "\n",
    "if normalize_channels is not None:\n",
    "    print(f'Overriding normalize_channels with {normalize_channels}')\n",
    "    opt['datasets']['normalize_channels'] = normalize_channels"
   ]
  },
  {
   "cell_type": "code",
   "execution_count": 5,
   "metadata": {},
   "outputs": [
    {
     "name": "stdout",
     "output_type": "stream",
     "text": [
      "TimePredictor with scale augmentation delta 0.05\n"
     ]
    }
   ],
   "source": [
    "model_opt = opt['model']\n",
    "model_kwargs = {}\n",
    "model_kwargs['scale_augmentation'] = model_opt.get('scale_augmentation', False)\n",
    "    \n",
    "if model_kwargs['scale_augmentation']:\n",
    "    model_kwargs['scale_augmentation_delta'] = model_opt['scale_augmentation_delta']\n",
    "\n",
    "model = TimePredictor(\n",
    "    in_channel=model_opt['unet']['in_channel'],\n",
    "    out_channel=model_opt['unet']['out_channel'],\n",
    "    norm_groups=model_opt['unet']['norm_groups'],\n",
    "    inner_channel=model_opt['unet']['inner_channel'],\n",
    "    channel_mults=model_opt['unet']['channel_multiplier'],\n",
    "    attn_res=model_opt['unet']['attn_res'],\n",
    "    res_blocks=model_opt['unet']['res_blocks'],\n",
    "    dropout=model_opt['unet']['dropout'],\n",
    "    image_size=opt['datasets']['patch_size'],\n",
    "    **model_kwargs\n",
    "    )\n",
    "model = model.cuda()\n",
    "model.load_state_dict(torch.load(os.path.join(classifier_ckpt,'best_time_predictor.pth')), strict=True)\n",
    "\n",
    "# data\n"
   ]
  },
  {
   "cell_type": "code",
   "execution_count": 6,
   "metadata": {},
   "outputs": [
    {
     "name": "stdout",
     "output_type": "stream",
     "text": [
      "Loading data from /group/jug/ashesh/data/diffsplit_BioSR/Microtubules-vs-ER/train/train.tif\n",
      "Computing mean and std for normalization\n",
      "[TimePredictorDataset] Data: 45x2x(1004, 1004) Patch:512 Random:1 Aug:True Q:1.0 UpperClip:0Uncor:False ChW:[1.0, 1.0]\n",
      "Adding Gaussian noise with std factor:  0.05\n",
      "Loading data from /group/jug/ashesh/data/diffsplit_BioSR/Microtubules-vs-ER/test/test.tif\n",
      "[TilingDataset] Data: 5x2x(1004, 1004) Patch:512 Random:0 Aug:False Q:1.0 UpperClip:0Uncor:False ChW:[1.0, 1.0]\n"
     ]
    }
   ],
   "source": [
    "train_set, val_set = get_datasets(opt, tiled_pred=True)"
   ]
  },
  {
   "cell_type": "code",
   "execution_count": 7,
   "metadata": {},
   "outputs": [
    {
     "name": "stdout",
     "output_type": "stream",
     "text": [
      "Random patching set to True\n"
     ]
    },
    {
     "name": "stderr",
     "output_type": "stream",
     "text": [
      "10.0M/819.0M pixels processed: 100%|██████████| 26/26 [00:00<00:00, 40.88it/s]\n",
      "21.0M/819.0M pixels processed: 100%|██████████| 26/26 [00:00<00:00, 41.32it/s]\n",
      "31.0M/819.0M pixels processed: 100%|██████████| 26/26 [00:00<00:00, 40.13it/s]\n",
      "42.0M/819.0M pixels processed: 100%|██████████| 26/26 [00:00<00:00, 40.44it/s]\n",
      "53.0M/819.0M pixels processed: 100%|██████████| 26/26 [00:00<00:00, 40.66it/s]\n",
      "63.0M/819.0M pixels processed: 100%|██████████| 26/26 [00:00<00:00, 40.90it/s]\n",
      "74.0M/819.0M pixels processed: 100%|██████████| 26/26 [00:00<00:00, 40.79it/s]\n",
      "84.0M/819.0M pixels processed: 100%|██████████| 26/26 [00:00<00:00, 40.90it/s]\n",
      "95.0M/819.0M pixels processed: 100%|██████████| 26/26 [00:00<00:00, 39.31it/s]\n",
      "106.0M/819.0M pixels processed: 100%|██████████| 26/26 [00:00<00:00, 40.46it/s]\n",
      "116.0M/819.0M pixels processed: 100%|██████████| 26/26 [00:00<00:00, 38.98it/s]\n",
      "127.0M/819.0M pixels processed: 100%|██████████| 26/26 [00:00<00:00, 40.62it/s]\n",
      "138.0M/819.0M pixels processed: 100%|██████████| 26/26 [00:00<00:00, 40.90it/s]\n",
      "148.0M/819.0M pixels processed: 100%|██████████| 26/26 [00:00<00:00, 38.40it/s]\n",
      "159.0M/819.0M pixels processed: 100%|██████████| 26/26 [00:00<00:00, 38.69it/s]\n",
      "169.0M/819.0M pixels processed: 100%|██████████| 26/26 [00:00<00:00, 41.80it/s]\n",
      "180.0M/819.0M pixels processed: 100%|██████████| 26/26 [00:00<00:00, 38.98it/s]\n",
      "191.0M/819.0M pixels processed: 100%|██████████| 26/26 [00:00<00:00, 39.73it/s]\n",
      "201.0M/819.0M pixels processed: 100%|██████████| 26/26 [00:00<00:00, 41.45it/s]\n",
      "212.0M/819.0M pixels processed: 100%|██████████| 26/26 [00:00<00:00, 38.25it/s]\n",
      "222.0M/819.0M pixels processed: 100%|██████████| 26/26 [00:00<00:00, 40.51it/s]\n",
      "233.0M/819.0M pixels processed: 100%|██████████| 26/26 [00:00<00:00, 40.98it/s]\n",
      "244.0M/819.0M pixels processed: 100%|██████████| 26/26 [00:00<00:00, 40.09it/s]\n",
      "254.0M/819.0M pixels processed: 100%|██████████| 26/26 [00:00<00:00, 39.31it/s]\n",
      "265.0M/819.0M pixels processed: 100%|██████████| 26/26 [00:00<00:00, 40.56it/s]\n",
      "276.0M/819.0M pixels processed: 100%|██████████| 26/26 [00:00<00:00, 38.59it/s]\n",
      "286.0M/819.0M pixels processed: 100%|██████████| 26/26 [00:00<00:00, 41.55it/s]\n",
      "297.0M/819.0M pixels processed: 100%|██████████| 26/26 [00:00<00:00, 40.83it/s]\n",
      "307.0M/819.0M pixels processed: 100%|██████████| 26/26 [00:00<00:00, 40.88it/s]\n",
      "318.0M/819.0M pixels processed: 100%|██████████| 26/26 [00:00<00:00, 39.36it/s]\n",
      "329.0M/819.0M pixels processed: 100%|██████████| 26/26 [00:00<00:00, 40.83it/s]\n",
      "339.0M/819.0M pixels processed: 100%|██████████| 26/26 [00:00<00:00, 40.04it/s]\n",
      "350.0M/819.0M pixels processed: 100%|██████████| 26/26 [00:00<00:00, 40.71it/s]\n",
      "360.0M/819.0M pixels processed: 100%|██████████| 26/26 [00:00<00:00, 40.54it/s]\n",
      "371.0M/819.0M pixels processed: 100%|██████████| 26/26 [00:00<00:00, 41.21it/s]\n",
      "382.0M/819.0M pixels processed: 100%|██████████| 26/26 [00:00<00:00, 41.00it/s]\n",
      "392.0M/819.0M pixels processed: 100%|██████████| 26/26 [00:00<00:00, 40.93it/s]\n",
      "403.0M/819.0M pixels processed: 100%|██████████| 26/26 [00:00<00:00, 40.37it/s]\n",
      "414.0M/819.0M pixels processed: 100%|██████████| 26/26 [00:00<00:00, 40.72it/s]\n",
      "424.0M/819.0M pixels processed: 100%|██████████| 26/26 [00:00<00:00, 41.25it/s]\n",
      "435.0M/819.0M pixels processed: 100%|██████████| 26/26 [00:00<00:00, 40.29it/s]\n",
      "445.0M/819.0M pixels processed: 100%|██████████| 26/26 [00:00<00:00, 40.67it/s]\n",
      "456.0M/819.0M pixels processed: 100%|██████████| 26/26 [00:00<00:00, 41.12it/s]\n",
      "467.0M/819.0M pixels processed: 100%|██████████| 26/26 [00:00<00:00, 41.26it/s]\n",
      "477.0M/819.0M pixels processed: 100%|██████████| 26/26 [00:00<00:00, 41.31it/s]\n",
      "488.0M/819.0M pixels processed: 100%|██████████| 26/26 [00:00<00:00, 41.03it/s]\n",
      "498.0M/819.0M pixels processed: 100%|██████████| 26/26 [00:00<00:00, 41.54it/s]\n",
      "509.0M/819.0M pixels processed: 100%|██████████| 26/26 [00:00<00:00, 41.45it/s]\n",
      "520.0M/819.0M pixels processed: 100%|██████████| 26/26 [00:00<00:00, 41.22it/s]\n",
      "530.0M/819.0M pixels processed: 100%|██████████| 26/26 [00:00<00:00, 40.83it/s]\n",
      "541.0M/819.0M pixels processed: 100%|██████████| 26/26 [00:00<00:00, 41.26it/s]\n",
      "552.0M/819.0M pixels processed: 100%|██████████| 26/26 [00:00<00:00, 39.57it/s]\n",
      "562.0M/819.0M pixels processed: 100%|██████████| 26/26 [00:00<00:00, 41.10it/s]\n",
      "573.0M/819.0M pixels processed: 100%|██████████| 26/26 [00:00<00:00, 39.42it/s]\n",
      "583.0M/819.0M pixels processed: 100%|██████████| 26/26 [00:00<00:00, 41.14it/s]\n",
      "594.0M/819.0M pixels processed: 100%|██████████| 26/26 [00:00<00:00, 40.86it/s]\n",
      "605.0M/819.0M pixels processed: 100%|██████████| 26/26 [00:00<00:00, 39.81it/s]\n",
      "615.0M/819.0M pixels processed: 100%|██████████| 26/26 [00:00<00:00, 41.26it/s]\n",
      "626.0M/819.0M pixels processed: 100%|██████████| 26/26 [00:00<00:00, 38.60it/s]\n",
      "637.0M/819.0M pixels processed: 100%|██████████| 26/26 [00:00<00:00, 29.46it/s]\n",
      "647.0M/819.0M pixels processed: 100%|██████████| 26/26 [00:00<00:00, 40.66it/s]\n",
      "658.0M/819.0M pixels processed: 100%|██████████| 26/26 [00:00<00:00, 40.84it/s]\n",
      "668.0M/819.0M pixels processed: 100%|██████████| 26/26 [00:00<00:00, 39.93it/s]\n",
      "679.0M/819.0M pixels processed: 100%|██████████| 26/26 [00:00<00:00, 38.61it/s]\n",
      "690.0M/819.0M pixels processed: 100%|██████████| 26/26 [00:00<00:00, 40.80it/s]\n",
      "700.0M/819.0M pixels processed: 100%|██████████| 26/26 [00:00<00:00, 40.26it/s]\n",
      "711.0M/819.0M pixels processed: 100%|██████████| 26/26 [00:00<00:00, 40.86it/s]\n",
      "721.0M/819.0M pixels processed: 100%|██████████| 26/26 [00:00<00:00, 40.52it/s]\n",
      "732.0M/819.0M pixels processed: 100%|██████████| 26/26 [00:00<00:00, 40.09it/s]\n",
      "743.0M/819.0M pixels processed: 100%|██████████| 26/26 [00:00<00:00, 40.69it/s]\n",
      "753.0M/819.0M pixels processed: 100%|██████████| 26/26 [00:00<00:00, 41.29it/s]\n",
      "764.0M/819.0M pixels processed: 100%|██████████| 26/26 [00:00<00:00, 38.21it/s]\n",
      "775.0M/819.0M pixels processed: 100%|██████████| 26/26 [00:00<00:00, 40.97it/s]\n",
      "785.0M/819.0M pixels processed: 100%|██████████| 26/26 [00:00<00:00, 41.47it/s]\n",
      "796.0M/819.0M pixels processed: 100%|██████████| 26/26 [00:00<00:00, 40.10it/s]\n",
      "806.0M/819.0M pixels processed: 100%|██████████| 26/26 [00:00<00:00, 40.51it/s]\n",
      "817.0M/819.0M pixels processed: 100%|██████████| 26/26 [00:00<00:00, 40.99it/s]\n",
      "819.0M/819.0M pixels processed:  15%|█▌        | 4/26 [00:00<00:00, 33.05it/s]\n",
      "  1%|          | 77/10000 [00:50<1:47:30,  1.54it/s]\n"
     ]
    },
    {
     "name": "stdout",
     "output_type": "stream",
     "text": [
      "Random patching set to False\n"
     ]
    },
    {
     "data": {
      "image/png": "[encoded data removed]",
      "text/plain": [
       "<Figure size 640x480 with 1 Axes>"
      ]
     },
     "metadata": {},
     "output_type": "display_data"
    }
   ],
   "source": [
    "from model.normalizer import NormalizerXT\n",
    "from tqdm import tqdm \n",
    "import numpy as np\n",
    "import matplotlib.pyplot as plt\n",
    "from time_prediction_training import get_normalizer\n",
    "\n",
    "normalizer_count = None\n",
    "# val_set.set_random_patching(True)\n",
    "xt_normalizer = NormalizerXT()\n",
    "if 'normalize_channels' in opt['datasets'] and opt['datasets']['normalize_channels'] is True:\n",
    "    pass\n",
    "else:\n",
    "    if evaluate_test_data:\n",
    "        xt_normalizer,data_mean_arr, data_std_arr = get_normalizer(val_set, opt, return_data_arr=True, num_pixels=500_000 * 128 * 128)\n",
    "    else:\n",
    "        xt_normalizer,data_mean_arr, data_std_arr = get_normalizer(train_set, opt, return_data_arr=True)\n",
    "    # val_set.reset_fixed_t()\n",
    "    # val_loader = torch.utils.data.DataLoader(val_set, batch_size=16, shuffle=True, num_workers=0)\n",
    "    # data_mean_arr = []\n",
    "    # data_std_arr = []\n",
    "    # normalizer_count = 100_000\n",
    "    # cnt = 0\n",
    "    # for _ in tqdm(range(normalizer_count)):\n",
    "    #     bar = enumerate(val_loader)\n",
    "    #     for i, (x, t_float) in bar:\n",
    "    #         x = x.cuda()\n",
    "    #         t_float = t_float.cuda()\n",
    "    #         x = xt_normalizer.normalize(x,t_float, update=True)\n",
    "    #         cnt += 1\n",
    "    #         if cnt %10 == 0:\n",
    "    #             data_mean_arr.append(xt_normalizer.data_mean.cpu().numpy())\n",
    "    #             data_std_arr.append(xt_normalizer.data_std.cpu().numpy())\n",
    "\n",
    "    plt.plot(np.stack(data_mean_arr)[:,90])\n",
    "    del data_std_arr\n",
    "    del data_mean_arr\n",
    "    import gc; gc.collect()\n",
    "# val_set.set_random_patching(False)"
   ]
  },
  {
   "cell_type": "code",
   "execution_count": 8,
   "metadata": {},
   "outputs": [
    {
     "name": "stderr",
     "output_type": "stream",
     "text": [
      "  0%|          | 0/11 [00:00<?, ?it/s]"
     ]
    },
    {
     "name": "stdout",
     "output_type": "stream",
     "text": [
      "[5, 1004, 1004, 1]\n",
      "[5, 1004, 1004, 1]\n"
     ]
    },
    {
     "name": "stderr",
     "output_type": "stream",
     "text": [
      "  9%|▉         | 1/11 [00:08<01:21,  8.13s/it]"
     ]
    },
    {
     "name": "stdout",
     "output_type": "stream",
     "text": [
      "[5, 1004, 1004, 1]\n",
      "[5, 1004, 1004, 1]\n"
     ]
    },
    {
     "name": "stderr",
     "output_type": "stream",
     "text": [
      " 18%|█▊        | 2/11 [00:14<01:01,  6.84s/it]"
     ]
    },
    {
     "name": "stdout",
     "output_type": "stream",
     "text": [
      "[5, 1004, 1004, 1]\n",
      "[5, 1004, 1004, 1]\n"
     ]
    },
    {
     "name": "stderr",
     "output_type": "stream",
     "text": [
      " 27%|██▋       | 3/11 [00:20<00:53,  6.65s/it]"
     ]
    },
    {
     "name": "stdout",
     "output_type": "stream",
     "text": [
      "[5, 1004, 1004, 1]\n"
     ]
    },
    {
     "name": "stderr",
     "output_type": "stream",
     "text": [
      " 36%|███▋      | 4/11 [00:26<00:45,  6.57s/it]"
     ]
    },
    {
     "name": "stdout",
     "output_type": "stream",
     "text": [
      "[5, 1004, 1004, 1]\n",
      "[5, 1004, 1004, 1]\n",
      "[5, 1004, 1004, 1]\n"
     ]
    },
    {
     "name": "stderr",
     "output_type": "stream",
     "text": [
      " 45%|████▌     | 5/11 [00:33<00:39,  6.52s/it]"
     ]
    },
    {
     "name": "stdout",
     "output_type": "stream",
     "text": [
      "[5, 1004, 1004, 1]\n",
      "[5, 1004, 1004, 1]\n"
     ]
    },
    {
     "name": "stderr",
     "output_type": "stream",
     "text": [
      " 55%|█████▍    | 6/11 [00:39<00:32,  6.52s/it]"
     ]
    },
    {
     "name": "stdout",
     "output_type": "stream",
     "text": [
      "[5, 1004, 1004, 1]\n",
      "[5, 1004, 1004, 1]\n"
     ]
    },
    {
     "name": "stderr",
     "output_type": "stream",
     "text": [
      " 64%|██████▎   | 7/11 [00:45<00:25,  6.36s/it]"
     ]
    },
    {
     "name": "stdout",
     "output_type": "stream",
     "text": [
      "[5, 1004, 1004, 1]\n",
      "[5, 1004, 1004, 1]\n"
     ]
    },
    {
     "name": "stderr",
     "output_type": "stream",
     "text": [
      " 73%|███████▎  | 8/11 [00:51<00:18,  6.23s/it]"
     ]
    },
    {
     "name": "stdout",
     "output_type": "stream",
     "text": [
      "[5, 1004, 1004, 1]\n",
      "[5, 1004, 1004, 1]\n"
     ]
    },
    {
     "name": "stderr",
     "output_type": "stream",
     "text": [
      " 82%|████████▏ | 9/11 [00:57<00:12,  6.14s/it]"
     ]
    },
    {
     "name": "stdout",
     "output_type": "stream",
     "text": [
      "[5, 1004, 1004, 1]\n",
      "[5, 1004, 1004, 1]\n"
     ]
    },
    {
     "name": "stderr",
     "output_type": "stream",
     "text": [
      " 91%|█████████ | 10/11 [01:03<00:06,  6.09s/it]"
     ]
    },
    {
     "name": "stdout",
     "output_type": "stream",
     "text": [
      "[5, 1004, 1004, 1]\n",
      "[5, 1004, 1004, 1]\n"
     ]
    },
    {
     "name": "stderr",
     "output_type": "stream",
     "text": [
      "100%|██████████| 11/11 [01:09<00:00,  6.34s/it]\n"
     ]
    }
   ],
   "source": [
    "from tqdm import tqdm\n",
    "import numpy as np\n",
    "from core.time_estimation import TimeEstimator\n",
    "from collections import defaultdict\n",
    "from disentangle.core.tiff_reader import load_tiff\n",
    "def get_unmixed_channels(pred_dir, mixing_t):\n",
    "    bt_removed_pred = load_tiff(os.path.join(pred_dir, 'bt_removed_pred.tif'))\n",
    "    dim_pred = load_tiff(os.path.join(pred_dir, 'dim_pred.tif'))\n",
    "    if mixing_t >= 0.5:\n",
    "        output_ch1 =  bt_removed_pred[...,0]\n",
    "        output_ch2 = dim_pred[...,1]\n",
    "    else:\n",
    "        output_ch1 = dim_pred[...,0]\n",
    "        output_ch2 = bt_removed_pred[...,1]\n",
    "    return output_ch1, output_ch2\n",
    "\n",
    "# num_timesteps = 10\n",
    "num_timesteps = 10\n",
    "gt = np.arange(0,1.0001,1/num_timesteps)\n",
    "mmse_count = 1\n",
    "\n",
    "pred_arr = []\n",
    "inp_arr = []\n",
    "# unmixed_ch1 = np.stack(val_set._data_dict[0])*1.0\n",
    "# unmixed_ch2 = np.stack(val_set._data_dict[1])*1.0\n",
    "# pred_dir_schema = '/group/jug/ashesh/indiSplit/predictions/2502_HT_LIF24-joint_indi-l1_60/\n",
    "pred_dir_schema = f'/group/jug/ashesh/indiSplit/predictions/{indisplit_unmixing_dir}/'\n",
    "pred_dir_schema = os.path.join(pred_dir_schema, 'T-{mixing_t}_MMSE-10_InferT-0_InferTAgg-0_FixedT-0.5/')\n",
    "t_estimations = {}\n",
    "with torch.no_grad():\n",
    "    for mixing_t in tqdm(gt):\n",
    "        pred_dir  = pred_dir_schema.format(mixing_t=round(min(max(0.1,min(mixing_t, 1-mixing_t)),0.9),2))\n",
    "        unmixed_ch1, unmixed_ch2 = get_unmixed_channels(pred_dir, mixing_t)\n",
    "\n",
    "        t_estimations[mixing_t] = defaultdict(list)\n",
    "        val_set.set_fixed_t(mixing_t)\n",
    "        estimator = TimeEstimator()\n",
    "        pred_t_arr = estimator.predict(val_set, xt_normalizer, model, mmse_count, return_input=False)\n",
    "        estimator.set_agg_params(agg_mode='mean')\n",
    "        t_estimations[mixing_t]['mean'].append(estimator.aggregate(pred_t_arr, val_set, unmixed_ch1, unmixed_ch2))\n",
    "        estimator.set_agg_params(agg_mode='median')\n",
    "        t_estimations[mixing_t]['median'].append(estimator.aggregate(pred_t_arr, val_set, unmixed_ch1, unmixed_ch2))\n",
    "        estimator.set_agg_params(agg_mode='mode')\n",
    "        t_estimations[mixing_t]['mode'].append(estimator.aggregate(pred_t_arr, val_set, unmixed_ch1, unmixed_ch2))\n",
    "        estimator.set_agg_params(agg_mode='weighted_by_sum')\n",
    "        t_estimations[mixing_t]['weighted_by_sum'].append(estimator.aggregate(pred_t_arr, val_set, unmixed_ch1, unmixed_ch2))\n",
    "        estimator.set_agg_params(agg_mode='weighted_by_product')\n",
    "        t_estimations[mixing_t]['weighted_by_product'].append(estimator.aggregate(pred_t_arr, val_set, unmixed_ch1, unmixed_ch2))\n",
    "\n",
    "        # dloader = torch.utils.data.DataLoader(\n",
    "        #             val_set,\n",
    "        #             batch_size=16,\n",
    "        #             shuffle=False,\n",
    "        #             num_workers=2,\n",
    "        #             pin_memory=True)\n",
    "        # for data in dloader:\n",
    "        #     inp, t_float = data\n",
    "        #     assert torch.std(t_float) < 1e-6, f'{t_float}'\n",
    "        #     assert t_float[0] == mixing_t, f'{t_float} != {mixing_t}'\n",
    "        #     inp = inp.cuda()\n",
    "        #     t_float = t_float.cuda()\n",
    "        #     # if xt_normalizer is dummy then nothing will happen with the following operation.\n",
    "        #     inp = xt_normalizer.normalize(inp, t_float)\n",
    "        #     inp_arr.append(inp.cpu().numpy())\n",
    "        #     tmp_pred_arr = []\n",
    "        #     for _ in range(mmse_count):\n",
    "        #         with torch.no_grad():\n",
    "        #             pred = model(inp.cuda())\n",
    "        #             tmp_pred_arr.append(pred.cpu().numpy())\n",
    "        #     pred_arr.append(np.median(np.stack(tmp_pred_arr),axis=0))\n",
    "    \n",
    "    # all_pred = np.concatenate(pred_arr).reshape(len(gt),-1)\n",
    "    # inp_arr = np.concatenate(inp_arr,axis=0)\n"
   ]
  },
  {
   "cell_type": "code",
   "execution_count": 10,
   "metadata": {},
   "outputs": [
    {
     "name": "stdout",
     "output_type": "stream",
     "text": [
      "2502/BioSR-UnetClassifier-l2/4/\n",
      "GT:\t\t\t 0.00 0.10 0.20 0.30 0.40 0.50 0.60 0.70 0.80 0.90 1.00\n",
      "Mean:\t\t\t 0.13 0.15 0.21 0.31 0.43 0.54 0.64 0.72 0.77 0.80 0.80\n",
      "Median\t\t\t 0.12 0.14 0.20 0.28 0.41 0.53 0.64 0.72 0.78 0.79 0.80\n",
      "Mode\t\t\t 0.11 0.10 0.13 0.27 0.35 0.66 0.61 0.74 0.79 0.78 0.78\n",
      "Weighted by Sum\t\t 0.14 0.16 0.20 0.29 0.42 0.54 0.63 0.71 0.77 0.79 0.80\n",
      "Weighted by product\t 0.15 0.16 0.20 0.27 0.40 0.51 0.61 0.69 0.76 0.80 0.81\n"
     ]
    }
   ],
   "source": [
    "mean_preds = []\n",
    "median_preds = []\n",
    "mode_preds = []\n",
    "weighted_by_sum_preds = []\n",
    "weighted_by_product_preds = []\n",
    "\n",
    "for t in gt:\n",
    "    mean_preds.append(t_estimations[t]['mean'][0])\n",
    "    median_preds.append(t_estimations[t]['median'][0])\n",
    "    mode_preds.append(t_estimations[t]['mode'][0])\n",
    "    weighted_by_sum_preds.append(t_estimations[t]['weighted_by_sum'][0])\n",
    "    weighted_by_product_preds.append(t_estimations[t]['weighted_by_product'][0])\n",
    "\n",
    "def print_arr(arr):\n",
    "    return ' '.join([f'{x:.2f}' for x in arr])\n",
    "\n",
    "print(ckpt)\n",
    "print('GT:\\t\\t\\t', print_arr(gt))\n",
    "print('Mean:\\t\\t\\t', print_arr(mean_preds))\n",
    "print('Median\\t\\t\\t', print_arr(median_preds))\n",
    "print('Mode\\t\\t\\t', print_arr(mode_preds))\n",
    "print('Weighted by Sum\\t\\t', print_arr(weighted_by_sum_preds))\n",
    "print('Weighted by product\\t', print_arr(weighted_by_product_preds))"
   ]
  }
 ],
 "metadata": {
  "kernelspec": {
   "display_name": "Python 3",
   "language": "python",
   "name": "python3"
  },
  "language_info": {
   "codemirror_mode": {
    "name": "ipython",
    "version": 3
   },
   "file_extension": ".py",
   "mimetype": "text/x-python",
   "name": "python",
   "nbconvert_exporter": "python",
   "pygments_lexer": "ipython3",
   "version": "3.9.19"
  }
 },
 "nbformat": 4,
 "nbformat_minor": 2
}
