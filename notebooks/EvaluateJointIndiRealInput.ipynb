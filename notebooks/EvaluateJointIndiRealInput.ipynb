{
 "cells": [
  {
   "cell_type": "code",
   "execution_count": 1,
   "metadata": {},
   "outputs": [],
   "source": [
    "import sys\n",
    "sys.path.append('..')\n",
    "\n",
    "from data.tile_stitcher import stitch_predictions\n",
    "import matplotlib.pyplot as plt\n",
    "from collections import defaultdict\n",
    "import numpy as np\n",
    "from tqdm import tqdm\n",
    "import matplotlib.pyplot as plt\n",
    "import pandas as pd\n",
    "\n"
   ]
  },
  {
   "cell_type": "code",
   "execution_count": 2,
   "metadata": {
    "tags": [
     "parameters"
    ]
   },
   "outputs": [
    {
     "data": {
      "text/plain": [
       "'2502/COSEM_jrc-hela-joint_indi-l1/33'"
      ]
     },
     "execution_count": 2,
     "metadata": {},
     "output_type": "execute_result"
    }
   ],
   "source": [
    "# ckpt = '2410/Hagen-joint_indi-l1/36'\n",
    "# ckpt = '2502/Hagen-joint_indi-l1/57'\n",
    "# ckpt  = '2412/HT_LIF-joint_indi-l1/8'\n",
    "# ckpt = '2501/COSEM_jrc-hela-joint_indi-l1/32'\n",
    "# ckpt = '2502/COSEM_jrc-hela-joint_indi-l1/13'\n",
    "# ckpt = '2502/HT_LIF24-joint_indi-l1/60'\n",
    "# ckpt = '2502/COSEM_jrc-choroid-plexus-2-joint_indi-l1/3'\n",
    "ckpt = '2502/COSEM_jrc-hela-joint_indi-l1/33'\n",
    "training_rootdir = '/group/jug/ashesh/training/diffsplit/'\n",
    "num_epochs_normalization = 100\n",
    "ckpt_time_predictor = None#'2502/HT_LIF24-UnetClassifier-l2/3'#'2502/Hagen-UnetClassifier-l2/8' #'2502/Hagen-UnetClassifier-l2/3'#None #'2502/Hagen-UnetClassifier-l2/0'\n",
    "time_predictor = None\n",
    "# mixing_t_ood = 0.2\n",
    "mmse_count = 10\n",
    "\n",
    "num_timesteps = 1\n",
    "enable_real_input = True\n",
    "infer_time = False\n",
    "use_aggregated_inferred_time = False\n",
    "use_hardcoded_time_for_inference = 0.5\n",
    "\n",
    "\n",
    "ckpt = ckpt.strip('/').strip(' ')\n",
    "ckpt"
   ]
  },
  {
   "cell_type": "code",
   "execution_count": 3,
   "metadata": {},
   "outputs": [],
   "source": [
    "if use_aggregated_inferred_time:\n",
    "    assert ckpt_time_predictor is not None, 'Time predictor is required for aggregated time inference'\n",
    "    assert use_hardcoded_time_for_inference is use_hardcoded_time_for_inference, 'Hardcoded time inference is not supported with aggregated time inference'\n",
    "    assert infer_time is True, 'Time inference must be enabled for aggregated time inference'\n",
    "\n",
    "\n",
    "if infer_time:\n",
    "    assert ckpt_time_predictor is not None, 'Time predictor is required for time inference'\n",
    "\n",
    "if use_hardcoded_time_for_inference is not None:\n",
    "    assert not infer_time, 'Time inference must be disabled for hardcoded time inference'\n",
    "\n",
    "assert enable_real_input is True, 'Synthetic input is not supported in this notebook.'\n"
   ]
  },
  {
   "cell_type": "code",
   "execution_count": 4,
   "metadata": {},
   "outputs": [],
   "source": [
    "import yaml\n",
    "import os\n",
    "import glob\n",
    "\n",
    "def model_checkpoint_fpath(fname=None):\n",
    "    ckpt_dir = os.path.join(training_rootdir, ckpt, 'checkpoint')\n",
    "    if fname is not None:\n",
    "        return os.path.join(training_rootdir, ckpt, fname)\n",
    "    else:\n",
    "        list_of_files = glob.glob(ckpt_dir +'/*_gen.pth') # * means all if need specific format then *.csv\n",
    "        latest_file = max(list_of_files, key=os.path.getctime)\n",
    "        # best_files = [f for f in list_of_files if 'best_gen_' in f]\n",
    "        # assert len(best_files) == 1,f'{best_files}'\n",
    "        # best_file = best_files[0]  \n",
    "        fname = latest_file\n",
    "        return os.path.join(ckpt_dir,fname)\n",
    "\n",
    "def model_checkpoint_fpath_prefix(fname=None):\n",
    "    fpath = model_checkpoint_fpath(fname)\n",
    "    suffix = '_gen.pth'\n",
    "    assert fpath.endswith(suffix)\n",
    "    return fpath[:-len(suffix)]\n",
    "\n",
    "def load_config(ckpt):\n",
    "    config_path = os.path.join(training_rootdir,ckpt,'wandb/latest-run/files/config.yaml')\n",
    "\n",
    "    with open(config_path) as stream:\n",
    "        \n",
    "        try:\n",
    "            opt = yaml.safe_load(stream)\n",
    "        except yaml.YAMLError as exc:\n",
    "            print(exc)\n",
    "    \n",
    "    keys = [\"name\",\"phase\",\"gpu_ids\",\"path\",\"datasets\",\"model\",\"train\", \"distributed\"]\n",
    "    output = {}\n",
    "    for k in keys:\n",
    "        if k in opt:\n",
    "            output[k] = opt[k]['value']\n",
    "    return output"
   ]
  },
  {
   "cell_type": "code",
   "execution_count": 5,
   "metadata": {},
   "outputs": [],
   "source": [
    "from model.ddpm_modules.time_predictor import TimePredictor\n",
    "from time_prediction_training import get_datasets\n",
    "import os\n",
    "import torch\n",
    "\n",
    "if ckpt_time_predictor is not None:\n",
    "    time_pred_ckpt_fpath = os.path.join(training_rootdir, ckpt_time_predictor)\n",
    "\n",
    "    time_pred_opt = load_config(time_pred_ckpt_fpath)\n",
    "    time_pred_model_opt = time_pred_opt['model']\n",
    "    time_predictor = TimePredictor(\n",
    "        in_channel=time_pred_model_opt['unet']['in_channel'],\n",
    "        out_channel=time_pred_model_opt['unet']['out_channel'],\n",
    "        norm_groups=time_pred_model_opt['unet']['norm_groups'],\n",
    "        inner_channel=time_pred_model_opt['unet']['inner_channel'],\n",
    "        channel_mults=time_pred_model_opt['unet']['channel_multiplier'],\n",
    "        attn_res=time_pred_model_opt['unet']['attn_res'],\n",
    "        res_blocks=time_pred_model_opt['unet']['res_blocks'],\n",
    "        dropout=time_pred_model_opt['unet']['dropout'],\n",
    "        image_size=time_pred_opt['datasets']['patch_size'],\n",
    "        )\n",
    "    \n",
    "    time_predictor = time_predictor.cuda()\n",
    "    time_predictor.load_state_dict(torch.load(os.path.join(time_pred_ckpt_fpath,'best_time_predictor.pth')), strict=True)\n",
    "    time_predictor.eval()\n",
    "    print('Loaded time predictor from', time_pred_ckpt_fpath)\n"
   ]
  },
  {
   "cell_type": "code",
   "execution_count": 6,
   "metadata": {},
   "outputs": [
    {
     "name": "stdout",
     "output_type": "stream",
     "text": [
      "/group/jug/ashesh/training/diffsplit/2502/COSEM_jrc-hela-joint_indi-l1/33/checkpoint/I450000_E2500\n"
     ]
    }
   ],
   "source": [
    "opt = load_config(ckpt)\n",
    "opt['path']['resume_state'] = model_checkpoint_fpath_prefix()\n",
    "# opt['path']['resume_state'] = os.path.join(os.path.dirname(opt['path']['resume_state']),'I110000_E1375')\n",
    "print(opt['path']['resume_state'])\n",
    "\n",
    "opt['model']['beta_schedule']['val']['n_timestep'] = num_timesteps\n",
    "if opt['datasets']['train']['name'] == 'COSEM_jrc-hela':\n",
    "    opt['datasets']['val']['datapath'] = opt['datasets']['val']['datapath'].replace('val_jrc_hela','test_jrc_hela')\n",
    "\n",
    "elif opt['datasets']['train']['name'] == 'hagen':\n",
    "    opt['datasets']['val']['datapath'] = {\n",
    "    'ch0': '/group/jug/ashesh/data/diffsplit_hagen/test/test_actin-60x-noise2-highsnr.tif',\n",
    "    'ch1': '/group/jug/ashesh/data/diffsplit_hagen/test/test_mito-60x-noise2-highsnr.tif'\n",
    "    }\n",
    "elif opt['datasets']['train']['name'] in ['HT_LIF24','HT_LIF', 'COSEM_jrc-choroid-plexus-2']:\n",
    "    opt['datasets']['val']['datapath'] = opt['datasets']['val']['datapath'].replace('/val','/test')\n"
   ]
  },
  {
   "cell_type": "code",
   "execution_count": 7,
   "metadata": {},
   "outputs": [],
   "source": [
    "if 'patch_size' not in opt['datasets']:\n",
    "    opt['datasets']['patch_size']  = opt['datasets']['train']['patch_size']\n",
    "\n",
    "if 'max_qval' not in opt['datasets']:\n",
    "    opt['datasets']['max_qval']  = 0.98\n",
    "\n",
    "if 'uncorrelated_channels' not in opt['datasets']['train']:\n",
    "    opt['datasets']['train']['uncorrelated_channels']  = False\n",
    "\n",
    "if enable_real_input:\n",
    "    opt['datasets']['train']['real_input_fraction'] = 1.0\n",
    "    opt['datasets']['val']['real_input_fraction'] = 1.0\n",
    "\n",
    "opt['datasets']['normalize_channels'] = False"
   ]
  },
  {
   "cell_type": "code",
   "execution_count": 8,
   "metadata": {},
   "outputs": [
    {
     "name": "stdout",
     "output_type": "stream",
     "text": [
      "Read from /group/jug/ashesh/bleedthroughsimulation/jrc_hela-3/train-val-test-split/train_jrc_hela-3_bleedthrough_EGFP_Venus_R3.0-3.0_S4_D1_Ex100.0ms.tif (96, 1900, 2800, 3)\n",
      "Using first 96/96 for real input\n",
      "Computing mean and std for normalization\n",
      "[SplitDataset] Data: 96x3x(1900, 2800) Patch:512 Random:1 Aug:True Q:1.0 UpperClip:0Uncor:False RealFraction:1.0 InpFrmNormTar\n",
      "Read from /group/jug/ashesh/bleedthroughsimulation/jrc_hela-3/train-val-test-split/test_jrc_hela-3_bleedthrough_EGFP_Venus_R3.0-3.0_S4_D1_Ex100.0ms.tif (96, 900, 1400, 3)\n",
      "Using first 96/96 for real input\n",
      "[TilingDataset] Data: 96x3x(900, 1400) Patch:512 Random:0 Aug:False Q:1.0 UpperClip:0Uncor:False RealFraction:1.0 InpFrmNormTar\n",
      "[IndiFullTranslation]: Sampling mode: linear_indi, Noise mode: gaussian\n",
      "[IndiFullTranslation]: Sampling mode: linear_indi, Noise mode: gaussian\n",
      "[JointIndi]: w_input_loss: 0.1 \n",
      "Scheduler set to ReduceLROnPlateau with patience:  20\n",
      "\n",
      "--------------------------------------------------\n",
      "Number of trainable parameters: 4.88M\n",
      "--------------------------------------------------\n",
      "\n"
     ]
    }
   ],
   "source": [
    "import torch\n",
    "import data as Data\n",
    "import model as Model\n",
    "from data.split_dataset import SplitDataset, DataLocation\n",
    "from split import get_datasets\n",
    "import os\n",
    "\n",
    "\n",
    "# data\n",
    "train_set, val_set = get_datasets(opt, tiled_pred=True)\n",
    "\n",
    "# model\n",
    "diffusion = Model.create_model(opt)\n",
    "diffusion.set_new_noise_schedule(opt['model']['beta_schedule'][opt['phase']], schedule_phase=opt['phase'])\n",
    "\n",
    "# load checkpoint\n",
    "diffusion.load_network()"
   ]
  },
  {
   "cell_type": "code",
   "execution_count": 9,
   "metadata": {},
   "outputs": [],
   "source": [
    "from model.normalizer import NormalizerXT\n",
    "import numpy as np\n",
    "\n",
    "def get_real_input_normalizer(train_set, train_opt, num_epochs=1, dummy=False):\n",
    "    xt_normalizer1 = NormalizerXT(num_bins=1)\n",
    "    if dummy:\n",
    "        print('--------Dummy Normalizer Activated--------')\n",
    "        return None, None #xt_normalizer1, xt_normalizer2\n",
    "    \n",
    "    from tqdm import tqdm\n",
    "    for _ in range(num_epochs):\n",
    "        train_loader = Data.create_dataloader(train_set, train_opt, 'train')\n",
    "        bar = tqdm(train_loader)\n",
    "        idx = 0\n",
    "        for data in bar:\n",
    "            idx +=1\n",
    "            ch_inp = data['input'].cuda()\n",
    "            t_float_arr = torch.Tensor(np.random.rand(ch_inp.shape[0])).cuda()\n",
    "            xt_normalizer1.normalize(ch_inp, t_float_arr, update=True)\n",
    "            # if idx > 100:\n",
    "            #     break\n",
    "    return xt_normalizer1\n"
   ]
  },
  {
   "cell_type": "code",
   "execution_count": 10,
   "metadata": {},
   "outputs": [
    {
     "name": "stdout",
     "output_type": "stream",
     "text": [
      "Random patching set to True\n"
     ]
    },
    {
     "name": "stderr",
     "output_type": "stream",
     "text": [
      "  0%|          | 0/180 [00:00<?, ?it/s]"
     ]
    },
    {
     "name": "stderr",
     "output_type": "stream",
     "text": [
      "100%|██████████| 180/180 [00:02<00:00, 75.14it/s]\n",
      "100%|██████████| 180/180 [00:02<00:00, 87.18it/s]\n",
      "100%|██████████| 180/180 [00:02<00:00, 88.58it/s]\n",
      "100%|██████████| 180/180 [00:02<00:00, 86.38it/s]\n",
      "100%|██████████| 180/180 [00:02<00:00, 86.31it/s]\n",
      "100%|██████████| 180/180 [00:02<00:00, 83.33it/s]\n",
      "100%|██████████| 180/180 [00:02<00:00, 84.94it/s]\n",
      "100%|██████████| 180/180 [00:02<00:00, 83.85it/s]\n",
      "100%|██████████| 180/180 [00:02<00:00, 83.23it/s]\n",
      "100%|██████████| 180/180 [00:02<00:00, 85.15it/s]\n",
      "100%|██████████| 180/180 [00:02<00:00, 84.67it/s]\n",
      "100%|██████████| 180/180 [00:01<00:00, 90.30it/s]\n",
      "100%|██████████| 180/180 [00:02<00:00, 84.69it/s]\n",
      "100%|██████████| 180/180 [00:02<00:00, 82.89it/s]\n",
      "100%|██████████| 180/180 [00:02<00:00, 83.84it/s]\n",
      "100%|██████████| 180/180 [00:02<00:00, 84.85it/s]\n",
      "100%|██████████| 180/180 [00:02<00:00, 85.01it/s]\n",
      "100%|██████████| 180/180 [00:02<00:00, 85.45it/s]\n",
      "100%|██████████| 180/180 [00:02<00:00, 88.68it/s]\n",
      "100%|██████████| 180/180 [00:02<00:00, 75.73it/s]\n",
      "100%|██████████| 180/180 [00:02<00:00, 80.13it/s]\n",
      "100%|██████████| 180/180 [00:02<00:00, 83.90it/s]\n",
      "100%|██████████| 180/180 [00:02<00:00, 86.31it/s]\n",
      "100%|██████████| 180/180 [00:02<00:00, 83.97it/s]\n",
      "100%|██████████| 180/180 [00:02<00:00, 82.85it/s]\n",
      "100%|██████████| 180/180 [00:02<00:00, 87.55it/s]\n",
      "100%|██████████| 180/180 [00:02<00:00, 83.60it/s]\n",
      "100%|██████████| 180/180 [00:02<00:00, 85.19it/s]\n",
      "100%|██████████| 180/180 [00:02<00:00, 86.89it/s]\n",
      "100%|██████████| 180/180 [00:02<00:00, 87.89it/s]\n",
      "100%|██████████| 180/180 [00:02<00:00, 85.11it/s]\n",
      "100%|██████████| 180/180 [00:02<00:00, 86.01it/s]\n",
      "100%|██████████| 180/180 [00:02<00:00, 85.97it/s]\n",
      "100%|██████████| 180/180 [00:02<00:00, 87.09it/s]\n",
      "100%|██████████| 180/180 [00:02<00:00, 83.72it/s]\n",
      "100%|██████████| 180/180 [00:02<00:00, 85.73it/s]\n",
      "100%|██████████| 180/180 [00:02<00:00, 86.06it/s]\n",
      "100%|██████████| 180/180 [00:02<00:00, 86.96it/s]\n",
      "100%|██████████| 180/180 [00:02<00:00, 84.28it/s]\n",
      "100%|██████████| 180/180 [00:02<00:00, 86.12it/s]\n",
      "100%|██████████| 180/180 [00:02<00:00, 87.19it/s] \n",
      "100%|██████████| 180/180 [00:02<00:00, 85.10it/s]\n",
      "100%|██████████| 180/180 [00:02<00:00, 86.06it/s]\n",
      "100%|██████████| 180/180 [00:02<00:00, 87.51it/s]\n",
      "100%|██████████| 180/180 [00:02<00:00, 86.94it/s]\n",
      "100%|██████████| 180/180 [00:02<00:00, 86.48it/s]\n",
      "100%|██████████| 180/180 [00:02<00:00, 83.98it/s]\n",
      "100%|██████████| 180/180 [00:02<00:00, 84.93it/s]\n",
      "100%|██████████| 180/180 [00:02<00:00, 85.80it/s]\n",
      "100%|██████████| 180/180 [00:02<00:00, 86.11it/s]\n",
      "100%|██████████| 180/180 [00:02<00:00, 85.98it/s]\n",
      "100%|██████████| 180/180 [00:02<00:00, 83.53it/s]\n",
      "100%|██████████| 180/180 [00:02<00:00, 76.86it/s]\n",
      "100%|██████████| 180/180 [00:02<00:00, 83.02it/s]\n",
      "100%|██████████| 180/180 [00:02<00:00, 80.73it/s]\n",
      "100%|██████████| 180/180 [00:02<00:00, 83.54it/s]\n",
      "100%|██████████| 180/180 [00:02<00:00, 81.62it/s]\n",
      "100%|██████████| 180/180 [00:02<00:00, 83.10it/s]\n",
      "100%|██████████| 180/180 [00:02<00:00, 86.18it/s]\n",
      "100%|██████████| 180/180 [00:02<00:00, 83.97it/s]\n",
      "100%|██████████| 180/180 [00:02<00:00, 84.13it/s]\n",
      "100%|██████████| 180/180 [00:02<00:00, 82.10it/s]\n",
      "100%|██████████| 180/180 [00:02<00:00, 82.84it/s]\n",
      "100%|██████████| 180/180 [00:02<00:00, 86.08it/s]\n",
      "100%|██████████| 180/180 [00:02<00:00, 80.18it/s]\n",
      "100%|██████████| 180/180 [00:02<00:00, 82.56it/s]\n",
      "100%|██████████| 180/180 [00:02<00:00, 86.71it/s]\n",
      "100%|██████████| 180/180 [00:02<00:00, 85.53it/s]\n",
      "100%|██████████| 180/180 [00:02<00:00, 82.04it/s]\n",
      "100%|██████████| 180/180 [00:02<00:00, 84.96it/s]\n",
      "100%|██████████| 180/180 [00:02<00:00, 79.86it/s]\n",
      "100%|██████████| 180/180 [00:02<00:00, 83.26it/s]\n",
      "100%|██████████| 180/180 [00:02<00:00, 84.12it/s]\n",
      "100%|██████████| 180/180 [00:02<00:00, 83.85it/s]\n",
      "100%|██████████| 180/180 [00:02<00:00, 86.38it/s]\n",
      "100%|██████████| 180/180 [00:02<00:00, 84.26it/s]\n",
      "100%|██████████| 180/180 [00:02<00:00, 85.05it/s]\n",
      "100%|██████████| 180/180 [00:02<00:00, 86.37it/s]\n",
      "100%|██████████| 180/180 [00:02<00:00, 84.69it/s]\n",
      "100%|██████████| 180/180 [00:02<00:00, 85.82it/s]\n",
      "100%|██████████| 180/180 [00:02<00:00, 66.87it/s]\n",
      "100%|██████████| 180/180 [00:02<00:00, 74.75it/s]\n",
      "100%|██████████| 180/180 [00:02<00:00, 85.23it/s]\n",
      "100%|██████████| 180/180 [00:02<00:00, 83.06it/s]\n",
      "100%|██████████| 180/180 [00:02<00:00, 85.51it/s]\n",
      "100%|██████████| 180/180 [00:02<00:00, 83.97it/s]\n",
      "100%|██████████| 180/180 [00:02<00:00, 80.37it/s]\n",
      "100%|██████████| 180/180 [00:02<00:00, 84.75it/s]\n",
      "100%|██████████| 180/180 [00:02<00:00, 83.42it/s]\n",
      "100%|██████████| 180/180 [00:02<00:00, 84.47it/s]\n",
      "100%|██████████| 180/180 [00:02<00:00, 87.14it/s]\n",
      "100%|██████████| 180/180 [00:02<00:00, 82.55it/s]\n",
      "100%|██████████| 180/180 [00:02<00:00, 83.08it/s]\n",
      "100%|██████████| 180/180 [00:02<00:00, 82.42it/s]\n",
      "100%|██████████| 180/180 [00:02<00:00, 83.18it/s]\n",
      "100%|██████████| 180/180 [00:02<00:00, 88.24it/s]\n",
      "100%|██████████| 180/180 [00:02<00:00, 84.04it/s]\n",
      "100%|██████████| 180/180 [00:02<00:00, 83.35it/s]\n",
      "100%|██████████| 180/180 [00:02<00:00, 86.49it/s]\n",
      "100%|██████████| 180/180 [00:02<00:00, 87.72it/s]"
     ]
    },
    {
     "name": "stdout",
     "output_type": "stream",
     "text": [
      "Random patching set to False\n"
     ]
    },
    {
     "name": "stderr",
     "output_type": "stream",
     "text": [
      "\n"
     ]
    }
   ],
   "source": [
    "val_set.set_random_patching(True)\n",
    "xt_normalizer= get_real_input_normalizer(val_set,opt['datasets']['train'], \n",
    "                                                   num_epochs=num_epochs_normalization)\n",
    "val_set.set_random_patching(False)"
   ]
  },
  {
   "cell_type": "code",
   "execution_count": 11,
   "metadata": {},
   "outputs": [],
   "source": [
    "import numpy as np\n",
    "import random\n",
    "\n",
    "# def get_input_dict(data_dict):\n",
    "#     inp = data_dict['input'].cuda()\n",
    "#     # t does not matter since it is a real input.\n",
    "#     diffusion_data = {'input': xt_normalizer.normalize(inp, torch.Tensor([0.9]*len(inp)), update=False), \n",
    "#                       'target': data_dict['target'].cuda()}\n",
    "\n",
    "        \n",
    "    # return diffusion_data\n",
    "\n",
    "def fix_seeds():\n",
    "    torch.manual_seed(0)\n",
    "    torch.cuda.manual_seed(0)\n",
    "    np.random.seed(0)\n",
    "    random.seed(0)\n",
    "    torch.backends.cudnn.deterministic = True\n",
    "\n",
    "fix_seeds()"
   ]
  },
  {
   "cell_type": "code",
   "execution_count": 12,
   "metadata": {},
   "outputs": [],
   "source": [
    "import numpy as np\n",
    "import matplotlib.pyplot as plt\n",
    "import torch\n",
    "\n",
    "# norm_dict = val_set.get_input_target_normalization_dict()\n",
    "# nimgs = 6\n",
    "# dloader = torch.utils.data.DataLoader(\n",
    "#             val_set,\n",
    "#             batch_size=nimgs,\n",
    "#             shuffle=True,\n",
    "#             num_workers=0,\n",
    "#             pin_memory=True)\n",
    "# for batch_data in dloader:\n",
    "#     break\n",
    "\n",
    "# # diffusion_batch_input = get_input_dict(batch_data)"
   ]
  },
  {
   "cell_type": "code",
   "execution_count": 13,
   "metadata": {},
   "outputs": [],
   "source": [
    "def get_prediction(data_dict, infer_time=True):\n",
    "    input_unnorm, target_unnorm, pred_unnorm = get_prediction_raw(data_dict, infer_time=infer_time)\n",
    "    target_unnorm = target_unnorm.transpose(0,2,3,1)\n",
    "    pred_unnorm = pred_unnorm.transpose(0,2,3,1)\n",
    "    input_unnorm = input_unnorm.transpose(0,2,3,1)\n",
    "    return input_unnorm, target_unnorm, pred_unnorm\n",
    "\n",
    "def get_prediction_raw(data_dict, infer_time=True):\n",
    "    assert 'input' in data_dict\n",
    "    assert 'target' in data_dict\n",
    "    assert len(data_dict['input'].shape) == 4\n",
    "    assert len(data_dict['target'].shape) == 4\n",
    "    t_float_start = 0.5\n",
    "    if time_predictor is not None and infer_time:\n",
    "        t_float_start = time_predictor(data_dict['input'].cuda())\n",
    "        \n",
    "    # NOTE: infer_time=False must be set for recent models.\n",
    "    prediction = diffusion.netG.inference(data_dict['input'], infer_time=False, t_float_start=t_float_start).detach().cpu().numpy()\n",
    "    input = data_dict['input'].cpu().numpy()\n",
    "    target = data_dict['target'].cpu().numpy()\n",
    "\n",
    "    \n",
    "    # unnormalize \n",
    "    assert len(prediction.shape) == 4\n",
    "    pred_unnorm = prediction * norm_dict['std_target'] + norm_dict['mean_target']\n",
    "    target_unnorm = target * norm_dict['std_target'] + norm_dict['mean_target']\n",
    "    input_unnorm = input * norm_dict['std_input'] + norm_dict['mean_input']\n",
    "\n",
    "\n",
    "    if opt['datasets']['train']['name'] == 'cifar10':\n",
    "        pred_unnorm[pred_unnorm<0] = 0\n",
    "        pred_unnorm[pred_unnorm>255] = 255\n",
    "        pred_unnorm = pred_unnorm.astype(np.uint8)\n",
    "        target_unnorm = target_unnorm.astype(np.uint8)\n",
    "        input_unnorm = input_unnorm.astype(np.uint16)\n",
    "\n",
    "    return input_unnorm, target_unnorm, pred_unnorm"
   ]
  },
  {
   "cell_type": "code",
   "execution_count": 14,
   "metadata": {},
   "outputs": [],
   "source": [
    "diffusion.set_new_noise_schedule(opt['model']['beta_schedule']['val'], schedule_phase='val')\n"
   ]
  },
  {
   "cell_type": "code",
   "execution_count": 15,
   "metadata": {},
   "outputs": [],
   "source": [
    "import seaborn as sns\n",
    "# show_hist = False\n",
    "# if show_hist:\n",
    "#     ncols = predictions.shape[-1]\n",
    "#     _,ax = plt.subplots(figsize=(3*ncols,3),ncols=ncols)\n",
    "#     for ch_idx in range(ncols):\n",
    "#         sns.histplot(targets[:,...,ch_idx].reshape(-1,), label='target',ax=ax[ch_idx])\n",
    "#         sns.histplot(predictions[:,-1,...,ch_idx].reshape(-1,), label='prediction', ax=ax[ch_idx])\n",
    "#     plt.legend()\n",
    "#     plt.tight_layout()"
   ]
  },
  {
   "cell_type": "markdown",
   "metadata": {},
   "source": [
    "## Quantitative Evaluation using the classifier.\n",
    "Here, we also inspect the effect of MMSE count."
   ]
  },
  {
   "cell_type": "code",
   "execution_count": 16,
   "metadata": {},
   "outputs": [],
   "source": [
    "\n",
    "if time_predictor is not None:\n",
    "    t_pred1 = []\n",
    "    with torch.no_grad():\n",
    "        for i in tqdm(range(len(val_set))):\n",
    "            data = val_set[i]\n",
    "            norm_inp = xt_normalizer.normalize(torch.Tensor(data['input'][None]).cuda(), torch.Tensor([0.9]).cuda(), update=False)\n",
    "\n",
    "            # inp_indi1 = data['target'][:1]*(1-mixing_t_ood) + data['target'][1:2]*mixing_t_ood\n",
    "            # inp_indi2 = data['target'][:1]*mixing_t_ood + data['target'][1:2]*(1-mixing_t_ood)\n",
    "            # inp_indi1 = torch.Tensor(inp_indi1[None]).cuda()\n",
    "            # inp_indi2 = torch.Tensor(inp_indi2[None]).cuda()\n",
    "            # we can use mixing_t_ood for the normalization, because if it is real image, then we anyway have to normalize it separately.\n",
    "            # norm_inp2 = xt_normalizer2.normalize(inp_indi2.cuda(), torch.Tensor([mixing_t_ood]*len(inp_indi2)).cuda(), update=False)\n",
    "            \n",
    "            # time predictor notion of time is 1 - t, This formulation ensures that we have the time corresponding to indi1.\n",
    "            t1 = 1 - time_predictor(norm_inp)\n",
    "            t_pred1.append(t1.item())\n",
    "\n",
    "    t_pred_aggregated = np.mean(t_pred1) \n",
    "    print(t_pred_aggregated)\n",
    "else:\n",
    "    t_pred_aggregated = None"
   ]
  },
  {
   "cell_type": "code",
   "execution_count": 19,
   "metadata": {},
   "outputs": [],
   "source": [
    "# use_aggregated_inferred_time = False\n",
    "# use_hardcoded_time_for_inference = 0.5\n",
    "# infer_time = False\n",
    "# mmse_count = 1"
   ]
  },
  {
   "cell_type": "code",
   "execution_count": 20,
   "metadata": {},
   "outputs": [
    {
     "name": "stdout",
     "output_type": "stream",
     "text": [
      "infer_time False use_aggregated_inferred_time False use_hardcoded_time_for_inference 0.5\n"
     ]
    },
    {
     "name": "stderr",
     "output_type": "stream",
     "text": [
      "100%|██████████| 1440/1440 [01:04<00:00, 22.39it/s]\n"
     ]
    }
   ],
   "source": [
    "from core.psnr import PSNR\n",
    "from collections import defaultdict\n",
    "from tqdm import tqdm\n",
    "import numpy as np\n",
    "\n",
    "def sanitize_t(t_val, eps = 1e-6):\n",
    "    t_val = np.clip(t_val, 0+eps, 1-eps)\n",
    "    return t_val\n",
    "\n",
    "print('infer_time', infer_time, 'use_aggregated_inferred_time', use_aggregated_inferred_time, 'use_hardcoded_time_for_inference', use_hardcoded_time_for_inference)\n",
    "indi_model = diffusion.netG\n",
    "indi_model.eval()\n",
    "psnr_dict_ood = defaultdict(list)\n",
    "all_targets_ood = []\n",
    "all_inputs_ood = []\n",
    "eps = 1e-6\n",
    "\n",
    "pred_t_1_arr = []\n",
    "mmse_pred_arr = []\n",
    "with torch.no_grad():\n",
    "    for mmse_idx in range(mmse_count):\n",
    "        all_predictions = []\n",
    "\n",
    "        for i in tqdm(range(len(val_set))):\n",
    "            data = val_set[i]\n",
    "            norm_inp = xt_normalizer.normalize(torch.Tensor(data['input'][None]).cuda(), torch.Tensor([0.9]).cuda(), update=False)\n",
    "\n",
    "\n",
    "            # picking the time\n",
    "            if infer_time:\n",
    "                if use_aggregated_inferred_time:\n",
    "                    predt_inp = t_pred_aggregated\n",
    "                else:\n",
    "                    assert use_hardcoded_time_for_inference is None, 'Hardcoded time inference is not supported with individual time inference'\n",
    "                    predt_inp = 1 - time_predictor(norm_inp).item()\n",
    "            elif use_hardcoded_time_for_inference is not None:\n",
    "                predt_inp = use_hardcoded_time_for_inference\n",
    "            else:\n",
    "                raise ValueError('Invalid time inference configuration. We donot know the GT mixing')\n",
    "\n",
    "            predt_inp = sanitize_t(predt_inp)\n",
    "\n",
    "\n",
    "\n",
    "\n",
    "            ch1_pred = indi_model.indi1.inference(norm_inp, num_timesteps=1, t_float_start=predt_inp)\n",
    "            ch2_pred = indi_model.indi2.inference(norm_inp,  num_timesteps=1, t_float_start=1-predt_inp)\n",
    "\n",
    "            if mmse_idx == 0:\n",
    "                all_inputs_ood.append(norm_inp.cpu().numpy())\n",
    "            pred_t_1_arr.append(predt_inp)\n",
    "\n",
    "            \n",
    "            pred_ = np.concatenate([ch1_pred.cpu().numpy(), ch2_pred.cpu().numpy()], axis=1)\n",
    "            \n",
    "            tar_unnorm = data['target']\n",
    "            if mmse_idx == 0:\n",
    "                all_targets_ood.append(tar_unnorm[None])\n",
    "            \n",
    "            all_predictions.append(pred_)\n",
    "\n",
    "        all_predictions = np.concatenate(all_predictions, axis=0)\n",
    "        mmse_pred_arr.append(all_predictions)\n",
    "    \n",
    "all_targets_ood = np.concatenate(all_targets_ood, axis=0)\n",
    "all_inputs_ood = np.concatenate(all_inputs_ood, axis=0)\n",
    "\n",
    "pred_t_1_arr = np.array(pred_t_1_arr)\n"
   ]
  },
  {
   "cell_type": "code",
   "execution_count": 21,
   "metadata": {},
   "outputs": [],
   "source": [
    "mmse_pred = 0 \n",
    "for i in range(mmse_count):\n",
    "    mmse_pred += mmse_pred_arr[i]/mmse_count"
   ]
  },
  {
   "cell_type": "code",
   "execution_count": 22,
   "metadata": {},
   "outputs": [
    {
     "name": "stdout",
     "output_type": "stream",
     "text": [
      "[96, 900, 1400, 2]\n",
      "[96, 900, 1400, 2]\n",
      "[96, 900, 1400, 1]\n"
     ]
    }
   ],
   "source": [
    "from data.tile_stitcher import stitch_predictions\n",
    "\n",
    "pred_stitched = stitch_predictions(mmse_pred, val_set.tile_manager)\n",
    "tar_stitched = stitch_predictions(all_targets_ood, val_set.tile_manager)\n",
    "inputs_stitched_ood = stitch_predictions(all_inputs_ood, val_set.tile_manager)\n",
    "\n",
    "mean_val = train_set.normalization_dict['mean_channel'][:2]\n",
    "std_val = train_set.normalization_dict['std_channel'][:2]\n",
    "\n",
    "pred_stitched = pred_stitched*std_val + mean_val"
   ]
  },
  {
   "cell_type": "code",
   "execution_count": 23,
   "metadata": {},
   "outputs": [
    {
     "data": {
      "text/plain": [
       "(340.4502622567564, 84.70867481420761, 545.0, 98.0)"
      ]
     },
     "execution_count": 23,
     "metadata": {},
     "output_type": "execute_result"
    }
   ],
   "source": [
    "pred_stitched[0,...,1].max(), pred_stitched[0,...,1].min(), tar_stitched[0,...,1].max(), tar_stitched[0,...,1].min()"
   ]
  },
  {
   "cell_type": "code",
   "execution_count": 24,
   "metadata": {},
   "outputs": [
    {
     "name": "stdout",
     "output_type": "stream",
     "text": [
      "PSNR (24.38854217529297, 20.64658546447754)\n"
     ]
    }
   ],
   "source": [
    "from metrics import RangeInvariantPsnr\n",
    "bt_rem = RangeInvariantPsnr(tar_stitched[...,0], pred_stitched[...,0]).mean().item(), RangeInvariantPsnr(tar_stitched[...,1], pred_stitched[...,1]).mean().item()\n",
    "# dim_pred = RangeInvariantPsnr(tar_stitched[...,0], pred_dim_pred_stitched[...,0]).mean().item(), RangeInvariantPsnr(tar_stitched[...,1], pred_dim_pred_stitched[...,1]).mean().item()\n",
    "print('PSNR', bt_rem)\n"
   ]
  },
  {
   "cell_type": "code",
   "execution_count": 28,
   "metadata": {},
   "outputs": [
    {
     "ename": "SyntaxError",
     "evalue": "invalid syntax (3633616150.py, line 2)",
     "output_type": "error",
     "traceback": [
      "\u001b[0;36m  Cell \u001b[0;32mIn[28], line 2\u001b[0;36m\u001b[0m\n\u001b[0;31m    break here\u001b[0m\n\u001b[0m          ^\u001b[0m\n\u001b[0;31mSyntaxError\u001b[0m\u001b[0;31m:\u001b[0m invalid syntax\n"
     ]
    }
   ],
   "source": [
    "# 0.8: PSNR (38.85444641113281, 41.10490798950195)\n",
    "# 0.7: PSNR 40.6296501159668, 41.56514358520508\n",
    "# 0.6: PSNR (40.581932067871094, 42.19536209106445)\n",
    "# 0.5: PSNR (39.4, 42.9)\n",
    "# 0.4: PSNR (38.1, 43.5)\n",
    "# 0.3: 36.81694793701172, 43.849342346191406\n",
    "# 0.2: 35.75353240966797, 43.44008255004883\n",
    "# 0.1: 34.8411979675293, 42.10592269897461"
   ]
  },
  {
   "cell_type": "code",
   "execution_count": 25,
   "metadata": {},
   "outputs": [
    {
     "name": "stdout",
     "output_type": "stream",
     "text": [
      "Setting up [LPIPS] perceptual loss: trunk [alex], v[0.1], spatial [off]\n"
     ]
    },
    {
     "name": "stderr",
     "output_type": "stream",
     "text": [
      "/localscratch/miniforge3/envs/usplit_vdi/lib/python3.9/site-packages/torchvision/models/_utils.py:208: UserWarning: The parameter 'pretrained' is deprecated since 0.13 and may be removed in the future, please use 'weights' instead.\n",
      "  warnings.warn(\n",
      "/localscratch/miniforge3/envs/usplit_vdi/lib/python3.9/site-packages/torchvision/models/_utils.py:223: UserWarning: Arguments other than a weight enum or `None` for 'weights' are deprecated since 0.13 and may be removed in the future. The current behavior is equivalent to passing `weights=AlexNet_Weights.IMAGENET1K_V1`. You can also use `weights=AlexNet_Weights.DEFAULT` to get the most up-to-date weights.\n",
      "  warnings.warn(msg)\n"
     ]
    },
    {
     "name": "stdout",
     "output_type": "stream",
     "text": [
      "Loading model from: /localscratch/miniforge3/envs/usplit_vdi/lib/python3.9/site-packages/lpips/weights/v0.1/alex.pth\n"
     ]
    },
    {
     "ename": "KeyboardInterrupt",
     "evalue": "",
     "output_type": "error",
     "traceback": [
      "\u001b[0;31m---------------------------------------------------------------------------\u001b[0m",
      "\u001b[0;31mKeyboardInterrupt\u001b[0m                         Traceback (most recent call last)",
      "Cell \u001b[0;32mIn[25], line 2\u001b[0m\n\u001b[1;32m      1\u001b[0m \u001b[38;5;28;01mfrom\u001b[39;00m \u001b[38;5;21;01mmetrics\u001b[39;00m \u001b[38;5;28;01mimport\u001b[39;00m compute_stats\n\u001b[0;32m----> 2\u001b[0m bt_removed_stats_dict \u001b[38;5;241m=\u001b[39m \u001b[43mcompute_stats\u001b[49m\u001b[43m(\u001b[49m\u001b[43mtar_stitched\u001b[49m\u001b[43m,\u001b[49m\u001b[43m \u001b[49m\u001b[43mpred_stitched\u001b[49m\u001b[43m)\u001b[49m\n",
      "File \u001b[0;32m~/code/DiffSplitting/notebooks/../metrics.py:265\u001b[0m, in \u001b[0;36mcompute_stats\u001b[0;34m(highres_data, pred_unnorm, verbose)\u001b[0m\n\u001b[1;32m    263\u001b[0m ssim_list \u001b[38;5;241m=\u001b[39m []\n\u001b[1;32m    264\u001b[0m msssim_list \u001b[38;5;241m=\u001b[39m []\n\u001b[0;32m--> 265\u001b[0m lpips_dict \u001b[38;5;241m=\u001b[39m \u001b[43mcompute_lpips\u001b[49m\u001b[43m(\u001b[49m\u001b[43mhighres_data\u001b[49m\u001b[43m,\u001b[49m\u001b[43m \u001b[49m\u001b[43mpred_unnorm\u001b[49m\u001b[43m)\u001b[49m\n\u001b[1;32m    266\u001b[0m lpips_list \u001b[38;5;241m=\u001b[39m [(np\u001b[38;5;241m.\u001b[39mmean(lpips_dict[i]), compute_SE(lpips_dict[i])) \u001b[38;5;28;01mfor\u001b[39;00m i \u001b[38;5;129;01min\u001b[39;00m \u001b[38;5;28mrange\u001b[39m(\u001b[38;5;28mlen\u001b[39m(lpips_dict))]\n\u001b[1;32m    268\u001b[0m \u001b[38;5;28;01mfor\u001b[39;00m ch_idx \u001b[38;5;129;01min\u001b[39;00m \u001b[38;5;28mrange\u001b[39m(highres_data[\u001b[38;5;241m0\u001b[39m]\u001b[38;5;241m.\u001b[39mshape[\u001b[38;5;241m-\u001b[39m\u001b[38;5;241m1\u001b[39m]):\n\u001b[1;32m    269\u001b[0m     \u001b[38;5;66;03m# list of gt and prediction images. This handles both 2D and 3D data. This also handles when individual images are lists.\u001b[39;00m\n",
      "File \u001b[0;32m~/code/DiffSplitting/notebooks/../metrics.py:252\u001b[0m, in \u001b[0;36mcompute_lpips\u001b[0;34m(target, pred)\u001b[0m\n\u001b[1;32m    250\u001b[0m     tar_tmp  \u001b[38;5;241m=\u001b[39m \u001b[38;5;241m2\u001b[39m\u001b[38;5;241m*\u001b[39m(tar_tmp \u001b[38;5;241m-\u001b[39m min_val)\u001b[38;5;241m/\u001b[39m(max_val \u001b[38;5;241m-\u001b[39m min_val) \u001b[38;5;241m-\u001b[39m \u001b[38;5;241m1\u001b[39m\n\u001b[1;32m    251\u001b[0m     pred_tmp \u001b[38;5;241m=\u001b[39m \u001b[38;5;241m2\u001b[39m\u001b[38;5;241m*\u001b[39m(pred_tmp \u001b[38;5;241m-\u001b[39m min_val)\u001b[38;5;241m/\u001b[39m(max_val \u001b[38;5;241m-\u001b[39m min_val) \u001b[38;5;241m-\u001b[39m \u001b[38;5;241m1\u001b[39m\n\u001b[0;32m--> 252\u001b[0m     output[ch_idx] \u001b[38;5;241m=\u001b[39m [loss_fn_vgg(torch\u001b[38;5;241m.\u001b[39mTensor(tar_tmp[i])\u001b[38;5;241m.\u001b[39mcuda(), torch\u001b[38;5;241m.\u001b[39mTensor(pred_tmp[i])\u001b[38;5;241m.\u001b[39mcuda())\u001b[38;5;241m.\u001b[39mitem() \u001b[38;5;28;01mfor\u001b[39;00m i \u001b[38;5;129;01min\u001b[39;00m \u001b[38;5;28mrange\u001b[39m(tar_tmp\u001b[38;5;241m.\u001b[39mshape[\u001b[38;5;241m0\u001b[39m])]\n\u001b[1;32m    253\u001b[0m \u001b[38;5;28;01mreturn\u001b[39;00m output\n",
      "File \u001b[0;32m~/code/DiffSplitting/notebooks/../metrics.py:252\u001b[0m, in \u001b[0;36m<listcomp>\u001b[0;34m(.0)\u001b[0m\n\u001b[1;32m    250\u001b[0m     tar_tmp  \u001b[38;5;241m=\u001b[39m \u001b[38;5;241m2\u001b[39m\u001b[38;5;241m*\u001b[39m(tar_tmp \u001b[38;5;241m-\u001b[39m min_val)\u001b[38;5;241m/\u001b[39m(max_val \u001b[38;5;241m-\u001b[39m min_val) \u001b[38;5;241m-\u001b[39m \u001b[38;5;241m1\u001b[39m\n\u001b[1;32m    251\u001b[0m     pred_tmp \u001b[38;5;241m=\u001b[39m \u001b[38;5;241m2\u001b[39m\u001b[38;5;241m*\u001b[39m(pred_tmp \u001b[38;5;241m-\u001b[39m min_val)\u001b[38;5;241m/\u001b[39m(max_val \u001b[38;5;241m-\u001b[39m min_val) \u001b[38;5;241m-\u001b[39m \u001b[38;5;241m1\u001b[39m\n\u001b[0;32m--> 252\u001b[0m     output[ch_idx] \u001b[38;5;241m=\u001b[39m [loss_fn_vgg(torch\u001b[38;5;241m.\u001b[39mTensor(tar_tmp[i])\u001b[38;5;241m.\u001b[39mcuda(), \u001b[43mtorch\u001b[49m\u001b[38;5;241;43m.\u001b[39;49m\u001b[43mTensor\u001b[49m\u001b[43m(\u001b[49m\u001b[43mpred_tmp\u001b[49m\u001b[43m[\u001b[49m\u001b[43mi\u001b[49m\u001b[43m]\u001b[49m\u001b[43m)\u001b[49m\u001b[38;5;241m.\u001b[39mcuda())\u001b[38;5;241m.\u001b[39mitem() \u001b[38;5;28;01mfor\u001b[39;00m i \u001b[38;5;129;01min\u001b[39;00m \u001b[38;5;28mrange\u001b[39m(tar_tmp\u001b[38;5;241m.\u001b[39mshape[\u001b[38;5;241m0\u001b[39m])]\n\u001b[1;32m    253\u001b[0m \u001b[38;5;28;01mreturn\u001b[39;00m output\n",
      "\u001b[0;31mKeyboardInterrupt\u001b[0m: "
     ]
    }
   ],
   "source": [
    "from metrics import compute_stats\n",
    "bt_removed_stats_dict = compute_stats(tar_stitched, pred_stitched)"
   ]
  },
  {
   "cell_type": "code",
   "execution_count": 37,
   "metadata": {},
   "outputs": [
    {
     "name": "stdout",
     "output_type": "stream",
     "text": [
      "Ckpt: 2502/HT_LIF24-joint_indi-l1/60\n",
      "Classifier: 2502/HT_LIF24-UnetClassifier-l2/3\n",
      "T:1 RealInp:True M:10 TPred:True TPredAgg:True:0.4269158975945579 TPredFixed:NoneNorm:50 InfSteps:1\n",
      "\n",
      " PSNR:\t 38.26+-0.76\t43.44+-0.712\n",
      " MicroSSIM:\t 0.980+-0.0020\t0.981+-0.0040\n",
      " MicroS3IM:\t 0.990+-0.0010\t0.994+-0.0010\n",
      " SSIM:\t 0.980+-0.0020\t0.988+-0.0010\n",
      " MSSSIM:\t 0.987+-0.0010\t0.994+-0.0010\n",
      " lpips:\t 0.016+-0.0010\t0.014+-0.0010\n"
     ]
    }
   ],
   "source": [
    "def ssim_str(ssim_tmp):\n",
    "    return f\"{np.round(ssim_tmp[0], 3):.3f}+-{np.round(ssim_tmp[1], 3):.4f}\"\n",
    "\n",
    "def psnr_str(psnr_tmp):\n",
    "    return f\"{np.round(psnr_tmp[0], 2)}+-{np.round(psnr_tmp[1], 3)}\"\n",
    "\n",
    "def print_stats_dict(stats_dict, prefix=''):\n",
    "    print(\n",
    "        prefix, \"PSNR:\\t\", \"\\t\".join([psnr_str(psnr_tmp) for psnr_tmp in stats_dict['rangeinvpsnr']])\n",
    "    )\n",
    "    print(\n",
    "        prefix, \"MicroSSIM:\\t\",\n",
    "        \"\\t\".join([ssim_str(ssim) for ssim in stats_dict['microssim']]),\n",
    "    )\n",
    "    print(\n",
    "        prefix, \"MicroS3IM:\\t\", \"\\t\".join([ssim_str(ssim) for ssim in stats_dict['ms3im']])\n",
    "    )\n",
    "    print(prefix, \"SSIM:\\t\", \"\\t\".join([ssim_str(ssim) for ssim in stats_dict['ssim']]))\n",
    "    print(prefix, \"MSSSIM:\\t\", \"\\t\".join([ssim_str(ssim) for ssim in stats_dict['msssim']]))\n",
    "    # lpiips\n",
    "    print(prefix, \"lpips:\\t\", \"\\t\".join([ssim_str(lpips) for lpips in stats_dict['lpips']]))\n",
    "\n",
    "print('Ckpt:',ckpt)\n",
    "\n",
    "if ckpt_time_predictor is not None:\n",
    "    print('Classifier:',ckpt_time_predictor)\n",
    "\n",
    "# infer_time, 'use_aggregated_inferred_time', use_aggregated_inferred_time, 'use_hardcoded_time_for_inference', use_hardcoded_time_for_inference\n",
    "\n",
    "msg  = f'T:{num_timesteps} RealInp:{enable_real_input} M:{mmse_count} TPred:{infer_time} TPredAgg:{use_aggregated_inferred_time}'\n",
    "if use_aggregated_inferred_time:\n",
    "    msg += f':{t_pred_aggregated}'\n",
    "msg += f' TPredFixed:{use_hardcoded_time_for_inference}'\n",
    "\n",
    "msg += f'Norm:{num_epochs_normalization} InfSteps:{num_timesteps}\\n'\n",
    "\n",
    "print(msg)\n",
    "print_stats_dict(bt_removed_stats_dict, '')"
   ]
  },
  {
   "cell_type": "code",
   "execution_count": 26,
   "metadata": {},
   "outputs": [
    {
     "data": {
      "image/png": "[encoded data removed]",
      "text/plain": [
       "<Figure size 900x600 with 6 Axes>"
      ]
     },
     "metadata": {},
     "output_type": "display_data"
    }
   ],
   "source": [
    "import matplotlib.pyplot as plt\n",
    "\n",
    "_,ax = plt.subplots(figsize=(9,6),ncols=3,nrows=2)\n",
    "img_idx = 50\n",
    "hs = 0 \n",
    "ws = 0\n",
    "sz = 1500\n",
    "# inputs\n",
    "ax[0,0].set_title(f'Input', fontsize=15)\n",
    "ax[0,0].imshow(inputs_stitched_ood[img_idx,hs:hs+sz,ws:ws+sz,0])\n",
    "\n",
    "#  ch1 predictions\n",
    "ax[0,1].set_title('Channel 1', fontsize=15)\n",
    "ax[0,1].imshow(pred_stitched[img_idx,hs:hs+sz,ws:ws+sz,0])\n",
    "# ax[1,1].imshow(pred_dim_pred_stitched[img_idx,hs:hs+sz,ws:ws+sz,0])\n",
    "\n",
    "# ch2 predictions\n",
    "ax[0,2].set_title('Channel 2', fontsize=15)\n",
    "ax[0,2].imshow(pred_stitched[img_idx,hs:hs+sz,ws:ws+sz,1])\n",
    "# set ylabel on the right side of the plot\n",
    "ax[0,2].set_ylabel('Prediction', fontsize=15, rotation=270, labelpad=20)\n",
    "ax[0,2].yaxis.set_label_position(\"right\")\n",
    "ax[0,2].yaxis.tick_right()\n",
    "\n",
    "# ax[1,2].imshow(pred_dim_pred_stitched[img_idx,hs:hs+sz,ws:ws+sz,1])\n",
    "\n",
    "# ax[0,0].set_ylabel('BT Removed', fontsize=15)\n",
    "# ax[1,0].set_ylabel('Weak Signal Pred', fontsize=15)\n",
    "\n",
    "# target\n",
    "ax[1,0].axis('off')\n",
    "ax[1,1].imshow(tar_stitched[img_idx,hs:hs+sz,ws:ws+sz,0])\n",
    "ax[1,2].imshow(tar_stitched[img_idx,hs:hs+sz,ws:ws+sz,1])\n",
    "# ax[1,1].set_ylabel('Target', fontsize=15)\n",
    "ax[1,2].set_ylabel('Target', fontsize=15, rotation=270, labelpad=20)\n",
    "ax[1,2].yaxis.set_label_position(\"right\")\n",
    "ax[1,2].yaxis.tick_right()\n"
   ]
  },
  {
   "cell_type": "markdown",
   "metadata": {},
   "source": [
    "## Saving the predictions"
   ]
  },
  {
   "cell_type": "code",
   "execution_count": 29,
   "metadata": {},
   "outputs": [
    {
     "name": "stdout",
     "output_type": "stream",
     "text": [
      "/group/jug/ashesh/indiSplit/predictions/MMSE-10_InferT-0_InferTAgg-0_FixedT-0.5\n"
     ]
    }
   ],
   "source": [
    "param_str = f\"MMSE-{mmse_count}_InferT-{int(infer_time)}_InferTAgg-{int(use_aggregated_inferred_time)}_FixedT-{use_hardcoded_time_for_inference}\"\n",
    "result_dir = os.path.join('/group/jug/ashesh/indiSplit/', 'predictions',param_str)\n",
    "os.makedirs(result_dir, exist_ok=True)\n",
    "print(result_dir)"
   ]
  },
  {
   "cell_type": "code",
   "execution_count": 30,
   "metadata": {},
   "outputs": [
    {
     "data": {
      "text/plain": [
       "(10, 1608, 1608, 2)"
      ]
     },
     "execution_count": 30,
     "metadata": {},
     "output_type": "execute_result"
    }
   ],
   "source": [
    "from skimage.io import imread, imsave\n",
    "def save_tiff(path, data):\n",
    "    imsave(path, data, plugin='tifffile')\n",
    "\n",
    "\n",
    "save_tiff(os.path.join(result_dir,'pred.tif'), pred_stitched)\n",
    "pred_stitched.shape"
   ]
  }
 ],
 "metadata": {
  "kernelspec": {
   "display_name": "Python 3",
   "language": "python",
   "name": "python3"
  },
  "language_info": {
   "codemirror_mode": {
    "name": "ipython",
    "version": 3
   },
   "file_extension": ".py",
   "mimetype": "text/x-python",
   "name": "python",
   "nbconvert_exporter": "python",
   "pygments_lexer": "ipython3",
   "version": "3.9.19"
  }
 },
 "nbformat": 4,
 "nbformat_minor": 2
}
