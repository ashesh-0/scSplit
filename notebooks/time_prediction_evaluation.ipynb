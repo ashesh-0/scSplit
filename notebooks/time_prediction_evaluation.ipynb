{
 "cells": [
  {
   "cell_type": "code",
   "execution_count": 1,
   "metadata": {},
   "outputs": [],
   "source": [
    "import sys\n",
    "sys.path.append('..')"
   ]
  },
  {
   "cell_type": "code",
   "execution_count": 2,
   "metadata": {},
   "outputs": [],
   "source": [
    "# ckpt = '2501/COSEM_jrc-hela-UnetClassifier-l2/3/'\n",
    "# ckpt = '2501/COSEM_jrc-hela-UnetClassifier-l2/6'\n",
    "# ckpt = '2502/HT_LIF24-UnetClassifier-l2/3'\n",
    "# ckpt = '/group/jug/ashesh/training/diffsplit/2502/BioSR-UnetClassifier-l2/4/'\n",
    "ckpt = '/group/jug/ashesh/training/diffsplit/2502/Hagen-UnetClassifier-l2/11'\n",
    "evaluate_test_data = True\n",
    "# num_timesteps_normalization = 100_000\n",
    "# if normalize_channels is None, we use the setting (True/False) present in the trained model.\n",
    "# if normalize_channels is True, then we normalize the channels in the dataset and xt_normalizer, defined below is dummy\n",
    "# if normalize_channels is False, then we do not normalize the channels in the dataset and xt_normalizer, defined below normalizes the individual channels.\n",
    "normalize_channels = False\n",
    "assert normalize_channels in [None, True, False]\n",
    "training_rootdir = '/group/jug/ashesh/training/diffsplit/'"
   ]
  },
  {
   "cell_type": "code",
   "execution_count": 3,
   "metadata": {},
   "outputs": [],
   "source": [
    "import yaml\n",
    "import os\n",
    "import glob\n",
    "import torch\n",
    "\n",
    "def model_checkpoint_fpath(ckpt, fname=None):\n",
    "    ckpt_dir = os.path.join(training_rootdir, ckpt, 'checkpoint')\n",
    "    if fname is not None:\n",
    "        return os.path.join(training_rootdir, ckpt, fname)\n",
    "    else:\n",
    "        list_of_files = glob.glob(ckpt_dir +'/*_gen.pth') # * means all if need specific format then *.csv\n",
    "        latest_file = max(list_of_files, key=os.path.getctime)\n",
    "        fname = latest_file\n",
    "        return os.path.join(ckpt_dir,latest_file)\n",
    "\n",
    "def model_checkpoint_fpath_prefix(ckpt, fname=None):\n",
    "    fpath = model_checkpoint_fpath(ckpt, fname)\n",
    "    suffix = '_gen.pth'\n",
    "    assert fpath.endswith(suffix)\n",
    "    return fpath[:-len(suffix)]\n",
    "\n",
    "def load_config(ckpt):\n",
    "    config_path = os.path.join(training_rootdir,ckpt,'wandb/latest-run/files/config.yaml')\n",
    "\n",
    "    with open(config_path) as stream:\n",
    "        try:\n",
    "            opt = yaml.safe_load(stream)\n",
    "        except yaml.YAMLError as exc:\n",
    "            print(exc)\n",
    "    \n",
    "    keys = [\"name\",\"phase\",\"gpu_ids\",\"path\",\"datasets\",\"model\",\"train\"]\n",
    "    return {k: opt[k]['value'] for k in keys}"
   ]
  },
  {
   "cell_type": "code",
   "execution_count": 4,
   "metadata": {},
   "outputs": [
    {
     "name": "stdout",
     "output_type": "stream",
     "text": [
      "Overriding normalize_channels with False\n"
     ]
    }
   ],
   "source": [
    "from model.ddpm_modules.time_predictor import TimePredictor\n",
    "from time_prediction_training import get_datasets\n",
    "import os\n",
    "\n",
    "classifier_ckpt = os.path.join(training_rootdir, ckpt)\n",
    "\n",
    "opt = load_config(classifier_ckpt)\n",
    "# loading dataset.\n",
    "if evaluate_test_data:\n",
    "    if opt['datasets']['train']['name'] == 'Hagen':\n",
    "        opt['datasets']['val']['datapath'] = {\n",
    "        'ch0': '/group/jug/ashesh/data/diffsplit_hagen/test/test_actin-60x-noise2-highsnr.tif',\n",
    "        'ch1': '/group/jug/ashesh/data/diffsplit_hagen/test/test_mito-60x-noise2-highsnr.tif'\n",
    "        }\n",
    "    elif opt['datasets']['train']['name'] in ['COSEM_jrc-hela', 'BioSR', 'HT_LIF24','HT_T24']:\n",
    "        opt['datasets']['val']['datapath'] = opt['datasets']['val']['datapath'].replace('/val', '/test')\n",
    "    else:\n",
    "        raise NotImplementedError(f'{opt[\"datasets\"][\"train\"][\"name\"]} not implemented')\n",
    "\n",
    "if 'patch_size' not in opt['datasets']:\n",
    "    opt['datasets']['patch_size']  = opt['datasets']['train']['patch_size']\n",
    "\n",
    "if 'max_qval' not in opt['datasets']:\n",
    "    opt['datasets']['max_qval']  = 0.98\n",
    "\n",
    "if 'uncorrelated_channels' not in opt['datasets']['train']:\n",
    "    opt['datasets']['train']['uncorrelated_channels']  = False\n",
    "\n",
    "if normalize_channels is not None:\n",
    "    print(f'Overriding normalize_channels with {normalize_channels}')\n",
    "    opt['datasets']['normalize_channels'] = normalize_channels"
   ]
  },
  {
   "cell_type": "code",
   "execution_count": 5,
   "metadata": {},
   "outputs": [
    {
     "name": "stdout",
     "output_type": "stream",
     "text": [
      "TimePredictor\n"
     ]
    },
    {
     "data": {
      "text/plain": [
       "<All keys matched successfully>"
      ]
     },
     "execution_count": 5,
     "metadata": {},
     "output_type": "execute_result"
    }
   ],
   "source": [
    "model_opt = opt['model']\n",
    "model_kwargs = {}\n",
    "model_kwargs['scale_augmentation'] = model_opt.get('scale_augmentation', False)\n",
    "    \n",
    "if model_kwargs['scale_augmentation']:\n",
    "    model_kwargs['scale_augmentation_delta'] = model_opt['scale_augmentation_delta']\n",
    "\n",
    "model = TimePredictor(\n",
    "    in_channel=model_opt['unet']['in_channel'],\n",
    "    out_channel=model_opt['unet']['out_channel'],\n",
    "    norm_groups=model_opt['unet']['norm_groups'],\n",
    "    inner_channel=model_opt['unet']['inner_channel'],\n",
    "    channel_mults=model_opt['unet']['channel_multiplier'],\n",
    "    attn_res=model_opt['unet']['attn_res'],\n",
    "    res_blocks=model_opt['unet']['res_blocks'],\n",
    "    dropout=model_opt['unet']['dropout'],\n",
    "    image_size=opt['datasets']['patch_size'],\n",
    "    **model_kwargs\n",
    "    )\n",
    "model = model.cuda()\n",
    "model.load_state_dict(torch.load(os.path.join(classifier_ckpt,'best_time_predictor.pth')), strict=True)\n",
    "\n",
    "# data\n"
   ]
  },
  {
   "cell_type": "code",
   "execution_count": 6,
   "metadata": {},
   "outputs": [
    {
     "name": "stdout",
     "output_type": "stream",
     "text": [
      "HARDCODED upperclip to 1993. Disable it if not needed !!!\n",
      "Computing mean and std for normalization\n",
      "[TimePredictorDataset] Data: 80x2x(2048, 2048) Patch:512 Random:1 Aug:True Q:1.0 UpperClip:0Uncor:False ChW:[1.0, 1.0]\n",
      "Adding Gaussian noise with std factor:  0.05\n",
      "HARDCODED upperclip to 1993. Disable it if not needed !!!\n",
      "[TimePredictorDataset] Data: 10x2x(2048, 2048) Patch:512 Random:0 Aug:False Q:1.0 UpperClip:0Uncor:False ChW:[1.0, 1.0]\n"
     ]
    }
   ],
   "source": [
    "train_set, val_set = get_datasets(opt, tiled_pred=False)"
   ]
  },
  {
   "cell_type": "code",
   "execution_count": 7,
   "metadata": {},
   "outputs": [
    {
     "name": "stdout",
     "output_type": "stream",
     "text": [
      "Random patching set to True\n"
     ]
    },
    {
     "name": "stderr",
     "output_type": "stream",
     "text": [
      "4.0M/819.0M pixels processed: 100%|██████████| 10/10 [00:00<00:00, 43.51it/s]\n",
      "8.0M/819.0M pixels processed: 100%|██████████| 10/10 [00:00<00:00, 45.12it/s]\n",
      "12.0M/819.0M pixels processed: 100%|██████████| 10/10 [00:00<00:00, 46.49it/s]\n",
      "16.0M/819.0M pixels processed: 100%|██████████| 10/10 [00:00<00:00, 45.41it/s]\n",
      "20.0M/819.0M pixels processed: 100%|██████████| 10/10 [00:00<00:00, 44.55it/s]\n",
      "25.0M/819.0M pixels processed: 100%|██████████| 10/10 [00:00<00:00, 44.86it/s]\n",
      "29.0M/819.0M pixels processed: 100%|██████████| 10/10 [00:00<00:00, 45.80it/s]\n",
      "33.0M/819.0M pixels processed: 100%|██████████| 10/10 [00:00<00:00, 43.12it/s]\n",
      "37.0M/819.0M pixels processed: 100%|██████████| 10/10 [00:00<00:00, 43.48it/s]\n",
      "41.0M/819.0M pixels processed: 100%|██████████| 10/10 [00:00<00:00, 45.50it/s]\n",
      "46.0M/819.0M pixels processed: 100%|██████████| 10/10 [00:00<00:00, 44.99it/s]\n",
      "50.0M/819.0M pixels processed: 100%|██████████| 10/10 [00:00<00:00, 48.14it/s]\n",
      "54.0M/819.0M pixels processed: 100%|██████████| 10/10 [00:00<00:00, 47.51it/s]\n",
      "58.0M/819.0M pixels processed: 100%|██████████| 10/10 [00:00<00:00, 43.31it/s]\n",
      "62.0M/819.0M pixels processed: 100%|██████████| 10/10 [00:00<00:00, 41.53it/s]\n",
      "67.0M/819.0M pixels processed: 100%|██████████| 10/10 [00:00<00:00, 45.08it/s]\n",
      "71.0M/819.0M pixels processed: 100%|██████████| 10/10 [00:00<00:00, 44.21it/s]\n",
      "75.0M/819.0M pixels processed: 100%|██████████| 10/10 [00:00<00:00, 44.23it/s]\n",
      "79.0M/819.0M pixels processed: 100%|██████████| 10/10 [00:00<00:00, 46.87it/s]\n",
      "83.0M/819.0M pixels processed: 100%|██████████| 10/10 [00:00<00:00, 45.19it/s]\n",
      "88.0M/819.0M pixels processed: 100%|██████████| 10/10 [00:00<00:00, 45.42it/s]\n",
      "92.0M/819.0M pixels processed: 100%|██████████| 10/10 [00:00<00:00, 45.21it/s]\n",
      "96.0M/819.0M pixels processed: 100%|██████████| 10/10 [00:00<00:00, 44.04it/s]\n",
      "100.0M/819.0M pixels processed: 100%|██████████| 10/10 [00:00<00:00, 43.07it/s]\n",
      "104.0M/819.0M pixels processed: 100%|██████████| 10/10 [00:00<00:00, 40.94it/s]\n",
      "109.0M/819.0M pixels processed: 100%|██████████| 10/10 [00:00<00:00, 44.88it/s]\n",
      "113.0M/819.0M pixels processed: 100%|██████████| 10/10 [00:00<00:00, 44.65it/s]\n",
      "117.0M/819.0M pixels processed: 100%|██████████| 10/10 [00:00<00:00, 45.96it/s]\n",
      "121.0M/819.0M pixels processed: 100%|██████████| 10/10 [00:00<00:00, 43.42it/s]\n",
      "125.0M/819.0M pixels processed: 100%|██████████| 10/10 [00:00<00:00, 47.35it/s]\n",
      "130.0M/819.0M pixels processed: 100%|██████████| 10/10 [00:00<00:00, 43.09it/s]\n",
      "134.0M/819.0M pixels processed: 100%|██████████| 10/10 [00:00<00:00, 43.68it/s]\n",
      "138.0M/819.0M pixels processed: 100%|██████████| 10/10 [00:00<00:00, 45.94it/s]\n",
      "142.0M/819.0M pixels processed: 100%|██████████| 10/10 [00:00<00:00, 44.72it/s]\n",
      "146.0M/819.0M pixels processed: 100%|██████████| 10/10 [00:00<00:00, 47.19it/s]\n",
      "150.0M/819.0M pixels processed: 100%|██████████| 10/10 [00:00<00:00, 43.87it/s]\n",
      "155.0M/819.0M pixels processed: 100%|██████████| 10/10 [00:00<00:00, 44.68it/s]\n",
      "159.0M/819.0M pixels processed: 100%|██████████| 10/10 [00:00<00:00, 43.11it/s]\n",
      "163.0M/819.0M pixels processed: 100%|██████████| 10/10 [00:00<00:00, 44.85it/s]\n",
      "167.0M/819.0M pixels processed: 100%|██████████| 10/10 [00:00<00:00, 42.78it/s]\n",
      "171.0M/819.0M pixels processed: 100%|██████████| 10/10 [00:00<00:00, 43.41it/s]\n",
      "176.0M/819.0M pixels processed: 100%|██████████| 10/10 [00:00<00:00, 39.80it/s]\n",
      "180.0M/819.0M pixels processed: 100%|██████████| 10/10 [00:00<00:00, 44.14it/s]\n",
      "184.0M/819.0M pixels processed: 100%|██████████| 10/10 [00:00<00:00, 41.17it/s]\n",
      "188.0M/819.0M pixels processed: 100%|██████████| 10/10 [00:00<00:00, 43.46it/s]\n",
      "192.0M/819.0M pixels processed: 100%|██████████| 10/10 [00:00<00:00, 44.63it/s]\n",
      "197.0M/819.0M pixels processed: 100%|██████████| 10/10 [00:00<00:00, 46.14it/s]\n",
      "201.0M/819.0M pixels processed: 100%|██████████| 10/10 [00:00<00:00, 45.50it/s]\n",
      "205.0M/819.0M pixels processed: 100%|██████████| 10/10 [00:00<00:00, 41.24it/s]\n",
      "209.0M/819.0M pixels processed: 100%|██████████| 10/10 [00:00<00:00, 45.32it/s]\n",
      "213.0M/819.0M pixels processed: 100%|██████████| 10/10 [00:00<00:00, 44.41it/s]\n",
      "218.0M/819.0M pixels processed: 100%|██████████| 10/10 [00:00<00:00, 43.02it/s]\n",
      "222.0M/819.0M pixels processed: 100%|██████████| 10/10 [00:00<00:00, 42.96it/s]\n",
      "226.0M/819.0M pixels processed: 100%|██████████| 10/10 [00:00<00:00, 40.79it/s]\n",
      "230.0M/819.0M pixels processed: 100%|██████████| 10/10 [00:00<00:00, 42.32it/s]\n",
      "234.0M/819.0M pixels processed: 100%|██████████| 10/10 [00:00<00:00, 42.28it/s]\n",
      "239.0M/819.0M pixels processed: 100%|██████████| 10/10 [00:00<00:00, 42.17it/s]\n",
      "243.0M/819.0M pixels processed: 100%|██████████| 10/10 [00:00<00:00, 42.32it/s]\n",
      "247.0M/819.0M pixels processed: 100%|██████████| 10/10 [00:00<00:00, 44.17it/s]\n",
      "251.0M/819.0M pixels processed: 100%|██████████| 10/10 [00:00<00:00, 44.75it/s]\n",
      "255.0M/819.0M pixels processed: 100%|██████████| 10/10 [00:00<00:00, 44.89it/s]\n",
      "260.0M/819.0M pixels processed: 100%|██████████| 10/10 [00:00<00:00, 43.25it/s]\n",
      "264.0M/819.0M pixels processed: 100%|██████████| 10/10 [00:00<00:00, 44.75it/s]\n",
      "268.0M/819.0M pixels processed: 100%|██████████| 10/10 [00:00<00:00, 43.30it/s]\n",
      "272.0M/819.0M pixels processed: 100%|██████████| 10/10 [00:00<00:00, 44.39it/s]\n",
      "276.0M/819.0M pixels processed: 100%|██████████| 10/10 [00:00<00:00, 41.04it/s]\n",
      "281.0M/819.0M pixels processed: 100%|██████████| 10/10 [00:00<00:00, 42.82it/s]\n",
      "285.0M/819.0M pixels processed: 100%|██████████| 10/10 [00:00<00:00, 42.42it/s]\n",
      "289.0M/819.0M pixels processed: 100%|██████████| 10/10 [00:00<00:00, 41.36it/s]\n",
      "293.0M/819.0M pixels processed: 100%|██████████| 10/10 [00:00<00:00, 42.37it/s]\n",
      "297.0M/819.0M pixels processed: 100%|██████████| 10/10 [00:00<00:00, 44.34it/s]\n",
      "301.0M/819.0M pixels processed: 100%|██████████| 10/10 [00:00<00:00, 44.50it/s]\n",
      "306.0M/819.0M pixels processed: 100%|██████████| 10/10 [00:00<00:00, 25.95it/s]\n",
      "310.0M/819.0M pixels processed: 100%|██████████| 10/10 [00:00<00:00, 41.87it/s]\n",
      "314.0M/819.0M pixels processed: 100%|██████████| 10/10 [00:00<00:00, 43.58it/s]\n",
      "318.0M/819.0M pixels processed: 100%|██████████| 10/10 [00:00<00:00, 42.30it/s]\n",
      "322.0M/819.0M pixels processed: 100%|██████████| 10/10 [00:00<00:00, 42.68it/s]\n",
      "327.0M/819.0M pixels processed: 100%|██████████| 10/10 [00:00<00:00, 45.01it/s]\n",
      "331.0M/819.0M pixels processed: 100%|██████████| 10/10 [00:00<00:00, 45.11it/s]\n",
      "335.0M/819.0M pixels processed: 100%|██████████| 10/10 [00:00<00:00, 45.02it/s]\n",
      "339.0M/819.0M pixels processed: 100%|██████████| 10/10 [00:00<00:00, 43.91it/s]\n",
      "343.0M/819.0M pixels processed: 100%|██████████| 10/10 [00:00<00:00, 42.29it/s]\n",
      "348.0M/819.0M pixels processed: 100%|██████████| 10/10 [00:00<00:00, 42.60it/s]\n",
      "352.0M/819.0M pixels processed: 100%|██████████| 10/10 [00:00<00:00, 43.78it/s]\n",
      "356.0M/819.0M pixels processed: 100%|██████████| 10/10 [00:00<00:00, 44.80it/s]\n",
      "360.0M/819.0M pixels processed: 100%|██████████| 10/10 [00:00<00:00, 43.00it/s]\n",
      "364.0M/819.0M pixels processed: 100%|██████████| 10/10 [00:00<00:00, 42.30it/s]\n",
      "369.0M/819.0M pixels processed: 100%|██████████| 10/10 [00:00<00:00, 40.86it/s]\n",
      "373.0M/819.0M pixels processed: 100%|██████████| 10/10 [00:00<00:00, 42.85it/s]\n",
      "377.0M/819.0M pixels processed: 100%|██████████| 10/10 [00:00<00:00, 44.77it/s]\n",
      "381.0M/819.0M pixels processed: 100%|██████████| 10/10 [00:00<00:00, 41.94it/s]\n",
      "385.0M/819.0M pixels processed: 100%|██████████| 10/10 [00:00<00:00, 43.08it/s]\n",
      "390.0M/819.0M pixels processed: 100%|██████████| 10/10 [00:00<00:00, 40.92it/s]\n",
      "394.0M/819.0M pixels processed: 100%|██████████| 10/10 [00:00<00:00, 45.08it/s]\n",
      "398.0M/819.0M pixels processed: 100%|██████████| 10/10 [00:00<00:00, 45.53it/s]\n",
      "402.0M/819.0M pixels processed: 100%|██████████| 10/10 [00:00<00:00, 42.36it/s]\n",
      "406.0M/819.0M pixels processed: 100%|██████████| 10/10 [00:00<00:00, 40.85it/s]\n",
      "411.0M/819.0M pixels processed: 100%|██████████| 10/10 [00:00<00:00, 42.87it/s]\n",
      "415.0M/819.0M pixels processed: 100%|██████████| 10/10 [00:00<00:00, 41.84it/s]\n",
      "419.0M/819.0M pixels processed: 100%|██████████| 10/10 [00:00<00:00, 42.97it/s]\n",
      "423.0M/819.0M pixels processed: 100%|██████████| 10/10 [00:00<00:00, 41.56it/s]\n",
      "427.0M/819.0M pixels processed: 100%|██████████| 10/10 [00:00<00:00, 41.85it/s]\n",
      "432.0M/819.0M pixels processed: 100%|██████████| 10/10 [00:00<00:00, 44.59it/s]\n",
      "436.0M/819.0M pixels processed: 100%|██████████| 10/10 [00:00<00:00, 41.24it/s]\n",
      "440.0M/819.0M pixels processed: 100%|██████████| 10/10 [00:00<00:00, 43.61it/s]\n",
      "444.0M/819.0M pixels processed: 100%|██████████| 10/10 [00:00<00:00, 45.65it/s]\n",
      "448.0M/819.0M pixels processed: 100%|██████████| 10/10 [00:00<00:00, 44.04it/s]\n",
      "452.0M/819.0M pixels processed: 100%|██████████| 10/10 [00:00<00:00, 44.61it/s]\n",
      "457.0M/819.0M pixels processed: 100%|██████████| 10/10 [00:00<00:00, 42.98it/s]\n",
      "461.0M/819.0M pixels processed: 100%|██████████| 10/10 [00:00<00:00, 42.46it/s]\n",
      "465.0M/819.0M pixels processed: 100%|██████████| 10/10 [00:00<00:00, 46.07it/s]\n",
      "469.0M/819.0M pixels processed: 100%|██████████| 10/10 [00:00<00:00, 45.28it/s]\n",
      "473.0M/819.0M pixels processed: 100%|██████████| 10/10 [00:00<00:00, 44.98it/s]\n",
      "478.0M/819.0M pixels processed: 100%|██████████| 10/10 [00:00<00:00, 42.48it/s]\n",
      "482.0M/819.0M pixels processed: 100%|██████████| 10/10 [00:00<00:00, 43.01it/s]\n",
      "486.0M/819.0M pixels processed: 100%|██████████| 10/10 [00:00<00:00, 44.86it/s]\n",
      "490.0M/819.0M pixels processed: 100%|██████████| 10/10 [00:00<00:00, 46.74it/s]\n",
      "494.0M/819.0M pixels processed: 100%|██████████| 10/10 [00:00<00:00, 45.11it/s]\n",
      "499.0M/819.0M pixels processed: 100%|██████████| 10/10 [00:00<00:00, 44.96it/s]\n",
      "503.0M/819.0M pixels processed: 100%|██████████| 10/10 [00:00<00:00, 44.91it/s]\n",
      "507.0M/819.0M pixels processed: 100%|██████████| 10/10 [00:00<00:00, 46.50it/s]\n",
      "511.0M/819.0M pixels processed: 100%|██████████| 10/10 [00:00<00:00, 44.64it/s]\n",
      "515.0M/819.0M pixels processed: 100%|██████████| 10/10 [00:00<00:00, 41.38it/s]\n",
      "520.0M/819.0M pixels processed: 100%|██████████| 10/10 [00:00<00:00, 42.96it/s]\n",
      "524.0M/819.0M pixels processed: 100%|██████████| 10/10 [00:00<00:00, 43.29it/s]\n",
      "528.0M/819.0M pixels processed: 100%|██████████| 10/10 [00:00<00:00, 40.85it/s]\n",
      "532.0M/819.0M pixels processed: 100%|██████████| 10/10 [00:00<00:00, 39.19it/s]\n",
      "536.0M/819.0M pixels processed: 100%|██████████| 10/10 [00:00<00:00, 41.92it/s]\n",
      "541.0M/819.0M pixels processed: 100%|██████████| 10/10 [00:00<00:00, 42.61it/s]\n",
      "545.0M/819.0M pixels processed: 100%|██████████| 10/10 [00:00<00:00, 42.48it/s]\n",
      "549.0M/819.0M pixels processed: 100%|██████████| 10/10 [00:00<00:00, 42.32it/s]\n",
      "553.0M/819.0M pixels processed: 100%|██████████| 10/10 [00:00<00:00, 39.14it/s]\n",
      "557.0M/819.0M pixels processed: 100%|██████████| 10/10 [00:00<00:00, 39.41it/s]\n",
      "562.0M/819.0M pixels processed: 100%|██████████| 10/10 [00:00<00:00, 43.89it/s]\n",
      "566.0M/819.0M pixels processed: 100%|██████████| 10/10 [00:00<00:00, 43.55it/s]\n",
      "570.0M/819.0M pixels processed: 100%|██████████| 10/10 [00:00<00:00, 40.95it/s]\n",
      "574.0M/819.0M pixels processed: 100%|██████████| 10/10 [00:00<00:00, 42.10it/s]\n",
      "578.0M/819.0M pixels processed: 100%|██████████| 10/10 [00:00<00:00, 40.47it/s]\n",
      "583.0M/819.0M pixels processed: 100%|██████████| 10/10 [00:00<00:00, 42.21it/s]\n",
      "587.0M/819.0M pixels processed: 100%|██████████| 10/10 [00:00<00:00, 43.80it/s]\n",
      "591.0M/819.0M pixels processed: 100%|██████████| 10/10 [00:00<00:00, 41.75it/s]\n",
      "595.0M/819.0M pixels processed: 100%|██████████| 10/10 [00:00<00:00, 40.48it/s]\n",
      "599.0M/819.0M pixels processed: 100%|██████████| 10/10 [00:00<00:00, 41.41it/s]\n",
      "603.0M/819.0M pixels processed: 100%|██████████| 10/10 [00:00<00:00, 45.13it/s]\n",
      "608.0M/819.0M pixels processed: 100%|██████████| 10/10 [00:00<00:00, 45.48it/s]\n",
      "612.0M/819.0M pixels processed: 100%|██████████| 10/10 [00:00<00:00, 45.20it/s]\n",
      "616.0M/819.0M pixels processed: 100%|██████████| 10/10 [00:00<00:00, 45.73it/s]\n",
      "620.0M/819.0M pixels processed: 100%|██████████| 10/10 [00:00<00:00, 41.35it/s]\n",
      "624.0M/819.0M pixels processed: 100%|██████████| 10/10 [00:00<00:00, 39.68it/s]\n",
      "629.0M/819.0M pixels processed: 100%|██████████| 10/10 [00:00<00:00, 44.22it/s]\n",
      "633.0M/819.0M pixels processed: 100%|██████████| 10/10 [00:00<00:00, 43.74it/s]\n",
      "637.0M/819.0M pixels processed: 100%|██████████| 10/10 [00:00<00:00, 39.69it/s]\n",
      "641.0M/819.0M pixels processed: 100%|██████████| 10/10 [00:00<00:00, 41.07it/s]\n",
      "645.0M/819.0M pixels processed: 100%|██████████| 10/10 [00:00<00:00, 41.50it/s]\n",
      "650.0M/819.0M pixels processed: 100%|██████████| 10/10 [00:00<00:00, 44.76it/s]\n",
      "654.0M/819.0M pixels processed: 100%|██████████| 10/10 [00:00<00:00, 44.03it/s]\n",
      "658.0M/819.0M pixels processed: 100%|██████████| 10/10 [00:00<00:00, 42.40it/s]\n",
      "662.0M/819.0M pixels processed: 100%|██████████| 10/10 [00:00<00:00, 45.49it/s]\n",
      "666.0M/819.0M pixels processed: 100%|██████████| 10/10 [00:00<00:00, 44.54it/s]\n",
      "671.0M/819.0M pixels processed: 100%|██████████| 10/10 [00:00<00:00, 45.19it/s]\n",
      "675.0M/819.0M pixels processed: 100%|██████████| 10/10 [00:00<00:00, 42.21it/s]\n",
      "679.0M/819.0M pixels processed: 100%|██████████| 10/10 [00:00<00:00, 42.92it/s]\n",
      "683.0M/819.0M pixels processed: 100%|██████████| 10/10 [00:00<00:00, 42.84it/s]\n",
      "687.0M/819.0M pixels processed: 100%|██████████| 10/10 [00:00<00:00, 41.74it/s]\n",
      "692.0M/819.0M pixels processed: 100%|██████████| 10/10 [00:00<00:00, 45.67it/s]\n",
      "696.0M/819.0M pixels processed: 100%|██████████| 10/10 [00:00<00:00, 45.13it/s]\n",
      "700.0M/819.0M pixels processed: 100%|██████████| 10/10 [00:00<00:00, 43.37it/s]\n",
      "704.0M/819.0M pixels processed: 100%|██████████| 10/10 [00:00<00:00, 41.48it/s]\n",
      "708.0M/819.0M pixels processed: 100%|██████████| 10/10 [00:00<00:00, 43.72it/s]\n",
      "713.0M/819.0M pixels processed: 100%|██████████| 10/10 [00:00<00:00, 43.68it/s]\n",
      "717.0M/819.0M pixels processed: 100%|██████████| 10/10 [00:00<00:00, 44.80it/s]\n",
      "721.0M/819.0M pixels processed: 100%|██████████| 10/10 [00:00<00:00, 45.22it/s]\n",
      "725.0M/819.0M pixels processed: 100%|██████████| 10/10 [00:00<00:00, 45.09it/s]\n",
      "729.0M/819.0M pixels processed: 100%|██████████| 10/10 [00:00<00:00, 45.51it/s]\n",
      "734.0M/819.0M pixels processed: 100%|██████████| 10/10 [00:00<00:00, 41.74it/s]\n",
      "738.0M/819.0M pixels processed: 100%|██████████| 10/10 [00:00<00:00, 42.44it/s]\n",
      "742.0M/819.0M pixels processed: 100%|██████████| 10/10 [00:00<00:00, 41.04it/s]\n",
      "746.0M/819.0M pixels processed: 100%|██████████| 10/10 [00:00<00:00, 42.23it/s]\n",
      "750.0M/819.0M pixels processed: 100%|██████████| 10/10 [00:00<00:00, 41.59it/s]\n",
      "754.0M/819.0M pixels processed: 100%|██████████| 10/10 [00:00<00:00, 43.04it/s]\n",
      "759.0M/819.0M pixels processed: 100%|██████████| 10/10 [00:00<00:00, 42.10it/s]\n",
      "763.0M/819.0M pixels processed: 100%|██████████| 10/10 [00:00<00:00, 41.93it/s]\n",
      "767.0M/819.0M pixels processed: 100%|██████████| 10/10 [00:00<00:00, 43.95it/s]\n",
      "771.0M/819.0M pixels processed: 100%|██████████| 10/10 [00:00<00:00, 44.96it/s]\n",
      "775.0M/819.0M pixels processed: 100%|██████████| 10/10 [00:00<00:00, 41.44it/s]\n",
      "780.0M/819.0M pixels processed: 100%|██████████| 10/10 [00:00<00:00, 41.72it/s]\n",
      "784.0M/819.0M pixels processed: 100%|██████████| 10/10 [00:00<00:00, 39.36it/s]\n",
      "788.0M/819.0M pixels processed: 100%|██████████| 10/10 [00:00<00:00, 44.57it/s]\n",
      "792.0M/819.0M pixels processed: 100%|██████████| 10/10 [00:00<00:00, 42.63it/s]\n",
      "796.0M/819.0M pixels processed: 100%|██████████| 10/10 [00:00<00:00, 42.16it/s]\n",
      "801.0M/819.0M pixels processed: 100%|██████████| 10/10 [00:00<00:00, 43.40it/s]\n",
      "805.0M/819.0M pixels processed: 100%|██████████| 10/10 [00:00<00:00, 45.09it/s]\n",
      "809.0M/819.0M pixels processed: 100%|██████████| 10/10 [00:00<00:00, 41.78it/s]\n",
      "813.0M/819.0M pixels processed: 100%|██████████| 10/10 [00:00<00:00, 40.29it/s]\n",
      "817.0M/819.0M pixels processed: 100%|██████████| 10/10 [00:00<00:00, 43.45it/s]\n",
      "819.0M/819.0M pixels processed:  30%|███       | 3/10 [00:00<00:00, 31.07it/s]\n",
      "  2%|▏         | 195/10000 [00:45<38:18,  4.27it/s]\n"
     ]
    },
    {
     "name": "stdout",
     "output_type": "stream",
     "text": [
      "Random patching set to False\n"
     ]
    },
    {
     "data": {
      "image/png": "[encoded data removed]",
      "text/plain": [
       "<Figure size 640x480 with 1 Axes>"
      ]
     },
     "metadata": {},
     "output_type": "display_data"
    }
   ],
   "source": [
    "from model.normalizer import NormalizerXT\n",
    "from tqdm import tqdm \n",
    "import numpy as np\n",
    "import matplotlib.pyplot as plt\n",
    "from time_prediction_training import get_normalizer\n",
    "\n",
    "normalizer_count = None\n",
    "# val_set.set_random_patching(True)\n",
    "xt_normalizer = NormalizerXT()\n",
    "if 'normalize_channels' in opt['datasets'] and opt['datasets']['normalize_channels'] is True:\n",
    "    pass\n",
    "else:\n",
    "    if evaluate_test_data:\n",
    "        xt_normalizer,data_mean_arr, data_std_arr = get_normalizer(val_set, opt, return_data_arr=True, num_pixels=500_000 * 128 * 128)\n",
    "    else:\n",
    "        xt_normalizer,data_mean_arr, data_std_arr = get_normalizer(train_set, opt, return_data_arr=True)\n",
    "    # val_set.reset_fixed_t()\n",
    "    # val_loader = torch.utils.data.DataLoader(val_set, batch_size=16, shuffle=True, num_workers=0)\n",
    "    # data_mean_arr = []\n",
    "    # data_std_arr = []\n",
    "    # normalizer_count = 100_000\n",
    "    # cnt = 0\n",
    "    # for _ in tqdm(range(normalizer_count)):\n",
    "    #     bar = enumerate(val_loader)\n",
    "    #     for i, (x, t_float) in bar:\n",
    "    #         x = x.cuda()\n",
    "    #         t_float = t_float.cuda()\n",
    "    #         x = xt_normalizer.normalize(x,t_float, update=True)\n",
    "    #         cnt += 1\n",
    "    #         if cnt %10 == 0:\n",
    "    #             data_mean_arr.append(xt_normalizer.data_mean.cpu().numpy())\n",
    "    #             data_std_arr.append(xt_normalizer.data_std.cpu().numpy())\n",
    "\n",
    "    plt.plot(np.stack(data_mean_arr)[:,90])\n",
    "    del data_std_arr\n",
    "    del data_mean_arr\n",
    "    import gc; gc.collect()\n",
    "# val_set.set_random_patching(False)"
   ]
  },
  {
   "cell_type": "code",
   "execution_count": 8,
   "metadata": {},
   "outputs": [
    {
     "name": "stderr",
     "output_type": "stream",
     "text": [
      "  0%|          | 0/11 [00:00<?, ?it/s]"
     ]
    },
    {
     "name": "stderr",
     "output_type": "stream",
     "text": [
      "100%|██████████| 11/11 [00:26<00:00,  2.40s/it]\n"
     ]
    }
   ],
   "source": [
    "from tqdm import tqdm\n",
    "import numpy as np\n",
    "\n",
    "num_timesteps = 10\n",
    "gt = np.arange(0,1.0001,1/num_timesteps)\n",
    "mmse_count = 1\n",
    "\n",
    "pred_arr = []\n",
    "inp_arr = []\n",
    "\n",
    "with torch.no_grad():\n",
    "    for mixing_t in tqdm(gt):\n",
    "        val_set.set_fixed_t(mixing_t)\n",
    "        dloader = torch.utils.data.DataLoader(\n",
    "                    val_set,\n",
    "                    batch_size=16,\n",
    "                    shuffle=False,\n",
    "                    num_workers=2,\n",
    "                    pin_memory=True)\n",
    "        for data in dloader:\n",
    "            inp, t_float = data\n",
    "            assert torch.std(t_float) < 1e-6, f'{t_float}'\n",
    "            assert t_float[0] == mixing_t, f'{t_float} != {mixing_t}'\n",
    "            inp = inp.cuda()\n",
    "            t_float = t_float.cuda()\n",
    "            # if xt_normalizer is dummy then nothing will happen with the following operation.\n",
    "            inp = xt_normalizer.normalize(inp, t_float)\n",
    "            inp_arr.append(inp.cpu().numpy())\n",
    "            tmp_pred_arr = []\n",
    "            for _ in range(mmse_count):\n",
    "                with torch.no_grad():\n",
    "                    pred = model(inp.cuda())\n",
    "                    tmp_pred_arr.append(pred.cpu().numpy())\n",
    "            pred_arr.append(np.median(np.stack(tmp_pred_arr),axis=0))\n",
    "    \n",
    "    all_pred = np.concatenate(pred_arr).reshape(len(gt),-1)\n",
    "    inp_arr = np.concatenate(inp_arr,axis=0)\n"
   ]
  },
  {
   "cell_type": "code",
   "execution_count": 9,
   "metadata": {},
   "outputs": [
    {
     "name": "stdout",
     "output_type": "stream",
     "text": [
      "[0.03916521 0.07562713 0.15814672 0.3519557  0.39214402 0.5586263\n",
      " 0.65354127 0.78642046 0.85321486 0.8677944  0.90788794]\n",
      "[0.03415266 0.06912386 0.14868668 0.3403841  0.37167513 0.5291853\n",
      " 0.6234377  0.7808541  0.8426951  0.90961283 0.93095344]\n"
     ]
    }
   ],
   "source": [
    "print(np.mean(all_pred, axis=1))\n",
    "print(np.median(all_pred, axis=1))"
   ]
  },
  {
   "cell_type": "code",
   "execution_count": 10,
   "metadata": {},
   "outputs": [],
   "source": [
    "all_pred = np.concatenate(pred_arr).reshape(len(gt),-1)\n",
    "inp_arr = np.concatenate(inp_arr,axis=0)\n"
   ]
  },
  {
   "cell_type": "code",
   "execution_count": 11,
   "metadata": {},
   "outputs": [
    {
     "name": "stderr",
     "output_type": "stream",
     "text": [
      "/tmp/ipykernel_41694/357851366.py:8: UserWarning: color is redundantly defined by the 'color' keyword argument and the fmt string \"k--\" (-> color='k'). The keyword argument will take precedence.\n",
      "  ax.plot(gt,gt, 'k--', color='black')\n"
     ]
    },
    {
     "data": {
      "image/png": "[encoded data removed]",
      "text/plain": [
       "<Figure size 640x480 with 1 Axes>"
      ]
     },
     "metadata": {},
     "output_type": "display_data"
    }
   ],
   "source": [
    "import matplotlib.pyplot as plt\n",
    "\n",
    "err = all_pred.std(axis=1)\n",
    "avg_pred = all_pred.mean(axis=1)\n",
    "_,ax  = plt.subplots()\n",
    "# plot with error bars\n",
    "ax.errorbar(gt, avg_pred, yerr=err, fmt='o')\n",
    "ax.plot(gt,gt, 'k--', color='black')\n",
    "ax.set_xlabel('Ground Truth t', fontsize=15)\n",
    "ax.set_ylabel('Predicted t', fontsize=15)\n",
    "# facecolor to gray\n",
    "ax.set_facecolor('lightgray')\n",
    "ax.grid()"
   ]
  },
  {
   "cell_type": "code",
   "execution_count": 12,
   "metadata": {},
   "outputs": [
    {
     "name": "stdout",
     "output_type": "stream",
     "text": [
      "Hagen Test NormCount:None RMSE: 0.1120392996876266\n"
     ]
    }
   ],
   "source": [
    "mse = ((all_pred - gt.reshape(-1,1))**2).mean(axis=1)\n",
    "dataset_str = opt['datasets']['train']['name']\n",
    "dataset_str += ' Test' if evaluate_test_data else ' Val'\n",
    "print(f'{dataset_str} NormCount:{normalizer_count} RMSE: {np.sqrt(mse.mean())}')"
   ]
  },
  {
   "cell_type": "code",
   "execution_count": 13,
   "metadata": {},
   "outputs": [
    {
     "name": "stdout",
     "output_type": "stream",
     "text": [
      "Hagen Test NormCount:None RMSE wrt Aggregated (mean) prediction: 0.054578234740211305\n",
      "Hagen Test NormCount:None RMSE wrt Aggregated (median) prediction: 0.04452493735453707\n"
     ]
    }
   ],
   "source": [
    "mse_mean = ((np.mean(all_pred, axis=1) - gt)**2).mean()\n",
    "mse_median = ((np.median(all_pred, axis=1) - gt)**2).mean()\n",
    "print(f'{dataset_str} NormCount:{normalizer_count} RMSE wrt Aggregated (mean) prediction: {np.sqrt(mse_mean)}')\n",
    "print(f'{dataset_str} NormCount:{normalizer_count} RMSE wrt Aggregated (median) prediction: {np.sqrt(mse_median)}')"
   ]
  },
  {
   "cell_type": "code",
   "execution_count": 14,
   "metadata": {},
   "outputs": [
    {
     "name": "stdout",
     "output_type": "stream",
     "text": [
      "(11,) (11,) (11,) (11,)\n",
      "/group/jug/ashesh/indiSplitResults/time_prediction/time_prediction_diffsplit_2502_Hagen-UnetClassifier-l2_11_ClassicNormalization-False.npy\n"
     ]
    }
   ],
   "source": [
    "outputdir = '/group/jug/ashesh/indiSplitResults/time_prediction'\n",
    "os.makedirs(outputdir, exist_ok=True)\n",
    "ckpt_str = '_'.join(ckpt.split('/')[-4:])\n",
    "fname = f'time_prediction_{ckpt_str}_ClassicNormalization-{normalize_channels}.npy'\n",
    "fpath = os.path.join(outputdir, fname)\n",
    "print(gt.shape, avg_pred.shape, err.shape, mse.shape)\n",
    "print(fpath)\n",
    "np.save(fpath, {'gt':gt, 'avg_pred':avg_pred, 'err_pred':err, 'mse':mse})"
   ]
  },
  {
   "cell_type": "code",
   "execution_count": 68,
   "metadata": {},
   "outputs": [
    {
     "data": {
      "text/plain": [
       "(tensor([214.3438, 353.4065], device='cuda:0'),\n",
       " tensor([167.2630, 237.6893], device='cuda:0'))"
      ]
     },
     "execution_count": 68,
     "metadata": {},
     "output_type": "execute_result"
    }
   ],
   "source": [
    "xt_normalizer.data_mean[[0,-1]], xt_normalizer.data_std[[0,-1]]"
   ]
  }
 ],
 "metadata": {
  "kernelspec": {
   "display_name": "Python 3",
   "language": "python",
   "name": "python3"
  },
  "language_info": {
   "codemirror_mode": {
    "name": "ipython",
    "version": 3
   },
   "file_extension": ".py",
   "mimetype": "text/x-python",
   "name": "python",
   "nbconvert_exporter": "python",
   "pygments_lexer": "ipython3",
   "version": "3.9.19"
  }
 },
 "nbformat": 4,
 "nbformat_minor": 2
}
