{
 "cells": [
  {
   "cell_type": "code",
   "execution_count": 1,
   "metadata": {},
   "outputs": [],
   "source": [
    "import sys\n",
    "sys.path.append('..')"
   ]
  },
  {
   "cell_type": "code",
   "execution_count": 2,
   "metadata": {},
   "outputs": [],
   "source": [
    "# ckpt = '2501/COSEM_jrc-hela-UnetClassifier-l2/3/'\n",
    "# ckpt = '2501/COSEM_jrc-hela-UnetClassifier-l2/6'\n",
    "# ckpt = '2502/HT_LIF24-UnetClassifier-l2/3'\n",
    "# ckpt = '/group/jug/ashesh/training/diffsplit/2502/BioSR-UnetClassifier-l2/4/'\n",
    "ckpt = '/group/jug/ashesh/training/diffsplit/2502/HT_T24-UnetClassifier-l2/2'\n",
    "evaluate_test_data = True\n",
    "# num_timesteps_normalization = 100_000\n",
    "# if normalize_channels is None, we use the setting (True/False) present in the trained model.\n",
    "# if normalize_channels is True, then we normalize the channels in the dataset and xt_normalizer, defined below is dummy\n",
    "# if normalize_channels is False, then we do not normalize the channels in the dataset and xt_normalizer, defined below normalizes the individual channels.\n",
    "normalize_channels = None\n",
    "assert normalize_channels in [None, True, False]\n",
    "training_rootdir = '/group/jug/ashesh/training/diffsplit/'"
   ]
  },
  {
   "cell_type": "code",
   "execution_count": 3,
   "metadata": {},
   "outputs": [],
   "source": [
    "import yaml\n",
    "import os\n",
    "import glob\n",
    "import torch\n",
    "\n",
    "def model_checkpoint_fpath(ckpt, fname=None):\n",
    "    ckpt_dir = os.path.join(training_rootdir, ckpt, 'checkpoint')\n",
    "    if fname is not None:\n",
    "        return os.path.join(training_rootdir, ckpt, fname)\n",
    "    else:\n",
    "        list_of_files = glob.glob(ckpt_dir +'/*_gen.pth') # * means all if need specific format then *.csv\n",
    "        latest_file = max(list_of_files, key=os.path.getctime)\n",
    "        fname = latest_file\n",
    "        return os.path.join(ckpt_dir,latest_file)\n",
    "\n",
    "def model_checkpoint_fpath_prefix(ckpt, fname=None):\n",
    "    fpath = model_checkpoint_fpath(ckpt, fname)\n",
    "    suffix = '_gen.pth'\n",
    "    assert fpath.endswith(suffix)\n",
    "    return fpath[:-len(suffix)]\n",
    "\n",
    "def load_config(ckpt):\n",
    "    config_path = os.path.join(training_rootdir,ckpt,'wandb/latest-run/files/config.yaml')\n",
    "\n",
    "    with open(config_path) as stream:\n",
    "        try:\n",
    "            opt = yaml.safe_load(stream)\n",
    "        except yaml.YAMLError as exc:\n",
    "            print(exc)\n",
    "    \n",
    "    keys = [\"name\",\"phase\",\"gpu_ids\",\"path\",\"datasets\",\"model\",\"train\"]\n",
    "    return {k: opt[k]['value'] for k in keys}"
   ]
  },
  {
   "cell_type": "code",
   "execution_count": 4,
   "metadata": {},
   "outputs": [],
   "source": [
    "from model.ddpm_modules.time_predictor import TimePredictor\n",
    "from time_prediction_training import get_datasets\n",
    "import os\n",
    "\n",
    "classifier_ckpt = os.path.join(training_rootdir, ckpt)\n",
    "\n",
    "opt = load_config(classifier_ckpt)\n",
    "# loading dataset.\n",
    "if evaluate_test_data:\n",
    "    if opt['datasets']['train']['name'] == 'Hagen':\n",
    "        opt['datasets']['val']['datapath'] = {\n",
    "        'ch0': '/group/jug/ashesh/data/diffsplit_hagen/test/test_actin-60x-noise2-highsnr.tif',\n",
    "        'ch1': '/group/jug/ashesh/data/diffsplit_hagen/test/test_mito-60x-noise2-highsnr.tif'\n",
    "        }\n",
    "    elif opt['datasets']['train']['name'] in ['COSEM_jrc-hela', 'BioSR', 'HT_LIF24','HT_T24']:\n",
    "        opt['datasets']['val']['datapath'] = opt['datasets']['val']['datapath'].replace('/val', '/test')\n",
    "    else:\n",
    "        raise NotImplementedError(f'{opt[\"datasets\"][\"train\"][\"name\"]} not implemented')\n",
    "\n",
    "if 'patch_size' not in opt['datasets']:\n",
    "    opt['datasets']['patch_size']  = opt['datasets']['train']['patch_size']\n",
    "\n",
    "if 'max_qval' not in opt['datasets']:\n",
    "    opt['datasets']['max_qval']  = 0.98\n",
    "\n",
    "if 'uncorrelated_channels' not in opt['datasets']['train']:\n",
    "    opt['datasets']['train']['uncorrelated_channels']  = False\n",
    "\n",
    "if normalize_channels is not None:\n",
    "    print(f'Overriding normalize_channels with {normalize_channels}')\n",
    "    opt['datasets']['normalize_channels'] = normalize_channels"
   ]
  },
  {
   "cell_type": "code",
   "execution_count": 5,
   "metadata": {},
   "outputs": [
    {
     "name": "stdout",
     "output_type": "stream",
     "text": [
      "TimePredictor\n"
     ]
    },
    {
     "data": {
      "text/plain": [
       "<All keys matched successfully>"
      ]
     },
     "execution_count": 5,
     "metadata": {},
     "output_type": "execute_result"
    }
   ],
   "source": [
    "model_opt = opt['model']\n",
    "model_kwargs = {}\n",
    "model_kwargs['scale_augmentation'] = model_opt.get('scale_augmentation', False)\n",
    "    \n",
    "if model_kwargs['scale_augmentation']:\n",
    "    model_kwargs['scale_augmentation_delta'] = model_opt['scale_augmentation_delta']\n",
    "\n",
    "model = TimePredictor(\n",
    "    in_channel=model_opt['unet']['in_channel'],\n",
    "    out_channel=model_opt['unet']['out_channel'],\n",
    "    norm_groups=model_opt['unet']['norm_groups'],\n",
    "    inner_channel=model_opt['unet']['inner_channel'],\n",
    "    channel_mults=model_opt['unet']['channel_multiplier'],\n",
    "    attn_res=model_opt['unet']['attn_res'],\n",
    "    res_blocks=model_opt['unet']['res_blocks'],\n",
    "    dropout=model_opt['unet']['dropout'],\n",
    "    image_size=opt['datasets']['patch_size'],\n",
    "    **model_kwargs\n",
    "    )\n",
    "model = model.cuda()\n",
    "model.load_state_dict(torch.load(os.path.join(classifier_ckpt,'best_time_predictor.pth')), strict=True)\n",
    "\n",
    "# data\n"
   ]
  },
  {
   "cell_type": "code",
   "execution_count": 6,
   "metadata": {},
   "outputs": [
    {
     "name": "stdout",
     "output_type": "stream",
     "text": [
      "Loading data from /group/jug/ashesh/data/diffsplit_HT_T24/train/train.tif\n",
      "Warning: Removing key: 2\n",
      "Computing mean and std for normalization\n",
      "[TimePredictorDataset] Data: 292x2x(1608, 1608) Patch:512 Random:1 Aug:True Q:1.0 UpperClip:0Uncor:False ChW:[1.0, 1.0]\n",
      "Adding Gaussian noise with std factor:  0.05\n",
      "Loading data from /group/jug/ashesh/data/diffsplit_HT_T24/test/test.tif\n",
      "Warning: Removing key: 2\n",
      "[TimePredictorDataset] Data: 36x2x(1608, 1608) Patch:512 Random:0 Aug:False Q:1.0 UpperClip:0Uncor:False ChW:[1.0, 1.0]\n"
     ]
    }
   ],
   "source": [
    "train_set, val_set = get_datasets(opt, tiled_pred=False)"
   ]
  },
  {
   "cell_type": "code",
   "execution_count": 7,
   "metadata": {},
   "outputs": [
    {
     "name": "stdout",
     "output_type": "stream",
     "text": [
      "Random patching set to True\n"
     ]
    },
    {
     "name": "stderr",
     "output_type": "stream",
     "text": [
      "8.0M/819.0M pixels processed: 100%|██████████| 21/21 [00:00<00:00, 38.98it/s]\n",
      "16.0M/819.0M pixels processed: 100%|██████████| 21/21 [00:00<00:00, 38.11it/s]\n",
      "25.0M/819.0M pixels processed: 100%|██████████| 21/21 [00:00<00:00, 39.84it/s]\n",
      "33.0M/819.0M pixels processed: 100%|██████████| 21/21 [00:00<00:00, 39.37it/s]\n",
      "42.0M/819.0M pixels processed: 100%|██████████| 21/21 [00:00<00:00, 38.55it/s]\n",
      "50.0M/819.0M pixels processed: 100%|██████████| 21/21 [00:00<00:00, 39.35it/s]\n",
      "59.0M/819.0M pixels processed: 100%|██████████| 21/21 [00:00<00:00, 41.48it/s]\n",
      "67.0M/819.0M pixels processed: 100%|██████████| 21/21 [00:00<00:00, 38.32it/s]\n",
      "76.0M/819.0M pixels processed: 100%|██████████| 21/21 [00:00<00:00, 39.01it/s]\n",
      "84.0M/819.0M pixels processed: 100%|██████████| 21/21 [00:00<00:00, 38.89it/s]\n",
      "93.0M/819.0M pixels processed: 100%|██████████| 21/21 [00:00<00:00, 39.95it/s]\n",
      "101.0M/819.0M pixels processed: 100%|██████████| 21/21 [00:00<00:00, 39.09it/s]\n",
      "110.0M/819.0M pixels processed: 100%|██████████| 21/21 [00:00<00:00, 41.01it/s]\n",
      "118.0M/819.0M pixels processed: 100%|██████████| 21/21 [00:00<00:00, 37.50it/s]\n",
      "127.0M/819.0M pixels processed: 100%|██████████| 21/21 [00:00<00:00, 40.76it/s]\n",
      "135.0M/819.0M pixels processed: 100%|██████████| 21/21 [00:00<00:00, 39.92it/s]\n",
      "144.0M/819.0M pixels processed: 100%|██████████| 21/21 [00:00<00:00, 38.90it/s]\n",
      "152.0M/819.0M pixels processed: 100%|██████████| 21/21 [00:00<00:00, 39.02it/s]\n",
      "161.0M/819.0M pixels processed: 100%|██████████| 21/21 [00:00<00:00, 37.39it/s]\n",
      "169.0M/819.0M pixels processed: 100%|██████████| 21/21 [00:00<00:00, 41.41it/s]\n",
      "178.0M/819.0M pixels processed: 100%|██████████| 21/21 [00:00<00:00, 42.13it/s]\n",
      "186.0M/819.0M pixels processed: 100%|██████████| 21/21 [00:00<00:00, 39.71it/s]\n",
      "195.0M/819.0M pixels processed: 100%|██████████| 21/21 [00:00<00:00, 38.22it/s]\n",
      "203.0M/819.0M pixels processed: 100%|██████████| 21/21 [00:00<00:00, 37.85it/s]\n",
      "212.0M/819.0M pixels processed: 100%|██████████| 21/21 [00:00<00:00, 35.06it/s]\n",
      "220.0M/819.0M pixels processed: 100%|██████████| 21/21 [00:00<00:00, 41.13it/s]\n",
      "229.0M/819.0M pixels processed: 100%|██████████| 21/21 [00:00<00:00, 41.64it/s]\n",
      "237.0M/819.0M pixels processed: 100%|██████████| 21/21 [00:00<00:00, 37.77it/s]\n",
      "246.0M/819.0M pixels processed: 100%|██████████| 21/21 [00:00<00:00, 38.75it/s]\n",
      "254.0M/819.0M pixels processed: 100%|██████████| 21/21 [00:00<00:00, 37.73it/s]\n",
      "263.0M/819.0M pixels processed: 100%|██████████| 21/21 [00:00<00:00, 40.72it/s]\n",
      "271.0M/819.0M pixels processed: 100%|██████████| 21/21 [00:00<00:00, 41.32it/s]\n",
      "280.0M/819.0M pixels processed: 100%|██████████| 21/21 [00:00<00:00, 38.98it/s]\n",
      "288.0M/819.0M pixels processed: 100%|██████████| 21/21 [00:00<00:00, 39.64it/s]\n",
      "297.0M/819.0M pixels processed: 100%|██████████| 21/21 [00:00<00:00, 40.72it/s]\n",
      "305.0M/819.0M pixels processed: 100%|██████████| 21/21 [00:00<00:00, 38.83it/s]\n",
      "314.0M/819.0M pixels processed: 100%|██████████| 21/21 [00:00<00:00, 38.86it/s]\n",
      "322.0M/819.0M pixels processed: 100%|██████████| 21/21 [00:00<00:00, 41.98it/s]\n",
      "331.0M/819.0M pixels processed: 100%|██████████| 21/21 [00:00<00:00, 39.50it/s]\n",
      "339.0M/819.0M pixels processed: 100%|██████████| 21/21 [00:00<00:00, 37.46it/s]\n",
      "348.0M/819.0M pixels processed: 100%|██████████| 21/21 [00:00<00:00, 41.21it/s]\n",
      "356.0M/819.0M pixels processed: 100%|██████████| 21/21 [00:00<00:00, 38.17it/s]\n",
      "365.0M/819.0M pixels processed: 100%|██████████| 21/21 [00:00<00:00, 40.31it/s]\n",
      "373.0M/819.0M pixels processed: 100%|██████████| 21/21 [00:00<00:00, 39.31it/s]\n",
      "382.0M/819.0M pixels processed: 100%|██████████| 21/21 [00:00<00:00, 38.71it/s]\n",
      "390.0M/819.0M pixels processed: 100%|██████████| 21/21 [00:00<00:00, 38.59it/s]\n",
      "399.0M/819.0M pixels processed: 100%|██████████| 21/21 [00:00<00:00, 40.82it/s]\n",
      "407.0M/819.0M pixels processed: 100%|██████████| 21/21 [00:00<00:00, 37.58it/s]\n",
      "416.0M/819.0M pixels processed: 100%|██████████| 21/21 [00:00<00:00, 40.17it/s]\n",
      "424.0M/819.0M pixels processed: 100%|██████████| 21/21 [00:00<00:00, 40.02it/s]\n",
      "433.0M/819.0M pixels processed: 100%|██████████| 21/21 [00:00<00:00, 39.47it/s]\n",
      "441.0M/819.0M pixels processed: 100%|██████████| 21/21 [00:00<00:00, 36.07it/s]\n",
      "450.0M/819.0M pixels processed: 100%|██████████| 21/21 [00:00<00:00, 37.08it/s]\n",
      "458.0M/819.0M pixels processed: 100%|██████████| 21/21 [00:00<00:00, 42.25it/s]\n",
      "467.0M/819.0M pixels processed: 100%|██████████| 21/21 [00:00<00:00, 37.46it/s]\n",
      "475.0M/819.0M pixels processed: 100%|██████████| 21/21 [00:00<00:00, 38.66it/s]\n",
      "484.0M/819.0M pixels processed: 100%|██████████| 21/21 [00:00<00:00, 40.67it/s]\n",
      "492.0M/819.0M pixels processed: 100%|██████████| 21/21 [00:00<00:00, 41.96it/s]\n",
      "501.0M/819.0M pixels processed: 100%|██████████| 21/21 [00:00<00:00, 38.63it/s]\n",
      "509.0M/819.0M pixels processed: 100%|██████████| 21/21 [00:00<00:00, 38.46it/s]\n",
      "518.0M/819.0M pixels processed: 100%|██████████| 21/21 [00:00<00:00, 38.63it/s]\n",
      "526.0M/819.0M pixels processed: 100%|██████████| 21/21 [00:00<00:00, 39.83it/s]\n",
      "535.0M/819.0M pixels processed: 100%|██████████| 21/21 [00:00<00:00, 36.67it/s]\n",
      "543.0M/819.0M pixels processed: 100%|██████████| 21/21 [00:00<00:00, 37.41it/s]\n",
      "552.0M/819.0M pixels processed: 100%|██████████| 21/21 [00:00<00:00, 36.57it/s]\n",
      "560.0M/819.0M pixels processed: 100%|██████████| 21/21 [00:00<00:00, 39.43it/s]\n",
      "569.0M/819.0M pixels processed: 100%|██████████| 21/21 [00:00<00:00, 37.17it/s]\n",
      "577.0M/819.0M pixels processed: 100%|██████████| 21/21 [00:00<00:00, 36.47it/s]\n",
      "586.0M/819.0M pixels processed: 100%|██████████| 21/21 [00:00<00:00, 39.17it/s]\n",
      "594.0M/819.0M pixels processed: 100%|██████████| 21/21 [00:00<00:00, 41.92it/s]\n",
      "603.0M/819.0M pixels processed: 100%|██████████| 21/21 [00:00<00:00, 40.03it/s]\n",
      "611.0M/819.0M pixels processed: 100%|██████████| 21/21 [00:00<00:00, 38.02it/s]\n",
      "620.0M/819.0M pixels processed: 100%|██████████| 21/21 [00:00<00:00, 39.42it/s]\n",
      "628.0M/819.0M pixels processed: 100%|██████████| 21/21 [00:00<00:00, 38.60it/s]\n",
      "637.0M/819.0M pixels processed: 100%|██████████| 21/21 [00:00<00:00, 40.09it/s]\n",
      "645.0M/819.0M pixels processed: 100%|██████████| 21/21 [00:00<00:00, 38.67it/s]\n",
      "653.0M/819.0M pixels processed: 100%|██████████| 21/21 [00:00<00:00, 42.01it/s]\n",
      "662.0M/819.0M pixels processed: 100%|██████████| 21/21 [00:00<00:00, 40.49it/s]\n",
      "670.0M/819.0M pixels processed: 100%|██████████| 21/21 [00:00<00:00, 40.87it/s]\n",
      "679.0M/819.0M pixels processed: 100%|██████████| 21/21 [00:00<00:00, 38.61it/s]\n",
      "687.0M/819.0M pixels processed: 100%|██████████| 21/21 [00:00<00:00, 40.73it/s]\n",
      "696.0M/819.0M pixels processed: 100%|██████████| 21/21 [00:00<00:00, 39.26it/s]\n",
      "704.0M/819.0M pixels processed: 100%|██████████| 21/21 [00:00<00:00, 42.77it/s]\n",
      "713.0M/819.0M pixels processed: 100%|██████████| 21/21 [00:00<00:00, 39.64it/s]\n",
      "721.0M/819.0M pixels processed: 100%|██████████| 21/21 [00:00<00:00, 39.98it/s]\n",
      "730.0M/819.0M pixels processed: 100%|██████████| 21/21 [00:00<00:00, 39.98it/s]\n",
      "738.0M/819.0M pixels processed: 100%|██████████| 21/21 [00:00<00:00, 39.96it/s]\n",
      "747.0M/819.0M pixels processed: 100%|██████████| 21/21 [00:00<00:00, 38.99it/s]\n",
      "755.0M/819.0M pixels processed: 100%|██████████| 21/21 [00:00<00:00, 38.83it/s]\n",
      "764.0M/819.0M pixels processed: 100%|██████████| 21/21 [00:00<00:00, 40.02it/s]\n",
      "772.0M/819.0M pixels processed: 100%|██████████| 21/21 [00:00<00:00, 41.27it/s]\n",
      "781.0M/819.0M pixels processed: 100%|██████████| 21/21 [00:00<00:00, 38.69it/s]\n",
      "789.0M/819.0M pixels processed: 100%|██████████| 21/21 [00:00<00:00, 39.95it/s]\n",
      "798.0M/819.0M pixels processed: 100%|██████████| 21/21 [00:00<00:00, 39.85it/s]\n",
      "806.0M/819.0M pixels processed: 100%|██████████| 21/21 [00:00<00:00, 38.08it/s]\n",
      "815.0M/819.0M pixels processed: 100%|██████████| 21/21 [00:00<00:00, 38.25it/s]\n",
      "819.0M/819.0M pixels processed:  43%|████▎     | 9/21 [00:00<00:00, 33.66it/s]\n",
      "  1%|          | 96/10000 [00:51<1:29:05,  1.85it/s]\n"
     ]
    },
    {
     "name": "stdout",
     "output_type": "stream",
     "text": [
      "Random patching set to False\n"
     ]
    },
    {
     "data": {
      "image/png": "[encoded data removed]",
      "text/plain": [
       "<Figure size 640x480 with 1 Axes>"
      ]
     },
     "metadata": {},
     "output_type": "display_data"
    }
   ],
   "source": [
    "from model.normalizer import NormalizerXT\n",
    "from tqdm import tqdm \n",
    "import numpy as np\n",
    "import matplotlib.pyplot as plt\n",
    "from time_prediction_training import get_normalizer\n",
    "\n",
    "normalizer_count = None\n",
    "# val_set.set_random_patching(True)\n",
    "xt_normalizer = NormalizerXT()\n",
    "if 'normalize_channels' in opt['datasets'] and opt['datasets']['normalize_channels'] is True:\n",
    "    pass\n",
    "else:\n",
    "    if evaluate_test_data:\n",
    "        xt_normalizer,data_mean_arr, data_std_arr = get_normalizer(val_set, opt, return_data_arr=True, num_pixels=500_000 * 128 * 128)\n",
    "    else:\n",
    "        xt_normalizer,data_mean_arr, data_std_arr = get_normalizer(train_set, opt, return_data_arr=True)\n",
    "    # val_set.reset_fixed_t()\n",
    "    # val_loader = torch.utils.data.DataLoader(val_set, batch_size=16, shuffle=True, num_workers=0)\n",
    "    # data_mean_arr = []\n",
    "    # data_std_arr = []\n",
    "    # normalizer_count = 100_000\n",
    "    # cnt = 0\n",
    "    # for _ in tqdm(range(normalizer_count)):\n",
    "    #     bar = enumerate(val_loader)\n",
    "    #     for i, (x, t_float) in bar:\n",
    "    #         x = x.cuda()\n",
    "    #         t_float = t_float.cuda()\n",
    "    #         x = xt_normalizer.normalize(x,t_float, update=True)\n",
    "    #         cnt += 1\n",
    "    #         if cnt %10 == 0:\n",
    "    #             data_mean_arr.append(xt_normalizer.data_mean.cpu().numpy())\n",
    "    #             data_std_arr.append(xt_normalizer.data_std.cpu().numpy())\n",
    "\n",
    "    plt.plot(np.stack(data_mean_arr)[:,90])\n",
    "# val_set.set_random_patching(False)"
   ]
  },
  {
   "cell_type": "code",
   "execution_count": 8,
   "metadata": {},
   "outputs": [
    {
     "data": {
      "text/plain": [
       "3471"
      ]
     },
     "execution_count": 8,
     "metadata": {},
     "output_type": "execute_result"
    }
   ],
   "source": [
    "del data_std_arr\n",
    "del data_mean_arr\n",
    "import gc; gc.collect()"
   ]
  },
  {
   "cell_type": "code",
   "execution_count": 9,
   "metadata": {},
   "outputs": [
    {
     "name": "stderr",
     "output_type": "stream",
     "text": [
      "  0%|          | 0/10 [00:00<?, ?it/s]"
     ]
    },
    {
     "name": "stderr",
     "output_type": "stream",
     "text": [
      "100%|██████████| 10/10 [00:45<00:00,  4.54s/it]\n"
     ]
    }
   ],
   "source": [
    "from tqdm import tqdm\n",
    "import numpy as np\n",
    "\n",
    "num_timesteps = 10\n",
    "gt = np.arange(0,1.0,1/num_timesteps)\n",
    "mmse_count = 1\n",
    "\n",
    "pred_arr = []\n",
    "inp_arr = []\n",
    "\n",
    "with torch.no_grad():\n",
    "    for mixing_t in tqdm(gt):\n",
    "        val_set.set_fixed_t(mixing_t)\n",
    "        dloader = torch.utils.data.DataLoader(\n",
    "                    val_set,\n",
    "                    batch_size=16,\n",
    "                    shuffle=False,\n",
    "                    num_workers=2,\n",
    "                    pin_memory=True)\n",
    "        for data in dloader:\n",
    "            inp, t_float = data\n",
    "            assert torch.std(t_float) < 1e-6, f'{t_float}'\n",
    "            assert t_float[0] == mixing_t, f'{t_float} != {mixing_t}'\n",
    "            inp = inp.cuda()\n",
    "            t_float = t_float.cuda()\n",
    "            # if xt_normalizer is dummy then nothing will happen with the following operation.\n",
    "            inp = xt_normalizer.normalize(inp, t_float)\n",
    "            inp_arr.append(inp.cpu().numpy())\n",
    "            tmp_pred_arr = []\n",
    "            for _ in range(mmse_count):\n",
    "                with torch.no_grad():\n",
    "                    pred = model(inp.cuda())\n",
    "                    tmp_pred_arr.append(pred.cpu().numpy())\n",
    "            pred_arr.append(np.median(np.stack(tmp_pred_arr),axis=0))\n",
    "    \n",
    "    all_pred = np.concatenate(pred_arr).reshape(len(gt),-1)\n",
    "    inp_arr = np.concatenate(inp_arr,axis=0)\n"
   ]
  },
  {
   "cell_type": "code",
   "execution_count": 10,
   "metadata": {},
   "outputs": [
    {
     "name": "stdout",
     "output_type": "stream",
     "text": [
      "[0.13556579 0.1498796  0.24969268 0.3579579  0.45155594 0.5315321\n",
      " 0.6056519  0.6864735  0.7727119  0.8613351 ]\n",
      "[0.10508608 0.12118495 0.24097788 0.35102373 0.45191297 0.5329963\n",
      " 0.6131903  0.6967735  0.7893499  0.88545454]\n"
     ]
    }
   ],
   "source": [
    "print(np.mean(all_pred, axis=1))\n",
    "print(np.median(all_pred, axis=1))"
   ]
  },
  {
   "cell_type": "code",
   "execution_count": 11,
   "metadata": {},
   "outputs": [],
   "source": [
    "all_pred = np.concatenate(pred_arr).reshape(len(gt),-1)\n",
    "inp_arr = np.concatenate(inp_arr,axis=0)\n"
   ]
  },
  {
   "cell_type": "code",
   "execution_count": 12,
   "metadata": {},
   "outputs": [
    {
     "name": "stderr",
     "output_type": "stream",
     "text": [
      "/tmp/ipykernel_4702/2798052624.py:8: UserWarning: color is redundantly defined by the 'color' keyword argument and the fmt string \"k--\" (-> color='k'). The keyword argument will take precedence.\n",
      "  ax.plot(gt,gt, 'k--', color='black')\n"
     ]
    },
    {
     "data": {
      "image/png": "[encoded data removed]",
      "text/plain": [
       "<Figure size 640x480 with 1 Axes>"
      ]
     },
     "metadata": {},
     "output_type": "display_data"
    }
   ],
   "source": [
    "import matplotlib.pyplot as plt\n",
    "\n",
    "err = all_pred.std(axis=1)\n",
    "avg_pred = all_pred.mean(axis=1)\n",
    "_,ax  = plt.subplots()\n",
    "# plot with error bars\n",
    "ax.errorbar(gt, avg_pred, yerr=err, fmt='o')\n",
    "ax.plot(gt,gt, 'k--', color='black')\n",
    "ax.set_xlabel('Ground Truth', fontsize=15)\n",
    "ax.set_ylabel('Predicted', fontsize=15)\n",
    "ax.grid()"
   ]
  },
  {
   "cell_type": "code",
   "execution_count": 13,
   "metadata": {},
   "outputs": [
    {
     "name": "stdout",
     "output_type": "stream",
     "text": [
      "HT_T24 Test NormCount:None RMSE: 0.1109955133320669\n"
     ]
    }
   ],
   "source": [
    "mse = ((all_pred - gt.reshape(-1,1))**2).mean(axis=1)\n",
    "dataset_str = opt['datasets']['train']['name']\n",
    "dataset_str += ' Test' if evaluate_test_data else ' Val'\n",
    "print(f'{dataset_str} NormCount:{normalizer_count} RMSE: {np.sqrt(mse.mean())}')"
   ]
  },
  {
   "cell_type": "code",
   "execution_count": 14,
   "metadata": {},
   "outputs": [
    {
     "name": "stdout",
     "output_type": "stream",
     "text": [
      "HT_T24 Test NormCount:None RMSE wrt Aggregated (mean) prediction: 0.05727246616957797\n",
      "HT_T24 Test NormCount:None RMSE wrt Aggregated (median) prediction: 0.04479686976003539\n"
     ]
    }
   ],
   "source": [
    "mse_mean = ((np.mean(all_pred, axis=1) - gt)**2).mean()\n",
    "mse_median = ((np.median(all_pred, axis=1) - gt)**2).mean()\n",
    "print(f'{dataset_str} NormCount:{normalizer_count} RMSE wrt Aggregated (mean) prediction: {np.sqrt(mse_mean)}')\n",
    "print(f'{dataset_str} NormCount:{normalizer_count} RMSE wrt Aggregated (median) prediction: {np.sqrt(mse_median)}')"
   ]
  },
  {
   "cell_type": "code",
   "execution_count": null,
   "metadata": {},
   "outputs": [],
   "source": []
  }
 ],
 "metadata": {
  "kernelspec": {
   "display_name": "Python 3",
   "language": "python",
   "name": "python3"
  },
  "language_info": {
   "codemirror_mode": {
    "name": "ipython",
    "version": 3
   },
   "file_extension": ".py",
   "mimetype": "text/x-python",
   "name": "python",
   "nbconvert_exporter": "python",
   "pygments_lexer": "ipython3",
   "version": "3.9.19"
  }
 },
 "nbformat": 4,
 "nbformat_minor": 2
}
