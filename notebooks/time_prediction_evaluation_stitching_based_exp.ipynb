{
 "cells": [
  {
   "cell_type": "markdown",
   "metadata": {},
   "source": [
    "### Objective\n",
    "Here, we evaluate the predicted t by tiling it and compare it with the ground truth t. Assumption behind the experiment is that, in regions where one has both structures, one should get a better t prediction."
   ]
  },
  {
   "cell_type": "code",
   "execution_count": 1,
   "metadata": {},
   "outputs": [],
   "source": [
    "import sys\n",
    "sys.path.append('..')"
   ]
  },
  {
   "cell_type": "code",
   "execution_count": 6,
   "metadata": {},
   "outputs": [
    {
     "ename": "KeyError",
     "evalue": "'COSEM_jrc-hela'",
     "output_type": "error",
     "traceback": [
      "\u001b[0;31m---------------------------------------------------------------------------\u001b[0m",
      "\u001b[0;31mKeyError\u001b[0m                                  Traceback (most recent call last)",
      "Cell \u001b[0;32mIn[6], line 38\u001b[0m\n\u001b[1;32m     35\u001b[0m \u001b[38;5;28;01massert\u001b[39;00m normalize_channels \u001b[38;5;129;01min\u001b[39;00m [\u001b[38;5;28;01mNone\u001b[39;00m, \u001b[38;5;28;01mTrue\u001b[39;00m, \u001b[38;5;28;01mFalse\u001b[39;00m]\n\u001b[1;32m     36\u001b[0m training_rootdir \u001b[38;5;241m=\u001b[39m \u001b[38;5;124m'\u001b[39m\u001b[38;5;124m/group/GROUPNAMEUSERNAME/training/diffsplit/\u001b[39m\u001b[38;5;124m'\u001b[39m\n\u001b[0;32m---> 38\u001b[0m indisplit_unmixing_dir \u001b[38;5;241m=\u001b[39m \u001b[38;5;124m'\u001b[39m\u001b[38;5;124m_\u001b[39m\u001b[38;5;124m'\u001b[39m\u001b[38;5;241m.\u001b[39mjoin(\u001b[43mindisplit_unmixing_pred_subdirs\u001b[49m\u001b[43m[\u001b[49m\u001b[43mget_dataset_name\u001b[49m\u001b[43m(\u001b[49m\u001b[43m)\u001b[49m\u001b[43m]\u001b[49m\u001b[38;5;241m.\u001b[39msplit(\u001b[38;5;124m'\u001b[39m\u001b[38;5;124m/\u001b[39m\u001b[38;5;124m'\u001b[39m))\n",
      "\u001b[0;31mKeyError\u001b[0m: 'COSEM_jrc-hela'"
     ]
    }
   ],
   "source": [
    "ckpt = '/group/GROUPNAMEUSERNAME/training/diffsplit/2502/COSEM_jrc-hela-UnetClassifier-l2/14'\n",
    "# ckpt = '2502/BioSR-UnetClassifier-l2/4/'\n",
    "\n",
    "\n",
    "# ckpt = '2502/HT_T24-UnetClassifier-l2/2'\n",
    "# ckpt = '/group/GROUPNAMEUSERNAME/training/diffsplit/2502/BioSR-UnetClassifier-l2/4/'\n",
    "# ckpt = '/group/GROUPNAMEUSERNAME/training/diffsplit/2502/Hagen-UnetClassifier-l2/11'\n",
    "evaluate_test_data = True\n",
    "use_gt_as_unmixing_estimates = False\n",
    "# num_timesteps_normalization = 100_000\n",
    "# if normalize_channels is None, we use the setting (True/False) present in the trained model.\n",
    "# if normalize_channels is True, then we normalize the channels in the dataset and xt_normalizer, defined below is dummy\n",
    "# if normalize_channels is False, then we do not normalize the channels in the dataset and xt_normalizer, defined below normalizes the individual channels.\n",
    "def get_dataset_name():\n",
    "    if 'hagen' in ckpt.lower():\n",
    "        return 'hagen'\n",
    "    elif 'biosr' in ckpt.lower():\n",
    "        return 'bioSR'\n",
    "    elif 'ht_lif24' in ckpt.lower():\n",
    "        return 'HT_LIF24'\n",
    "    elif 'ht_t24' in ckpt.lower():\n",
    "        return 'HT_T24'\n",
    "    elif 'COSEM_jrc-hela' in ckpt:\n",
    "        return 'COSEM_jrc-hela'\n",
    "    else:\n",
    "        raise ValueError(f'Unknown dataset: {ckpt}')\n",
    "\n",
    "indisplit_unmixing_pred_subdirs = {\n",
    "    'hagen': '',\n",
    "    'bioSR': '2502/BioSR-joint_indi-l1/5',\n",
    "    'HT_LIF24': '2502/HT_LIF24-joint_indi-l1/60',\n",
    "    'HT_T24': '2502/HT_T24-joint_indi-l1/14',\n",
    "}\n",
    "\n",
    "normalize_channels = False\n",
    "assert normalize_channels in [None, True, False]\n",
    "training_rootdir = '/group/GROUPNAMEUSERNAME/training/diffsplit/'\n",
    "\n",
    "try:\n",
    "    indisplit_unmixing_dir = '_'.join(indisplit_unmixing_pred_subdirs[get_dataset_name()].split('/'))\n",
    "except:\n",
    "    indisplit_unmixing_dir = None\n"
   ]
  },
  {
   "cell_type": "code",
   "execution_count": 7,
   "metadata": {},
   "outputs": [],
   "source": [
    "import yaml\n",
    "import os\n",
    "import glob\n",
    "import torch\n",
    "\n",
    "def model_checkpoint_fpath(ckpt, fname=None):\n",
    "    ckpt_dir = os.path.join(training_rootdir, ckpt, 'checkpoint')\n",
    "    if fname is not None:\n",
    "        return os.path.join(training_rootdir, ckpt, fname)\n",
    "    else:\n",
    "        list_of_files = glob.glob(ckpt_dir +'/*_gen.pth') # * means all if need specific format then *.csv\n",
    "        latest_file = max(list_of_files, key=os.path.getctime)\n",
    "        fname = latest_file\n",
    "        return os.path.join(ckpt_dir,latest_file)\n",
    "\n",
    "def model_checkpoint_fpath_prefix(ckpt, fname=None):\n",
    "    fpath = model_checkpoint_fpath(ckpt, fname)\n",
    "    suffix = '_gen.pth'\n",
    "    assert fpath.endswith(suffix)\n",
    "    return fpath[:-len(suffix)]\n",
    "\n",
    "def load_config(ckpt):\n",
    "    config_path = os.path.join(training_rootdir,ckpt,'wandb/latest-run/files/config.yaml')\n",
    "\n",
    "    with open(config_path) as stream:\n",
    "        try:\n",
    "            opt = yaml.safe_load(stream)\n",
    "        except yaml.YAMLError as exc:\n",
    "            print(exc)\n",
    "    \n",
    "    keys = [\"name\",\"phase\",\"gpu_ids\",\"path\",\"datasets\",\"model\",\"train\"]\n",
    "    return {k: opt[k]['value'] for k in keys}"
   ]
  },
  {
   "cell_type": "code",
   "execution_count": 12,
   "metadata": {},
   "outputs": [
    {
     "name": "stdout",
     "output_type": "stream",
     "text": [
      "Overriding normalize_channels with False\n"
     ]
    }
   ],
   "source": [
    "from model.ddpm_modules.time_predictor import TimePredictor\n",
    "from time_prediction_training import get_datasets\n",
    "import os\n",
    "\n",
    "classifier_ckpt = os.path.join(training_rootdir, ckpt)\n",
    "\n",
    "opt = load_config(classifier_ckpt)\n",
    "# loading dataset.\n",
    "if evaluate_test_data:\n",
    "    if opt['datasets']['train']['name'] == 'Hagen':\n",
    "        opt['datasets']['val']['datapath'] = {\n",
    "        'ch0': '/group/GROUPNAMEUSERNAME/data/diffsplit_hagen/test/test_actin-60x-noise2-highsnr.tif',\n",
    "        'ch1': '/group/GROUPNAMEUSERNAME/data/diffsplit_hagen/test/test_mito-60x-noise2-highsnr.tif'\n",
    "        }\n",
    "    elif opt['datasets']['train']['name'] in ['COSEM_jrc-hela', 'BioSR', 'HT_LIF24','HT_T24']:\n",
    "        opt['datasets']['val']['datapath'] = opt['datasets']['val']['datapath'].replace('/val', '/test')\n",
    "\n",
    "        opt['datasets']['val']['datapath'] = opt['datasets']['val']['datapath'].replace('train-val-test-split', 'train_val_test_split')\n",
    "        opt['datasets']['train']['datapath'] = opt['datasets']['train']['datapath'].replace('train-val-test-split', 'train_val_test_split')\n",
    "\n",
    "    else:\n",
    "        raise NotImplementedError(f'{opt[\"datasets\"][\"train\"][\"name\"]} not implemented')\n",
    "\n",
    "if 'patch_size' not in opt['datasets']:\n",
    "    opt['datasets']['patch_size']  = opt['datasets']['train']['patch_size']\n",
    "\n",
    "if 'max_qval' not in opt['datasets']:\n",
    "    opt['datasets']['max_qval']  = 0.98\n",
    "\n",
    "if 'uncorrelated_channels' not in opt['datasets']['train']:\n",
    "    opt['datasets']['train']['uncorrelated_channels']  = False\n",
    "\n",
    "if normalize_channels is not None:\n",
    "    print(f'Overriding normalize_channels with {normalize_channels}')\n",
    "    opt['datasets']['normalize_channels'] = normalize_channels"
   ]
  },
  {
   "cell_type": "code",
   "execution_count": 13,
   "metadata": {},
   "outputs": [
    {
     "name": "stdout",
     "output_type": "stream",
     "text": [
      "TimePredictor with scale augmentation delta 0.05\n"
     ]
    },
    {
     "data": {
      "text/plain": [
       "<All keys matched successfully>"
      ]
     },
     "execution_count": 13,
     "metadata": {},
     "output_type": "execute_result"
    }
   ],
   "source": [
    "model_opt = opt['model']\n",
    "model_kwargs = {}\n",
    "model_kwargs['scale_augmentation'] = model_opt.get('scale_augmentation', False)\n",
    "    \n",
    "if model_kwargs['scale_augmentation']:\n",
    "    model_kwargs['scale_augmentation_delta'] = model_opt['scale_augmentation_delta']\n",
    "\n",
    "model = TimePredictor(\n",
    "    in_channel=model_opt['unet']['in_channel'],\n",
    "    out_channel=model_opt['unet']['out_channel'],\n",
    "    norm_groups=model_opt['unet']['norm_groups'],\n",
    "    inner_channel=model_opt['unet']['inner_channel'],\n",
    "    channel_mults=model_opt['unet']['channel_multiplier'],\n",
    "    attn_res=model_opt['unet']['attn_res'],\n",
    "    res_blocks=model_opt['unet']['res_blocks'],\n",
    "    dropout=model_opt['unet']['dropout'],\n",
    "    image_size=opt['datasets']['patch_size'],\n",
    "    **model_kwargs\n",
    "    )\n",
    "model = model.cuda()\n",
    "model.load_state_dict(torch.load(os.path.join(classifier_ckpt,'best_time_predictor.pth')), strict=True)\n",
    "\n",
    "# data\n"
   ]
  },
  {
   "cell_type": "code",
   "execution_count": 14,
   "metadata": {},
   "outputs": [
    {
     "name": "stdout",
     "output_type": "stream",
     "text": [
      "Read from /group/GROUPNAMEUSERNAME/bleedthroughsimulation/jrc_hela-3/train_val_test_split/train_jrc_hela-3_bleedthrough_EGFP_Venus_R3.0-3.0_S4_D1_Ex100.0ms.tif (96, 1900, 2800, 4)\n",
      "Warning: Removing key: 2\n",
      "Warning: Removing key: 3\n",
      "Computing mean and std for normalization\n",
      "[TimePredictorDataset] Data: 96x2x(1900, 2800) Patch:512 Random:1 Aug:True Q:1.0 UpperClip:0Uncor:False ChW:[1.0, 1.0]\n",
      "Adding Gaussian noise with std factor:  0.05\n",
      "Read from /group/GROUPNAMEUSERNAME/bleedthroughsimulation/jrc_hela-3/train_val_test_split/test_jrc_hela-3_bleedthrough_EGFP_Venus_R3.0-3.0_S4_D1_Ex100.0ms.tif (96, 900, 1400, 4)\n",
      "Warning: Removing key: 2\n",
      "Warning: Removing key: 3\n",
      "[TilingDataset] Data: 96x2x(900, 1400) Patch:512 Random:0 Aug:False Q:1.0 UpperClip:0Uncor:False ChW:[1.0, 1.0]\n"
     ]
    }
   ],
   "source": [
    "train_set, val_set = get_datasets(opt, tiled_pred=True)"
   ]
  },
  {
   "cell_type": "code",
   "execution_count": 15,
   "metadata": {},
   "outputs": [
    {
     "name": "stdout",
     "output_type": "stream",
     "text": [
      "Random patching set to True\n"
     ]
    },
    {
     "name": "stderr",
     "output_type": "stream",
     "text": [
      "  0%|          | 0/10000 [00:00<?, ?it/s]"
     ]
    },
    {
     "name": "stderr",
     "output_type": "stream",
     "text": [
      "301.0M/819.0M pixels processed: 100%|██████████| 720/720 [00:19<00:00, 36.33it/s]\n",
      "603.0M/819.0M pixels processed: 100%|██████████| 720/720 [00:21<00:00, 33.06it/s]\n",
      "819.0M/819.0M pixels processed:  71%|███████▏  | 513/720 [00:16<00:06, 31.37it/s]\n",
      "  0%|          | 2/10000 [00:57<80:29:08, 28.98s/it]\n"
     ]
    },
    {
     "name": "stdout",
     "output_type": "stream",
     "text": [
      "Random patching set to False\n"
     ]
    },
    {
     "data": {
      "image/png": "[encoded data removed]",
      "text/plain": [
       "<Figure size 640x480 with 1 Axes>"
      ]
     },
     "metadata": {},
     "output_type": "display_data"
    }
   ],
   "source": [
    "from model.normalizer import NormalizerXT\n",
    "from tqdm import tqdm \n",
    "import numpy as np\n",
    "import matplotlib.pyplot as plt\n",
    "from time_prediction_training import get_normalizer\n",
    "\n",
    "normalizer_count = None\n",
    "# val_set.set_random_patching(True)\n",
    "xt_normalizer = NormalizerXT()\n",
    "if 'normalize_channels' in opt['datasets'] and opt['datasets']['normalize_channels'] is True:\n",
    "    pass\n",
    "else:\n",
    "    if evaluate_test_data:\n",
    "        xt_normalizer,data_mean_arr, data_std_arr = get_normalizer(val_set, opt, return_data_arr=True, num_pixels=500_000 * 128 * 128)\n",
    "    else:\n",
    "        xt_normalizer,data_mean_arr, data_std_arr = get_normalizer(train_set, opt, return_data_arr=True)\n",
    "    # val_set.reset_fixed_t()\n",
    "    # val_loader = torch.utils.data.DataLoader(val_set, batch_size=16, shuffle=True, num_workers=0)\n",
    "    # data_mean_arr = []\n",
    "    # data_std_arr = []\n",
    "    # normalizer_count = 100_000\n",
    "    # cnt = 0\n",
    "    # for _ in tqdm(range(normalizer_count)):\n",
    "    #     bar = enumerate(val_loader)\n",
    "    #     for i, (x, t_float) in bar:\n",
    "    #         x = x.cuda()\n",
    "    #         t_float = t_float.cuda()\n",
    "    #         x = xt_normalizer.normalize(x,t_float, update=True)\n",
    "    #         cnt += 1\n",
    "    #         if cnt %10 == 0:\n",
    "    #             data_mean_arr.append(xt_normalizer.data_mean.cpu().numpy())\n",
    "    #             data_std_arr.append(xt_normalizer.data_std.cpu().numpy())\n",
    "\n",
    "    plt.plot(np.stack(data_mean_arr)[:,90])\n",
    "    del data_std_arr\n",
    "    del data_mean_arr\n",
    "    import gc; gc.collect()\n",
    "# val_set.set_random_patching(False)"
   ]
  },
  {
   "cell_type": "code",
   "execution_count": 19,
   "metadata": {},
   "outputs": [
    {
     "name": "stderr",
     "output_type": "stream",
     "text": [
      "  0%|          | 0/11 [00:00<?, ?it/s]"
     ]
    },
    {
     "name": "stdout",
     "output_type": "stream",
     "text": [
      "[96, 900, 1400, 1]\n",
      "[96, 900, 1400, 1]\n"
     ]
    },
    {
     "name": "stderr",
     "output_type": "stream",
     "text": [
      "  9%|▉         | 1/11 [02:44<27:28, 164.81s/it]"
     ]
    },
    {
     "name": "stdout",
     "output_type": "stream",
     "text": [
      "[96, 900, 1400, 1]\n",
      "[96, 900, 1400, 1]\n"
     ]
    },
    {
     "name": "stderr",
     "output_type": "stream",
     "text": [
      " 18%|█▊        | 2/11 [05:28<24:39, 164.34s/it]"
     ]
    },
    {
     "name": "stdout",
     "output_type": "stream",
     "text": [
      "[96, 900, 1400, 1]\n",
      "[96, 900, 1400, 1]\n"
     ]
    },
    {
     "name": "stderr",
     "output_type": "stream",
     "text": [
      " 27%|██▋       | 3/11 [08:12<21:52, 164.04s/it]"
     ]
    },
    {
     "name": "stdout",
     "output_type": "stream",
     "text": [
      "[96, 900, 1400, 1]\n",
      "[96, 900, 1400, 1]\n"
     ]
    },
    {
     "name": "stderr",
     "output_type": "stream",
     "text": [
      " 36%|███▋      | 4/11 [10:55<19:06, 163.82s/it]"
     ]
    },
    {
     "name": "stdout",
     "output_type": "stream",
     "text": [
      "[96, 900, 1400, 1]\n",
      "[96, 900, 1400, 1]\n"
     ]
    },
    {
     "name": "stderr",
     "output_type": "stream",
     "text": [
      " 45%|████▌     | 5/11 [13:39<16:22, 163.71s/it]"
     ]
    },
    {
     "name": "stdout",
     "output_type": "stream",
     "text": [
      "[96, 900, 1400, 1]\n",
      "[96, 900, 1400, 1]\n"
     ]
    },
    {
     "name": "stderr",
     "output_type": "stream",
     "text": [
      " 55%|█████▍    | 6/11 [16:22<13:37, 163.58s/it]"
     ]
    },
    {
     "name": "stdout",
     "output_type": "stream",
     "text": [
      "[96, 900, 1400, 1]\n",
      "[96, 900, 1400, 1]\n"
     ]
    },
    {
     "name": "stderr",
     "output_type": "stream",
     "text": [
      " 64%|██████▎   | 7/11 [19:05<10:53, 163.38s/it]"
     ]
    },
    {
     "name": "stdout",
     "output_type": "stream",
     "text": [
      "[96, 900, 1400, 1]\n",
      "[96, 900, 1400, 1]\n"
     ]
    },
    {
     "name": "stderr",
     "output_type": "stream",
     "text": [
      " 73%|███████▎  | 8/11 [21:49<08:10, 163.36s/it]"
     ]
    },
    {
     "name": "stdout",
     "output_type": "stream",
     "text": [
      "[96, 900, 1400, 1]\n",
      "[96, 900, 1400, 1]\n"
     ]
    },
    {
     "name": "stderr",
     "output_type": "stream",
     "text": [
      " 82%|████████▏ | 9/11 [24:32<05:26, 163.38s/it]"
     ]
    },
    {
     "name": "stdout",
     "output_type": "stream",
     "text": [
      "[96, 900, 1400, 1]\n",
      "[96, 900, 1400, 1]\n"
     ]
    },
    {
     "name": "stderr",
     "output_type": "stream",
     "text": [
      " 91%|█████████ | 10/11 [27:15<02:43, 163.37s/it]"
     ]
    },
    {
     "name": "stdout",
     "output_type": "stream",
     "text": [
      "[96, 900, 1400, 1]\n",
      "[96, 900, 1400, 1]\n"
     ]
    },
    {
     "name": "stderr",
     "output_type": "stream",
     "text": [
      "100%|██████████| 11/11 [29:59<00:00, 163.55s/it]\n"
     ]
    }
   ],
   "source": [
    "from tqdm import tqdm\n",
    "import numpy as np\n",
    "from core.time_estimation import TimeEstimator\n",
    "from collections import defaultdict\n",
    "from disentangle.core.tiff_reader import load_tiff\n",
    "def get_unmixed_channels(pred_dir, mixing_t):\n",
    "    bt_removed_pred = load_tiff(os.path.join(pred_dir, 'bt_removed_pred.tif'))\n",
    "    dim_pred = load_tiff(os.path.join(pred_dir, 'dim_pred.tif'))\n",
    "    if mixing_t >= 0.5:\n",
    "        output_ch1 =  bt_removed_pred[...,0]\n",
    "        output_ch2 = dim_pred[...,1]\n",
    "    else:\n",
    "        output_ch1 = dim_pred[...,0]\n",
    "        output_ch2 = bt_removed_pred[...,1]\n",
    "    return output_ch1, output_ch2\n",
    "\n",
    "# num_timesteps = 10\n",
    "num_timesteps = 10\n",
    "gt = np.arange(0,1.0001,1/num_timesteps)\n",
    "mmse_count = 1\n",
    "\n",
    "pred_arr = []\n",
    "inp_arr = []\n",
    "# unmixed_ch1 = np.stack(val_set._data_dict[0])*1.0\n",
    "# unmixed_ch2 = np.stack(val_set._data_dict[1])*1.0\n",
    "# pred_dir_schema = '/group/GROUPNAMEUSERNAME/indiSplit/predictions/2502_HT_LIF24-joint_indi-l1_60/\n",
    "pred_dir_schema = f'/group/GROUPNAMEUSERNAME/indiSplit/predictions/{indisplit_unmixing_dir}/'\n",
    "pred_dir_schema = os.path.join(pred_dir_schema, 'T-{mixing_t}_MMSE-10_InferT-0_InferTAgg-0_FixedT-0.5/')\n",
    "t_estimations = {}\n",
    "with torch.no_grad():\n",
    "    for mixing_t in tqdm(gt):\n",
    "        if use_gt_as_unmixing_estimates:\n",
    "            unmixed_ch1 = np.stack(val_set._data_dict[0])*1.0\n",
    "            unmixed_ch2 = np.stack(val_set._data_dict[1])*1.0\n",
    "        else:\n",
    "            pred_dir  = pred_dir_schema.format(mixing_t=round(min(max(0.1,min(mixing_t, 1-mixing_t)),0.9),2))\n",
    "            unmixed_ch1, unmixed_ch2 = get_unmixed_channels(pred_dir, mixing_t)\n",
    "\n",
    "        t_estimations[mixing_t] = defaultdict(list)\n",
    "        val_set.set_fixed_t(mixing_t)\n",
    "        estimator = TimeEstimator()\n",
    "        pred_t_arr = estimator.predict(val_set, xt_normalizer, model, mmse_count, return_input=False)\n",
    "        estimator.set_agg_params(agg_mode='mean')\n",
    "        t_estimations[mixing_t]['mean'].append(estimator.aggregate(pred_t_arr, val_set, unmixed_ch1, unmixed_ch2))\n",
    "        estimator.set_agg_params(agg_mode='median')\n",
    "        t_estimations[mixing_t]['median'].append(estimator.aggregate(pred_t_arr, val_set, unmixed_ch1, unmixed_ch2))\n",
    "        estimator.set_agg_params(agg_mode='mode')\n",
    "        t_estimations[mixing_t]['mode'].append(estimator.aggregate(pred_t_arr, val_set, unmixed_ch1, unmixed_ch2))\n",
    "        estimator.set_agg_params(agg_mode='weighted_by_sum')\n",
    "        t_estimations[mixing_t]['weighted_by_sum'].append(estimator.aggregate(pred_t_arr, val_set, unmixed_ch1, unmixed_ch2))\n",
    "        estimator.set_agg_params(agg_mode='weighted_by_product')\n",
    "        t_estimations[mixing_t]['weighted_by_product'].append(estimator.aggregate(pred_t_arr, val_set, unmixed_ch1, unmixed_ch2))\n",
    "\n",
    "        # dloader = torch.utils.data.DataLoader(\n",
    "        #             val_set,\n",
    "        #             batch_size=16,\n",
    "        #             shuffle=False,\n",
    "        #             num_workers=2,\n",
    "        #             pin_memory=True)\n",
    "        # for data in dloader:\n",
    "        #     inp, t_float = data\n",
    "        #     assert torch.std(t_float) < 1e-6, f'{t_float}'\n",
    "        #     assert t_float[0] == mixing_t, f'{t_float} != {mixing_t}'\n",
    "        #     inp = inp.cuda()\n",
    "        #     t_float = t_float.cuda()\n",
    "        #     # if xt_normalizer is dummy then nothing will happen with the following operation.\n",
    "        #     inp = xt_normalizer.normalize(inp, t_float)\n",
    "        #     inp_arr.append(inp.cpu().numpy())\n",
    "        #     tmp_pred_arr = []\n",
    "        #     for _ in range(mmse_count):\n",
    "        #         with torch.no_grad():\n",
    "        #             pred = model(inp.cuda())\n",
    "        #             tmp_pred_arr.append(pred.cpu().numpy())\n",
    "        #     pred_arr.append(np.median(np.stack(tmp_pred_arr),axis=0))\n",
    "    \n",
    "    # all_pred = np.concatenate(pred_arr).reshape(len(gt),-1)\n",
    "    # inp_arr = np.concatenate(inp_arr,axis=0)\n"
   ]
  },
  {
   "cell_type": "code",
   "execution_count": 20,
   "metadata": {},
   "outputs": [
    {
     "name": "stdout",
     "output_type": "stream",
     "text": [
      "/group/GROUPNAMEUSERNAME/training/diffsplit/2502/COSEM_jrc-hela-UnetClassifier-l2/14\n",
      "GT:\t\t\t 0.00 0.10 0.20 0.30 0.40 0.50 0.60 0.70 0.80 0.90 1.00\n",
      "Mean:\t\t\t 0.12 0.19 0.35 0.54 0.59 0.61 0.62 0.63 0.66 0.63 0.67\n",
      "Median\t\t\t 0.11 0.18 0.35 0.60 0.67 0.64 0.60 0.62 0.64 0.62 0.66\n",
      "Mode\t\t\t 0.10 0.17 0.15 0.76 0.71 0.66 0.58 0.60 0.63 0.60 0.66\n",
      "Weighted by Sum\t\t 0.13 0.15 0.22 0.33 0.44 0.56 0.65 0.67 0.66 0.64 0.64\n",
      "Weighted by product\t 0.14 0.16 0.23 0.34 0.45 0.58 0.67 0.70 0.68 0.66 0.65\n"
     ]
    }
   ],
   "source": [
    "mean_preds = []\n",
    "median_preds = []\n",
    "mode_preds = []\n",
    "weighted_by_sum_preds = []\n",
    "weighted_by_product_preds = []\n",
    "\n",
    "for t in gt:\n",
    "    mean_preds.append(t_estimations[t]['mean'][0])\n",
    "    median_preds.append(t_estimations[t]['median'][0])\n",
    "    mode_preds.append(t_estimations[t]['mode'][0])\n",
    "    weighted_by_sum_preds.append(t_estimations[t]['weighted_by_sum'][0])\n",
    "    weighted_by_product_preds.append(t_estimations[t]['weighted_by_product'][0])\n",
    "\n",
    "def print_arr(arr):\n",
    "    return ' '.join([f'{x:.2f}' for x in arr])\n",
    "\n",
    "print(ckpt)\n",
    "print('GT:\\t\\t\\t', print_arr(gt))\n",
    "print('Mean:\\t\\t\\t', print_arr(mean_preds))\n",
    "print('Median\\t\\t\\t', print_arr(median_preds))\n",
    "print('Mode\\t\\t\\t', print_arr(mode_preds))\n",
    "print('Weighted by Sum\\t\\t', print_arr(weighted_by_sum_preds))\n",
    "print('Weighted by product\\t', print_arr(weighted_by_product_preds))"
   ]
  },
  {
   "cell_type": "code",
   "execution_count": null,
   "metadata": {},
   "outputs": [],
   "source": []
  }
 ],
 "metadata": {
  "kernelspec": {
   "display_name": "Python 3",
   "language": "python",
   "name": "python3"
  },
  "language_info": {
   "codemirror_mode": {
    "name": "ipython",
    "version": 3
   },
   "file_extension": ".py",
   "mimetype": "text/x-python",
   "name": "python",
   "nbconvert_exporter": "python",
   "pygments_lexer": "ipython3",
   "version": "3.9.19"
  }
 },
 "nbformat": 4,
 "nbformat_minor": 2
}
