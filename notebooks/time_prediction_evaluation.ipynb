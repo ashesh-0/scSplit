{
 "cells": [
  {
   "cell_type": "code",
   "execution_count": 1,
   "metadata": {},
   "outputs": [],
   "source": [
    "import sys\n",
    "sys.path.append('..')"
   ]
  },
  {
   "cell_type": "code",
   "execution_count": 2,
   "metadata": {},
   "outputs": [],
   "source": [
    "# ckpt = '2501/COSEM_jrc-hela-UnetClassifier-l2/3/'\n",
    "# ckpt = '2501/COSEM_jrc-hela-UnetClassifier-l2/6'\n",
    "# ckpt = '2502/HT_LIF24-UnetClassifier-l2/3'\n",
    "# ckpt = '/group/jug/ashesh/training/diffsplit/2502/BioSR-UnetClassifier-l2/4/'\n",
    "# ckpt = '/group/jug/ashesh/training/diffsplit/2502/Hagen-UnetClassifier-l2/11'\n",
    "# ckpt = '/group/jug/ashesh/training/diffsplit/2502/COSEM_jrc-hela-UnetClassifier-l2/14'\n",
    "# ckpt = '/group/jug/ashesh/training/diffsplit/2503/PaviaATN-UnetClassifier-l2/2'\n",
    "# ckpt = '/group/jug/ashesh/training/diffsplit/2507/Hagen-UnetClassifier-l2/5'\n",
    "ckpt = '/group/jug/ashesh/training/diffsplit/2503/PaviaATN-UnetClassifier-l2/2'\n",
    "evaluate_test_data = True\n",
    "# num_timesteps_normalization = 100_000\n",
    "# if normalize_channels is None, we use the setting (True/False) present in the trained model.\n",
    "# if normalize_channels is True, then we normalize the channels in the dataset and xt_normalizer, defined below is dummy\n",
    "# if normalize_channels is False, then we do not normalize the channels in the dataset and xt_normalizer, defined below normalizes the individual channels.\n",
    "normalize_channels = False\n",
    "assert normalize_channels in [None, True, False]\n",
    "training_rootdir = '/group/jug/ashesh/training/diffsplit/'"
   ]
  },
  {
   "cell_type": "code",
   "execution_count": 3,
   "metadata": {},
   "outputs": [],
   "source": [
    "import yaml\n",
    "import os\n",
    "import glob\n",
    "import torch\n",
    "\n",
    "def model_checkpoint_fpath(ckpt, fname=None):\n",
    "    ckpt_dir = os.path.join(training_rootdir, ckpt, 'checkpoint')\n",
    "    if fname is not None:\n",
    "        return os.path.join(training_rootdir, ckpt, fname)\n",
    "    else:\n",
    "        list_of_files = glob.glob(ckpt_dir +'/*_gen.pth') # * means all if need specific format then *.csv\n",
    "        latest_file = max(list_of_files, key=os.path.getctime)\n",
    "        fname = latest_file\n",
    "        return os.path.join(ckpt_dir,latest_file)\n",
    "\n",
    "def model_checkpoint_fpath_prefix(ckpt, fname=None):\n",
    "    fpath = model_checkpoint_fpath(ckpt, fname)\n",
    "    suffix = '_gen.pth'\n",
    "    assert fpath.endswith(suffix)\n",
    "    return fpath[:-len(suffix)]\n",
    "\n",
    "def load_config(ckpt):\n",
    "    config_path = os.path.join(training_rootdir,ckpt,'wandb/latest-run/files/config.yaml')\n",
    "\n",
    "    with open(config_path) as stream:\n",
    "        try:\n",
    "            opt = yaml.safe_load(stream)\n",
    "        except yaml.YAMLError as exc:\n",
    "            print(exc)\n",
    "    \n",
    "    keys = [\"name\",\"phase\",\"gpu_ids\",\"path\",\"datasets\",\"model\",\"train\"]\n",
    "    return {k: opt[k]['value'] for k in keys}"
   ]
  },
  {
   "cell_type": "code",
   "execution_count": 4,
   "metadata": {},
   "outputs": [
    {
     "name": "stderr",
     "output_type": "stream",
     "text": [
      "/localscratch/miniforge3/envs/usplit_vdi/lib/python3.9/site-packages/albumentations/__init__.py:28: UserWarning: A new version of Albumentations is available: '2.0.8' (you have '2.0.5'). Upgrade using: pip install -U albumentations. To disable automatic update checks, set the environment variable NO_ALBUMENTATIONS_UPDATE to 1.\n",
      "  check_for_updates()\n"
     ]
    },
    {
     "name": "stdout",
     "output_type": "stream",
     "text": [
      "Overriding normalize_channels with False\n"
     ]
    }
   ],
   "source": [
    "from model.ddpm_modules.time_predictor import TimePredictor\n",
    "from time_prediction_training import get_datasets\n",
    "import os\n",
    "\n",
    "classifier_ckpt = os.path.join(training_rootdir, ckpt)\n",
    "\n",
    "opt = load_config(classifier_ckpt)\n",
    "# loading dataset.\n",
    "if evaluate_test_data:\n",
    "    if opt['datasets']['train']['name'] == 'Hagen':\n",
    "        opt['datasets']['val']['datapath'] = {\n",
    "        'ch0': '/group/jug/ashesh/data/diffsplit_hagen/test/test_actin-60x-noise2-highsnr.tif',\n",
    "        'ch1': '/group/jug/ashesh/data/diffsplit_hagen/test/test_mito-60x-noise2-highsnr.tif'\n",
    "        }\n",
    "    elif opt['datasets']['train']['name'] in ['COSEM_jrc-hela', 'BioSR', 'HT_LIF24','HT_T24', 'COSEM_jrc-choroid-plexus-2', 'PaviaATN']:\n",
    "        opt['datasets']['val']['datapath'] = opt['datasets']['val']['datapath'].replace('/val', '/test')\n",
    "        \n",
    "        opt['datasets']['val']['datapath'] = opt['datasets']['val']['datapath'].replace('train-val-test-split', 'train_val_test_split')\n",
    "        opt['datasets']['train']['datapath'] = opt['datasets']['train']['datapath'].replace('train-val-test-split', 'train_val_test_split')\n",
    "\n",
    "    else:\n",
    "        raise NotImplementedError(f'{opt[\"datasets\"][\"train\"][\"name\"]} not implemented')\n",
    "\n",
    "if 'patch_size' not in opt['datasets']:\n",
    "    opt['datasets']['patch_size']  = opt['datasets']['train']['patch_size']\n",
    "\n",
    "assert 'max_qval' in opt['datasets']\n",
    "\n",
    "if 'uncorrelated_channels' not in opt['datasets']['train']:\n",
    "    opt['datasets']['train']['uncorrelated_channels']  = False\n",
    "\n",
    "if normalize_channels is not None:\n",
    "    print(f'Overriding normalize_channels with {normalize_channels}')\n",
    "    opt['datasets']['normalize_channels'] = normalize_channels"
   ]
  },
  {
   "cell_type": "code",
   "execution_count": 5,
   "metadata": {},
   "outputs": [
    {
     "name": "stdout",
     "output_type": "stream",
     "text": [
      "['UNet'] with in_channel 1, out_channel 1, norm_groups 16, image_size 512, initial_instance_norm False\n",
      "TimePredictor\n"
     ]
    },
    {
     "data": {
      "text/plain": [
       "<All keys matched successfully>"
      ]
     },
     "execution_count": 5,
     "metadata": {},
     "output_type": "execute_result"
    }
   ],
   "source": [
    "model_opt = opt['model']\n",
    "model_kwargs = {}\n",
    "model_kwargs['scale_augmentation'] = model_opt.get('scale_augmentation', False)\n",
    "    \n",
    "if model_kwargs['scale_augmentation']:\n",
    "    model_kwargs['scale_augmentation_delta'] = model_opt['scale_augmentation_delta']\n",
    "\n",
    "model = TimePredictor(\n",
    "    in_channel=model_opt['unet']['in_channel'],\n",
    "    out_channel=model_opt['unet']['out_channel'],\n",
    "    norm_groups=model_opt['unet']['norm_groups'],\n",
    "    inner_channel=model_opt['unet']['inner_channel'],\n",
    "    channel_mults=model_opt['unet']['channel_multiplier'],\n",
    "    attn_res=model_opt['unet']['attn_res'],\n",
    "    res_blocks=model_opt['unet']['res_blocks'],\n",
    "    dropout=model_opt['unet']['dropout'],\n",
    "    image_size=opt['datasets']['patch_size'],\n",
    "    initial_instance_norm= model_opt['unet'].get('initial_instance_norm', False),\n",
    "    **model_kwargs\n",
    "    )\n",
    "model = model.cuda()\n",
    "model.load_state_dict(torch.load(os.path.join(classifier_ckpt,'best_time_predictor.pth')), strict=True)\n",
    "\n",
    "# data\n"
   ]
  },
  {
   "cell_type": "code",
   "execution_count": 6,
   "metadata": {},
   "outputs": [
    {
     "name": "stdout",
     "output_type": "stream",
     "text": [
      "Loading data from /group/jug/ashesh/data/diffsplit_PaviaATN/train/train.tif\n",
      "Computing mean and std for normalization\n",
      "[TimePredictorDataset] Data: 49x2x(2720, 2720) Patch:512 Random:1 Aug:True Q:1.0 UpperClip:0Uncor:False ChW:[1.0, 1.0]\n",
      "Adding Gaussian noise with std factor:  0.05\n",
      "Loading data from /group/jug/ashesh/data/diffsplit_PaviaATN/test/test.tif\n",
      "[TimePredictorDataset] Data: 6x2x(2720, 2720) Patch:512 Random:0 Aug:False Q:1.0 UpperClip:0Uncor:False ChW:[1.0, 1.0]\n"
     ]
    }
   ],
   "source": [
    "train_set, val_set = get_datasets(opt, tiled_pred=False)"
   ]
  },
  {
   "cell_type": "code",
   "execution_count": 7,
   "metadata": {},
   "outputs": [
    {
     "name": "stdout",
     "output_type": "stream",
     "text": [
      "Random patching set to True\n"
     ]
    },
    {
     "name": "stderr",
     "output_type": "stream",
     "text": [
      "3.0M/819.0M pixels processed: 100%|██████████| 10/10 [00:00<00:00, 44.60it/s]\n",
      "7.0M/819.0M pixels processed: 100%|██████████| 10/10 [00:00<00:00, 45.00it/s]\n",
      "11.0M/819.0M pixels processed: 100%|██████████| 10/10 [00:00<00:00, 44.08it/s]\n",
      "15.0M/819.0M pixels processed: 100%|██████████| 10/10 [00:00<00:00, 46.91it/s]\n",
      "19.0M/819.0M pixels processed: 100%|██████████| 10/10 [00:00<00:00, 44.73it/s]\n",
      "23.0M/819.0M pixels processed: 100%|██████████| 10/10 [00:00<00:00, 45.45it/s]\n",
      "27.0M/819.0M pixels processed: 100%|██████████| 10/10 [00:00<00:00, 44.97it/s]\n",
      "31.0M/819.0M pixels processed: 100%|██████████| 10/10 [00:00<00:00, 39.34it/s]\n",
      "35.0M/819.0M pixels processed: 100%|██████████| 10/10 [00:00<00:00, 47.16it/s]\n",
      "39.0M/819.0M pixels processed: 100%|██████████| 10/10 [00:00<00:00, 46.66it/s]\n",
      "43.0M/819.0M pixels processed: 100%|██████████| 10/10 [00:00<00:00, 46.85it/s]\n",
      "47.0M/819.0M pixels processed: 100%|██████████| 10/10 [00:00<00:00, 45.87it/s]\n",
      "51.0M/819.0M pixels processed: 100%|██████████| 10/10 [00:00<00:00, 46.55it/s]\n",
      "55.0M/819.0M pixels processed: 100%|██████████| 10/10 [00:00<00:00, 46.63it/s]\n",
      "58.0M/819.0M pixels processed: 100%|██████████| 10/10 [00:00<00:00, 46.12it/s]\n",
      "62.0M/819.0M pixels processed: 100%|██████████| 10/10 [00:00<00:00, 46.90it/s]\n",
      "66.0M/819.0M pixels processed: 100%|██████████| 10/10 [00:00<00:00, 43.66it/s]\n",
      "70.0M/819.0M pixels processed: 100%|██████████| 10/10 [00:00<00:00, 50.87it/s]\n",
      "74.0M/819.0M pixels processed: 100%|██████████| 10/10 [00:00<00:00, 45.12it/s]\n",
      "78.0M/819.0M pixels processed: 100%|██████████| 10/10 [00:00<00:00, 45.49it/s]\n",
      "82.0M/819.0M pixels processed: 100%|██████████| 10/10 [00:00<00:00, 46.85it/s]\n",
      "86.0M/819.0M pixels processed: 100%|██████████| 10/10 [00:00<00:00, 45.03it/s]\n",
      "90.0M/819.0M pixels processed: 100%|██████████| 10/10 [00:00<00:00, 53.31it/s]\n",
      "94.0M/819.0M pixels processed: 100%|██████████| 10/10 [00:00<00:00, 45.48it/s]\n",
      "98.0M/819.0M pixels processed: 100%|██████████| 10/10 [00:00<00:00, 45.99it/s]\n",
      "102.0M/819.0M pixels processed: 100%|██████████| 10/10 [00:00<00:00, 47.00it/s]\n",
      "106.0M/819.0M pixels processed: 100%|██████████| 10/10 [00:00<00:00, 46.31it/s]\n",
      "110.0M/819.0M pixels processed: 100%|██████████| 10/10 [00:00<00:00, 46.66it/s]\n",
      "114.0M/819.0M pixels processed: 100%|██████████| 10/10 [00:00<00:00, 46.84it/s]\n",
      "117.0M/819.0M pixels processed: 100%|██████████| 10/10 [00:00<00:00, 47.69it/s]\n",
      "121.0M/819.0M pixels processed: 100%|██████████| 10/10 [00:00<00:00, 47.85it/s]\n",
      "125.0M/819.0M pixels processed: 100%|██████████| 10/10 [00:00<00:00, 45.99it/s]\n",
      "129.0M/819.0M pixels processed: 100%|██████████| 10/10 [00:00<00:00, 45.33it/s]\n",
      "133.0M/819.0M pixels processed: 100%|██████████| 10/10 [00:00<00:00, 48.53it/s]\n",
      "137.0M/819.0M pixels processed: 100%|██████████| 10/10 [00:00<00:00, 44.46it/s]\n",
      "141.0M/819.0M pixels processed: 100%|██████████| 10/10 [00:00<00:00, 46.40it/s]\n",
      "145.0M/819.0M pixels processed: 100%|██████████| 10/10 [00:00<00:00, 46.93it/s]\n",
      "149.0M/819.0M pixels processed: 100%|██████████| 10/10 [00:00<00:00, 50.86it/s]\n",
      "153.0M/819.0M pixels processed: 100%|██████████| 10/10 [00:00<00:00, 47.36it/s]\n",
      "157.0M/819.0M pixels processed: 100%|██████████| 10/10 [00:00<00:00, 48.28it/s]\n",
      "161.0M/819.0M pixels processed: 100%|██████████| 10/10 [00:00<00:00, 49.34it/s]\n",
      "165.0M/819.0M pixels processed: 100%|██████████| 10/10 [00:00<00:00, 48.78it/s]\n",
      "169.0M/819.0M pixels processed: 100%|██████████| 10/10 [00:00<00:00, 47.13it/s]\n",
      "173.0M/819.0M pixels processed: 100%|██████████| 10/10 [00:00<00:00, 46.91it/s]\n",
      "176.0M/819.0M pixels processed: 100%|██████████| 10/10 [00:00<00:00, 46.99it/s]\n",
      "180.0M/819.0M pixels processed: 100%|██████████| 10/10 [00:00<00:00, 47.31it/s]\n",
      "184.0M/819.0M pixels processed: 100%|██████████| 10/10 [00:00<00:00, 47.44it/s]\n",
      "188.0M/819.0M pixels processed: 100%|██████████| 10/10 [00:00<00:00, 46.97it/s]\n",
      "192.0M/819.0M pixels processed: 100%|██████████| 10/10 [00:00<00:00, 48.03it/s]\n",
      "196.0M/819.0M pixels processed: 100%|██████████| 10/10 [00:00<00:00, 48.71it/s]\n",
      "200.0M/819.0M pixels processed: 100%|██████████| 10/10 [00:00<00:00, 45.78it/s]\n",
      "204.0M/819.0M pixels processed: 100%|██████████| 10/10 [00:00<00:00, 46.71it/s]\n",
      "208.0M/819.0M pixels processed: 100%|██████████| 10/10 [00:00<00:00, 44.98it/s]\n",
      "212.0M/819.0M pixels processed: 100%|██████████| 10/10 [00:00<00:00, 44.34it/s]\n",
      "216.0M/819.0M pixels processed: 100%|██████████| 10/10 [00:00<00:00, 45.82it/s]\n",
      "220.0M/819.0M pixels processed: 100%|██████████| 10/10 [00:00<00:00, 47.91it/s]\n",
      "224.0M/819.0M pixels processed: 100%|██████████| 10/10 [00:00<00:00, 50.77it/s]\n",
      "228.0M/819.0M pixels processed: 100%|██████████| 10/10 [00:00<00:00, 46.97it/s]\n",
      "231.0M/819.0M pixels processed: 100%|██████████| 10/10 [00:00<00:00, 48.05it/s]\n",
      "235.0M/819.0M pixels processed: 100%|██████████| 10/10 [00:00<00:00, 47.75it/s]\n",
      "239.0M/819.0M pixels processed: 100%|██████████| 10/10 [00:00<00:00, 51.24it/s]\n",
      "243.0M/819.0M pixels processed: 100%|██████████| 10/10 [00:00<00:00, 43.98it/s]\n",
      "247.0M/819.0M pixels processed: 100%|██████████| 10/10 [00:00<00:00, 48.81it/s]\n",
      "251.0M/819.0M pixels processed: 100%|██████████| 10/10 [00:00<00:00, 52.83it/s]\n",
      "255.0M/819.0M pixels processed: 100%|██████████| 10/10 [00:00<00:00, 50.24it/s]\n",
      "259.0M/819.0M pixels processed: 100%|██████████| 10/10 [00:00<00:00, 52.70it/s]\n",
      "263.0M/819.0M pixels processed: 100%|██████████| 10/10 [00:00<00:00, 49.65it/s]\n",
      "267.0M/819.0M pixels processed: 100%|██████████| 10/10 [00:00<00:00, 49.93it/s]\n",
      "271.0M/819.0M pixels processed: 100%|██████████| 10/10 [00:00<00:00, 52.70it/s]\n",
      "275.0M/819.0M pixels processed: 100%|██████████| 10/10 [00:00<00:00, 47.64it/s]\n",
      "279.0M/819.0M pixels processed: 100%|██████████| 10/10 [00:00<00:00, 52.32it/s]\n",
      "283.0M/819.0M pixels processed: 100%|██████████| 10/10 [00:00<00:00, 50.56it/s]\n",
      "287.0M/819.0M pixels processed: 100%|██████████| 10/10 [00:00<00:00, 51.81it/s]\n",
      "290.0M/819.0M pixels processed: 100%|██████████| 10/10 [00:00<00:00, 49.75it/s]\n",
      "294.0M/819.0M pixels processed: 100%|██████████| 10/10 [00:00<00:00, 55.31it/s]\n",
      "298.0M/819.0M pixels processed: 100%|██████████| 10/10 [00:00<00:00, 50.47it/s]\n",
      "302.0M/819.0M pixels processed: 100%|██████████| 10/10 [00:00<00:00, 52.16it/s]\n",
      "306.0M/819.0M pixels processed: 100%|██████████| 10/10 [00:00<00:00, 51.92it/s]\n",
      "310.0M/819.0M pixels processed: 100%|██████████| 10/10 [00:00<00:00, 49.31it/s]\n",
      "314.0M/819.0M pixels processed: 100%|██████████| 10/10 [00:00<00:00, 51.13it/s]\n",
      "318.0M/819.0M pixels processed: 100%|██████████| 10/10 [00:00<00:00, 50.41it/s]\n",
      "322.0M/819.0M pixels processed: 100%|██████████| 10/10 [00:00<00:00, 49.66it/s]\n",
      "326.0M/819.0M pixels processed: 100%|██████████| 10/10 [00:00<00:00, 54.87it/s]\n",
      "330.0M/819.0M pixels processed: 100%|██████████| 10/10 [00:00<00:00, 57.10it/s]\n",
      "334.0M/819.0M pixels processed: 100%|██████████| 10/10 [00:00<00:00, 50.72it/s]\n",
      "338.0M/819.0M pixels processed: 100%|██████████| 10/10 [00:00<00:00, 50.01it/s]\n",
      "342.0M/819.0M pixels processed: 100%|██████████| 10/10 [00:00<00:00, 47.04it/s]\n",
      "346.0M/819.0M pixels processed: 100%|██████████| 10/10 [00:00<00:00, 48.20it/s]\n",
      "349.0M/819.0M pixels processed: 100%|██████████| 10/10 [00:00<00:00, 50.87it/s]\n",
      "353.0M/819.0M pixels processed: 100%|██████████| 10/10 [00:00<00:00, 53.35it/s]\n",
      "357.0M/819.0M pixels processed: 100%|██████████| 10/10 [00:00<00:00, 49.98it/s]\n",
      "361.0M/819.0M pixels processed: 100%|██████████| 10/10 [00:00<00:00, 44.08it/s]\n",
      "365.0M/819.0M pixels processed: 100%|██████████| 10/10 [00:00<00:00, 55.46it/s]\n",
      "369.0M/819.0M pixels processed: 100%|██████████| 10/10 [00:00<00:00, 50.65it/s]\n",
      "373.0M/819.0M pixels processed: 100%|██████████| 10/10 [00:00<00:00, 52.19it/s]\n",
      "377.0M/819.0M pixels processed: 100%|██████████| 10/10 [00:00<00:00, 47.96it/s]\n",
      "381.0M/819.0M pixels processed: 100%|██████████| 10/10 [00:00<00:00, 52.47it/s]\n",
      "385.0M/819.0M pixels processed: 100%|██████████| 10/10 [00:00<00:00, 52.93it/s]\n",
      "389.0M/819.0M pixels processed: 100%|██████████| 10/10 [00:00<00:00, 48.53it/s]\n",
      "393.0M/819.0M pixels processed: 100%|██████████| 10/10 [00:00<00:00, 49.88it/s]\n",
      "397.0M/819.0M pixels processed: 100%|██████████| 10/10 [00:00<00:00, 51.52it/s]\n",
      "401.0M/819.0M pixels processed: 100%|██████████| 10/10 [00:00<00:00, 45.59it/s]\n",
      "405.0M/819.0M pixels processed: 100%|██████████| 10/10 [00:00<00:00, 48.49it/s]\n",
      "408.0M/819.0M pixels processed: 100%|██████████| 10/10 [00:00<00:00, 48.50it/s]\n",
      "412.0M/819.0M pixels processed: 100%|██████████| 10/10 [00:00<00:00, 53.03it/s]\n",
      "416.0M/819.0M pixels processed: 100%|██████████| 10/10 [00:00<00:00, 48.35it/s]\n",
      "420.0M/819.0M pixels processed: 100%|██████████| 10/10 [00:00<00:00, 54.23it/s]\n",
      "424.0M/819.0M pixels processed: 100%|██████████| 10/10 [00:00<00:00, 50.52it/s]\n",
      "428.0M/819.0M pixels processed: 100%|██████████| 10/10 [00:00<00:00, 51.96it/s]\n",
      "432.0M/819.0M pixels processed: 100%|██████████| 10/10 [00:00<00:00, 46.28it/s]\n",
      "436.0M/819.0M pixels processed: 100%|██████████| 10/10 [00:00<00:00, 49.58it/s]\n",
      "440.0M/819.0M pixels processed: 100%|██████████| 10/10 [00:00<00:00, 51.45it/s]\n",
      "444.0M/819.0M pixels processed: 100%|██████████| 10/10 [00:00<00:00, 56.41it/s]\n",
      "448.0M/819.0M pixels processed: 100%|██████████| 10/10 [00:00<00:00, 53.92it/s]\n",
      "452.0M/819.0M pixels processed: 100%|██████████| 10/10 [00:00<00:00, 48.93it/s]\n",
      "456.0M/819.0M pixels processed: 100%|██████████| 10/10 [00:00<00:00, 50.09it/s]\n",
      "460.0M/819.0M pixels processed: 100%|██████████| 10/10 [00:00<00:00, 45.46it/s]\n",
      "463.0M/819.0M pixels processed: 100%|██████████| 10/10 [00:00<00:00, 53.66it/s]\n",
      "467.0M/819.0M pixels processed: 100%|██████████| 10/10 [00:00<00:00, 50.39it/s]\n",
      "471.0M/819.0M pixels processed: 100%|██████████| 10/10 [00:00<00:00, 47.54it/s]\n",
      "475.0M/819.0M pixels processed: 100%|██████████| 10/10 [00:00<00:00, 50.81it/s]\n",
      "479.0M/819.0M pixels processed: 100%|██████████| 10/10 [00:00<00:00, 48.17it/s]\n",
      "483.0M/819.0M pixels processed: 100%|██████████| 10/10 [00:00<00:00, 54.89it/s]\n",
      "487.0M/819.0M pixels processed: 100%|██████████| 10/10 [00:00<00:00, 46.04it/s]\n",
      "491.0M/819.0M pixels processed: 100%|██████████| 10/10 [00:00<00:00, 52.81it/s]\n",
      "495.0M/819.0M pixels processed: 100%|██████████| 10/10 [00:00<00:00, 49.75it/s]\n",
      "499.0M/819.0M pixels processed: 100%|██████████| 10/10 [00:00<00:00, 50.80it/s]\n",
      "503.0M/819.0M pixels processed: 100%|██████████| 10/10 [00:00<00:00, 50.75it/s]\n",
      "507.0M/819.0M pixels processed: 100%|██████████| 10/10 [00:00<00:00, 48.76it/s]\n",
      "511.0M/819.0M pixels processed: 100%|██████████| 10/10 [00:00<00:00, 53.80it/s]\n",
      "515.0M/819.0M pixels processed: 100%|██████████| 10/10 [00:00<00:00, 48.75it/s]\n",
      "519.0M/819.0M pixels processed: 100%|██████████| 10/10 [00:00<00:00, 52.96it/s]\n",
      "522.0M/819.0M pixels processed: 100%|██████████| 10/10 [00:00<00:00, 50.48it/s]\n",
      "526.0M/819.0M pixels processed: 100%|██████████| 10/10 [00:00<00:00, 49.03it/s]\n",
      "530.0M/819.0M pixels processed: 100%|██████████| 10/10 [00:00<00:00, 50.46it/s]\n",
      "534.0M/819.0M pixels processed: 100%|██████████| 10/10 [00:00<00:00, 51.94it/s]\n",
      "538.0M/819.0M pixels processed: 100%|██████████| 10/10 [00:00<00:00, 50.43it/s]\n",
      "542.0M/819.0M pixels processed: 100%|██████████| 10/10 [00:00<00:00, 52.31it/s]\n",
      "546.0M/819.0M pixels processed: 100%|██████████| 10/10 [00:00<00:00, 50.86it/s]\n",
      "550.0M/819.0M pixels processed: 100%|██████████| 10/10 [00:00<00:00, 47.58it/s]\n",
      "554.0M/819.0M pixels processed: 100%|██████████| 10/10 [00:00<00:00, 48.08it/s]\n",
      "558.0M/819.0M pixels processed: 100%|██████████| 10/10 [00:00<00:00, 56.15it/s]\n",
      "562.0M/819.0M pixels processed: 100%|██████████| 10/10 [00:00<00:00, 50.08it/s]\n",
      "566.0M/819.0M pixels processed: 100%|██████████| 10/10 [00:00<00:00, 46.37it/s]\n",
      "570.0M/819.0M pixels processed: 100%|██████████| 10/10 [00:00<00:00, 49.18it/s]\n",
      "574.0M/819.0M pixels processed: 100%|██████████| 10/10 [00:00<00:00, 45.02it/s]\n",
      "578.0M/819.0M pixels processed: 100%|██████████| 10/10 [00:00<00:00, 50.13it/s]\n",
      "581.0M/819.0M pixels processed: 100%|██████████| 10/10 [00:00<00:00, 49.47it/s]\n",
      "585.0M/819.0M pixels processed: 100%|██████████| 10/10 [00:00<00:00, 48.33it/s]\n",
      "589.0M/819.0M pixels processed: 100%|██████████| 10/10 [00:00<00:00, 52.09it/s]\n",
      "593.0M/819.0M pixels processed: 100%|██████████| 10/10 [00:00<00:00, 47.14it/s]\n",
      "597.0M/819.0M pixels processed: 100%|██████████| 10/10 [00:00<00:00, 48.47it/s]\n",
      "601.0M/819.0M pixels processed: 100%|██████████| 10/10 [00:00<00:00, 50.03it/s]\n",
      "605.0M/819.0M pixels processed: 100%|██████████| 10/10 [00:00<00:00, 46.59it/s]\n",
      "609.0M/819.0M pixels processed: 100%|██████████| 10/10 [00:00<00:00, 51.75it/s]\n",
      "613.0M/819.0M pixels processed: 100%|██████████| 10/10 [00:00<00:00, 49.63it/s]\n",
      "617.0M/819.0M pixels processed: 100%|██████████| 10/10 [00:00<00:00, 46.45it/s]\n",
      "621.0M/819.0M pixels processed: 100%|██████████| 10/10 [00:00<00:00, 48.19it/s]\n",
      "625.0M/819.0M pixels processed: 100%|██████████| 10/10 [00:00<00:00, 47.34it/s]\n",
      "629.0M/819.0M pixels processed: 100%|██████████| 10/10 [00:00<00:00, 49.66it/s]\n",
      "633.0M/819.0M pixels processed: 100%|██████████| 10/10 [00:00<00:00, 50.50it/s]\n",
      "637.0M/819.0M pixels processed: 100%|██████████| 10/10 [00:00<00:00, 51.52it/s]\n",
      "640.0M/819.0M pixels processed: 100%|██████████| 10/10 [00:00<00:00, 46.46it/s]\n",
      "644.0M/819.0M pixels processed: 100%|██████████| 10/10 [00:00<00:00, 53.31it/s]\n",
      "648.0M/819.0M pixels processed: 100%|██████████| 10/10 [00:00<00:00, 51.14it/s]\n",
      "652.0M/819.0M pixels processed: 100%|██████████| 10/10 [00:00<00:00, 47.80it/s]\n",
      "656.0M/819.0M pixels processed: 100%|██████████| 10/10 [00:00<00:00, 56.76it/s]\n",
      "660.0M/819.0M pixels processed: 100%|██████████| 10/10 [00:00<00:00, 47.06it/s]\n",
      "664.0M/819.0M pixels processed: 100%|██████████| 10/10 [00:00<00:00, 51.08it/s]\n",
      "668.0M/819.0M pixels processed: 100%|██████████| 10/10 [00:00<00:00, 49.71it/s]\n",
      "672.0M/819.0M pixels processed: 100%|██████████| 10/10 [00:00<00:00, 51.28it/s]\n",
      "676.0M/819.0M pixels processed: 100%|██████████| 10/10 [00:00<00:00, 51.36it/s]\n",
      "680.0M/819.0M pixels processed: 100%|██████████| 10/10 [00:00<00:00, 55.31it/s]\n",
      "684.0M/819.0M pixels processed: 100%|██████████| 10/10 [00:00<00:00, 48.84it/s]\n",
      "688.0M/819.0M pixels processed: 100%|██████████| 10/10 [00:00<00:00, 52.68it/s]\n",
      "692.0M/819.0M pixels processed: 100%|██████████| 10/10 [00:00<00:00, 51.98it/s]\n",
      "695.0M/819.0M pixels processed: 100%|██████████| 10/10 [00:00<00:00, 48.05it/s]\n",
      "699.0M/819.0M pixels processed: 100%|██████████| 10/10 [00:00<00:00, 53.93it/s]\n",
      "703.0M/819.0M pixels processed: 100%|██████████| 10/10 [00:00<00:00, 49.06it/s]\n",
      "707.0M/819.0M pixels processed: 100%|██████████| 10/10 [00:00<00:00, 47.37it/s]\n",
      "711.0M/819.0M pixels processed: 100%|██████████| 10/10 [00:00<00:00, 47.09it/s]\n",
      "715.0M/819.0M pixels processed: 100%|██████████| 10/10 [00:00<00:00, 46.53it/s]\n",
      "719.0M/819.0M pixels processed: 100%|██████████| 10/10 [00:00<00:00, 49.27it/s]\n",
      "723.0M/819.0M pixels processed: 100%|██████████| 10/10 [00:00<00:00, 52.88it/s]\n",
      "727.0M/819.0M pixels processed: 100%|██████████| 10/10 [00:00<00:00, 47.45it/s]\n",
      "731.0M/819.0M pixels processed: 100%|██████████| 10/10 [00:00<00:00, 55.58it/s]\n",
      "735.0M/819.0M pixels processed: 100%|██████████| 10/10 [00:00<00:00, 51.28it/s]\n",
      "739.0M/819.0M pixels processed: 100%|██████████| 10/10 [00:00<00:00, 34.76it/s]\n",
      "743.0M/819.0M pixels processed: 100%|██████████| 10/10 [00:00<00:00, 32.54it/s]\n",
      "747.0M/819.0M pixels processed: 100%|██████████| 10/10 [00:00<00:00, 49.31it/s]\n",
      "751.0M/819.0M pixels processed: 100%|██████████| 10/10 [00:00<00:00, 53.34it/s]\n",
      "754.0M/819.0M pixels processed: 100%|██████████| 10/10 [00:00<00:00, 49.98it/s]\n",
      "758.0M/819.0M pixels processed: 100%|██████████| 10/10 [00:00<00:00, 50.47it/s]\n",
      "762.0M/819.0M pixels processed: 100%|██████████| 10/10 [00:00<00:00, 52.56it/s]\n",
      "766.0M/819.0M pixels processed: 100%|██████████| 10/10 [00:00<00:00, 47.54it/s]\n",
      "770.0M/819.0M pixels processed: 100%|██████████| 10/10 [00:00<00:00, 47.26it/s]\n",
      "774.0M/819.0M pixels processed: 100%|██████████| 10/10 [00:00<00:00, 51.00it/s]\n",
      "778.0M/819.0M pixels processed: 100%|██████████| 10/10 [00:00<00:00, 48.52it/s]\n",
      "782.0M/819.0M pixels processed: 100%|██████████| 10/10 [00:00<00:00, 53.19it/s]\n",
      "786.0M/819.0M pixels processed: 100%|██████████| 10/10 [00:00<00:00, 50.10it/s]\n",
      "790.0M/819.0M pixels processed: 100%|██████████| 10/10 [00:00<00:00, 49.91it/s]\n",
      "794.0M/819.0M pixels processed: 100%|██████████| 10/10 [00:00<00:00, 52.48it/s]\n",
      "798.0M/819.0M pixels processed: 100%|██████████| 10/10 [00:00<00:00, 49.42it/s]\n",
      "802.0M/819.0M pixels processed: 100%|██████████| 10/10 [00:00<00:00, 51.26it/s]\n",
      "806.0M/819.0M pixels processed: 100%|██████████| 10/10 [00:00<00:00, 51.44it/s]\n",
      "810.0M/819.0M pixels processed: 100%|██████████| 10/10 [00:00<00:00, 48.49it/s]\n",
      "813.0M/819.0M pixels processed: 100%|██████████| 10/10 [00:00<00:00, 52.86it/s]\n",
      "817.0M/819.0M pixels processed: 100%|██████████| 10/10 [00:00<00:00, 47.69it/s]\n",
      "819.0M/819.0M pixels processed:  30%|███       | 3/10 [00:00<00:00, 36.66it/s]\n",
      "  2%|▏         | 208/10000 [00:43<33:50,  4.82it/s]\n"
     ]
    },
    {
     "name": "stdout",
     "output_type": "stream",
     "text": [
      "Random patching set to False\n"
     ]
    },
    {
     "data": {
      "image/png": "[encoded data removed]",
      "text/plain": [
       "<Figure size 640x480 with 1 Axes>"
      ]
     },
     "metadata": {},
     "output_type": "display_data"
    }
   ],
   "source": [
    "from model.normalizer import NormalizerXT\n",
    "from tqdm import tqdm \n",
    "import numpy as np\n",
    "import matplotlib.pyplot as plt\n",
    "from time_prediction_training import get_normalizer\n",
    "\n",
    "normalizer_count = None\n",
    "# val_set.set_random_patching(True)\n",
    "xt_normalizer = NormalizerXT()\n",
    "if 'normalize_channels' in opt['datasets'] and opt['datasets']['normalize_channels'] is True:\n",
    "    pass\n",
    "else:\n",
    "    if evaluate_test_data:\n",
    "        xt_normalizer,data_mean_arr, data_std_arr = get_normalizer(val_set, opt, return_data_arr=True, num_pixels=500_000 * 128 * 128)\n",
    "        # xt_normalizer,data_mean_arr, data_std_arr = get_normalizer(train_set, opt, return_data_arr=True, num_pixels=500_000 * 128 * 128)\n",
    "    else:\n",
    "        xt_normalizer,data_mean_arr, data_std_arr = get_normalizer(train_set, opt, return_data_arr=True)\n",
    "    # val_set.reset_fixed_t()\n",
    "    # val_loader = torch.utils.data.DataLoader(val_set, batch_size=16, shuffle=True, num_workers=0)\n",
    "    # data_mean_arr = []\n",
    "    # data_std_arr = []\n",
    "    # normalizer_count = 100_000\n",
    "    # cnt = 0\n",
    "    # for _ in tqdm(range(normalizer_count)):\n",
    "    #     bar = enumerate(val_loader)\n",
    "    #     for i, (x, t_float) in bar:\n",
    "    #         x = x.cuda()\n",
    "    #         t_float = t_float.cuda()\n",
    "    #         x = xt_normalizer.normalize(x,t_float, update=True)\n",
    "    #         cnt += 1\n",
    "    #         if cnt %10 == 0:\n",
    "    #             data_mean_arr.append(xt_normalizer.data_mean.cpu().numpy())\n",
    "    #             data_std_arr.append(xt_normalizer.data_std.cpu().numpy())\n",
    "\n",
    "    plt.plot(np.stack(data_mean_arr)[:,90])\n",
    "    del data_std_arr\n",
    "    del data_mean_arr\n",
    "    import gc; gc.collect()\n",
    "# val_set.set_random_patching(False)"
   ]
  },
  {
   "cell_type": "code",
   "execution_count": 8,
   "metadata": {},
   "outputs": [
    {
     "name": "stderr",
     "output_type": "stream",
     "text": [
      "  0%|          | 0/11 [00:00<?, ?it/s]"
     ]
    },
    {
     "name": "stderr",
     "output_type": "stream",
     "text": [
      "100%|██████████| 11/11 [03:34<00:00, 19.51s/it]\n"
     ]
    }
   ],
   "source": [
    "from tqdm import tqdm\n",
    "import numpy as np\n",
    "\n",
    "num_timesteps = 10\n",
    "gt = np.arange(0,1.0001,1/num_timesteps)\n",
    "mmse_count = 10\n",
    "\n",
    "pred_arr = []\n",
    "inp_arr = []\n",
    "\n",
    "with torch.no_grad():\n",
    "    for mixing_t in tqdm(gt):\n",
    "        val_set.set_fixed_t(mixing_t)\n",
    "        dloader = torch.utils.data.DataLoader(\n",
    "                    val_set,\n",
    "                    batch_size=16,\n",
    "                    shuffle=False,\n",
    "                    num_workers=2,\n",
    "                    pin_memory=True)\n",
    "        for data in dloader:\n",
    "            inp, t_float = data\n",
    "            assert torch.std(t_float) < 1e-6, f'{t_float}'\n",
    "            assert t_float[0] == mixing_t, f'{t_float} != {mixing_t}'\n",
    "            inp = inp.cuda()\n",
    "            t_float = t_float.cuda()\n",
    "            # if xt_normalizer is dummy then nothing will happen with the following operation.\n",
    "            inp = xt_normalizer.normalize(inp, t_float)\n",
    "            inp_arr.append(inp.cpu().numpy())\n",
    "            tmp_pred_arr = []\n",
    "            for _ in range(mmse_count):\n",
    "                with torch.no_grad():\n",
    "                    pred = model(inp.cuda())\n",
    "                    tmp_pred_arr.append(pred.cpu().numpy())\n",
    "            pred_arr.append(np.median(np.stack(tmp_pred_arr),axis=0))\n",
    "    \n",
    "    all_pred = np.concatenate(pred_arr).reshape(len(gt),-1)\n",
    "    inp_arr = np.concatenate(inp_arr,axis=0)\n"
   ]
  },
  {
   "cell_type": "code",
   "execution_count": 9,
   "metadata": {},
   "outputs": [
    {
     "name": "stdout",
     "output_type": "stream",
     "text": [
      "[0.07116996 0.11586222 0.21141742 0.3053249  0.42262232 0.5464963\n",
      " 0.62029237 0.66553164 0.7293374  0.74773425 0.7608686 ]\n",
      "[0.066466   0.11044938 0.21216899 0.3046463  0.41799885 0.5404623\n",
      " 0.6174205  0.6714835  0.7443503  0.75946975 0.7734084 ]\n"
     ]
    }
   ],
   "source": [
    "print(np.mean(all_pred, axis=1))\n",
    "print(np.median(all_pred, axis=1))"
   ]
  },
  {
   "cell_type": "code",
   "execution_count": 10,
   "metadata": {},
   "outputs": [],
   "source": [
    "all_pred = np.concatenate(pred_arr).reshape(len(gt),-1)\n",
    "inp_arr = np.concatenate(inp_arr,axis=0)\n"
   ]
  },
  {
   "cell_type": "code",
   "execution_count": 11,
   "metadata": {},
   "outputs": [
    {
     "name": "stderr",
     "output_type": "stream",
     "text": [
      "/tmp/ipykernel_50119/357851366.py:8: UserWarning: color is redundantly defined by the 'color' keyword argument and the fmt string \"k--\" (-> color='k'). The keyword argument will take precedence.\n",
      "  ax.plot(gt,gt, 'k--', color='black')\n"
     ]
    },
    {
     "data": {
      "image/png": "[encoded data removed]",
      "text/plain": [
       "<Figure size 640x480 with 1 Axes>"
      ]
     },
     "metadata": {},
     "output_type": "display_data"
    }
   ],
   "source": [
    "import matplotlib.pyplot as plt\n",
    "\n",
    "err = all_pred.std(axis=1)\n",
    "avg_pred = all_pred.mean(axis=1)\n",
    "_,ax  = plt.subplots()\n",
    "# plot with error bars\n",
    "ax.errorbar(gt, avg_pred, yerr=err, fmt='o')\n",
    "ax.plot(gt,gt, 'k--', color='black')\n",
    "ax.set_xlabel('Ground Truth t', fontsize=15)\n",
    "ax.set_ylabel('Predicted t', fontsize=15)\n",
    "# facecolor to gray\n",
    "ax.set_facecolor('lightgray')\n",
    "ax.grid()"
   ]
  },
  {
   "cell_type": "code",
   "execution_count": 12,
   "metadata": {},
   "outputs": [
    {
     "name": "stdout",
     "output_type": "stream",
     "text": [
      "PaviaATN Test NormCount:None RMSE: 0.12074060788026322\n"
     ]
    }
   ],
   "source": [
    "mse = ((all_pred - gt.reshape(-1,1))**2).mean(axis=1)\n",
    "dataset_str = opt['datasets']['train']['name']\n",
    "dataset_str += ' Test' if evaluate_test_data else ' Val'\n",
    "print(f'{dataset_str} NormCount:{normalizer_count} RMSE: {np.sqrt(mse.mean())}')"
   ]
  },
  {
   "cell_type": "code",
   "execution_count": 13,
   "metadata": {},
   "outputs": [
    {
     "name": "stdout",
     "output_type": "stream",
     "text": [
      "PaviaATN Test NormCount:None RMSE wrt Aggregated (mean) prediction: 0.09298626059755215\n",
      "PaviaATN Test NormCount:None RMSE wrt Aggregated (median) prediction: 0.08632064933538974\n"
     ]
    }
   ],
   "source": [
    "mse_mean = ((np.mean(all_pred, axis=1) - gt)**2).mean()\n",
    "mse_median = ((np.median(all_pred, axis=1) - gt)**2).mean()\n",
    "print(f'{dataset_str} NormCount:{normalizer_count} RMSE wrt Aggregated (mean) prediction: {np.sqrt(mse_mean)}')\n",
    "print(f'{dataset_str} NormCount:{normalizer_count} RMSE wrt Aggregated (median) prediction: {np.sqrt(mse_median)}')"
   ]
  },
  {
   "cell_type": "code",
   "execution_count": 14,
   "metadata": {},
   "outputs": [
    {
     "ename": "SyntaxError",
     "evalue": "invalid syntax (1270281443.py, line 4)",
     "output_type": "error",
     "traceback": [
      "\u001b[0;36m  Cell \u001b[0;32mIn[14], line 4\u001b[0;36m\u001b[0m\n\u001b[0;31m    break here\u001b[0m\n\u001b[0m          ^\u001b[0m\n\u001b[0;31mSyntaxError\u001b[0m\u001b[0;31m:\u001b[0m invalid syntax\n"
     ]
    }
   ],
   "source": [
    "# Hagen Test NormCount:None RMSE: 0.1659373146733095\n",
    "# Hagen Test NormCount:None RMSE wrt Aggregated (mean) prediction: 0.11105666373213889\n",
    "# Hagen Test NormCount:None RMSE wrt Aggregated (median) prediction: 0.07165261172589056\n",
    "break here"
   ]
  },
  {
   "cell_type": "code",
   "execution_count": 15,
   "metadata": {},
   "outputs": [
    {
     "name": "stdout",
     "output_type": "stream",
     "text": [
      "(11,) (11,) (11,) (11,)\n",
      "/group/jug/ashesh/indiSplitResults/time_prediction/time_prediction_diffsplit_2503_PaviaATN-UnetClassifier-l2_2_ClassicNormalization-False.npy\n"
     ]
    }
   ],
   "source": [
    "outputdir = '/group/jug/ashesh/indiSplitResults/time_prediction'\n",
    "os.makedirs(outputdir, exist_ok=True)\n",
    "ckpt_str = '_'.join(ckpt.split('/')[-4:])\n",
    "fname = f'time_prediction_{ckpt_str}_ClassicNormalization-{normalize_channels}.npy'\n",
    "fpath = os.path.join(outputdir, fname)\n",
    "print(gt.shape, avg_pred.shape, err.shape, mse.shape)\n",
    "print(fpath)\n",
    "np.save(fpath, {'gt':gt, 'avg_pred':avg_pred, 'err_pred':err, 'mse':mse})"
   ]
  },
  {
   "cell_type": "code",
   "execution_count": null,
   "metadata": {},
   "outputs": [
    {
     "data": {
      "text/plain": [
       "(tensor([214.3438, 353.4065], device='cuda:0'),\n",
       " tensor([167.2630, 237.6893], device='cuda:0'))"
      ]
     },
     "execution_count": 68,
     "metadata": {},
     "output_type": "execute_result"
    },
    {
     "ename": "",
     "evalue": "",
     "output_type": "error",
     "traceback": [
      "\u001b[1;31mnotebook controller is DISPOSED. \n",
      "\u001b[1;31mView Jupyter <a href='command:jupyter.viewOutput'>log</a> for further details."
     ]
    },
    {
     "ename": "",
     "evalue": "",
     "output_type": "error",
     "traceback": [
      "\u001b[1;31mnotebook controller is DISPOSED. \n",
      "\u001b[1;31mView Jupyter <a href='command:jupyter.viewOutput'>log</a> for further details."
     ]
    }
   ],
   "source": [
    "xt_normalizer.data_mean[[0,-1]], xt_normalizer.data_std[[0,-1]]"
   ]
  }
 ],
 "metadata": {
  "kernelspec": {
   "display_name": "usplit_vdi",
   "language": "python",
   "name": "python3"
  },
  "language_info": {
   "codemirror_mode": {
    "name": "ipython",
    "version": 3
   },
   "file_extension": ".py",
   "mimetype": "text/x-python",
   "name": "python",
   "nbconvert_exporter": "python",
   "pygments_lexer": "ipython3",
   "version": "3.9.19"
  }
 },
 "nbformat": 4,
 "nbformat_minor": 2
}
