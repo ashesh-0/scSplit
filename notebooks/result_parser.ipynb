{
 "cells": [
  {
   "cell_type": "code",
   "execution_count": 1,
   "metadata": {},
   "outputs": [],
   "source": [
    "output = \"\"\"\n",
    "Ckpt: 2502/Hagen-joint_indi-l1/57\n",
    "T:1 W:0.1 RealInp:False M:10 TPred:False TPredAgg:False TPredFixed:0.5Norm:50 InfSteps:1\n",
    "\n",
    "BT Removed: PSNR:\t 34.25+-1.326\t34.83+-1.052\n",
    "BT Removed: MicroSSIM:\t 0.980+-0.0020\t0.966+-0.0040\n",
    "BT Removed: MicroS3IM:\t 0.986+-0.0020\t0.980+-0.0010\n",
    "BT Removed: SSIM:\t 0.959+-0.0010\t0.976+-0.0020\n",
    "BT Removed: MSSSIM:\t 0.974+-0.0010\t0.974+-0.0020\n",
    "BT Removed: lpips:\t 0.029+-0.0020\t0.048+-0.0030\n",
    "\n",
    "Weak Ch Pred: PSNR:\t 21.3+-0.985\t22.45+-1.058\n",
    "Weak Ch Pred: MicroSSIM:\t 0.756+-0.0150\t0.837+-0.0100\n",
    "Weak Ch Pred: MicroS3IM:\t 0.806+-0.0140\t0.835+-0.0120\n",
    "Weak Ch Pred: SSIM:\t 0.802+-0.0130\t0.862+-0.0100\n",
    "Weak Ch Pred: MSSSIM:\t 0.822+-0.0130\t0.837+-0.0120\n",
    "Weak Ch Pred: lpips:\t 0.197+-0.0110\t0.200+-0.0120\n",
    "\n",
    "\n",
    "Ckpt: 2502/Hagen-joint_indi-l1/57\n",
    "T:1 W:0.2 RealInp:False M:10 TPred:False TPredAgg:False TPredFixed:0.5Norm:50 InfSteps:1\n",
    "\n",
    "BT Removed: PSNR:\t 33.74+-1.155\t35.65+-1.009\n",
    "BT Removed: MicroSSIM:\t 0.977+-0.0020\t0.966+-0.0030\n",
    "BT Removed: MicroS3IM:\t 0.982+-0.0020\t0.982+-0.0010\n",
    "BT Removed: SSIM:\t 0.955+-0.0010\t0.978+-0.0010\n",
    "BT Removed: MSSSIM:\t 0.973+-0.0010\t0.981+-0.0010\n",
    "BT Removed: lpips:\t 0.030+-0.0020\t0.046+-0.0030\n",
    "\n",
    "Weak Ch Pred: PSNR:\t 25.03+-1.048\t25.14+-1.04\n",
    "Weak Ch Pred: MicroSSIM:\t 0.846+-0.0100\t0.868+-0.0090\n",
    "Weak Ch Pred: MicroS3IM:\t 0.901+-0.0070\t0.880+-0.0110\n",
    "Weak Ch Pred: SSIM:\t 0.864+-0.0070\t0.887+-0.0080\n",
    "Weak Ch Pred: MSSSIM:\t 0.897+-0.0070\t0.876+-0.0100\n",
    "Weak Ch Pred: lpips:\t 0.114+-0.0060\t0.165+-0.0100\n",
    "\n",
    "\n",
    "Ckpt: 2502/Hagen-joint_indi-l1/57\n",
    "T:1 W:0.3 RealInp:False M:10 TPred:False TPredAgg:False TPredFixed:0.5Norm:50 InfSteps:1\n",
    "\n",
    "BT Removed: PSNR:\t 34.01+-0.974\t35.8+-0.876\n",
    "BT Removed: MicroSSIM:\t 0.974+-0.0010\t0.964+-0.0020\n",
    "BT Removed: MicroS3IM:\t 0.980+-0.0010\t0.983+-0.0010\n",
    "BT Removed: SSIM:\t 0.959+-0.0010\t0.978+-0.0020\n",
    "BT Removed: MSSSIM:\t 0.976+-0.0010\t0.984+-0.0010\n",
    "BT Removed: lpips:\t 0.029+-0.0010\t0.047+-0.0040\n",
    "\n",
    "Weak Ch Pred: PSNR:\t 28.57+-0.971\t28.48+-0.884\n",
    "Weak Ch Pred: MicroSSIM:\t 0.908+-0.0060\t0.904+-0.0070\n",
    "Weak Ch Pred: MicroS3IM:\t 0.948+-0.0030\t0.927+-0.0080\n",
    "Weak Ch Pred: SSIM:\t 0.918+-0.0030\t0.917+-0.0060\n",
    "Weak Ch Pred: MSSSIM:\t 0.947+-0.0030\t0.921+-0.0070\n",
    "Weak Ch Pred: lpips:\t 0.063+-0.0030\t0.125+-0.0090\n",
    "\n",
    "\n",
    "\n",
    "Ckpt: 2502/Hagen-joint_indi-l1/57\n",
    "T:1 W:0.4 RealInp:False M:10 TPred:False TPredAgg:False TPredFixed:0.5Norm:50 InfSteps:1\n",
    "\n",
    "BT Removed: PSNR:\t 34.28+-0.796\t35.65+-0.723\n",
    "BT Removed: MicroSSIM:\t 0.971+-0.0010\t0.960+-0.0020\n",
    "BT Removed: MicroS3IM:\t 0.980+-0.0010\t0.982+-0.0010\n",
    "BT Removed: SSIM:\t 0.957+-0.0010\t0.975+-0.0020\n",
    "BT Removed: MSSSIM:\t 0.977+-0.0010\t0.985+-0.0010\n",
    "BT Removed: lpips:\t 0.028+-0.0010\t0.051+-0.0040\n",
    "\n",
    "Weak Ch Pred: PSNR:\t 32.06+-0.763\t31.57+-0.739\n",
    "Weak Ch Pred: MicroSSIM:\t 0.947+-0.0030\t0.932+-0.0040\n",
    "Weak Ch Pred: MicroS3IM:\t 0.971+-0.0010\t0.959+-0.0040\n",
    "Weak Ch Pred: SSIM:\t 0.943+-0.0020\t0.946+-0.0040\n",
    "Weak Ch Pred: MSSSIM:\t 0.970+-0.0010\t0.958+-0.0040\n",
    "Weak Ch Pred: lpips:\t 0.038+-0.0020\t0.088+-0.0070\n",
    "\n",
    "\n",
    "Ckpt: 2502/Hagen-joint_indi-l1/57\n",
    "T:1 W:0.5 RealInp:False M:10 TPred:False TPredAgg:False TPredFixed:0.5Norm:50 InfSteps:1\n",
    "\n",
    "BT Removed: PSNR:\t 34.13+-0.666\t34.14+-0.674\n",
    "BT Removed: MicroSSIM:\t 0.964+-0.0020\t0.950+-0.0030\n",
    "BT Removed: MicroS3IM:\t 0.979+-0.0010\t0.976+-0.0020\n",
    "BT Removed: SSIM:\t 0.950+-0.0010\t0.965+-0.0030\n",
    "BT Removed: MSSSIM:\t 0.977+-0.0010\t0.978+-0.0020\n",
    "BT Removed: lpips:\t 0.029+-0.0010\t0.064+-0.0050\n",
    "\n",
    "Weak Ch Pred: PSNR:\t 34.12+-0.665\t34.14+-0.673\n",
    "Weak Ch Pred: MicroSSIM:\t 0.964+-0.0020\t0.950+-0.0030\n",
    "Weak Ch Pred: MicroS3IM:\t 0.979+-0.0010\t0.976+-0.0020\n",
    "Weak Ch Pred: SSIM:\t 0.950+-0.0010\t0.965+-0.0030\n",
    "Weak Ch Pred: MSSSIM:\t 0.977+-0.0010\t0.978+-0.0020\n",
    "Weak Ch Pred: lpips:\t 0.029+-0.0010\t0.064+-0.0050\n",
    "\"\"\""
   ]
  },
  {
   "cell_type": "code",
   "execution_count": 2,
   "metadata": {},
   "outputs": [],
   "source": [
    "lines = output.split(\"\\n\")"
   ]
  },
  {
   "cell_type": "code",
   "execution_count": 33,
   "metadata": {},
   "outputs": [],
   "source": [
    "psnr_lines = [line for line in lines if \" PSNR:\" in line]\n",
    "ssim_lines = [line for line in lines if \" MSSSIM:\" in line]\n",
    "lpips_lines = [line for line in lines if \" lpips:\" in line]\n",
    "params = [line for line in lines if \"RealInp:\" in line]"
   ]
  },
  {
   "cell_type": "code",
   "execution_count": 34,
   "metadata": {},
   "outputs": [],
   "source": [
    "def get_mixing(param_str):\n",
    "    tokens = param_str.split(\" \")\n",
    "    for token in tokens:\n",
    "        if \"W:\" in token:\n",
    "            return float(token.split(\":\")[1])\n",
    "\n",
    "\n",
    "def squeeze(tokens):\n",
    "    output_tokens = []\n",
    "    for token in tokens:\n",
    "        if token == \"\":\n",
    "            continue\n",
    "\n",
    "        output_tokens.append(token.strip(\" \"))\n",
    "    return output_tokens\n",
    "\n",
    "def parse_line(line):\n",
    "    bt_or_weak, metric_name, metric_token = line.strip().split(\":\")\n",
    "    assert bt_or_weak in [\"BT Removed\", \"Weak Ch Pred\"]\n",
    "    ch1_token, ch2_token = squeeze(metric_token.split('\\t'))\n",
    "    ch1_val, ch1_se = map(float, ch1_token.split(\"+-\"))\n",
    "    ch2_val, ch2_se = map(float, ch2_token.split(\"+-\"))\n",
    "    return {\n",
    "        'state':bt_or_weak, \n",
    "        'metric_name':metric_name, \n",
    "        'value':[ch1_val, ch2_val], \n",
    "        'se': [ch1_se, ch2_se]\n",
    "    }"
   ]
  },
  {
   "cell_type": "code",
   "execution_count": 37,
   "metadata": {},
   "outputs": [],
   "source": [
    "mixing_values = [get_mixing(param) for param in params]\n",
    "psnr_values = [parse_line(line) for line in psnr_lines]\n",
    "ssim_values = [parse_line(line) for line in ssim_lines]\n",
    "lpips_values = [parse_line(line) for line in lpips_lines]\n",
    "assert 2*len(mixing_values) == len(psnr_values) \n",
    "assert 2*len(mixing_values)== len(ssim_values) \n",
    "assert 2*len(mixing_values)==len(lpips_values)"
   ]
  },
  {
   "cell_type": "code",
   "execution_count": 44,
   "metadata": {},
   "outputs": [],
   "source": [
    "import numpy as np\n",
    "\n",
    "def get_values(value_list, w_list):\n",
    "    ch1_values = []\n",
    "    ch2_values = []\n",
    "    w_extended_list = []\n",
    "    for i in range(len(value_list)):\n",
    "        ch1, ch2 = value_list[i]['value']\n",
    "        ch1_values.append(ch1)\n",
    "        ch2_values.append(ch2)\n",
    "        if value_list[i]['state'] == 'BT Removed':\n",
    "            w_extended_list.append(1 - w_list[i//2])\n",
    "        else:\n",
    "            assert value_list[i]['state'] == 'Weak Ch Pred'\n",
    "            w_extended_list.append(w_list[i//2])\n",
    "        \n",
    "    sorted_tuples = sorted(zip(w_extended_list, ch1_values, ch2_values), key=lambda x: x[0])      \n",
    "    return zip(*sorted_tuples)\n",
    "    # np.array(ch1_values), np.array(ch2_values), np.array(w_extended_list)"
   ]
  },
  {
   "cell_type": "code",
   "execution_count": 52,
   "metadata": {},
   "outputs": [
    {
     "name": "stdout",
     "output_type": "stream",
     "text": [
      "W (0.1, 0.2, 0.3, 0.4, 0.5, 0.5, 0.6, 0.7, 0.8, 0.9)\n",
      "PSNR (21.3, 25.03, 28.57, 32.06, 34.13, 34.12, 34.28, 34.01, 33.74, 34.25) (22.45, 25.14, 28.48, 31.57, 34.14, 34.14, 35.65, 35.8, 35.65, 34.83)\n",
      "W (0.1, 0.2, 0.3, 0.4, 0.5, 0.5, 0.6, 0.7, 0.8, 0.9)\n",
      "SSIM (0.822, 0.897, 0.947, 0.97, 0.977, 0.977, 0.977, 0.976, 0.973, 0.974) (0.837, 0.876, 0.921, 0.958, 0.978, 0.978, 0.985, 0.984, 0.981, 0.974)\n",
      "W (0.1, 0.2, 0.3, 0.4, 0.5, 0.5, 0.6, 0.7, 0.8, 0.9)\n",
      "LPIPS (0.197, 0.114, 0.063, 0.038, 0.029, 0.029, 0.028, 0.029, 0.03, 0.029) (0.2, 0.165, 0.125, 0.088, 0.064, 0.064, 0.051, 0.047, 0.046, 0.048)\n"
     ]
    }
   ],
   "source": [
    "w_extended_list,ch1_psnr, ch2_psnr = get_values(psnr_values, mixing_values)\n",
    "print('W', w_extended_list)\n",
    "print('PSNR', ch1_psnr, ch2_psnr)\n",
    "\n",
    "w_extended_list,ch1_ssim, ch2_ssim = get_values(ssim_values, mixing_values)\n",
    "print('W', w_extended_list)\n",
    "print('SSIM', ch1_ssim, ch2_ssim)\n",
    "\n",
    "w_extended_list,ch1_lpips, ch2_lpips = get_values(lpips_values, mixing_values)\n",
    "print('W', w_extended_list)\n",
    "print('LPIPS', ch1_lpips, ch2_lpips)"
   ]
  },
  {
   "cell_type": "markdown",
   "metadata": {},
   "source": [
    "## Grouping in 3"
   ]
  },
  {
   "cell_type": "code",
   "execution_count": 57,
   "metadata": {},
   "outputs": [
    {
     "name": "stdout",
     "output_type": "stream",
     "text": [
      "W (0.1, 0.2, 0.3) (0.4, 0.5, 0.5) (0.6, 0.7, 0.8)\n",
      "PSNR 25.16 33.36 34.85\n",
      "MSSSIM 0.883 0.973 0.979\n",
      "LPIPS 0.144 0.052 0.038\n"
     ]
    }
   ],
   "source": [
    "psnr = (np.array(ch1_psnr) + np.array(ch2_psnr))/2\n",
    "ssim = (np.array(ch1_ssim) + np.array(ch2_ssim))/2\n",
    "lpips = (np.array(ch1_lpips) + np.array(ch2_lpips))/2\n",
    "print('W', w_extended_list[0:3], w_extended_list[3:6], w_extended_list[6:9])\n",
    "print(f'PSNR {psnr[:3].mean():.2f} {psnr[3:6].mean():.2f} {psnr[6:9].mean():.2f}')\n",
    "print(f'MSSSIM {ssim[:3].mean():.3f} {ssim[3:6].mean():.3f} {ssim[6:9].mean():.3f}')\n",
    "print(f'LPIPS {lpips[:3].mean():.3f} {lpips[3:6].mean():.3f} {lpips[6:9].mean():.3f}')\n"
   ]
  },
  {
   "cell_type": "code",
   "execution_count": null,
   "metadata": {},
   "outputs": [],
   "source": []
  }
 ],
 "metadata": {
  "kernelspec": {
   "display_name": "Python 3",
   "language": "python",
   "name": "python3"
  },
  "language_info": {
   "codemirror_mode": {
    "name": "ipython",
    "version": 3
   },
   "file_extension": ".py",
   "mimetype": "text/x-python",
   "name": "python",
   "nbconvert_exporter": "python",
   "pygments_lexer": "ipython3",
   "version": "3.9.19"
  }
 },
 "nbformat": 4,
 "nbformat_minor": 2
}
