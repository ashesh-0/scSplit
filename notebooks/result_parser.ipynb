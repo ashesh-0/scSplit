{
 "cells": [
  {
   "cell_type": "code",
   "execution_count": 1,
   "metadata": {},
   "outputs": [],
   "source": [
    "output = \"\"\"\n",
    "Ckpt: 2503/PaviaATN-joint_indi-l1/4\n",
    "Classifier: 2503/PaviaATN-UnetClassifier-l2/2\n",
    "T:10000 W:0.1 RealInp:False M:10 TPred:True TPredAgg:True TPredFixed:NoneNorm:10000 InfSteps:10000\n",
    "\n",
    "BT Removed: PSNR:\t 37.07+-0.233\t38.13+-0.227\n",
    "BT Removed: MicroSSIM:\t 0.987+-0.0020\t0.976+-0.0000\n",
    "BT Removed: MicroS3IM:\t 0.995+-0.0000\t0.986+-0.0000\n",
    "BT Removed: SSIM:\t 0.997+-0.0000\t0.983+-0.0000\n",
    "BT Removed: MSSSIM:\t 0.996+-0.0000\t0.986+-0.0000\n",
    "BT Removed: lpips:\t 0.008+-0.0000\t0.020+-0.0000\n",
    "\n",
    "Weak Ch Pred: PSNR:\t 23.03+-0.13\t22.61+-0.254\n",
    "Weak Ch Pred: MicroSSIM:\t 0.477+-0.0060\t0.428+-0.0090\n",
    "Weak Ch Pred: MicroS3IM:\t 0.783+-0.0040\t0.753+-0.0070\n",
    "Weak Ch Pred: SSIM:\t 0.497+-0.0030\t0.478+-0.0100\n",
    "Weak Ch Pred: MSSSIM:\t 0.790+-0.0030\t0.776+-0.0060\n",
    "Weak Ch Pred: lpips:\t 0.463+-0.0050\t0.494+-0.0030\n",
    "\n",
    "\n",
    "Ckpt: 2503/PaviaATN-joint_indi-l1/4\n",
    "Classifier: 2503/PaviaATN-UnetClassifier-l2/2\n",
    "T:10000 W:0.2 RealInp:False M:10 TPred:True TPredAgg:True TPredFixed:NoneNorm:10000 InfSteps:10000\n",
    "\n",
    "BT Removed: PSNR:\t 36.93+-0.265\t33.46+-0.227\n",
    "BT Removed: MicroSSIM:\t 0.980+-0.0020\t0.925+-0.0010\n",
    "BT Removed: MicroS3IM:\t 0.993+-0.0000\t0.964+-0.0010\n",
    "BT Removed: SSIM:\t 0.991+-0.0000\t0.933+-0.0010\n",
    "BT Removed: MSSSIM:\t 0.994+-0.0000\t0.965+-0.0010\n",
    "BT Removed: lpips:\t 0.012+-0.0000\t0.050+-0.0010\n",
    "\n",
    "Weak Ch Pred: PSNR:\t 25.48+-0.117\t23.45+-0.298\n",
    "Weak Ch Pred: MicroSSIM:\t 0.595+-0.0050\t0.455+-0.0080\n",
    "Weak Ch Pred: MicroS3IM:\t 0.855+-0.0020\t0.771+-0.0070\n",
    "Weak Ch Pred: SSIM:\t 0.615+-0.0020\t0.498+-0.0090\n",
    "Weak Ch Pred: MSSSIM:\t 0.862+-0.0020\t0.794+-0.0060\n",
    "Weak Ch Pred: lpips:\t 0.268+-0.0030\t0.458+-0.0030\n",
    "\n",
    "Ckpt: 2503/PaviaATN-joint_indi-l1/4\n",
    "Classifier: 2503/PaviaATN-UnetClassifier-l2/2\n",
    "T:10000 W:0.3 RealInp:False M:10 TPred:True TPredAgg:True TPredFixed:NoneNorm:10000 InfSteps:10000\n",
    "\n",
    "BT Removed: PSNR:\t 34.83+-0.247\t30.18+-0.264\n",
    "BT Removed: MicroSSIM:\t 0.964+-0.0020\t0.842+-0.0020\n",
    "BT Removed: MicroS3IM:\t 0.987+-0.0000\t0.933+-0.0020\n",
    "BT Removed: SSIM:\t 0.978+-0.0000\t0.851+-0.0020\n",
    "BT Removed: MSSSIM:\t 0.989+-0.0000\t0.934+-0.0020\n",
    "BT Removed: lpips:\t 0.022+-0.0000\t0.087+-0.0010\n",
    "\n",
    "Weak Ch Pred: PSNR:\t 27.17+-0.159\t24.1+-0.34\n",
    "Weak Ch Pred: MicroSSIM:\t 0.716+-0.0030\t0.492+-0.0080\n",
    "Weak Ch Pred: MicroS3IM:\t 0.901+-0.0010\t0.786+-0.0060\n",
    "Weak Ch Pred: SSIM:\t 0.736+-0.0010\t0.528+-0.0090\n",
    "Weak Ch Pred: MSSSIM:\t 0.907+-0.0010\t0.810+-0.0060\n",
    "Weak Ch Pred: lpips:\t 0.164+-0.0020\t0.414+-0.0030\n",
    "\n",
    "\n",
    "Ckpt: 2503/PaviaATN-joint_indi-l1/4\n",
    "Classifier: 2503/PaviaATN-UnetClassifier-l2/2\n",
    "T:10000 W:0.4 RealInp:False M:10 TPred:True TPredAgg:True TPredFixed:NoneNorm:10000 InfSteps:10000\n",
    "\n",
    "BT Removed: PSNR:\t 31.81+-0.241\t26.95+-0.337\n",
    "BT Removed: MicroSSIM:\t 0.936+-0.0020\t0.737+-0.0040\n",
    "BT Removed: MicroS3IM:\t 0.977+-0.0010\t0.884+-0.0040\n",
    "BT Removed: SSIM:\t 0.953+-0.0000\t0.751+-0.0040\n",
    "BT Removed: MSSSIM:\t 0.978+-0.0000\t0.890+-0.0040\n",
    "BT Removed: lpips:\t 0.037+-0.0000\t0.146+-0.0020\n",
    "\n",
    "Weak Ch Pred: PSNR:\t 28.07+-0.248\t24.52+-0.367\n",
    "Weak Ch Pred: MicroSSIM:\t 0.817+-0.0020\t0.546+-0.0070\n",
    "Weak Ch Pred: MicroS3IM:\t 0.934+-0.0010\t0.803+-0.0060\n",
    "Weak Ch Pred: SSIM:\t 0.838+-0.0000\t0.573+-0.0080\n",
    "Weak Ch Pred: MSSSIM:\t 0.937+-0.0010\t0.826+-0.0060\n",
    "Weak Ch Pred: lpips:\t 0.098+-0.0010\t0.345+-0.0030\n",
    "\n",
    "\n",
    "Ckpt: 2503/PaviaATN-joint_indi-l1/4\n",
    "Classifier: 2503/PaviaATN-UnetClassifier-l2/2\n",
    "T:10000 W:0.5 RealInp:False M:10 TPred:True TPredAgg:True TPredFixed:NoneNorm:10000 InfSteps:10000\n",
    "\n",
    "BT Removed: PSNR:\t 29.14+-0.275\t24.95+-0.357\n",
    "BT Removed: MicroSSIM:\t 0.890+-0.0020\t0.629+-0.0050\n",
    "BT Removed: MicroS3IM:\t 0.958+-0.0010\t0.832+-0.0060\n",
    "BT Removed: SSIM:\t 0.909+-0.0000\t0.647+-0.0060\n",
    "BT Removed: MSSSIM:\t 0.960+-0.0010\t0.849+-0.0050\n",
    "BT Removed: lpips:\t 0.060+-0.0000\t0.242+-0.0030\n",
    "\n",
    "Weak Ch Pred: PSNR:\t 29.13+-0.267\t25.0+-0.375\n",
    "Weak Ch Pred: MicroSSIM:\t 0.888+-0.0020\t0.626+-0.0050\n",
    "Weak Ch Pred: MicroS3IM:\t 0.958+-0.0010\t0.831+-0.0060\n",
    "Weak Ch Pred: SSIM:\t 0.909+-0.0000\t0.645+-0.0060\n",
    "Weak Ch Pred: MSSSIM:\t 0.960+-0.0010\t0.848+-0.0060\n",
    "Weak Ch Pred: lpips:\t 0.061+-0.0000\t0.249+-0.0030\n",
    "\n",
    "\"\"\""
   ]
  },
  {
   "cell_type": "code",
   "execution_count": 2,
   "metadata": {},
   "outputs": [],
   "source": [
    "lines = output.split(\"\\n\")"
   ]
  },
  {
   "cell_type": "code",
   "execution_count": 3,
   "metadata": {},
   "outputs": [
    {
     "name": "stdout",
     "output_type": "stream",
     "text": [
      "PSNR BT Removed: PSNR:\t 37.07+-0.233\t38.13+-0.227\n",
      "SSIM BT Removed: MSSSIM:\t 0.996+-0.0000\t0.986+-0.0000\n",
      "LPIPS BT Removed: lpips:\t 0.008+-0.0000\t0.020+-0.0000\n",
      "Params T:10000 W:0.1 RealInp:False M:10 TPred:True TPredAgg:True TPredFixed:NoneNorm:10000 InfSteps:10000\n"
     ]
    }
   ],
   "source": [
    "psnr_lines = [line for line in lines if \"PSNR:\" in line]\n",
    "ssim_lines = [line for line in lines if \"MSSSIM:\" in line]\n",
    "lpips_lines = [line for line in lines if \"lpips:\" in line]\n",
    "params = [line for line in lines if \"W:\" in line]\n",
    "\n",
    "print(\"PSNR\", psnr_lines[0])\n",
    "print(\"SSIM\", ssim_lines[0])\n",
    "print(\"LPIPS\", lpips_lines[0])\n",
    "print(\"Params\", params[0])"
   ]
  },
  {
   "cell_type": "code",
   "execution_count": 4,
   "metadata": {},
   "outputs": [
    {
     "data": {
      "text/plain": [
       "['T:10000 W:0.1 RealInp:False M:10 TPred:True TPredAgg:True TPredFixed:NoneNorm:10000 InfSteps:10000',\n",
       " 'T:10000 W:0.2 RealInp:False M:10 TPred:True TPredAgg:True TPredFixed:NoneNorm:10000 InfSteps:10000',\n",
       " 'T:10000 W:0.3 RealInp:False M:10 TPred:True TPredAgg:True TPredFixed:NoneNorm:10000 InfSteps:10000',\n",
       " 'T:10000 W:0.4 RealInp:False M:10 TPred:True TPredAgg:True TPredFixed:NoneNorm:10000 InfSteps:10000',\n",
       " 'T:10000 W:0.5 RealInp:False M:10 TPred:True TPredAgg:True TPredFixed:NoneNorm:10000 InfSteps:10000']"
      ]
     },
     "execution_count": 4,
     "metadata": {},
     "output_type": "execute_result"
    }
   ],
   "source": [
    "\n",
    "params"
   ]
  },
  {
   "cell_type": "code",
   "execution_count": 5,
   "metadata": {},
   "outputs": [],
   "source": [
    "def get_mixing(param_str):\n",
    "    tokens = param_str.split(\" \")\n",
    "    for token in tokens:\n",
    "        if \"W:\" in token:\n",
    "            return float(token.split(\":\")[1])\n",
    "\n",
    "\n",
    "def squeeze(tokens):\n",
    "    output_tokens = []\n",
    "    for token in tokens:\n",
    "        if token == \"\":\n",
    "            continue\n",
    "\n",
    "        output_tokens.append(token.strip(\" \"))\n",
    "    return output_tokens\n",
    "\n",
    "def parse_line(line):\n",
    "    bt_or_weak, metric_name, metric_token = line.strip().split(\":\")\n",
    "    assert bt_or_weak in [\"BT Removed\", \"Weak Ch Pred\"]\n",
    "    ch1_token, ch2_token = squeeze(metric_token.split('\\t'))\n",
    "    ch1_val, ch1_se = map(float, ch1_token.split(\"+-\"))\n",
    "    ch2_val, ch2_se = map(float, ch2_token.split(\"+-\"))\n",
    "    return {\n",
    "        'state':bt_or_weak, \n",
    "        'metric_name':metric_name, \n",
    "        'value':[ch1_val, ch2_val], \n",
    "        'se': [ch1_se, ch2_se]\n",
    "    }"
   ]
  },
  {
   "cell_type": "code",
   "execution_count": 6,
   "metadata": {},
   "outputs": [],
   "source": [
    "mixing_values = [get_mixing(param) for param in params]\n",
    "psnr_values = [parse_line(line) for line in psnr_lines]\n",
    "ssim_values = [parse_line(line) for line in ssim_lines]\n",
    "lpips_values = [parse_line(line) for line in lpips_lines]\n",
    "assert 2*len(mixing_values) == len(psnr_values) \n",
    "assert 2*len(mixing_values)== len(ssim_values) \n",
    "assert 2*len(mixing_values)==len(lpips_values)"
   ]
  },
  {
   "cell_type": "code",
   "execution_count": 7,
   "metadata": {},
   "outputs": [],
   "source": [
    "import numpy as np\n",
    "\n",
    "def get_values(value_list, w_list, key='value'):\n",
    "    ch1_values = []\n",
    "    ch2_values = []\n",
    "    w_extended_list = []\n",
    "    for i in range(len(value_list)):\n",
    "        ch1, ch2 = value_list[i][key]\n",
    "        ch1_values.append(ch1)\n",
    "        ch2_values.append(ch2)\n",
    "        if value_list[i]['state'] == 'BT Removed':\n",
    "            w_extended_list.append(1 - w_list[i//2])\n",
    "        else:\n",
    "            assert value_list[i]['state'] == 'Weak Ch Pred'\n",
    "            w_extended_list.append(w_list[i//2])\n",
    "        \n",
    "    sorted_tuples = sorted(zip(w_extended_list, ch1_values, ch2_values), key=lambda x: x[0])      \n",
    "    w_extended_list, ch1_values, ch2_values = zip(*sorted_tuples)\n",
    "    # 0.5 occurs twice, so we need to pick the first\n",
    "    w_extended_list = list(w_extended_list)\n",
    "    ch1_values = list(ch1_values)\n",
    "    ch2_values = list(ch2_values)\n",
    "    \n",
    "    assert len(w_extended_list) == 10\n",
    "    assert w_extended_list[4] == 0.5\n",
    "    assert w_extended_list[5] == 0.5\n",
    "    w_extended_list.pop(5)\n",
    "    ch1_values.pop(5)\n",
    "    ch2_values.pop(5)\n",
    "    return w_extended_list, ch1_values, ch2_values\n",
    "    # np.array(ch1_values), np.array(ch2_values), np.array(w_extended_list)"
   ]
  },
  {
   "cell_type": "code",
   "execution_count": 8,
   "metadata": {},
   "outputs": [
    {
     "name": "stdout",
     "output_type": "stream",
     "text": [
      "W [0.1, 0.2, 0.3, 0.4, 0.5, 0.6, 0.7, 0.8, 0.9]\n",
      "PSNR [23.03, 25.48, 27.17, 28.07, 29.14, 31.81, 34.83, 36.93, 37.07] [22.61, 23.45, 24.1, 24.52, 24.95, 26.95, 30.18, 33.46, 38.13]\n",
      "W [0.1, 0.2, 0.3, 0.4, 0.5, 0.6, 0.7, 0.8, 0.9]\n",
      "SSIM [0.79, 0.862, 0.907, 0.937, 0.96, 0.978, 0.989, 0.994, 0.996] [0.776, 0.794, 0.81, 0.826, 0.849, 0.89, 0.934, 0.965, 0.986]\n",
      "W [0.1, 0.2, 0.3, 0.4, 0.5, 0.6, 0.7, 0.8, 0.9]\n",
      "LPIPS [0.463, 0.268, 0.164, 0.098, 0.06, 0.037, 0.022, 0.012, 0.008] [0.494, 0.458, 0.414, 0.345, 0.242, 0.146, 0.087, 0.05, 0.02]\n"
     ]
    }
   ],
   "source": [
    "w_extended_list,ch1_psnr, ch2_psnr = get_values(psnr_values, mixing_values)\n",
    "assert len(w_extended_list) == len(set(w_extended_list)), \"Duplicate values\"\n",
    "\n",
    "print('W', w_extended_list)\n",
    "print('PSNR', ch1_psnr, ch2_psnr)\n",
    "\n",
    "w_extended_list,ch1_ssim, ch2_ssim = get_values(ssim_values, mixing_values)\n",
    "print('W', w_extended_list)\n",
    "print('SSIM', ch1_ssim, ch2_ssim)\n",
    "\n",
    "w_extended_list,ch1_lpips, ch2_lpips = get_values(lpips_values, mixing_values)\n",
    "print('W', w_extended_list)\n",
    "print('LPIPS', ch1_lpips, ch2_lpips)"
   ]
  },
  {
   "cell_type": "code",
   "execution_count": 9,
   "metadata": {},
   "outputs": [
    {
     "name": "stdout",
     "output_type": "stream",
     "text": [
      "W [0.1, 0.2, 0.3, 0.4, 0.5, 0.6, 0.7, 0.8, 0.9]\n",
      "PSNR SE [0.13, 0.117, 0.159, 0.248, 0.275, 0.241, 0.247, 0.265, 0.233] [0.254, 0.298, 0.34, 0.367, 0.357, 0.337, 0.264, 0.227, 0.227]\n",
      "W [0.1, 0.2, 0.3, 0.4, 0.5, 0.6, 0.7, 0.8, 0.9]\n",
      "SSIM SE [0.003, 0.002, 0.001, 0.001, 0.001, 0.0, 0.0, 0.0, 0.0] [0.006, 0.006, 0.006, 0.006, 0.005, 0.004, 0.002, 0.001, 0.0]\n",
      "W [0.1, 0.2, 0.3, 0.4, 0.5, 0.6, 0.7, 0.8, 0.9]\n",
      "LPIPS SE [0.005, 0.003, 0.002, 0.001, 0.0, 0.0, 0.0, 0.0, 0.0] [0.003, 0.003, 0.003, 0.003, 0.003, 0.002, 0.001, 0.001, 0.0]\n"
     ]
    }
   ],
   "source": [
    "w_extended_list_se,ch1_psnr_se, ch2_psnr_se = get_values(psnr_values, mixing_values, key='se')\n",
    "assert len(w_extended_list_se) == len(set(w_extended_list_se)), \"Duplicate values\"\n",
    "\n",
    "print('W', w_extended_list_se)\n",
    "print('PSNR SE', ch1_psnr_se, ch2_psnr_se)\n",
    "\n",
    "w_extended_list_se,ch1_ssim_se, ch2_ssim_se = get_values(ssim_values, mixing_values, key='se')\n",
    "print('W', w_extended_list_se)\n",
    "print('SSIM SE', ch1_ssim_se, ch2_ssim_se)\n",
    "\n",
    "w_extended_list_se,ch1_lpips_se, ch2_lpips_se = get_values(lpips_values, mixing_values, key='se')\n",
    "print('W', w_extended_list_se)\n",
    "print('LPIPS SE', ch1_lpips_se, ch2_lpips_se)"
   ]
  },
  {
   "cell_type": "markdown",
   "metadata": {},
   "source": [
    "## Grouping in 3"
   ]
  },
  {
   "cell_type": "code",
   "execution_count": 10,
   "metadata": {},
   "outputs": [
    {
     "name": "stdout",
     "output_type": "stream",
     "text": [
      "W [0.9, 0.8, 0.7] [0.6, 0.5, 0.4] [0.3, 0.2, 0.1]\n",
      "PSNR 35.1 27.6 24.3\n",
      "MSSSIM 0.977 0.907 0.823\n",
      "LPIPS 0.033 0.155 0.377\n"
     ]
    }
   ],
   "source": [
    "psnr = (np.array(ch1_psnr) + np.array(ch2_psnr))/2\n",
    "ssim = (np.array(ch1_ssim) + np.array(ch2_ssim))/2\n",
    "lpips = (np.array(ch1_lpips) + np.array(ch2_lpips))/2\n",
    "\n",
    "psnr = psnr[::-1]\n",
    "ssim = ssim[::-1]\n",
    "lpips = lpips[::-1]\n",
    "w_extended_list = w_extended_list[::-1]\n",
    "print('W', w_extended_list[0:3], w_extended_list[3:6], w_extended_list[6:9])\n",
    "print(f'PSNR {psnr[:3].mean():.1f} {psnr[3:6].mean():.1f} {psnr[6:9].mean():.1f}')\n",
    "print(f'MSSSIM {ssim[:3].mean():.3f} {ssim[3:6].mean():.3f} {ssim[6:9].mean():.3f}')\n",
    "print(f'LPIPS {lpips[:3].mean():.3f} {lpips[3:6].mean():.3f} {lpips[6:9].mean():.3f}')\n"
   ]
  },
  {
   "cell_type": "code",
   "execution_count": 12,
   "metadata": {},
   "outputs": [
    {
     "name": "stdout",
     "output_type": "stream",
     "text": [
      "W [0.1, 0.2, 0.3] [0.4, 0.5, 0.6] [0.7, 0.8, 0.9]\n",
      "PSNR_se 0.2 0.3 0.2\n",
      "MSSSIM_se 0.001 0.003 0.004\n",
      "LPIPS_se 0.000 0.002 0.003\n"
     ]
    }
   ],
   "source": [
    "psnr_se = (np.array(ch1_psnr_se) + np.array(ch2_psnr_se))/2\n",
    "ssim_se = (np.array(ch1_ssim_se) + np.array(ch2_ssim_se))/2\n",
    "lpips_se = (np.array(ch1_lpips_se) + np.array(ch2_lpips_se))/2\n",
    "\n",
    "psnr_se = psnr_se[::-1]\n",
    "ssim_se = ssim_se[::-1]\n",
    "lpips_se = lpips_se[::-1]\n",
    "w_extended_list = w_extended_list[::-1]\n",
    "print('W', w_extended_list[0:3], w_extended_list[3:6], w_extended_list[6:9])\n",
    "print(f'PSNR_se {psnr_se[:3].mean():.1f} {psnr_se[3:6].mean():.1f} {psnr_se[6:9].mean():.1f}')\n",
    "print(f'MSSSIM_se {ssim_se[:3].mean():.3f} {ssim_se[3:6].mean():.3f} {ssim_se[6:9].mean():.3f}')\n",
    "print(f'LPIPS_se {lpips_se[:3].mean():.3f} {lpips_se[3:6].mean():.3f} {lpips_se[6:9].mean():.3f}')"
   ]
  },
  {
   "cell_type": "code",
   "execution_count": 13,
   "metadata": {},
   "outputs": [],
   "source": [
    "def print_one_line(psnr_arr, ssim_arr, lpips_arr):\n",
    "    dominant_str = f'{psnr_arr[:3].mean():.1f} & {ssim_arr[:3].mean():.3f} & {lpips_arr[:3].mean():.3f}'\n",
    "    balanced_str = f'{psnr_arr[3:6].mean():.1f} & {ssim_arr[3:6].mean():.3f} & {lpips_arr[3:6].mean():.3f}'\n",
    "    weak_str = f'{psnr_arr[6:9].mean():.1f} & {ssim_arr[6:9].mean():.3f} & {lpips_arr[6:9].mean():.3f}'\n",
    "    print(f'{dominant_str} & {balanced_str} & {weak_str}')"
   ]
  },
  {
   "cell_type": "code",
   "execution_count": 14,
   "metadata": {},
   "outputs": [
    {
     "name": "stdout",
     "output_type": "stream",
     "text": [
      "0.2 & 0.001 & 0.000 & 0.3 & 0.003 & 0.002 & 0.2 & 0.004 & 0.003\n"
     ]
    }
   ],
   "source": [
    "print_one_line(psnr_se, ssim_se, lpips_se)"
   ]
  },
  {
   "cell_type": "code",
   "execution_count": 15,
   "metadata": {},
   "outputs": [
    {
     "name": "stdout",
     "output_type": "stream",
     "text": [
      "35.1 & 0.977 & 0.033 & 27.6 & 0.907 & 0.155 & 24.3 & 0.823 & 0.377\n"
     ]
    }
   ],
   "source": [
    "print_one_line(psnr, ssim, lpips)"
   ]
  },
  {
   "cell_type": "code",
   "execution_count": null,
   "metadata": {},
   "outputs": [],
   "source": []
  }
 ],
 "metadata": {
  "kernelspec": {
   "display_name": "Python 3",
   "language": "python",
   "name": "python3"
  },
  "language_info": {
   "codemirror_mode": {
    "name": "ipython",
    "version": 3
   },
   "file_extension": ".py",
   "mimetype": "text/x-python",
   "name": "python",
   "nbconvert_exporter": "python",
   "pygments_lexer": "ipython3",
   "version": "3.9.19"
  }
 },
 "nbformat": 4,
 "nbformat_minor": 2
}
