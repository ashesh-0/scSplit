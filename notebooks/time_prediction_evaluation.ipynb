{
 "cells": [
  {
   "cell_type": "code",
   "execution_count": 1,
   "metadata": {},
   "outputs": [],
   "source": [
    "import sys\n",
    "sys.path.append('..')"
   ]
  },
  {
   "cell_type": "code",
   "execution_count": 2,
   "metadata": {},
   "outputs": [],
   "source": [
    "# ckpt = '2501/COSEM_jrc-hela-UnetClassifier-l2/3/'\n",
    "# ckpt = '2501/COSEM_jrc-hela-UnetClassifier-l2/6'\n",
    "# ckpt = '2502/HT_LIF24-UnetClassifier-l2/3'\n",
    "# ckpt = '/group/jug/ashesh/training/diffsplit/2502/BioSR-UnetClassifier-l2/4/'\n",
    "# ckpt = '/group/jug/ashesh/training/diffsplit/2502/Hagen-UnetClassifier-l2/11'\n",
    "# ckpt = '/group/jug/ashesh/training/diffsplit/2502/COSEM_jrc-hela-UnetClassifier-l2/14'\n",
    "ckpt = '/group/jug/ashesh/training/diffsplit/2502/COSEM_jrc-choroid-plexus-2-UnetClassifier-l2/3'\n",
    "evaluate_test_data = True\n",
    "# num_timesteps_normalization = 100_000\n",
    "# if normalize_channels is None, we use the setting (True/False) present in the trained model.\n",
    "# if normalize_channels is True, then we normalize the channels in the dataset and xt_normalizer, defined below is dummy\n",
    "# if normalize_channels is False, then we do not normalize the channels in the dataset and xt_normalizer, defined below normalizes the individual channels.\n",
    "normalize_channels = False\n",
    "assert normalize_channels in [None, True, False]\n",
    "training_rootdir = '/group/jug/ashesh/training/diffsplit/'"
   ]
  },
  {
   "cell_type": "code",
   "execution_count": 3,
   "metadata": {},
   "outputs": [],
   "source": [
    "import yaml\n",
    "import os\n",
    "import glob\n",
    "import torch\n",
    "\n",
    "def model_checkpoint_fpath(ckpt, fname=None):\n",
    "    ckpt_dir = os.path.join(training_rootdir, ckpt, 'checkpoint')\n",
    "    if fname is not None:\n",
    "        return os.path.join(training_rootdir, ckpt, fname)\n",
    "    else:\n",
    "        list_of_files = glob.glob(ckpt_dir +'/*_gen.pth') # * means all if need specific format then *.csv\n",
    "        latest_file = max(list_of_files, key=os.path.getctime)\n",
    "        fname = latest_file\n",
    "        return os.path.join(ckpt_dir,latest_file)\n",
    "\n",
    "def model_checkpoint_fpath_prefix(ckpt, fname=None):\n",
    "    fpath = model_checkpoint_fpath(ckpt, fname)\n",
    "    suffix = '_gen.pth'\n",
    "    assert fpath.endswith(suffix)\n",
    "    return fpath[:-len(suffix)]\n",
    "\n",
    "def load_config(ckpt):\n",
    "    config_path = os.path.join(training_rootdir,ckpt,'wandb/latest-run/files/config.yaml')\n",
    "\n",
    "    with open(config_path) as stream:\n",
    "        try:\n",
    "            opt = yaml.safe_load(stream)\n",
    "        except yaml.YAMLError as exc:\n",
    "            print(exc)\n",
    "    \n",
    "    keys = [\"name\",\"phase\",\"gpu_ids\",\"path\",\"datasets\",\"model\",\"train\"]\n",
    "    return {k: opt[k]['value'] for k in keys}"
   ]
  },
  {
   "cell_type": "code",
   "execution_count": 4,
   "metadata": {},
   "outputs": [
    {
     "name": "stderr",
     "output_type": "stream",
     "text": [
      "/localscratch/miniforge3/envs/usplit_vdi/lib/python3.9/site-packages/albumentations/__init__.py:28: UserWarning: A new version of Albumentations is available: '2.0.5' (you have '2.0.4'). Upgrade using: pip install -U albumentations. To disable automatic update checks, set the environment variable NO_ALBUMENTATIONS_UPDATE to 1.\n",
      "  check_for_updates()\n"
     ]
    },
    {
     "name": "stdout",
     "output_type": "stream",
     "text": [
      "Overriding normalize_channels with False\n"
     ]
    }
   ],
   "source": [
    "from model.ddpm_modules.time_predictor import TimePredictor\n",
    "from time_prediction_training import get_datasets\n",
    "import os\n",
    "\n",
    "classifier_ckpt = os.path.join(training_rootdir, ckpt)\n",
    "\n",
    "opt = load_config(classifier_ckpt)\n",
    "# loading dataset.\n",
    "if evaluate_test_data:\n",
    "    if opt['datasets']['train']['name'] == 'Hagen':\n",
    "        opt['datasets']['val']['datapath'] = {\n",
    "        'ch0': '/group/jug/ashesh/data/diffsplit_hagen/test/test_actin-60x-noise2-highsnr.tif',\n",
    "        'ch1': '/group/jug/ashesh/data/diffsplit_hagen/test/test_mito-60x-noise2-highsnr.tif'\n",
    "        }\n",
    "    elif opt['datasets']['train']['name'] in ['COSEM_jrc-hela', 'BioSR', 'HT_LIF24','HT_T24', 'COSEM_jrc-choroid-plexus-2']:\n",
    "        opt['datasets']['val']['datapath'] = opt['datasets']['val']['datapath'].replace('/val', '/test')\n",
    "        \n",
    "        opt['datasets']['val']['datapath'] = opt['datasets']['val']['datapath'].replace('train-val-test-split', 'train_val_test_split')\n",
    "        opt['datasets']['train']['datapath'] = opt['datasets']['train']['datapath'].replace('train-val-test-split', 'train_val_test_split')\n",
    "\n",
    "    else:\n",
    "        raise NotImplementedError(f'{opt[\"datasets\"][\"train\"][\"name\"]} not implemented')\n",
    "\n",
    "if 'patch_size' not in opt['datasets']:\n",
    "    opt['datasets']['patch_size']  = opt['datasets']['train']['patch_size']\n",
    "\n",
    "assert 'max_qval' in opt['datasets']\n",
    "\n",
    "if 'uncorrelated_channels' not in opt['datasets']['train']:\n",
    "    opt['datasets']['train']['uncorrelated_channels']  = False\n",
    "\n",
    "if normalize_channels is not None:\n",
    "    print(f'Overriding normalize_channels with {normalize_channels}')\n",
    "    opt['datasets']['normalize_channels'] = normalize_channels"
   ]
  },
  {
   "cell_type": "code",
   "execution_count": 5,
   "metadata": {},
   "outputs": [
    {
     "name": "stdout",
     "output_type": "stream",
     "text": [
      "TimePredictor\n"
     ]
    },
    {
     "data": {
      "text/plain": [
       "<All keys matched successfully>"
      ]
     },
     "execution_count": 5,
     "metadata": {},
     "output_type": "execute_result"
    }
   ],
   "source": [
    "model_opt = opt['model']\n",
    "model_kwargs = {}\n",
    "model_kwargs['scale_augmentation'] = model_opt.get('scale_augmentation', False)\n",
    "    \n",
    "if model_kwargs['scale_augmentation']:\n",
    "    model_kwargs['scale_augmentation_delta'] = model_opt['scale_augmentation_delta']\n",
    "\n",
    "model = TimePredictor(\n",
    "    in_channel=model_opt['unet']['in_channel'],\n",
    "    out_channel=model_opt['unet']['out_channel'],\n",
    "    norm_groups=model_opt['unet']['norm_groups'],\n",
    "    inner_channel=model_opt['unet']['inner_channel'],\n",
    "    channel_mults=model_opt['unet']['channel_multiplier'],\n",
    "    attn_res=model_opt['unet']['attn_res'],\n",
    "    res_blocks=model_opt['unet']['res_blocks'],\n",
    "    dropout=model_opt['unet']['dropout'],\n",
    "    image_size=opt['datasets']['patch_size'],\n",
    "    **model_kwargs\n",
    "    )\n",
    "model = model.cuda()\n",
    "model.load_state_dict(torch.load(os.path.join(classifier_ckpt,'best_time_predictor.pth')), strict=True)\n",
    "\n",
    "# data\n"
   ]
  },
  {
   "cell_type": "code",
   "execution_count": 6,
   "metadata": {},
   "outputs": [
    {
     "name": "stdout",
     "output_type": "stream",
     "text": [
      "Read from /group/jug/ashesh/bleedthroughsimulation/jrc_choroid-plexus-2/train_val_test_split/train_jrc_choroid-plexus-2_bleedthrough_er_pred_endo_pred_EGFP_Venus_R3.0-3.0_S2_D1_Ex100.0ms.tif (96, 1800, 2500, 3)\n",
      "Warning: Removing key: 2\n",
      "Computing mean and std for normalization\n",
      "[TimePredictorDataset] Data: 96x2x(1800, 2500) Patch:512 Random:1 Aug:True Q:1.0 UpperClip:0Uncor:False ChW:[1.0, 1.0]\n",
      "Adding Gaussian noise with std factor:  0.05\n",
      "Read from /group/jug/ashesh/bleedthroughsimulation/jrc_choroid-plexus-2/train_val_test_split/test_jrc_choroid-plexus-2_bleedthrough_er_pred_endo_pred_EGFP_Venus_R3.0-3.0_S2_D1_Ex100.0ms.tif (96, 900, 1220, 3)\n",
      "Warning: Removing key: 2\n",
      "[TimePredictorDataset] Data: 96x2x(900, 1220) Patch:512 Random:0 Aug:False Q:1.0 UpperClip:0Uncor:False ChW:[1.0, 1.0]\n"
     ]
    }
   ],
   "source": [
    "train_set, val_set = get_datasets(opt, tiled_pred=False)"
   ]
  },
  {
   "cell_type": "code",
   "execution_count": 7,
   "metadata": {},
   "outputs": [
    {
     "name": "stdout",
     "output_type": "stream",
     "text": [
      "Random patching set to True\n"
     ]
    },
    {
     "name": "stderr",
     "output_type": "stream",
     "text": [
      "5.0M/819.0M pixels processed: 100%|██████████| 12/12 [00:00<00:00, 39.09it/s]\n",
      "10.0M/819.0M pixels processed: 100%|██████████| 12/12 [00:00<00:00, 34.03it/s]\n",
      "15.0M/819.0M pixels processed: 100%|██████████| 12/12 [00:00<00:00, 34.32it/s]\n",
      "20.0M/819.0M pixels processed: 100%|██████████| 12/12 [00:00<00:00, 35.17it/s]\n",
      "25.0M/819.0M pixels processed: 100%|██████████| 12/12 [00:00<00:00, 35.09it/s]\n",
      "30.0M/819.0M pixels processed: 100%|██████████| 12/12 [00:00<00:00, 34.05it/s]\n",
      "35.0M/819.0M pixels processed: 100%|██████████| 12/12 [00:00<00:00, 34.31it/s]\n",
      "40.0M/819.0M pixels processed: 100%|██████████| 12/12 [00:00<00:00, 38.18it/s]\n",
      "45.0M/819.0M pixels processed: 100%|██████████| 12/12 [00:00<00:00, 35.66it/s]\n",
      "50.0M/819.0M pixels processed: 100%|██████████| 12/12 [00:01<00:00,  6.15it/s]\n",
      "55.0M/819.0M pixels processed: 100%|██████████| 12/12 [00:00<00:00, 35.72it/s]\n",
      "60.0M/819.0M pixels processed: 100%|██████████| 12/12 [00:00<00:00, 36.98it/s]\n",
      "65.0M/819.0M pixels processed: 100%|██████████| 12/12 [00:00<00:00, 38.51it/s]\n",
      "70.0M/819.0M pixels processed: 100%|██████████| 12/12 [00:00<00:00, 37.96it/s]\n",
      "75.0M/819.0M pixels processed: 100%|██████████| 12/12 [00:00<00:00, 40.78it/s]\n",
      "80.0M/819.0M pixels processed: 100%|██████████| 12/12 [00:00<00:00, 34.90it/s]\n",
      "85.0M/819.0M pixels processed: 100%|██████████| 12/12 [00:00<00:00, 38.17it/s]\n",
      "90.0M/819.0M pixels processed: 100%|██████████| 12/12 [00:00<00:00, 35.81it/s]\n",
      "95.0M/819.0M pixels processed: 100%|██████████| 12/12 [00:00<00:00, 37.62it/s]\n",
      "100.0M/819.0M pixels processed: 100%|██████████| 12/12 [00:00<00:00, 36.63it/s]\n",
      "105.0M/819.0M pixels processed: 100%|██████████| 12/12 [00:00<00:00, 33.65it/s]\n",
      "110.0M/819.0M pixels processed: 100%|██████████| 12/12 [00:00<00:00, 38.58it/s]\n",
      "115.0M/819.0M pixels processed: 100%|██████████| 12/12 [00:00<00:00, 38.17it/s]\n",
      "120.0M/819.0M pixels processed: 100%|██████████| 12/12 [00:00<00:00, 39.94it/s]\n",
      "125.0M/819.0M pixels processed: 100%|██████████| 12/12 [00:00<00:00, 40.75it/s]\n",
      "130.0M/819.0M pixels processed: 100%|██████████| 12/12 [00:00<00:00, 35.96it/s]\n",
      "135.0M/819.0M pixels processed: 100%|██████████| 12/12 [00:00<00:00, 37.51it/s]\n",
      "140.0M/819.0M pixels processed: 100%|██████████| 12/12 [00:00<00:00, 38.10it/s]\n",
      "145.0M/819.0M pixels processed: 100%|██████████| 12/12 [00:00<00:00, 40.43it/s]\n",
      "150.0M/819.0M pixels processed: 100%|██████████| 12/12 [00:00<00:00, 38.07it/s]\n",
      "156.0M/819.0M pixels processed: 100%|██████████| 12/12 [00:00<00:00, 39.27it/s]\n",
      "161.0M/819.0M pixels processed: 100%|██████████| 12/12 [00:00<00:00, 38.57it/s]\n",
      "166.0M/819.0M pixels processed: 100%|██████████| 12/12 [00:00<00:00, 36.87it/s]\n",
      "171.0M/819.0M pixels processed: 100%|██████████| 12/12 [00:00<00:00, 37.31it/s]\n",
      "176.0M/819.0M pixels processed: 100%|██████████| 12/12 [00:00<00:00, 34.87it/s]\n",
      "181.0M/819.0M pixels processed: 100%|██████████| 12/12 [00:00<00:00, 39.40it/s]\n",
      "186.0M/819.0M pixels processed: 100%|██████████| 12/12 [00:00<00:00, 35.58it/s]\n",
      "191.0M/819.0M pixels processed: 100%|██████████| 12/12 [00:00<00:00, 38.65it/s]\n",
      "196.0M/819.0M pixels processed: 100%|██████████| 12/12 [00:00<00:00, 39.78it/s]\n",
      "201.0M/819.0M pixels processed: 100%|██████████| 12/12 [00:00<00:00, 35.14it/s]\n",
      "206.0M/819.0M pixels processed: 100%|██████████| 12/12 [00:00<00:00, 37.29it/s]\n",
      "211.0M/819.0M pixels processed: 100%|██████████| 12/12 [00:00<00:00, 38.31it/s]\n",
      "216.0M/819.0M pixels processed: 100%|██████████| 12/12 [00:00<00:00, 39.46it/s]\n",
      "221.0M/819.0M pixels processed: 100%|██████████| 12/12 [00:00<00:00, 39.55it/s]\n",
      "226.0M/819.0M pixels processed: 100%|██████████| 12/12 [00:00<00:00, 19.86it/s]\n",
      "231.0M/819.0M pixels processed: 100%|██████████| 12/12 [00:00<00:00, 37.23it/s]\n",
      "236.0M/819.0M pixels processed: 100%|██████████| 12/12 [00:00<00:00, 41.39it/s]\n",
      "241.0M/819.0M pixels processed: 100%|██████████| 12/12 [00:00<00:00, 39.02it/s]\n",
      "246.0M/819.0M pixels processed: 100%|██████████| 12/12 [00:00<00:00, 35.82it/s]\n",
      "251.0M/819.0M pixels processed: 100%|██████████| 12/12 [00:00<00:00, 37.80it/s]\n",
      "256.0M/819.0M pixels processed: 100%|██████████| 12/12 [00:00<00:00, 38.79it/s]\n",
      "261.0M/819.0M pixels processed: 100%|██████████| 12/12 [00:00<00:00, 22.98it/s]\n",
      "266.0M/819.0M pixels processed: 100%|██████████| 12/12 [00:00<00:00, 36.57it/s]\n",
      "271.0M/819.0M pixels processed: 100%|██████████| 12/12 [00:00<00:00, 39.71it/s]\n",
      "276.0M/819.0M pixels processed: 100%|██████████| 12/12 [00:00<00:00, 37.08it/s]\n",
      "281.0M/819.0M pixels processed: 100%|██████████| 12/12 [00:00<00:00, 37.22it/s]\n",
      "286.0M/819.0M pixels processed: 100%|██████████| 12/12 [00:00<00:00, 40.41it/s]\n",
      "291.0M/819.0M pixels processed: 100%|██████████| 12/12 [00:00<00:00, 36.30it/s]\n",
      "296.0M/819.0M pixels processed: 100%|██████████| 12/12 [00:00<00:00, 37.54it/s]\n",
      "301.0M/819.0M pixels processed: 100%|██████████| 12/12 [00:00<00:00, 37.12it/s]\n",
      "307.0M/819.0M pixels processed: 100%|██████████| 12/12 [00:00<00:00, 36.99it/s]\n",
      "312.0M/819.0M pixels processed: 100%|██████████| 12/12 [00:00<00:00, 39.72it/s]\n",
      "317.0M/819.0M pixels processed: 100%|██████████| 12/12 [00:00<00:00, 36.30it/s]\n",
      "322.0M/819.0M pixels processed: 100%|██████████| 12/12 [00:00<00:00, 37.29it/s]\n",
      "327.0M/819.0M pixels processed: 100%|██████████| 12/12 [00:00<00:00, 38.22it/s]\n",
      "332.0M/819.0M pixels processed: 100%|██████████| 12/12 [00:00<00:00, 39.82it/s]\n",
      "337.0M/819.0M pixels processed: 100%|██████████| 12/12 [00:00<00:00, 34.84it/s]\n",
      "342.0M/819.0M pixels processed: 100%|██████████| 12/12 [00:00<00:00, 40.61it/s]\n",
      "347.0M/819.0M pixels processed: 100%|██████████| 12/12 [00:00<00:00, 36.43it/s]\n",
      "352.0M/819.0M pixels processed: 100%|██████████| 12/12 [00:00<00:00, 32.49it/s]\n",
      "357.0M/819.0M pixels processed: 100%|██████████| 12/12 [00:00<00:00, 36.60it/s]\n",
      "362.0M/819.0M pixels processed: 100%|██████████| 12/12 [00:00<00:00, 33.81it/s]\n",
      "367.0M/819.0M pixels processed: 100%|██████████| 12/12 [00:00<00:00, 40.14it/s]\n",
      "372.0M/819.0M pixels processed: 100%|██████████| 12/12 [00:00<00:00, 39.61it/s]\n",
      "377.0M/819.0M pixels processed: 100%|██████████| 12/12 [00:00<00:00, 37.40it/s]\n",
      "382.0M/819.0M pixels processed: 100%|██████████| 12/12 [00:00<00:00, 37.21it/s]\n",
      "387.0M/819.0M pixels processed: 100%|██████████| 12/12 [00:00<00:00, 36.15it/s]\n",
      "392.0M/819.0M pixels processed: 100%|██████████| 12/12 [00:00<00:00, 36.56it/s]\n",
      "397.0M/819.0M pixels processed: 100%|██████████| 12/12 [00:00<00:00, 38.90it/s]\n",
      "402.0M/819.0M pixels processed: 100%|██████████| 12/12 [00:00<00:00, 39.40it/s]\n",
      "407.0M/819.0M pixels processed: 100%|██████████| 12/12 [00:00<00:00, 40.43it/s]\n",
      "412.0M/819.0M pixels processed: 100%|██████████| 12/12 [00:00<00:00, 32.97it/s]\n",
      "417.0M/819.0M pixels processed: 100%|██████████| 12/12 [00:00<00:00, 39.79it/s]\n",
      "422.0M/819.0M pixels processed: 100%|██████████| 12/12 [00:00<00:00, 36.55it/s]\n",
      "427.0M/819.0M pixels processed: 100%|██████████| 12/12 [00:00<00:00, 39.56it/s]\n",
      "432.0M/819.0M pixels processed: 100%|██████████| 12/12 [00:00<00:00, 34.54it/s]\n",
      "437.0M/819.0M pixels processed: 100%|██████████| 12/12 [00:00<00:00, 37.47it/s]\n",
      "442.0M/819.0M pixels processed: 100%|██████████| 12/12 [00:00<00:00, 40.24it/s]\n",
      "447.0M/819.0M pixels processed: 100%|██████████| 12/12 [00:00<00:00, 39.76it/s]\n",
      "452.0M/819.0M pixels processed: 100%|██████████| 12/12 [00:00<00:00, 39.77it/s]\n",
      "458.0M/819.0M pixels processed: 100%|██████████| 12/12 [00:00<00:00, 37.09it/s]\n",
      "463.0M/819.0M pixels processed: 100%|██████████| 12/12 [00:00<00:00, 40.94it/s]\n",
      "468.0M/819.0M pixels processed: 100%|██████████| 12/12 [00:00<00:00, 38.06it/s]\n",
      "473.0M/819.0M pixels processed: 100%|██████████| 12/12 [00:00<00:00, 39.25it/s]\n",
      "478.0M/819.0M pixels processed: 100%|██████████| 12/12 [00:00<00:00, 39.68it/s]\n",
      "483.0M/819.0M pixels processed: 100%|██████████| 12/12 [00:00<00:00, 34.77it/s]\n",
      "488.0M/819.0M pixels processed: 100%|██████████| 12/12 [00:00<00:00, 35.69it/s]\n",
      "493.0M/819.0M pixels processed: 100%|██████████| 12/12 [00:00<00:00, 27.03it/s]\n",
      "498.0M/819.0M pixels processed: 100%|██████████| 12/12 [00:00<00:00, 25.68it/s]\n",
      "503.0M/819.0M pixels processed: 100%|██████████| 12/12 [00:00<00:00, 29.82it/s]\n",
      "508.0M/819.0M pixels processed: 100%|██████████| 12/12 [00:00<00:00, 16.85it/s]\n",
      "513.0M/819.0M pixels processed: 100%|██████████| 12/12 [00:00<00:00, 39.25it/s]\n",
      "518.0M/819.0M pixels processed: 100%|██████████| 12/12 [00:00<00:00, 35.82it/s]\n",
      "523.0M/819.0M pixels processed: 100%|██████████| 12/12 [00:00<00:00, 38.31it/s]\n",
      "528.0M/819.0M pixels processed: 100%|██████████| 12/12 [00:00<00:00, 38.32it/s]\n",
      "533.0M/819.0M pixels processed: 100%|██████████| 12/12 [00:00<00:00, 38.92it/s]\n",
      "538.0M/819.0M pixels processed: 100%|██████████| 12/12 [00:00<00:00, 38.55it/s]\n",
      "543.0M/819.0M pixels processed: 100%|██████████| 12/12 [00:00<00:00, 38.93it/s]\n",
      "548.0M/819.0M pixels processed: 100%|██████████| 12/12 [00:00<00:00, 37.69it/s]\n",
      "553.0M/819.0M pixels processed: 100%|██████████| 12/12 [00:00<00:00, 37.53it/s]\n",
      "558.0M/819.0M pixels processed: 100%|██████████| 12/12 [00:00<00:00, 37.29it/s]\n",
      "563.0M/819.0M pixels processed: 100%|██████████| 12/12 [00:00<00:00, 39.94it/s]\n",
      "568.0M/819.0M pixels processed: 100%|██████████| 12/12 [00:00<00:00, 36.78it/s]\n",
      "573.0M/819.0M pixels processed: 100%|██████████| 12/12 [00:00<00:00, 21.60it/s]\n",
      "578.0M/819.0M pixels processed: 100%|██████████| 12/12 [00:00<00:00, 31.69it/s]\n",
      "583.0M/819.0M pixels processed: 100%|██████████| 12/12 [00:00<00:00, 37.37it/s]\n",
      "588.0M/819.0M pixels processed: 100%|██████████| 12/12 [00:00<00:00, 34.21it/s]\n",
      "593.0M/819.0M pixels processed: 100%|██████████| 12/12 [00:00<00:00, 33.02it/s]\n",
      "598.0M/819.0M pixels processed: 100%|██████████| 12/12 [00:00<00:00, 31.33it/s]\n",
      "603.0M/819.0M pixels processed: 100%|██████████| 12/12 [00:00<00:00, 29.81it/s]\n",
      "609.0M/819.0M pixels processed: 100%|██████████| 12/12 [00:00<00:00, 32.80it/s]\n",
      "614.0M/819.0M pixels processed: 100%|██████████| 12/12 [00:00<00:00, 35.82it/s]\n",
      "619.0M/819.0M pixels processed: 100%|██████████| 12/12 [00:00<00:00, 35.14it/s]\n",
      "624.0M/819.0M pixels processed: 100%|██████████| 12/12 [00:00<00:00, 33.94it/s]\n",
      "629.0M/819.0M pixels processed: 100%|██████████| 12/12 [00:00<00:00, 23.48it/s]\n",
      "634.0M/819.0M pixels processed: 100%|██████████| 12/12 [00:00<00:00, 37.36it/s]\n",
      "639.0M/819.0M pixels processed: 100%|██████████| 12/12 [00:00<00:00, 39.26it/s]\n",
      "644.0M/819.0M pixels processed: 100%|██████████| 12/12 [00:00<00:00, 40.05it/s]\n",
      "649.0M/819.0M pixels processed: 100%|██████████| 12/12 [00:00<00:00, 25.99it/s]\n",
      "654.0M/819.0M pixels processed: 100%|██████████| 12/12 [00:00<00:00, 17.29it/s]\n",
      "659.0M/819.0M pixels processed: 100%|██████████| 12/12 [00:00<00:00, 30.56it/s]\n",
      "664.0M/819.0M pixels processed: 100%|██████████| 12/12 [00:00<00:00, 26.79it/s]\n",
      "669.0M/819.0M pixels processed: 100%|██████████| 12/12 [00:00<00:00, 38.80it/s]\n",
      "674.0M/819.0M pixels processed: 100%|██████████| 12/12 [00:00<00:00, 41.34it/s]\n",
      "679.0M/819.0M pixels processed: 100%|██████████| 12/12 [00:00<00:00, 40.47it/s]\n",
      "684.0M/819.0M pixels processed: 100%|██████████| 12/12 [00:00<00:00, 40.11it/s]\n",
      "689.0M/819.0M pixels processed: 100%|██████████| 12/12 [00:00<00:00, 36.64it/s]\n",
      "694.0M/819.0M pixels processed: 100%|██████████| 12/12 [00:00<00:00, 20.57it/s]\n",
      "699.0M/819.0M pixels processed: 100%|██████████| 12/12 [00:00<00:00, 39.36it/s]\n",
      "704.0M/819.0M pixels processed: 100%|██████████| 12/12 [00:00<00:00, 39.53it/s]\n",
      "709.0M/819.0M pixels processed: 100%|██████████| 12/12 [00:00<00:00, 40.85it/s]\n",
      "714.0M/819.0M pixels processed: 100%|██████████| 12/12 [00:00<00:00, 37.55it/s]\n",
      "719.0M/819.0M pixels processed: 100%|██████████| 12/12 [00:00<00:00, 39.98it/s]\n",
      "724.0M/819.0M pixels processed: 100%|██████████| 12/12 [00:00<00:00, 39.05it/s]\n",
      "729.0M/819.0M pixels processed: 100%|██████████| 12/12 [00:00<00:00, 32.38it/s]\n",
      "734.0M/819.0M pixels processed: 100%|██████████| 12/12 [00:00<00:00, 33.12it/s]\n",
      "739.0M/819.0M pixels processed: 100%|██████████| 12/12 [00:00<00:00, 39.34it/s]\n",
      "744.0M/819.0M pixels processed: 100%|██████████| 12/12 [00:00<00:00, 36.59it/s]\n",
      "749.0M/819.0M pixels processed: 100%|██████████| 12/12 [00:00<00:00, 38.00it/s]\n",
      "754.0M/819.0M pixels processed: 100%|██████████| 12/12 [00:00<00:00, 37.59it/s]\n",
      "760.0M/819.0M pixels processed: 100%|██████████| 12/12 [00:00<00:00, 35.52it/s]\n",
      "765.0M/819.0M pixels processed: 100%|██████████| 12/12 [00:00<00:00, 39.99it/s]\n",
      "770.0M/819.0M pixels processed: 100%|██████████| 12/12 [00:00<00:00, 37.66it/s]\n",
      "775.0M/819.0M pixels processed: 100%|██████████| 12/12 [00:00<00:00, 38.00it/s]\n",
      "780.0M/819.0M pixels processed: 100%|██████████| 12/12 [00:00<00:00, 40.47it/s]\n",
      "785.0M/819.0M pixels processed: 100%|██████████| 12/12 [00:00<00:00, 35.74it/s]\n",
      "790.0M/819.0M pixels processed: 100%|██████████| 12/12 [00:00<00:00, 36.98it/s]\n",
      "795.0M/819.0M pixels processed: 100%|██████████| 12/12 [00:00<00:00, 36.19it/s]\n",
      "800.0M/819.0M pixels processed: 100%|██████████| 12/12 [00:00<00:00, 36.90it/s]\n",
      "805.0M/819.0M pixels processed: 100%|██████████| 12/12 [00:00<00:00, 36.20it/s]\n",
      "810.0M/819.0M pixels processed: 100%|██████████| 12/12 [00:00<00:00, 40.05it/s]\n",
      "815.0M/819.0M pixels processed: 100%|██████████| 12/12 [00:00<00:00, 40.58it/s]\n",
      "819.0M/819.0M pixels processed:  75%|███████▌  | 9/12 [00:00<00:00, 36.60it/s]\n",
      "  2%|▏         | 162/10000 [00:57<57:42,  2.84it/s]\n"
     ]
    },
    {
     "name": "stdout",
     "output_type": "stream",
     "text": [
      "Random patching set to False\n"
     ]
    },
    {
     "data": {
      "image/png": "[encoded data removed]",
      "text/plain": [
       "<Figure size 640x480 with 1 Axes>"
      ]
     },
     "metadata": {},
     "output_type": "display_data"
    }
   ],
   "source": [
    "from model.normalizer import NormalizerXT\n",
    "from tqdm import tqdm \n",
    "import numpy as np\n",
    "import matplotlib.pyplot as plt\n",
    "from time_prediction_training import get_normalizer\n",
    "\n",
    "normalizer_count = None\n",
    "# val_set.set_random_patching(True)\n",
    "xt_normalizer = NormalizerXT()\n",
    "if 'normalize_channels' in opt['datasets'] and opt['datasets']['normalize_channels'] is True:\n",
    "    pass\n",
    "else:\n",
    "    if evaluate_test_data:\n",
    "        xt_normalizer,data_mean_arr, data_std_arr = get_normalizer(val_set, opt, return_data_arr=True, num_pixels=500_000 * 128 * 128)\n",
    "        # xt_normalizer,data_mean_arr, data_std_arr = get_normalizer(train_set, opt, return_data_arr=True, num_pixels=500_000 * 128 * 128)\n",
    "    else:\n",
    "        xt_normalizer,data_mean_arr, data_std_arr = get_normalizer(train_set, opt, return_data_arr=True)\n",
    "    # val_set.reset_fixed_t()\n",
    "    # val_loader = torch.utils.data.DataLoader(val_set, batch_size=16, shuffle=True, num_workers=0)\n",
    "    # data_mean_arr = []\n",
    "    # data_std_arr = []\n",
    "    # normalizer_count = 100_000\n",
    "    # cnt = 0\n",
    "    # for _ in tqdm(range(normalizer_count)):\n",
    "    #     bar = enumerate(val_loader)\n",
    "    #     for i, (x, t_float) in bar:\n",
    "    #         x = x.cuda()\n",
    "    #         t_float = t_float.cuda()\n",
    "    #         x = xt_normalizer.normalize(x,t_float, update=True)\n",
    "    #         cnt += 1\n",
    "    #         if cnt %10 == 0:\n",
    "    #             data_mean_arr.append(xt_normalizer.data_mean.cpu().numpy())\n",
    "    #             data_std_arr.append(xt_normalizer.data_std.cpu().numpy())\n",
    "\n",
    "    plt.plot(np.stack(data_mean_arr)[:,90])\n",
    "    del data_std_arr\n",
    "    del data_mean_arr\n",
    "    import gc; gc.collect()\n",
    "# val_set.set_random_patching(False)"
   ]
  },
  {
   "cell_type": "code",
   "execution_count": 11,
   "metadata": {},
   "outputs": [
    {
     "name": "stderr",
     "output_type": "stream",
     "text": [
      "  0%|          | 0/11 [00:00<?, ?it/s]"
     ]
    },
    {
     "name": "stderr",
     "output_type": "stream",
     "text": [
      "100%|██████████| 11/11 [00:30<00:00,  2.82s/it]\n"
     ]
    }
   ],
   "source": [
    "from tqdm import tqdm\n",
    "import numpy as np\n",
    "\n",
    "num_timesteps = 10\n",
    "gt = np.arange(0,1.0001,1/num_timesteps)\n",
    "mmse_count = 1\n",
    "\n",
    "pred_arr = []\n",
    "inp_arr = []\n",
    "\n",
    "with torch.no_grad():\n",
    "    for mixing_t in tqdm(gt):\n",
    "        val_set.set_fixed_t(mixing_t)\n",
    "        dloader = torch.utils.data.DataLoader(\n",
    "                    val_set,\n",
    "                    batch_size=16,\n",
    "                    shuffle=False,\n",
    "                    num_workers=2,\n",
    "                    pin_memory=True)\n",
    "        for data in dloader:\n",
    "            inp, t_float = data\n",
    "            assert torch.std(t_float) < 1e-6, f'{t_float}'\n",
    "            assert t_float[0] == mixing_t, f'{t_float} != {mixing_t}'\n",
    "            inp = inp.cuda()\n",
    "            t_float = t_float.cuda()\n",
    "            # if xt_normalizer is dummy then nothing will happen with the following operation.\n",
    "            inp = xt_normalizer.normalize(inp, t_float)\n",
    "            inp_arr.append(inp.cpu().numpy())\n",
    "            tmp_pred_arr = []\n",
    "            for _ in range(mmse_count):\n",
    "                with torch.no_grad():\n",
    "                    pred = model(inp.cuda())\n",
    "                    tmp_pred_arr.append(pred.cpu().numpy())\n",
    "            pred_arr.append(np.median(np.stack(tmp_pred_arr),axis=0))\n",
    "    \n",
    "    all_pred = np.concatenate(pred_arr).reshape(len(gt),-1)\n",
    "    inp_arr = np.concatenate(inp_arr,axis=0)\n"
   ]
  },
  {
   "cell_type": "code",
   "execution_count": 12,
   "metadata": {},
   "outputs": [
    {
     "name": "stdout",
     "output_type": "stream",
     "text": [
      "[0.06478367 0.12013222 0.21975191 0.34939888 0.49565706 0.6233656\n",
      " 0.70817804 0.72839546 0.7412966  0.7432019  0.7361037 ]\n",
      "[0.05956952 0.11192417 0.21202254 0.34617797 0.49316108 0.6210331\n",
      " 0.70732045 0.73625517 0.7539722  0.7571622  0.7534596 ]\n"
     ]
    }
   ],
   "source": [
    "print(np.mean(all_pred, axis=1))\n",
    "print(np.median(all_pred, axis=1))"
   ]
  },
  {
   "cell_type": "code",
   "execution_count": 13,
   "metadata": {},
   "outputs": [],
   "source": [
    "all_pred = np.concatenate(pred_arr).reshape(len(gt),-1)\n",
    "inp_arr = np.concatenate(inp_arr,axis=0)\n"
   ]
  },
  {
   "cell_type": "code",
   "execution_count": 14,
   "metadata": {},
   "outputs": [
    {
     "name": "stderr",
     "output_type": "stream",
     "text": [
      "/tmp/ipykernel_13520/357851366.py:8: UserWarning: color is redundantly defined by the 'color' keyword argument and the fmt string \"k--\" (-> color='k'). The keyword argument will take precedence.\n",
      "  ax.plot(gt,gt, 'k--', color='black')\n"
     ]
    },
    {
     "data": {
      "image/png": "[encoded data removed]",
      "text/plain": [
       "<Figure size 640x480 with 1 Axes>"
      ]
     },
     "metadata": {},
     "output_type": "display_data"
    }
   ],
   "source": [
    "import matplotlib.pyplot as plt\n",
    "\n",
    "err = all_pred.std(axis=1)\n",
    "avg_pred = all_pred.mean(axis=1)\n",
    "_,ax  = plt.subplots()\n",
    "# plot with error bars\n",
    "ax.errorbar(gt, avg_pred, yerr=err, fmt='o')\n",
    "ax.plot(gt,gt, 'k--', color='black')\n",
    "ax.set_xlabel('Ground Truth t', fontsize=15)\n",
    "ax.set_ylabel('Predicted t', fontsize=15)\n",
    "# facecolor to gray\n",
    "ax.set_facecolor('lightgray')\n",
    "ax.grid()"
   ]
  },
  {
   "cell_type": "code",
   "execution_count": 12,
   "metadata": {},
   "outputs": [
    {
     "name": "stdout",
     "output_type": "stream",
     "text": [
      "Hagen Test NormCount:None RMSE: 0.1120392996876266\n"
     ]
    }
   ],
   "source": [
    "mse = ((all_pred - gt.reshape(-1,1))**2).mean(axis=1)\n",
    "dataset_str = opt['datasets']['train']['name']\n",
    "dataset_str += ' Test' if evaluate_test_data else ' Val'\n",
    "print(f'{dataset_str} NormCount:{normalizer_count} RMSE: {np.sqrt(mse.mean())}')"
   ]
  },
  {
   "cell_type": "code",
   "execution_count": 13,
   "metadata": {},
   "outputs": [
    {
     "name": "stdout",
     "output_type": "stream",
     "text": [
      "Hagen Test NormCount:None RMSE wrt Aggregated (mean) prediction: 0.054578234740211305\n",
      "Hagen Test NormCount:None RMSE wrt Aggregated (median) prediction: 0.04452493735453707\n"
     ]
    }
   ],
   "source": [
    "mse_mean = ((np.mean(all_pred, axis=1) - gt)**2).mean()\n",
    "mse_median = ((np.median(all_pred, axis=1) - gt)**2).mean()\n",
    "print(f'{dataset_str} NormCount:{normalizer_count} RMSE wrt Aggregated (mean) prediction: {np.sqrt(mse_mean)}')\n",
    "print(f'{dataset_str} NormCount:{normalizer_count} RMSE wrt Aggregated (median) prediction: {np.sqrt(mse_median)}')"
   ]
  },
  {
   "cell_type": "code",
   "execution_count": 14,
   "metadata": {},
   "outputs": [
    {
     "name": "stdout",
     "output_type": "stream",
     "text": [
      "(11,) (11,) (11,) (11,)\n",
      "/group/jug/ashesh/indiSplitResults/time_prediction/time_prediction_diffsplit_2502_Hagen-UnetClassifier-l2_11_ClassicNormalization-False.npy\n"
     ]
    }
   ],
   "source": [
    "outputdir = '/group/jug/ashesh/indiSplitResults/time_prediction'\n",
    "os.makedirs(outputdir, exist_ok=True)\n",
    "ckpt_str = '_'.join(ckpt.split('/')[-4:])\n",
    "fname = f'time_prediction_{ckpt_str}_ClassicNormalization-{normalize_channels}.npy'\n",
    "fpath = os.path.join(outputdir, fname)\n",
    "print(gt.shape, avg_pred.shape, err.shape, mse.shape)\n",
    "print(fpath)\n",
    "np.save(fpath, {'gt':gt, 'avg_pred':avg_pred, 'err_pred':err, 'mse':mse})"
   ]
  },
  {
   "cell_type": "code",
   "execution_count": 68,
   "metadata": {},
   "outputs": [
    {
     "data": {
      "text/plain": [
       "(tensor([214.3438, 353.4065], device='cuda:0'),\n",
       " tensor([167.2630, 237.6893], device='cuda:0'))"
      ]
     },
     "execution_count": 68,
     "metadata": {},
     "output_type": "execute_result"
    }
   ],
   "source": [
    "xt_normalizer.data_mean[[0,-1]], xt_normalizer.data_std[[0,-1]]"
   ]
  }
 ],
 "metadata": {
  "kernelspec": {
   "display_name": "Python 3",
   "language": "python",
   "name": "python3"
  },
  "language_info": {
   "codemirror_mode": {
    "name": "ipython",
    "version": 3
   },
   "file_extension": ".py",
   "mimetype": "text/x-python",
   "name": "python",
   "nbconvert_exporter": "python",
   "pygments_lexer": "ipython3",
   "version": "3.9.19"
  }
 },
 "nbformat": 4,
 "nbformat_minor": 2
}
