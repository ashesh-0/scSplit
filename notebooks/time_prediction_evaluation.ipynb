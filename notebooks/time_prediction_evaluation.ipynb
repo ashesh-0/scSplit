{
 "cells": [
  {
   "cell_type": "code",
   "execution_count": 1,
   "metadata": {},
   "outputs": [],
   "source": [
    "import sys\n",
    "sys.path.append('..')"
   ]
  },
  {
   "cell_type": "code",
   "execution_count": 2,
   "metadata": {},
   "outputs": [],
   "source": [
    "# ckpt = '2501/COSEM_jrc-hela-UnetClassifier-l2/3/'\n",
    "# ckpt = '2501/COSEM_jrc-hela-UnetClassifier-l2/6'\n",
    "# ckpt = '2502/HT_LIF24-UnetClassifier-l2/3'\n",
    "ckpt = '2502/COSEM_jrc-hela-UnetClassifier-l2/36/'\n",
    "evaluate_test_data = False\n",
    "# num_timesteps_normalization = 100_000\n",
    "# if normalize_channels is None, we use the setting (True/False) present in the trained model.\n",
    "# if normalize_channels is True, then we normalize the channels in the dataset and xt_normalizer, defined below is dummy\n",
    "# if normalize_channels is False, then we do not normalize the channels in the dataset and xt_normalizer, defined below normalizes the individual channels.\n",
    "normalize_channels = None\n",
    "assert normalize_channels in [None, True, False]\n",
    "training_rootdir = '/group/jug/ashesh/training/diffsplit/'"
   ]
  },
  {
   "cell_type": "code",
   "execution_count": 3,
   "metadata": {},
   "outputs": [],
   "source": [
    "import yaml\n",
    "import os\n",
    "import glob\n",
    "import torch\n",
    "\n",
    "def model_checkpoint_fpath(ckpt, fname=None):\n",
    "    ckpt_dir = os.path.join(training_rootdir, ckpt, 'checkpoint')\n",
    "    if fname is not None:\n",
    "        return os.path.join(training_rootdir, ckpt, fname)\n",
    "    else:\n",
    "        list_of_files = glob.glob(ckpt_dir +'/*_gen.pth') # * means all if need specific format then *.csv\n",
    "        latest_file = max(list_of_files, key=os.path.getctime)\n",
    "        fname = latest_file\n",
    "        return os.path.join(ckpt_dir,latest_file)\n",
    "\n",
    "def model_checkpoint_fpath_prefix(ckpt, fname=None):\n",
    "    fpath = model_checkpoint_fpath(ckpt, fname)\n",
    "    suffix = '_gen.pth'\n",
    "    assert fpath.endswith(suffix)\n",
    "    return fpath[:-len(suffix)]\n",
    "\n",
    "def load_config(ckpt):\n",
    "    config_path = os.path.join(training_rootdir,ckpt,'wandb/latest-run/files/config.yaml')\n",
    "\n",
    "    with open(config_path) as stream:\n",
    "        try:\n",
    "            opt = yaml.safe_load(stream)\n",
    "        except yaml.YAMLError as exc:\n",
    "            print(exc)\n",
    "    \n",
    "    keys = [\"name\",\"phase\",\"gpu_ids\",\"path\",\"datasets\",\"model\",\"train\"]\n",
    "    return {k: opt[k]['value'] for k in keys}"
   ]
  },
  {
   "cell_type": "code",
   "execution_count": 5,
   "metadata": {},
   "outputs": [],
   "source": [
    "from model.ddpm_modules.time_predictor import TimePredictor\n",
    "from time_prediction_training import get_datasets\n",
    "import os\n",
    "\n",
    "classifier_ckpt = os.path.join(training_rootdir, ckpt)\n",
    "\n",
    "opt = load_config(classifier_ckpt)\n",
    "# loading dataset.\n",
    "if evaluate_test_data:\n",
    "    if opt['datasets']['train']['name'] == 'Hagen':\n",
    "        opt['datasets']['val']['datapath'] = {\n",
    "        'ch0': '/group/jug/ashesh/data/diffsplit_hagen/test/test_actin-60x-noise2-highsnr.tif',\n",
    "        'ch1': '/group/jug/ashesh/data/diffsplit_hagen/test/test_mito-60x-noise2-highsnr.tif'\n",
    "        }\n",
    "    elif opt['datasets']['train']['name'] == 'COSEM_jrc-hela':\n",
    "        opt['datasets']['val']['datapath'] = opt['datasets']['val']['datapath'].replace('/val', '/test')\n",
    "    elif opt['datasets']['train']['name'] == 'HT_LIF24':\n",
    "        opt['datasets']['val']['datapath'] = opt['datasets']['val']['datapath'].replace('/val', '/test')\n",
    "    else:\n",
    "        raise NotImplementedError(f'{opt[\"datasets\"][\"train\"][\"name\"]} not implemented')\n",
    "\n",
    "if 'patch_size' not in opt['datasets']:\n",
    "    opt['datasets']['patch_size']  = opt['datasets']['train']['patch_size']\n",
    "\n",
    "if 'max_qval' not in opt['datasets']:\n",
    "    opt['datasets']['max_qval']  = 0.98\n",
    "\n",
    "if 'uncorrelated_channels' not in opt['datasets']['train']:\n",
    "    opt['datasets']['train']['uncorrelated_channels']  = False\n",
    "\n",
    "if normalize_channels is not None:\n",
    "    print(f'Overriding normalize_channels with {normalize_channels}')\n",
    "    opt['datasets']['normalize_channels'] = normalize_channels"
   ]
  },
  {
   "cell_type": "code",
   "execution_count": 16,
   "metadata": {},
   "outputs": [
    {
     "name": "stdout",
     "output_type": "stream",
     "text": [
      "TimePredictor\n"
     ]
    },
    {
     "data": {
      "text/plain": [
       "<All keys matched successfully>"
      ]
     },
     "execution_count": 16,
     "metadata": {},
     "output_type": "execute_result"
    }
   ],
   "source": [
    "model_opt = opt['model']\n",
    "model_kwargs = {}\n",
    "model_kwargs['scale_augmentation'] = model_opt.get('scale_augmentation', False)\n",
    "    \n",
    "if model_kwargs['scale_augmentation']:\n",
    "    model_kwargs['scale_augmentation_delta'] = model_opt['scale_augmentation_delta']\n",
    "\n",
    "model = TimePredictor(\n",
    "    in_channel=model_opt['unet']['in_channel'],\n",
    "    out_channel=model_opt['unet']['out_channel'],\n",
    "    norm_groups=model_opt['unet']['norm_groups'],\n",
    "    inner_channel=model_opt['unet']['inner_channel'],\n",
    "    channel_mults=model_opt['unet']['channel_multiplier'],\n",
    "    attn_res=model_opt['unet']['attn_res'],\n",
    "    res_blocks=model_opt['unet']['res_blocks'],\n",
    "    dropout=model_opt['unet']['dropout'],\n",
    "    image_size=opt['datasets']['patch_size'],\n",
    "    **model_kwargs\n",
    "    )\n",
    "model = model.cuda()\n",
    "model.load_state_dict(torch.load(os.path.join(classifier_ckpt,'best_time_predictor.pth')), strict=True)\n",
    "\n",
    "# data\n"
   ]
  },
  {
   "cell_type": "code",
   "execution_count": 7,
   "metadata": {},
   "outputs": [
    {
     "name": "stdout",
     "output_type": "stream",
     "text": [
      "Read from /group/jug/ashesh/bleedthroughsimulation/jrc_hela-3/train_val_test_split/train_jrc_hela-3_bleedthrough_EGFP_Venus_R3.0-3.0_S4_D1_Ex100.0ms.tif (96, 1900, 2800, 4)\n",
      "Warning: Removing key: 2\n",
      "Warning: Removing key: 3\n",
      "Computing mean and std for normalization\n",
      "[TimePredictorDataset] Data: 96x2x(1900, 2800) Patch:128 Random:1 Aug:True Q:1.0 UpperClip:0Uncor:False ChW:[1.0, 1.0]\n",
      "Adding Gaussian noise with std factor:  0.05\n",
      "Read from /group/jug/ashesh/bleedthroughsimulation/jrc_hela-3/train_val_test_split/val_jrc_hela-3_bleedthrough_EGFP_Venus_R3.0-3.0_S4_D1_Ex100.0ms.tif (96, 900, 1400, 4)\n",
      "Warning: Removing key: 2\n",
      "Warning: Removing key: 3\n",
      "[TimePredictorDataset] Data: 96x2x(900, 1400) Patch:128 Random:0 Aug:False Q:1.0 UpperClip:0Uncor:False ChW:[1.0, 1.0]\n"
     ]
    }
   ],
   "source": [
    "train_set, val_set = get_datasets(opt, tiled_pred=False)"
   ]
  },
  {
   "cell_type": "code",
   "execution_count": 8,
   "metadata": {},
   "outputs": [
    {
     "name": "stdout",
     "output_type": "stream",
     "text": [
      "Random patching set to True\n"
     ]
    },
    {
     "name": "stderr",
     "output_type": "stream",
     "text": [
      "46.0M/819.0M pixels processed: 100%|██████████| 1764/1764 [00:34<00:00, 51.63it/s]\n",
      "92.0M/819.0M pixels processed: 100%|██████████| 1764/1764 [00:32<00:00, 53.47it/s]\n",
      "138.0M/819.0M pixels processed: 100%|██████████| 1764/1764 [00:33<00:00, 53.43it/s]\n",
      "184.0M/819.0M pixels processed: 100%|██████████| 1764/1764 [00:33<00:00, 53.31it/s]\n",
      "231.0M/819.0M pixels processed: 100%|██████████| 1764/1764 [00:33<00:00, 52.52it/s]\n",
      "277.0M/819.0M pixels processed: 100%|██████████| 1764/1764 [00:35<00:00, 50.31it/s]\n",
      "323.0M/819.0M pixels processed: 100%|██████████| 1764/1764 [00:33<00:00, 52.14it/s]\n",
      "369.0M/819.0M pixels processed: 100%|██████████| 1764/1764 [00:33<00:00, 52.82it/s]\n",
      "416.0M/819.0M pixels processed: 100%|██████████| 1764/1764 [00:33<00:00, 53.18it/s]\n",
      "462.0M/819.0M pixels processed: 100%|██████████| 1764/1764 [00:33<00:00, 53.42it/s]\n",
      "508.0M/819.0M pixels processed: 100%|██████████| 1764/1764 [00:33<00:00, 52.97it/s]\n",
      "554.0M/819.0M pixels processed: 100%|██████████| 1764/1764 [00:32<00:00, 53.61it/s]\n",
      "601.0M/819.0M pixels processed: 100%|██████████| 1764/1764 [00:33<00:00, 53.38it/s]\n",
      "647.0M/819.0M pixels processed: 100%|██████████| 1764/1764 [00:33<00:00, 53.27it/s]\n",
      "693.0M/819.0M pixels processed: 100%|██████████| 1764/1764 [00:33<00:00, 52.79it/s]\n",
      "739.0M/819.0M pixels processed: 100%|██████████| 1764/1764 [00:33<00:00, 52.75it/s]\n",
      "786.0M/819.0M pixels processed: 100%|██████████| 1764/1764 [00:33<00:00, 53.27it/s]\n",
      "819.0M/819.0M pixels processed:  72%|███████▏  | 1262/1764 [00:23<00:09, 52.74it/s]\n",
      "  0%|          | 17/10000 [09:51<96:30:39, 34.80s/it]\n"
     ]
    },
    {
     "name": "stdout",
     "output_type": "stream",
     "text": [
      "Random patching set to True\n"
     ]
    },
    {
     "data": {
      "image/png": "[encoded data removed]",
      "text/plain": [
       "<Figure size 640x480 with 1 Axes>"
      ]
     },
     "metadata": {},
     "output_type": "display_data"
    }
   ],
   "source": [
    "from model.normalizer import NormalizerXT\n",
    "from tqdm import tqdm \n",
    "import numpy as np\n",
    "import matplotlib.pyplot as plt\n",
    "from time_prediction_training import get_normalizer\n",
    "\n",
    "normalizer_count = None\n",
    "# val_set.set_random_patching(True)\n",
    "xt_normalizer = NormalizerXT()\n",
    "if 'normalize_channels' in opt['datasets'] and opt['datasets']['normalize_channels'] is True:\n",
    "    pass\n",
    "else:\n",
    "    if evaluate_test_data:\n",
    "        xt_normalizer,data_mean_arr, data_std_arr = get_normalizer(val_set, opt, return_data_arr=True)\n",
    "    else:\n",
    "        xt_normalizer,data_mean_arr, data_std_arr = get_normalizer(train_set, opt, return_data_arr=True)\n",
    "    # val_set.reset_fixed_t()\n",
    "    # val_loader = torch.utils.data.DataLoader(val_set, batch_size=16, shuffle=True, num_workers=0)\n",
    "    # data_mean_arr = []\n",
    "    # data_std_arr = []\n",
    "    # normalizer_count = 100_000\n",
    "    # cnt = 0\n",
    "    # for _ in tqdm(range(normalizer_count)):\n",
    "    #     bar = enumerate(val_loader)\n",
    "    #     for i, (x, t_float) in bar:\n",
    "    #         x = x.cuda()\n",
    "    #         t_float = t_float.cuda()\n",
    "    #         x = xt_normalizer.normalize(x,t_float, update=True)\n",
    "    #         cnt += 1\n",
    "    #         if cnt %10 == 0:\n",
    "    #             data_mean_arr.append(xt_normalizer.data_mean.cpu().numpy())\n",
    "    #             data_std_arr.append(xt_normalizer.data_std.cpu().numpy())\n",
    "\n",
    "    plt.plot(np.stack(data_mean_arr)[:,90])\n",
    "# val_set.set_random_patching(False)"
   ]
  },
  {
   "cell_type": "code",
   "execution_count": 11,
   "metadata": {},
   "outputs": [
    {
     "ename": "NameError",
     "evalue": "name 'data_std_arr' is not defined",
     "output_type": "error",
     "traceback": [
      "\u001b[0;31m---------------------------------------------------------------------------\u001b[0m",
      "\u001b[0;31mNameError\u001b[0m                                 Traceback (most recent call last)",
      "Cell \u001b[0;32mIn[11], line 1\u001b[0m\n\u001b[0;32m----> 1\u001b[0m \u001b[38;5;28;01mdel\u001b[39;00m data_std_arr\n\u001b[1;32m      2\u001b[0m \u001b[38;5;28;01mdel\u001b[39;00m data_mean_arr\n\u001b[1;32m      3\u001b[0m \u001b[38;5;28;01mimport\u001b[39;00m \u001b[38;5;21;01mgc\u001b[39;00m; gc\u001b[38;5;241m.\u001b[39mcollect()\n",
      "\u001b[0;31mNameError\u001b[0m: name 'data_std_arr' is not defined"
     ]
    }
   ],
   "source": [
    "del data_std_arr\n",
    "del data_mean_arr\n",
    "import gc; gc.collect()"
   ]
  },
  {
   "cell_type": "code",
   "execution_count": 17,
   "metadata": {},
   "outputs": [
    {
     "name": "stderr",
     "output_type": "stream",
     "text": [
      "100%|██████████| 10/10 [01:09<00:00,  6.95s/it]\n"
     ]
    }
   ],
   "source": [
    "from tqdm import tqdm\n",
    "import numpy as np\n",
    "\n",
    "num_timesteps = 10\n",
    "gt = np.arange(0,1.0,1/num_timesteps)\n",
    "mmse_count = 1\n",
    "\n",
    "pred_arr = []\n",
    "inp_arr = []\n",
    "\n",
    "with torch.no_grad():\n",
    "    for mixing_t in tqdm(gt):\n",
    "        val_set.set_fixed_t(mixing_t)\n",
    "        dloader = torch.utils.data.DataLoader(\n",
    "                    val_set,\n",
    "                    batch_size=16,\n",
    "                    shuffle=False,\n",
    "                    num_workers=2,\n",
    "                    pin_memory=True)\n",
    "        for data in dloader:\n",
    "            inp, t_float = data\n",
    "            assert torch.std(t_float) < 1e-6, f'{t_float}'\n",
    "            assert t_float[0] == mixing_t, f'{t_float} != {mixing_t}'\n",
    "            inp = inp.cuda()\n",
    "            t_float = t_float.cuda()\n",
    "            # if xt_normalizer is dummy then nothing will happen with the following operation.\n",
    "            inp = xt_normalizer.normalize(inp, t_float)\n",
    "            inp_arr.append(inp.cpu().numpy())\n",
    "            tmp_pred_arr = []\n",
    "            for _ in range(mmse_count):\n",
    "                with torch.no_grad():\n",
    "                    pred = model(inp.cuda())\n",
    "                    tmp_pred_arr.append(pred.cpu().numpy())\n",
    "            pred_arr.append(np.median(np.stack(tmp_pred_arr),axis=0))\n",
    "    \n",
    "    all_pred = np.concatenate(pred_arr).reshape(len(gt),-1)\n",
    "    inp_arr = np.concatenate(inp_arr,axis=0)\n"
   ]
  },
  {
   "cell_type": "code",
   "execution_count": 18,
   "metadata": {},
   "outputs": [
    {
     "name": "stdout",
     "output_type": "stream",
     "text": [
      "[0.04945641 0.08078794 0.18518886 0.3026682  0.4574226  0.792033\n",
      " 0.82090366 0.7814821  0.7979163  0.8572697 ]\n",
      "[0.03028801 0.05321878 0.1635895  0.28313315 0.43189347 0.8224741\n",
      " 0.8415761  0.78310394 0.7982467  0.8736918 ]\n"
     ]
    }
   ],
   "source": [
    "print(np.mean(all_pred, axis=1))\n",
    "print(np.median(all_pred, axis=1))"
   ]
  },
  {
   "cell_type": "code",
   "execution_count": 19,
   "metadata": {},
   "outputs": [],
   "source": [
    "all_pred = np.concatenate(pred_arr).reshape(len(gt),-1)\n",
    "inp_arr = np.concatenate(inp_arr,axis=0)\n"
   ]
  },
  {
   "cell_type": "code",
   "execution_count": 20,
   "metadata": {},
   "outputs": [
    {
     "name": "stderr",
     "output_type": "stream",
     "text": [
      "/tmp/ipykernel_6230/2798052624.py:8: UserWarning: color is redundantly defined by the 'color' keyword argument and the fmt string \"k--\" (-> color='k'). The keyword argument will take precedence.\n",
      "  ax.plot(gt,gt, 'k--', color='black')\n"
     ]
    },
    {
     "data": {
      "image/png": "[encoded data removed]",
      "text/plain": [
       "<Figure size 640x480 with 1 Axes>"
      ]
     },
     "metadata": {},
     "output_type": "display_data"
    }
   ],
   "source": [
    "import matplotlib.pyplot as plt\n",
    "\n",
    "err = all_pred.std(axis=1)\n",
    "avg_pred = all_pred.mean(axis=1)\n",
    "_,ax  = plt.subplots()\n",
    "# plot with error bars\n",
    "ax.errorbar(gt, avg_pred, yerr=err, fmt='o')\n",
    "ax.plot(gt,gt, 'k--', color='black')\n",
    "ax.set_xlabel('Ground Truth', fontsize=15)\n",
    "ax.set_ylabel('Predicted', fontsize=15)\n",
    "ax.grid()"
   ]
  },
  {
   "cell_type": "code",
   "execution_count": 13,
   "metadata": {},
   "outputs": [
    {
     "name": "stdout",
     "output_type": "stream",
     "text": [
      "Hagen Test NormCount:800 RMSE: 0.08837052317898592\n"
     ]
    }
   ],
   "source": [
    "mse = ((all_pred - gt.reshape(-1,1))**2).mean(axis=1)\n",
    "dataset_str = opt['datasets']['train']['name']\n",
    "dataset_str += ' Test' if evaluate_test_data else ' Val'\n",
    "print(f'{dataset_str} NormCount:{normalizer_count} RMSE: {np.sqrt(mse.mean())}')"
   ]
  },
  {
   "cell_type": "code",
   "execution_count": 15,
   "metadata": {},
   "outputs": [
    {
     "name": "stdout",
     "output_type": "stream",
     "text": [
      "Hagen Test NormCount:800 RMSE wrt Aggregated (mean) prediction: 0.044587785818078596\n",
      "Hagen Test NormCount:800 RMSE wrt Aggregated (median) prediction: 0.03477773102285471\n"
     ]
    }
   ],
   "source": [
    "mse_mean = ((np.mean(all_pred, axis=1) - gt)**2).mean()\n",
    "mse_median = ((np.median(all_pred, axis=1) - gt)**2).mean()\n",
    "print(f'{dataset_str} NormCount:{normalizer_count} RMSE wrt Aggregated (mean) prediction: {np.sqrt(mse_mean)}')\n",
    "print(f'{dataset_str} NormCount:{normalizer_count} RMSE wrt Aggregated (median) prediction: {np.sqrt(mse_median)}')"
   ]
  }
 ],
 "metadata": {
  "kernelspec": {
   "display_name": "Python 3",
   "language": "python",
   "name": "python3"
  },
  "language_info": {
   "codemirror_mode": {
    "name": "ipython",
    "version": 3
   },
   "file_extension": ".py",
   "mimetype": "text/x-python",
   "name": "python",
   "nbconvert_exporter": "python",
   "pygments_lexer": "ipython3",
   "version": "3.9.18"
  }
 },
 "nbformat": 4,
 "nbformat_minor": 2
}
