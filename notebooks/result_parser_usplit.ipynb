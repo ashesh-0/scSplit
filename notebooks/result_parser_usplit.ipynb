{
 "cells": [
  {
   "cell_type": "code",
   "execution_count": 1,
   "metadata": {},
   "outputs": [],
   "source": [
    "output = \"\"\"\n",
    "W:0.1 Test_P64_G32_M10_Sk0\n",
    "PSNR:\t 26.43+-0.607\t44.59+-0.653\n",
    "MicroSSIM:\t 0.868+-0.011\t0.989+-0.001\n",
    "MicroS3IM:\t 0.908+-0.010\t0.995+-0.000\n",
    "SSIM:\t 0.788+-0.018\t0.993+-0.000\n",
    "MSSSIM:\t 0.830+-0.017\t0.997+-0.000\n",
    "lpips:\t 0.213+-0.017\t0.010+-0.001\n",
    "\n",
    "W:0.2 Test_P64_G32_M10_Sk0\n",
    "PSNR:\t 29.84+-0.754\t41.15+-0.814\n",
    "MicroSSIM:\t 0.913+-0.008\t0.984+-0.001\n",
    "MicroS3IM:\t 0.948+-0.006\t0.993+-0.001\n",
    "SSIM:\t 0.877+-0.012\t0.983+-0.001\n",
    "MSSSIM:\t 0.912+-0.009\t0.995+-0.000\n",
    "lpips:\t 0.124+-0.010\t0.017+-0.001\n",
    "\n",
    "W:0.3 Test_P64_G32_M10_Sk0\n",
    "PSNR:\t 30.5+-0.679\t37.91+-0.73\n",
    "MicroSSIM:\t 0.927+-0.006\t0.977+-0.002\n",
    "MicroS3IM:\t 0.958+-0.005\t0.990+-0.001\n",
    "SSIM:\t 0.919+-0.008\t0.969+-0.001\n",
    "MSSSIM:\t 0.943+-0.006\t0.991+-0.001\n",
    "lpips:\t 0.087+-0.007\t0.026+-0.002\n",
    "\n",
    "W:0.4 Test_P64_G32_M10_Sk0\n",
    "PSNR:\t 31.57+-0.615\t35.85+-0.663\n",
    "MicroSSIM:\t 0.941+-0.005\t0.966+-0.003\n",
    "MicroS3IM:\t 0.966+-0.004\t0.986+-0.002\n",
    "SSIM:\t 0.937+-0.007\t0.951+-0.002\n",
    "MSSSIM:\t 0.955+-0.005\t0.984+-0.002\n",
    "lpips:\t 0.066+-0.005\t0.041+-0.004\n",
    "\n",
    "W:0.5 Test_P64_G32_M10_Sk0\n",
    "PSNR:\t 33.01+-0.582\t33.67+-0.613\n",
    "MicroSSIM:\t 0.956+-0.003\t0.953+-0.004\n",
    "MicroS3IM:\t 0.973+-0.003\t0.977+-0.003\n",
    "SSIM:\t 0.950+-0.005\t0.932+-0.003\n",
    "MSSSIM:\t 0.963+-0.004\t0.974+-0.003\n",
    "lpips:\t 0.052+-0.004\t0.061+-0.005\n",
    "\n",
    "W:0.6 Test_P64_G32_M10_Sk0\n",
    "PSNR:\t 33.48+-0.563\t31.03+-0.56\n",
    "MicroSSIM:\t 0.965+-0.002\t0.935+-0.006\n",
    "MicroS3IM:\t 0.977+-0.002\t0.963+-0.005\n",
    "SSIM:\t 0.966+-0.003\t0.908+-0.005\n",
    "MSSSIM:\t 0.973+-0.003\t0.958+-0.005\n",
    "lpips:\t 0.037+-0.003\t0.084+-0.007\n",
    "\n",
    "W:0.7 Test_P64_G32_M10_Sk0\n",
    "PSNR:\t 34.78+-0.574\t28.66+-0.538\n",
    "MicroSSIM:\t 0.976+-0.002\t0.914+-0.008\n",
    "MicroS3IM:\t 0.983+-0.002\t0.942+-0.007\n",
    "SSIM:\t 0.977+-0.002\t0.880+-0.007\n",
    "MSSSIM:\t 0.981+-0.002\t0.935+-0.007\n",
    "lpips:\t 0.026+-0.002\t0.112+-0.010\n",
    "\n",
    "W:0.8 Test_P64_G32_M10_Sk0\n",
    "PSNR:\t 37.46+-0.627\t26.86+-0.541\n",
    "MicroSSIM:\t 0.985+-0.001\t0.892+-0.010\n",
    "MicroS3IM:\t 0.990+-0.001\t0.916+-0.010\n",
    "SSIM:\t 0.989+-0.001\t0.852+-0.009\n",
    "MSSSIM:\t 0.990+-0.001\t0.908+-0.010\n",
    "lpips:\t 0.015+-0.001\t0.140+-0.012\n",
    "\n",
    "W:0.9 Test_P64_G32_M10_Sk0\n",
    "PSNR:\t 41.07+-0.646\t24.53+-0.533\n",
    "MicroSSIM:\t 0.992+-0.000\t0.865+-0.013\n",
    "MicroS3IM:\t 0.996+-0.000\t0.872+-0.015\n",
    "SSIM:\t 0.996+-0.000\t0.825+-0.012\n",
    "MSSSIM:\t 0.996+-0.000\t0.868+-0.014\n",
    "lpips:\t 0.007+-0.000\t0.174+-0.015\n",
    "\"\"\""
   ]
  },
  {
   "cell_type": "code",
   "execution_count": 2,
   "metadata": {},
   "outputs": [],
   "source": [
    "lines = output.split(\"\\n\")"
   ]
  },
  {
   "cell_type": "code",
   "execution_count": 3,
   "metadata": {},
   "outputs": [
    {
     "name": "stdout",
     "output_type": "stream",
     "text": [
      "PSNR PSNR:\t 26.43+-0.607\t44.59+-0.653\n",
      "SSIM MSSSIM:\t 0.830+-0.017\t0.997+-0.000\n",
      "LPIPS lpips:\t 0.213+-0.017\t0.010+-0.001\n",
      "Params W:0.1 Test_P64_G32_M10_Sk0\n"
     ]
    }
   ],
   "source": [
    "psnr_lines = [line for line in lines if \"PSNR:\" in line]\n",
    "ssim_lines = [line for line in lines if \"MSSSIM:\" in line]\n",
    "lpips_lines = [line for line in lines if \"lpips:\" in line]\n",
    "params = [line for line in lines if \"W:\" in line]\n",
    "\n",
    "print(\"PSNR\", psnr_lines[0])\n",
    "print(\"SSIM\", ssim_lines[0])\n",
    "print(\"LPIPS\", lpips_lines[0])\n",
    "print(\"Params\", params[0])"
   ]
  },
  {
   "cell_type": "code",
   "execution_count": 4,
   "metadata": {},
   "outputs": [
    {
     "data": {
      "text/plain": [
       "['PSNR:', ' 26.43+-0.607', '44.59+-0.653']"
      ]
     },
     "execution_count": 4,
     "metadata": {},
     "output_type": "execute_result"
    }
   ],
   "source": [
    "(psnr_lines[0].split('\\t'))"
   ]
  },
  {
   "cell_type": "code",
   "execution_count": null,
   "metadata": {},
   "outputs": [],
   "source": []
  },
  {
   "cell_type": "code",
   "execution_count": 5,
   "metadata": {},
   "outputs": [],
   "source": [
    "def get_mixing(param_str):\n",
    "    tokens = param_str.split(\" \")\n",
    "    for token in tokens:\n",
    "        if \"W:\" in token:\n",
    "            return float(token.split(\":\")[1])\n",
    "\n",
    "\n",
    "def squeeze(tokens):\n",
    "    output_tokens = []\n",
    "    for token in tokens:\n",
    "        if token == \"\":\n",
    "            continue\n",
    "\n",
    "        output_tokens.append(token.strip(\" \"))\n",
    "    return output_tokens\n",
    "\n",
    "def parse_line(line):\n",
    "    \"\"\"\n",
    "    MSSSIM:\t 0.772+-0.022\t0.976+-0.003\n",
    "    \"\"\"\n",
    "    metric_name, ch1_token, ch2_token = squeeze(line.strip().split(\"\\t\"))\n",
    "    ch1_val, ch1_se = map(float, ch1_token.split(\"+-\"))\n",
    "    ch2_val, ch2_se = map(float, ch2_token.split(\"+-\"))\n",
    "    return {\n",
    "        'metric_name':metric_name, \n",
    "        'value':[ch1_val, ch2_val], \n",
    "        'se': [ch1_se, ch2_se]\n",
    "    }"
   ]
  },
  {
   "cell_type": "code",
   "execution_count": 6,
   "metadata": {},
   "outputs": [],
   "source": [
    "mixing_values = [get_mixing(param) for param in params]\n",
    "psnr_values = [parse_line(line) for line in psnr_lines]\n",
    "ssim_values = [parse_line(line) for line in ssim_lines]\n",
    "lpips_values = [parse_line(line) for line in lpips_lines]\n",
    "assert len(mixing_values) == len(psnr_values) \n",
    "assert len(mixing_values)== len(ssim_values) \n",
    "assert len(mixing_values)==len(lpips_values)"
   ]
  },
  {
   "cell_type": "code",
   "execution_count": 7,
   "metadata": {},
   "outputs": [],
   "source": [
    "import numpy as np\n",
    "\n",
    "def get_values(value_list, w_list):\n",
    "    ch1_values = [value_list[i]['value'][0] for i in range(len(value_list))]\n",
    "    ch2_values = [value_list[i]['value'][1] for i in range(len(value_list))]\n",
    "    ch2_values = ch2_values[::-1]\n",
    "    return w_list, ch1_values, ch2_values\n",
    "    # np.array(ch1_values), np.array(ch2_values), np.array(w_extended_list)"
   ]
  },
  {
   "cell_type": "code",
   "execution_count": 8,
   "metadata": {},
   "outputs": [
    {
     "name": "stdout",
     "output_type": "stream",
     "text": [
      "W [0.1, 0.2, 0.3, 0.4, 0.5, 0.6, 0.7, 0.8, 0.9]\n",
      "PSNR [26.43, 29.84, 30.5, 31.57, 33.01, 33.48, 34.78, 37.46, 41.07] [24.53, 26.86, 28.66, 31.03, 33.67, 35.85, 37.91, 41.15, 44.59]\n",
      "W [0.1, 0.2, 0.3, 0.4, 0.5, 0.6, 0.7, 0.8, 0.9]\n",
      "SSIM [0.83, 0.912, 0.943, 0.955, 0.963, 0.973, 0.981, 0.99, 0.996] [0.868, 0.908, 0.935, 0.958, 0.974, 0.984, 0.991, 0.995, 0.997]\n",
      "W [0.1, 0.2, 0.3, 0.4, 0.5, 0.6, 0.7, 0.8, 0.9]\n",
      "LPIPS [0.213, 0.124, 0.087, 0.066, 0.052, 0.037, 0.026, 0.015, 0.007] [0.174, 0.14, 0.112, 0.084, 0.061, 0.041, 0.026, 0.017, 0.01]\n"
     ]
    }
   ],
   "source": [
    "w_extended_list,ch1_psnr, ch2_psnr = get_values(psnr_values, mixing_values)\n",
    "assert len(w_extended_list) == len(set(w_extended_list)), \"Duplicate values\"\n",
    "\n",
    "print('W', w_extended_list)\n",
    "print('PSNR', ch1_psnr, ch2_psnr)\n",
    "\n",
    "w_extended_list,ch1_ssim, ch2_ssim = get_values(ssim_values, mixing_values)\n",
    "print('W', w_extended_list)\n",
    "print('SSIM', ch1_ssim, ch2_ssim)\n",
    "\n",
    "w_extended_list,ch1_lpips, ch2_lpips = get_values(lpips_values, mixing_values)\n",
    "print('W', w_extended_list)\n",
    "print('LPIPS', ch1_lpips, ch2_lpips)"
   ]
  },
  {
   "cell_type": "markdown",
   "metadata": {},
   "source": [
    "## Grouping in 3"
   ]
  },
  {
   "cell_type": "code",
   "execution_count": 9,
   "metadata": {},
   "outputs": [
    {
     "name": "stdout",
     "output_type": "stream",
     "text": [
      "W [0.9, 0.8, 0.7] [0.6, 0.5, 0.4] [0.3, 0.2, 0.1]\n",
      "PSNR 39.5 33.1 27.8\n",
      "MSSSIM 0.992 0.968 0.899\n",
      "LPIPS 0.017 0.057 0.142\n"
     ]
    }
   ],
   "source": [
    "psnr = (np.array(ch1_psnr) + np.array(ch2_psnr))/2\n",
    "ssim = (np.array(ch1_ssim) + np.array(ch2_ssim))/2\n",
    "lpips = (np.array(ch1_lpips) + np.array(ch2_lpips))/2\n",
    "\n",
    "psnr = psnr[::-1]\n",
    "ssim = ssim[::-1]\n",
    "lpips = lpips[::-1]\n",
    "w_extended_list = w_extended_list[::-1]\n",
    "print('W', w_extended_list[0:3], w_extended_list[3:6], w_extended_list[6:9])\n",
    "print(f'PSNR {psnr[:3].mean():.1f} {psnr[3:6].mean():.1f} {psnr[6:9].mean():.1f}')\n",
    "print(f'MSSSIM {ssim[:3].mean():.3f} {ssim[3:6].mean():.3f} {ssim[6:9].mean():.3f}')\n",
    "print(f'LPIPS {lpips[:3].mean():.3f} {lpips[3:6].mean():.3f} {lpips[6:9].mean():.3f}')\n"
   ]
  },
  {
   "cell_type": "code",
   "execution_count": null,
   "metadata": {},
   "outputs": [],
   "source": []
  },
  {
   "cell_type": "code",
   "execution_count": null,
   "metadata": {},
   "outputs": [],
   "source": []
  }
 ],
 "metadata": {
  "kernelspec": {
   "display_name": "Python 3",
   "language": "python",
   "name": "python3"
  },
  "language_info": {
   "codemirror_mode": {
    "name": "ipython",
    "version": 3
   },
   "file_extension": ".py",
   "mimetype": "text/x-python",
   "name": "python",
   "nbconvert_exporter": "python",
   "pygments_lexer": "ipython3",
   "version": "3.9.19"
  }
 },
 "nbformat": 4,
 "nbformat_minor": 2
}
