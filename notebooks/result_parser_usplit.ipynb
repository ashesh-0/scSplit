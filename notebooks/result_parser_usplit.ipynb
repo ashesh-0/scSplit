{
 "cells": [
  {
   "cell_type": "code",
   "execution_count": 1,
   "metadata": {},
   "outputs": [],
   "source": [
    "output = \"\"\"\n",
    "W:0.1 Test_P512_G256_M10_Sk0\n",
    "PSNR:\t 20.15+-0.532\t34.26+-0.7\n",
    "MicroSSIM:\t 0.781+-0.017\t0.973+-0.002\n",
    "MicroS3IM:\t 0.817+-0.018\t0.986+-0.001\n",
    "SSIM:\t 0.748+-0.023\t0.976+-0.002\n",
    "MSSSIM:\t 0.773+-0.022\t0.981+-0.002\n",
    "lpips:\t 0.284+-0.022\t0.038+-0.003\n",
    "\n",
    "W:0.2 Test_P512_G256_M10_Sk0\n",
    "PSNR:\t 23.55+-0.515\t35.35+-0.709\n",
    "MicroSSIM:\t 0.872+-0.010\t0.971+-0.002\n",
    "MicroS3IM:\t 0.906+-0.010\t0.987+-0.001\n",
    "SSIM:\t 0.804+-0.019\t0.969+-0.002\n",
    "MSSSIM:\t 0.828+-0.017\t0.983+-0.002\n",
    "lpips:\t 0.207+-0.016\t0.041+-0.004\n",
    "\n",
    "W:0.3 Test_P512_G256_M10_Sk0\n",
    "PSNR:\t 27.69+-0.543\t36.1+-0.661\n",
    "MicroSSIM:\t 0.924+-0.007\t0.969+-0.002\n",
    "MicroS3IM:\t 0.949+-0.006\t0.987+-0.001\n",
    "SSIM:\t 0.857+-0.014\t0.959+-0.002\n",
    "MSSSIM:\t 0.879+-0.012\t0.983+-0.001\n",
    "lpips:\t 0.144+-0.011\t0.045+-0.004\n",
    "\n",
    "W:0.4 Test_P512_G256_M10_Sk0\n",
    "PSNR:\t 31.68+-0.558\t35.78+-0.618\n",
    "MicroSSIM:\t 0.950+-0.005\t0.964+-0.003\n",
    "MicroS3IM:\t 0.969+-0.004\t0.984+-0.002\n",
    "SSIM:\t 0.905+-0.009\t0.947+-0.002\n",
    "MSSSIM:\t 0.924+-0.008\t0.981+-0.002\n",
    "lpips:\t 0.094+-0.007\t0.052+-0.004\n",
    "\n",
    "\n",
    "W:0.5 Test_P512_G256_M10_Sk0\n",
    "PSNR:\t 34.09+-0.561\t34.12+-0.559\n",
    "MicroSSIM:\t 0.961+-0.003\t0.954+-0.004\n",
    "MicroS3IM:\t 0.976+-0.003\t0.977+-0.003\n",
    "SSIM:\t 0.944+-0.005\t0.930+-0.003\n",
    "MSSSIM:\t 0.957+-0.004\t0.973+-0.003\n",
    "lpips:\t 0.058+-0.004\t0.064+-0.006\n",
    "\n",
    "W:0.6 Test_P512_G256_M10_Sk0\n",
    "PSNR:\t 34.1+-0.529\t30.49+-0.592\n",
    "MicroSSIM:\t 0.966+-0.002\t0.931+-0.007\n",
    "MicroS3IM:\t 0.978+-0.002\t0.954+-0.006\n",
    "SSIM:\t 0.969+-0.003\t0.904+-0.006\n",
    "MSSSIM:\t 0.976+-0.003\t0.950+-0.006\n",
    "lpips:\t 0.037+-0.003\t0.088+-0.008\n",
    "\n",
    "W:0.7 Test_P512_G256_M10_Sk0\n",
    "PSNR:\t 32.97+-0.702\t25.57+-0.71\n",
    "MicroSSIM:\t 0.967+-0.002\t0.895+-0.011\n",
    "MicroS3IM:\t 0.978+-0.002\t0.910+-0.011\n",
    "SSIM:\t 0.976+-0.002\t0.867+-0.009\n",
    "MSSSIM:\t 0.980+-0.002\t0.908+-0.011\n",
    "lpips:\t 0.030+-0.002\t0.124+-0.012\n",
    "\n",
    "W:0.8 Test_P512_G256_M10_Sk0\n",
    "PSNR:\t 31.71+-0.844\t22.29+-0.495\n",
    "MicroSSIM:\t 0.968+-0.002\t0.850+-0.016\n",
    "MicroS3IM:\t 0.979+-0.002\t0.852+-0.017\n",
    "SSIM:\t 0.968+-0.003\t0.823+-0.013\n",
    "MSSSIM:\t 0.972+-0.003\t0.851+-0.016\n",
    "lpips:\t 0.033+-0.003\t0.170+-0.016\n",
    "\n",
    "W:0.9 Test_P512_G256_M10_Sk0\n",
    "PSNR:\t 30.68+-0.997\t20.81+-0.425\n",
    "MicroSSIM:\t 0.970+-0.002\t0.819+-0.018\n",
    "MicroS3IM:\t 0.981+-0.002\t0.812+-0.021\n",
    "SSIM:\t 0.951+-0.005\t0.784+-0.017\n",
    "MSSSIM:\t 0.959+-0.004\t0.803+-0.021\n",
    "lpips:\t 0.042+-0.003\t0.211+-0.019\n",
    "\"\"\""
   ]
  },
  {
   "cell_type": "code",
   "execution_count": 2,
   "metadata": {},
   "outputs": [],
   "source": [
    "lines = output.split(\"\\n\")"
   ]
  },
  {
   "cell_type": "code",
   "execution_count": 3,
   "metadata": {},
   "outputs": [
    {
     "name": "stdout",
     "output_type": "stream",
     "text": [
      "PSNR PSNR:\t 20.15+-0.532\t34.26+-0.7\n",
      "SSIM MSSSIM:\t 0.773+-0.022\t0.981+-0.002\n",
      "LPIPS lpips:\t 0.284+-0.022\t0.038+-0.003\n",
      "Params W:0.1 Test_P512_G256_M10_Sk0\n"
     ]
    }
   ],
   "source": [
    "psnr_lines = [line for line in lines if \"PSNR:\" in line]\n",
    "ssim_lines = [line for line in lines if \"MSSSIM:\" in line]\n",
    "lpips_lines = [line for line in lines if \"lpips:\" in line]\n",
    "params = [line for line in lines if \"W:\" in line]\n",
    "\n",
    "print(\"PSNR\", psnr_lines[0])\n",
    "print(\"SSIM\", ssim_lines[0])\n",
    "print(\"LPIPS\", lpips_lines[0])\n",
    "print(\"Params\", params[0])"
   ]
  },
  {
   "cell_type": "code",
   "execution_count": 4,
   "metadata": {},
   "outputs": [
    {
     "data": {
      "text/plain": [
       "['PSNR:', ' 20.15+-0.532', '34.26+-0.7']"
      ]
     },
     "execution_count": 4,
     "metadata": {},
     "output_type": "execute_result"
    }
   ],
   "source": [
    "(psnr_lines[0].split('\\t'))"
   ]
  },
  {
   "cell_type": "code",
   "execution_count": null,
   "metadata": {},
   "outputs": [],
   "source": []
  },
  {
   "cell_type": "code",
   "execution_count": 5,
   "metadata": {},
   "outputs": [],
   "source": [
    "def get_mixing(param_str):\n",
    "    tokens = param_str.split(\" \")\n",
    "    for token in tokens:\n",
    "        if \"W:\" in token:\n",
    "            return float(token.split(\":\")[1])\n",
    "\n",
    "\n",
    "def squeeze(tokens):\n",
    "    output_tokens = []\n",
    "    for token in tokens:\n",
    "        if token == \"\":\n",
    "            continue\n",
    "\n",
    "        output_tokens.append(token.strip(\" \"))\n",
    "    return output_tokens\n",
    "\n",
    "def parse_line(line):\n",
    "    \"\"\"\n",
    "    MSSSIM:\t 0.772+-0.022\t0.976+-0.003\n",
    "    \"\"\"\n",
    "    metric_name, ch1_token, ch2_token = squeeze(line.strip().split(\"\\t\"))\n",
    "    ch1_val, ch1_se = map(float, ch1_token.split(\"+-\"))\n",
    "    ch2_val, ch2_se = map(float, ch2_token.split(\"+-\"))\n",
    "    return {\n",
    "        'metric_name':metric_name, \n",
    "        'value':[ch1_val, ch2_val], \n",
    "        'se': [ch1_se, ch2_se]\n",
    "    }"
   ]
  },
  {
   "cell_type": "code",
   "execution_count": 6,
   "metadata": {},
   "outputs": [],
   "source": [
    "mixing_values = [get_mixing(param) for param in params]\n",
    "psnr_values = [parse_line(line) for line in psnr_lines]\n",
    "ssim_values = [parse_line(line) for line in ssim_lines]\n",
    "lpips_values = [parse_line(line) for line in lpips_lines]\n",
    "assert len(mixing_values) == len(psnr_values) \n",
    "assert len(mixing_values)== len(ssim_values) \n",
    "assert len(mixing_values)==len(lpips_values)"
   ]
  },
  {
   "cell_type": "code",
   "execution_count": 7,
   "metadata": {},
   "outputs": [],
   "source": [
    "import numpy as np\n",
    "\n",
    "def get_values(value_list, w_list):\n",
    "    ch1_values = [value_list[i]['value'][0] for i in range(len(value_list))]\n",
    "    ch2_values = [value_list[i]['value'][1] for i in range(len(value_list))]\n",
    "    ch2_values = ch2_values[::-1]\n",
    "    return w_list, ch1_values, ch2_values\n",
    "    # np.array(ch1_values), np.array(ch2_values), np.array(w_extended_list)"
   ]
  },
  {
   "cell_type": "code",
   "execution_count": 8,
   "metadata": {},
   "outputs": [
    {
     "name": "stdout",
     "output_type": "stream",
     "text": [
      "W [0.1, 0.2, 0.3, 0.4, 0.5, 0.6, 0.7, 0.8, 0.9]\n",
      "PSNR [20.15, 23.55, 27.69, 31.68, 34.09, 34.1, 32.97, 31.71, 30.68] [20.81, 22.29, 25.57, 30.49, 34.12, 35.78, 36.1, 35.35, 34.26]\n",
      "W [0.1, 0.2, 0.3, 0.4, 0.5, 0.6, 0.7, 0.8, 0.9]\n",
      "SSIM [0.773, 0.828, 0.879, 0.924, 0.957, 0.976, 0.98, 0.972, 0.959] [0.803, 0.851, 0.908, 0.95, 0.973, 0.981, 0.983, 0.983, 0.981]\n",
      "W [0.1, 0.2, 0.3, 0.4, 0.5, 0.6, 0.7, 0.8, 0.9]\n",
      "LPIPS [0.284, 0.207, 0.144, 0.094, 0.058, 0.037, 0.03, 0.033, 0.042] [0.211, 0.17, 0.124, 0.088, 0.064, 0.052, 0.045, 0.041, 0.038]\n"
     ]
    }
   ],
   "source": [
    "w_extended_list,ch1_psnr, ch2_psnr = get_values(psnr_values, mixing_values)\n",
    "assert len(w_extended_list) == len(set(w_extended_list)), \"Duplicate values\"\n",
    "\n",
    "print('W', w_extended_list)\n",
    "print('PSNR', ch1_psnr, ch2_psnr)\n",
    "\n",
    "w_extended_list,ch1_ssim, ch2_ssim = get_values(ssim_values, mixing_values)\n",
    "print('W', w_extended_list)\n",
    "print('SSIM', ch1_ssim, ch2_ssim)\n",
    "\n",
    "w_extended_list,ch1_lpips, ch2_lpips = get_values(lpips_values, mixing_values)\n",
    "print('W', w_extended_list)\n",
    "print('LPIPS', ch1_lpips, ch2_lpips)"
   ]
  },
  {
   "cell_type": "markdown",
   "metadata": {},
   "source": [
    "## Grouping in 3"
   ]
  },
  {
   "cell_type": "code",
   "execution_count": 9,
   "metadata": {},
   "outputs": [
    {
     "name": "stdout",
     "output_type": "stream",
     "text": [
      "W [0.9, 0.8, 0.7] [0.6, 0.5, 0.4] [0.3, 0.2, 0.1]\n",
      "PSNR 33.5 33.4 23.3\n",
      "MSSSIM 0.976 0.960 0.840\n",
      "LPIPS 0.038 0.066 0.190\n"
     ]
    }
   ],
   "source": [
    "psnr = (np.array(ch1_psnr) + np.array(ch2_psnr))/2\n",
    "ssim = (np.array(ch1_ssim) + np.array(ch2_ssim))/2\n",
    "lpips = (np.array(ch1_lpips) + np.array(ch2_lpips))/2\n",
    "\n",
    "psnr = psnr[::-1]\n",
    "ssim = ssim[::-1]\n",
    "lpips = lpips[::-1]\n",
    "w_extended_list = w_extended_list[::-1]\n",
    "print('W', w_extended_list[0:3], w_extended_list[3:6], w_extended_list[6:9])\n",
    "print(f'PSNR {psnr[:3].mean():.1f} {psnr[3:6].mean():.1f} {psnr[6:9].mean():.1f}')\n",
    "print(f'MSSSIM {ssim[:3].mean():.3f} {ssim[3:6].mean():.3f} {ssim[6:9].mean():.3f}')\n",
    "print(f'LPIPS {lpips[:3].mean():.3f} {lpips[3:6].mean():.3f} {lpips[6:9].mean():.3f}')\n"
   ]
  },
  {
   "cell_type": "code",
   "execution_count": null,
   "metadata": {},
   "outputs": [],
   "source": []
  },
  {
   "cell_type": "code",
   "execution_count": null,
   "metadata": {},
   "outputs": [],
   "source": []
  }
 ],
 "metadata": {
  "kernelspec": {
   "display_name": "Python 3",
   "language": "python",
   "name": "python3"
  },
  "language_info": {
   "codemirror_mode": {
    "name": "ipython",
    "version": 3
   },
   "file_extension": ".py",
   "mimetype": "text/x-python",
   "name": "python",
   "nbconvert_exporter": "python",
   "pygments_lexer": "ipython3",
   "version": "3.9.19"
  }
 },
 "nbformat": 4,
 "nbformat_minor": 2
}
