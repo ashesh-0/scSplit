{
 "cells": [
  {
   "cell_type": "code",
   "execution_count": 45,
   "metadata": {},
   "outputs": [],
   "source": [
    "output = \"\"\"\n",
    "Ckpt: 2502/BioSR-joint_indi-l1/5\n",
    "Classifier: 2502/BioSR-UnetClassifier-l2/4/\n",
    "T:10000 W:0.1 RealInp:False M:10 TPred:True TPredAgg:True TPredFixed:NoneNorm:10000 InfSteps:10000\n",
    "\n",
    "BT Removed: PSNR:\t 40.64+-0.335\t44.49+-0.584\n",
    "BT Removed: MicroSSIM:\t 0.983+-0.0020\t0.948+-0.0180\n",
    "BT Removed: MicroS3IM:\t 0.992+-0.0010\t0.990+-0.0010\n",
    "BT Removed: SSIM:\t 0.875+-0.0360\t0.986+-0.0040\n",
    "BT Removed: MSSSIM:\t 0.986+-0.0020\t0.998+-0.0000\n",
    "BT Removed: lpips:\t 0.008+-0.0010\t0.003+-0.0000\n",
    "\n",
    "Weak Ch Pred: PSNR:\t 26.14+-0.349\t23.24+-0.485\n",
    "Weak Ch Pred: MicroSSIM:\t 0.735+-0.0100\t0.683+-0.0340\n",
    "Weak Ch Pred: MicroS3IM:\t 0.860+-0.0070\t0.707+-0.0400\n",
    "Weak Ch Pred: SSIM:\t 0.671+-0.0210\t0.732+-0.0270\n",
    "Weak Ch Pred: MSSSIM:\t 0.829+-0.0110\t0.676+-0.0380\n",
    "Weak Ch Pred: lpips:\t 0.204+-0.0150\t0.314+-0.0330\n",
    "\n",
    "\n",
    "Ckpt: 2502/BioSR-joint_indi-l1/5\n",
    "Classifier: 2502/BioSR-UnetClassifier-l2/4/\n",
    "T:10000 W:0.2 RealInp:False M:10 TPred:True TPredAgg:True TPredFixed:NoneNorm:10000 InfSteps:10000\n",
    "\n",
    "BT Removed: PSNR:\t 38.06+-0.324\t41.06+-0.457\n",
    "BT Removed: MicroSSIM:\t 0.972+-0.0020\t0.948+-0.0150\n",
    "BT Removed: MicroS3IM:\t 0.987+-0.0010\t0.990+-0.0000\n",
    "BT Removed: SSIM:\t 0.868+-0.0370\t0.983+-0.0020\n",
    "BT Removed: MSSSIM:\t 0.981+-0.0020\t0.996+-0.0000\n",
    "BT Removed: lpips:\t 0.014+-0.0010\t0.007+-0.0010\n",
    "\n",
    "Weak Ch Pred: PSNR:\t 28.67+-0.514\t27.01+-0.538\n",
    "Weak Ch Pred: MicroSSIM:\t 0.836+-0.0150\t0.801+-0.0220\n",
    "Weak Ch Pred: MicroS3IM:\t 0.919+-0.0070\t0.872+-0.0160\n",
    "Weak Ch Pred: SSIM:\t 0.779+-0.0330\t0.857+-0.0170\n",
    "Weak Ch Pred: MSSSIM:\t 0.926+-0.0060\t0.869+-0.0170\n",
    "Weak Ch Pred: lpips:\t 0.104+-0.0090\t0.151+-0.0120\n",
    "\n",
    "\n",
    "Ckpt: 2502/BioSR-joint_indi-l1/5\n",
    "Classifier: 2502/BioSR-UnetClassifier-l2/4/\n",
    "T:10000 W:0.3 RealInp:False M:10 TPred:True TPredAgg:True TPredFixed:NoneNorm:10000 InfSteps:10000\n",
    "\n",
    "BT Removed: PSNR:\t 36.62+-0.281\t38.69+-0.415\n",
    "BT Removed: MicroSSIM:\t 0.963+-0.0030\t0.942+-0.0140\n",
    "BT Removed: MicroS3IM:\t 0.982+-0.0020\t0.988+-0.0000\n",
    "BT Removed: SSIM:\t 0.865+-0.0360\t0.977+-0.0020\n",
    "BT Removed: MSSSIM:\t 0.977+-0.0020\t0.992+-0.0000\n",
    "BT Removed: lpips:\t 0.019+-0.0020\t0.012+-0.0010\n",
    "\n",
    "Weak Ch Pred: PSNR:\t 30.64+-0.582\t29.97+-0.462\n",
    "Weak Ch Pred: MicroSSIM:\t 0.889+-0.0110\t0.860+-0.0160\n",
    "Weak Ch Pred: MicroS3IM:\t 0.946+-0.0050\t0.935+-0.0070\n",
    "Weak Ch Pred: SSIM:\t 0.816+-0.0350\t0.913+-0.0110\n",
    "Weak Ch Pred: MSSSIM:\t 0.948+-0.0040\t0.937+-0.0080\n",
    "Weak Ch Pred: lpips:\t 0.069+-0.0070\t0.086+-0.0060\n",
    "\n",
    "\n",
    "Ckpt: 2502/BioSR-joint_indi-l1/5\n",
    "Classifier: 2502/BioSR-UnetClassifier-l2/4/\n",
    "T:10000 W:0.4 RealInp:False M:10 TPred:True TPredAgg:True TPredFixed:NoneNorm:10000 InfSteps:10000\n",
    "\n",
    "BT Removed: PSNR:\t 35.51+-0.4\t36.72+-0.3\n",
    "BT Removed: MicroSSIM:\t 0.956+-0.0040\t0.932+-0.0140\n",
    "BT Removed: MicroS3IM:\t 0.978+-0.0020\t0.984+-0.0010\n",
    "BT Removed: SSIM:\t 0.863+-0.0340\t0.970+-0.0030\n",
    "BT Removed: MSSSIM:\t 0.973+-0.0020\t0.987+-0.0010\n",
    "BT Removed: lpips:\t 0.026+-0.0030\t0.020+-0.0010\n",
    "\n",
    "Weak Ch Pred: PSNR:\t 32.49+-0.576\t32.55+-0.397\n",
    "Weak Ch Pred: MicroSSIM:\t 0.923+-0.0070\t0.898+-0.0150\n",
    "Weak Ch Pred: MicroS3IM:\t 0.963+-0.0030\t0.964+-0.0040\n",
    "Weak Ch Pred: SSIM:\t 0.842+-0.0330\t0.942+-0.0070\n",
    "Weak Ch Pred: MSSSIM:\t 0.961+-0.0030\t0.966+-0.0040\n",
    "Weak Ch Pred: lpips:\t 0.047+-0.0060\t0.050+-0.0030\n",
    "\n",
    "\n",
    "Ckpt: 2502/BioSR-joint_indi-l1/5\n",
    "Classifier: 2502/BioSR-UnetClassifier-l2/4/\n",
    "T:10000 W:0.5 RealInp:False M:10 TPred:True TPredAgg:True TPredFixed:NoneNorm:10000 InfSteps:10000\n",
    "\n",
    "BT Removed: PSNR:\t 34.07+-0.527\t34.69+-0.286\n",
    "BT Removed: MicroSSIM:\t 0.943+-0.0050\t0.919+-0.0140\n",
    "BT Removed: MicroS3IM:\t 0.972+-0.0030\t0.977+-0.0020\n",
    "BT Removed: SSIM:\t 0.850+-0.0340\t0.959+-0.0050\n",
    "BT Removed: MSSSIM:\t 0.968+-0.0030\t0.980+-0.0020\n",
    "BT Removed: lpips:\t 0.036+-0.0050\t0.032+-0.0020\n",
    "\n",
    "Weak Ch Pred: PSNR:\t 34.05+-0.514\t34.7+-0.291\n",
    "Weak Ch Pred: MicroSSIM:\t 0.943+-0.0050\t0.920+-0.0150\n",
    "Weak Ch Pred: MicroS3IM:\t 0.972+-0.0020\t0.977+-0.0020\n",
    "Weak Ch Pred: SSIM:\t 0.851+-0.0340\t0.959+-0.0050\n",
    "Weak Ch Pred: MSSSIM:\t 0.967+-0.0030\t0.980+-0.0020\n",
    "Weak Ch Pred: lpips:\t 0.035+-0.0050\t0.032+-0.0020\n",
    "\n",
    "\"\"\""
   ]
  },
  {
   "cell_type": "code",
   "execution_count": 46,
   "metadata": {},
   "outputs": [],
   "source": [
    "lines = output.split(\"\\n\")"
   ]
  },
  {
   "cell_type": "code",
   "execution_count": 47,
   "metadata": {},
   "outputs": [
    {
     "name": "stdout",
     "output_type": "stream",
     "text": [
      "PSNR BT Removed: PSNR:\t 40.64+-0.335\t44.49+-0.584\n",
      "SSIM BT Removed: MSSSIM:\t 0.986+-0.0020\t0.998+-0.0000\n",
      "LPIPS BT Removed: lpips:\t 0.008+-0.0010\t0.003+-0.0000\n",
      "Params T:10000 W:0.1 RealInp:False M:10 TPred:True TPredAgg:True TPredFixed:NoneNorm:10000 InfSteps:10000\n"
     ]
    }
   ],
   "source": [
    "psnr_lines = [line for line in lines if \"PSNR:\" in line]\n",
    "ssim_lines = [line for line in lines if \"MSSSIM:\" in line]\n",
    "lpips_lines = [line for line in lines if \"lpips:\" in line]\n",
    "params = [line for line in lines if \"W:\" in line]\n",
    "\n",
    "print(\"PSNR\", psnr_lines[0])\n",
    "print(\"SSIM\", ssim_lines[0])\n",
    "print(\"LPIPS\", lpips_lines[0])\n",
    "print(\"Params\", params[0])"
   ]
  },
  {
   "cell_type": "code",
   "execution_count": 48,
   "metadata": {},
   "outputs": [
    {
     "data": {
      "text/plain": [
       "['T:10000 W:0.1 RealInp:False M:10 TPred:True TPredAgg:True TPredFixed:NoneNorm:10000 InfSteps:10000',\n",
       " 'T:10000 W:0.2 RealInp:False M:10 TPred:True TPredAgg:True TPredFixed:NoneNorm:10000 InfSteps:10000',\n",
       " 'T:10000 W:0.3 RealInp:False M:10 TPred:True TPredAgg:True TPredFixed:NoneNorm:10000 InfSteps:10000',\n",
       " 'T:10000 W:0.4 RealInp:False M:10 TPred:True TPredAgg:True TPredFixed:NoneNorm:10000 InfSteps:10000',\n",
       " 'T:10000 W:0.5 RealInp:False M:10 TPred:True TPredAgg:True TPredFixed:NoneNorm:10000 InfSteps:10000']"
      ]
     },
     "execution_count": 48,
     "metadata": {},
     "output_type": "execute_result"
    }
   ],
   "source": [
    "\n",
    "params"
   ]
  },
  {
   "cell_type": "code",
   "execution_count": 49,
   "metadata": {},
   "outputs": [],
   "source": [
    "def get_mixing(param_str):\n",
    "    tokens = param_str.split(\" \")\n",
    "    for token in tokens:\n",
    "        if \"W:\" in token:\n",
    "            return float(token.split(\":\")[1])\n",
    "\n",
    "\n",
    "def squeeze(tokens):\n",
    "    output_tokens = []\n",
    "    for token in tokens:\n",
    "        if token == \"\":\n",
    "            continue\n",
    "\n",
    "        output_tokens.append(token.strip(\" \"))\n",
    "    return output_tokens\n",
    "\n",
    "def parse_line(line):\n",
    "    bt_or_weak, metric_name, metric_token = line.strip().split(\":\")\n",
    "    assert bt_or_weak in [\"BT Removed\", \"Weak Ch Pred\"]\n",
    "    ch1_token, ch2_token = squeeze(metric_token.split('\\t'))\n",
    "    ch1_val, ch1_se = map(float, ch1_token.split(\"+-\"))\n",
    "    ch2_val, ch2_se = map(float, ch2_token.split(\"+-\"))\n",
    "    return {\n",
    "        'state':bt_or_weak, \n",
    "        'metric_name':metric_name, \n",
    "        'value':[ch1_val, ch2_val], \n",
    "        'se': [ch1_se, ch2_se]\n",
    "    }"
   ]
  },
  {
   "cell_type": "code",
   "execution_count": 50,
   "metadata": {},
   "outputs": [],
   "source": [
    "mixing_values = [get_mixing(param) for param in params]\n",
    "psnr_values = [parse_line(line) for line in psnr_lines]\n",
    "ssim_values = [parse_line(line) for line in ssim_lines]\n",
    "lpips_values = [parse_line(line) for line in lpips_lines]\n",
    "assert 2*len(mixing_values) == len(psnr_values) \n",
    "assert 2*len(mixing_values)== len(ssim_values) \n",
    "assert 2*len(mixing_values)==len(lpips_values)"
   ]
  },
  {
   "cell_type": "code",
   "execution_count": 51,
   "metadata": {},
   "outputs": [],
   "source": [
    "import numpy as np\n",
    "\n",
    "def get_values(value_list, w_list):\n",
    "    ch1_values = []\n",
    "    ch2_values = []\n",
    "    w_extended_list = []\n",
    "    for i in range(len(value_list)):\n",
    "        ch1, ch2 = value_list[i]['value']\n",
    "        ch1_values.append(ch1)\n",
    "        ch2_values.append(ch2)\n",
    "        if value_list[i]['state'] == 'BT Removed':\n",
    "            w_extended_list.append(1 - w_list[i//2])\n",
    "        else:\n",
    "            assert value_list[i]['state'] == 'Weak Ch Pred'\n",
    "            w_extended_list.append(w_list[i//2])\n",
    "        \n",
    "    sorted_tuples = sorted(zip(w_extended_list, ch1_values, ch2_values), key=lambda x: x[0])      \n",
    "    w_extended_list, ch1_values, ch2_values = zip(*sorted_tuples)\n",
    "    # 0.5 occurs twice, so we need to pick the first\n",
    "    w_extended_list = list(w_extended_list)\n",
    "    ch1_values = list(ch1_values)\n",
    "    ch2_values = list(ch2_values)\n",
    "    \n",
    "    assert len(w_extended_list) == 10\n",
    "    assert w_extended_list[4] == 0.5\n",
    "    assert w_extended_list[5] == 0.5\n",
    "    w_extended_list.pop(5)\n",
    "    ch1_values.pop(5)\n",
    "    ch2_values.pop(5)\n",
    "    return w_extended_list, ch1_values, ch2_values\n",
    "    # np.array(ch1_values), np.array(ch2_values), np.array(w_extended_list)"
   ]
  },
  {
   "cell_type": "code",
   "execution_count": 52,
   "metadata": {},
   "outputs": [
    {
     "name": "stdout",
     "output_type": "stream",
     "text": [
      "W [0.1, 0.2, 0.3, 0.4, 0.5, 0.6, 0.7, 0.8, 0.9]\n",
      "PSNR [26.14, 28.67, 30.64, 32.49, 34.07, 35.51, 36.62, 38.06, 40.64] [23.24, 27.01, 29.97, 32.55, 34.69, 36.72, 38.69, 41.06, 44.49]\n",
      "W [0.1, 0.2, 0.3, 0.4, 0.5, 0.6, 0.7, 0.8, 0.9]\n",
      "SSIM [0.829, 0.926, 0.948, 0.961, 0.968, 0.973, 0.977, 0.981, 0.986] [0.676, 0.869, 0.937, 0.966, 0.98, 0.987, 0.992, 0.996, 0.998]\n",
      "W [0.1, 0.2, 0.3, 0.4, 0.5, 0.6, 0.7, 0.8, 0.9]\n",
      "LPIPS [0.204, 0.104, 0.069, 0.047, 0.036, 0.026, 0.019, 0.014, 0.008] [0.314, 0.151, 0.086, 0.05, 0.032, 0.02, 0.012, 0.007, 0.003]\n"
     ]
    }
   ],
   "source": [
    "w_extended_list,ch1_psnr, ch2_psnr = get_values(psnr_values, mixing_values)\n",
    "assert len(w_extended_list) == len(set(w_extended_list)), \"Duplicate values\"\n",
    "\n",
    "print('W', w_extended_list)\n",
    "print('PSNR', ch1_psnr, ch2_psnr)\n",
    "\n",
    "w_extended_list,ch1_ssim, ch2_ssim = get_values(ssim_values, mixing_values)\n",
    "print('W', w_extended_list)\n",
    "print('SSIM', ch1_ssim, ch2_ssim)\n",
    "\n",
    "w_extended_list,ch1_lpips, ch2_lpips = get_values(lpips_values, mixing_values)\n",
    "print('W', w_extended_list)\n",
    "print('LPIPS', ch1_lpips, ch2_lpips)"
   ]
  },
  {
   "cell_type": "markdown",
   "metadata": {},
   "source": [
    "## Grouping in 3"
   ]
  },
  {
   "cell_type": "code",
   "execution_count": 53,
   "metadata": {},
   "outputs": [
    {
     "name": "stdout",
     "output_type": "stream",
     "text": [
      "W [0.9, 0.8, 0.7] [0.6, 0.5, 0.4] [0.3, 0.2, 0.1]\n",
      "PSNR 39.9 34.3 27.6\n",
      "MSSSIM 0.988 0.973 0.864\n",
      "LPIPS 0.011 0.035 0.155\n"
     ]
    }
   ],
   "source": [
    "psnr = (np.array(ch1_psnr) + np.array(ch2_psnr))/2\n",
    "ssim = (np.array(ch1_ssim) + np.array(ch2_ssim))/2\n",
    "lpips = (np.array(ch1_lpips) + np.array(ch2_lpips))/2\n",
    "\n",
    "psnr = psnr[::-1]\n",
    "ssim = ssim[::-1]\n",
    "lpips = lpips[::-1]\n",
    "w_extended_list = w_extended_list[::-1]\n",
    "print('W', w_extended_list[0:3], w_extended_list[3:6], w_extended_list[6:9])\n",
    "print(f'PSNR {psnr[:3].mean():.1f} {psnr[3:6].mean():.1f} {psnr[6:9].mean():.1f}')\n",
    "print(f'MSSSIM {ssim[:3].mean():.3f} {ssim[3:6].mean():.3f} {ssim[6:9].mean():.3f}')\n",
    "print(f'LPIPS {lpips[:3].mean():.3f} {lpips[3:6].mean():.3f} {lpips[6:9].mean():.3f}')\n"
   ]
  },
  {
   "cell_type": "code",
   "execution_count": null,
   "metadata": {},
   "outputs": [],
   "source": []
  }
 ],
 "metadata": {
  "kernelspec": {
   "display_name": "Python 3",
   "language": "python",
   "name": "python3"
  },
  "language_info": {
   "codemirror_mode": {
    "name": "ipython",
    "version": 3
   },
   "file_extension": ".py",
   "mimetype": "text/x-python",
   "name": "python",
   "nbconvert_exporter": "python",
   "pygments_lexer": "ipython3",
   "version": "3.9.19"
  }
 },
 "nbformat": 4,
 "nbformat_minor": 2
}
