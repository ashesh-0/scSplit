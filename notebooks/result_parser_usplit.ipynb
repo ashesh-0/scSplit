{
 "cells": [
  {
   "cell_type": "code",
   "execution_count": 37,
   "metadata": {},
   "outputs": [],
   "source": [
    "output = \"\"\"\n",
    "PSNR:\t 21.8+-0.479\t38.83+-1.265\n",
    "MicroSSIM:\t 0.521+-0.029\t0.946+-0.014\n",
    "MicroS3IM:\t 0.638+-0.027\t0.987+-0.002\n",
    "SSIM:\t 0.394+-0.025\t0.823+-0.018\n",
    "MSSSIM:\t 0.578+-0.015\t0.912+-0.003\n",
    "lpips:\t 0.492+-0.022\t0.089+-0.005\n",
    "W:0.1 Test_P64_G32_M10_Sk0\n",
    "/group/jug/ashesh/training/disentangle/2502/D13-M10-S0-L3/1\n",
    "\n",
    "PSNR:\t 25.51+-0.6\t36.97+-0.79\n",
    "MicroSSIM:\t 0.709+-0.025\t0.916+-0.027\n",
    "MicroS3IM:\t 0.818+-0.019\t0.979+-0.004\n",
    "SSIM:\t 0.583+-0.016\t0.880+-0.020\n",
    "MSSSIM:\t 0.749+-0.007\t0.936+-0.002\n",
    "lpips:\t 0.277+-0.010\t0.077+-0.005\n",
    "W:0.2 Test_P64_G32_M10_Sk0\n",
    "/group/jug/ashesh/training/disentangle/2502/D13-M10-S0-L3/1\n",
    "\n",
    "PSNR:\t 28.65+-0.599\t35.85+-0.631\n",
    "MicroSSIM:\t 0.796+-0.020\t0.893+-0.039\n",
    "MicroS3IM:\t 0.897+-0.012\t0.974+-0.005\n",
    "SSIM:\t 0.728+-0.017\t0.914+-0.023\n",
    "MSSSIM:\t 0.865+-0.006\t0.960+-0.002\n",
    "lpips:\t 0.153+-0.009\t0.058+-0.005\n",
    "W:0.3 Test_P64_G32_M10_Sk0\n",
    "/group/jug/ashesh/training/disentangle/2502/D13-M10-S0-L3/1\n",
    "\n",
    "PSNR:\t 30.83+-0.432\t34.29+-0.425\n",
    "MicroSSIM:\t 0.841+-0.020\t0.867+-0.044\n",
    "MicroS3IM:\t 0.934+-0.007\t0.967+-0.007\n",
    "SSIM:\t 0.816+-0.022\t0.922+-0.026\n",
    "MSSSIM:\t 0.928+-0.006\t0.970+-0.004\n",
    "lpips:\t 0.090+-0.009\t0.053+-0.007\n",
    "W:0.4 Test_P64_G32_M10_Sk0\n",
    "/group/jug/ashesh/training/disentangle/2502/D13-M10-S0-L3/1\n",
    "\n",
    "\n",
    "PSNR:\t 32.32+-0.26\t32.24+-0.315\n",
    "MicroSSIM:\t 0.872+-0.018\t0.831+-0.048\n",
    "MicroS3IM:\t 0.953+-0.004\t0.954+-0.008\n",
    "SSIM:\t 0.857+-0.026\t0.906+-0.026\n",
    "MSSSIM:\t 0.952+-0.005\t0.959+-0.004\n",
    "lpips:\t 0.064+-0.008\t0.072+-0.009\n",
    "W:0.5 Test_P64_G32_M10_Sk0\n",
    "/group/jug/ashesh/training/disentangle/2502/D13-M10-S0-L3/1\n",
    "\n",
    "PSNR:\t 33.17+-0.25\t29.64+-0.374\n",
    "MicroSSIM:\t 0.899+-0.016\t0.783+-0.051\n",
    "MicroS3IM:\t 0.963+-0.003\t0.926+-0.011\n",
    "SSIM:\t 0.866+-0.025\t0.865+-0.021\n",
    "MSSSIM:\t 0.946+-0.005\t0.919+-0.004\n",
    "lpips:\t 0.061+-0.008\t0.120+-0.012\n",
    "W:0.6 Test_P64_G32_M10_Sk0\n",
    "/group/jug/ashesh/training/disentangle/2502/D13-M10-S0-L3/1\n",
    "\n",
    "PSNR:\t 33.64+-0.385\t26.68+-0.533\n",
    "MicroSSIM:\t 0.922+-0.013\t0.716+-0.052\n",
    "MicroS3IM:\t 0.967+-0.003\t0.869+-0.013\n",
    "SSIM:\t 0.854+-0.022\t0.794+-0.014\n",
    "MSSSIM:\t 0.922+-0.005\t0.839+-0.004\n",
    "lpips:\t 0.069+-0.008\t0.201+-0.015\n",
    "W:0.7 Test_P64_G32_M10_Sk0\n",
    "/group/jug/ashesh/training/disentangle/2502/D13-M10-S0-L3/1\n",
    "\n",
    "PSNR:\t 34.13+-0.558\t23.59+-0.804\n",
    "MicroSSIM:\t 0.944+-0.010\t0.619+-0.050\n",
    "MicroS3IM:\t 0.971+-0.003\t0.752+-0.013\n",
    "SSIM:\t 0.832+-0.017\t0.700+-0.015\n",
    "MSSSIM:\t 0.890+-0.006\t0.713+-0.016\n",
    "lpips:\t 0.083+-0.008\t0.325+-0.017\n",
    "W:0.8 Test_P64_G32_M10_Sk0\n",
    "/group/jug/ashesh/training/disentangle/2502/D13-M10-S0-L3/1\n",
    "\n",
    "PSNR:\t 35.33+-0.752\t21.28+-1.168\n",
    "MicroSSIM:\t 0.965+-0.006\t0.516+-0.036\n",
    "MicroS3IM:\t 0.979+-0.002\t0.563+-0.029\n",
    "SSIM:\t 0.810+-0.014\t0.614+-0.029\n",
    "MSSSIM:\t 0.863+-0.006\t0.577+-0.035\n",
    "lpips:\t 0.097+-0.009\t0.504+-0.032\n",
    "W:0.9 Test_P64_G32_M10_Sk0\n",
    "/group/jug/ashesh/training/disentangle/2502/D13-M10-S0-L3/1\n",
    "\"\"\""
   ]
  },
  {
   "cell_type": "code",
   "execution_count": 38,
   "metadata": {},
   "outputs": [],
   "source": [
    "lines = output.split(\"\\n\")"
   ]
  },
  {
   "cell_type": "code",
   "execution_count": 39,
   "metadata": {},
   "outputs": [
    {
     "name": "stdout",
     "output_type": "stream",
     "text": [
      "PSNR PSNR:\t 21.8+-0.479\t38.83+-1.265\n",
      "SSIM MSSSIM:\t 0.578+-0.015\t0.912+-0.003\n",
      "LPIPS lpips:\t 0.492+-0.022\t0.089+-0.005\n",
      "Params W:0.1 Test_P64_G32_M10_Sk0\n"
     ]
    }
   ],
   "source": [
    "psnr_lines = [line for line in lines if \"PSNR:\" in line]\n",
    "ssim_lines = [line for line in lines if \"MSSSIM:\" in line]\n",
    "lpips_lines = [line for line in lines if \"lpips:\" in line]\n",
    "params = [line for line in lines if \"W:\" in line]\n",
    "\n",
    "print(\"PSNR\", psnr_lines[0])\n",
    "print(\"SSIM\", ssim_lines[0])\n",
    "print(\"LPIPS\", lpips_lines[0])\n",
    "print(\"Params\", params[0])"
   ]
  },
  {
   "cell_type": "code",
   "execution_count": 40,
   "metadata": {},
   "outputs": [
    {
     "data": {
      "text/plain": [
       "['PSNR:', ' 21.8+-0.479', '38.83+-1.265']"
      ]
     },
     "execution_count": 40,
     "metadata": {},
     "output_type": "execute_result"
    }
   ],
   "source": [
    "(psnr_lines[0].split('\\t'))"
   ]
  },
  {
   "cell_type": "code",
   "execution_count": null,
   "metadata": {},
   "outputs": [],
   "source": []
  },
  {
   "cell_type": "code",
   "execution_count": 41,
   "metadata": {},
   "outputs": [],
   "source": [
    "def get_mixing(param_str):\n",
    "    tokens = param_str.split(\" \")\n",
    "    for token in tokens:\n",
    "        if \"W:\" in token:\n",
    "            return float(token.split(\":\")[1])\n",
    "\n",
    "\n",
    "def squeeze(tokens):\n",
    "    output_tokens = []\n",
    "    for token in tokens:\n",
    "        if token == \"\":\n",
    "            continue\n",
    "\n",
    "        output_tokens.append(token.strip(\" \"))\n",
    "    return output_tokens\n",
    "\n",
    "def parse_line(line):\n",
    "    \"\"\"\n",
    "    MSSSIM:\t 0.772+-0.022\t0.976+-0.003\n",
    "    \"\"\"\n",
    "    metric_name, ch1_token, ch2_token = squeeze(line.strip().split(\"\\t\"))\n",
    "    ch1_val, ch1_se = map(float, ch1_token.split(\"+-\"))\n",
    "    ch2_val, ch2_se = map(float, ch2_token.split(\"+-\"))\n",
    "    return {\n",
    "        'metric_name':metric_name, \n",
    "        'value':[ch1_val, ch2_val], \n",
    "        'se': [ch1_se, ch2_se]\n",
    "    }"
   ]
  },
  {
   "cell_type": "code",
   "execution_count": 42,
   "metadata": {},
   "outputs": [],
   "source": [
    "mixing_values = [get_mixing(param) for param in params]\n",
    "psnr_values = [parse_line(line) for line in psnr_lines]\n",
    "ssim_values = [parse_line(line) for line in ssim_lines]\n",
    "lpips_values = [parse_line(line) for line in lpips_lines]\n",
    "assert len(mixing_values) == len(psnr_values) \n",
    "assert len(mixing_values)== len(ssim_values) \n",
    "assert len(mixing_values)==len(lpips_values)"
   ]
  },
  {
   "cell_type": "code",
   "execution_count": 43,
   "metadata": {},
   "outputs": [],
   "source": [
    "import numpy as np\n",
    "\n",
    "def get_values(value_list, w_list):\n",
    "    ch1_values = [value_list[i]['value'][0] for i in range(len(value_list))]\n",
    "    ch2_values = [value_list[i]['value'][1] for i in range(len(value_list))]\n",
    "    ch2_values = ch2_values[::-1]\n",
    "    return w_list, ch1_values, ch2_values\n",
    "    # np.array(ch1_values), np.array(ch2_values), np.array(w_extended_list)"
   ]
  },
  {
   "cell_type": "code",
   "execution_count": 44,
   "metadata": {},
   "outputs": [
    {
     "name": "stdout",
     "output_type": "stream",
     "text": [
      "W [0.1, 0.2, 0.3, 0.4, 0.5, 0.6, 0.7, 0.8, 0.9]\n",
      "PSNR [21.8, 25.51, 28.65, 30.83, 32.32, 33.17, 33.64, 34.13, 35.33] [21.28, 23.59, 26.68, 29.64, 32.24, 34.29, 35.85, 36.97, 38.83]\n",
      "W [0.1, 0.2, 0.3, 0.4, 0.5, 0.6, 0.7, 0.8, 0.9]\n",
      "SSIM [0.578, 0.749, 0.865, 0.928, 0.952, 0.946, 0.922, 0.89, 0.863] [0.577, 0.713, 0.839, 0.919, 0.959, 0.97, 0.96, 0.936, 0.912]\n",
      "W [0.1, 0.2, 0.3, 0.4, 0.5, 0.6, 0.7, 0.8, 0.9]\n",
      "LPIPS [0.492, 0.277, 0.153, 0.09, 0.064, 0.061, 0.069, 0.083, 0.097] [0.504, 0.325, 0.201, 0.12, 0.072, 0.053, 0.058, 0.077, 0.089]\n"
     ]
    }
   ],
   "source": [
    "w_extended_list,ch1_psnr, ch2_psnr = get_values(psnr_values, mixing_values)\n",
    "assert len(w_extended_list) == len(set(w_extended_list)), \"Duplicate values\"\n",
    "\n",
    "print('W', w_extended_list)\n",
    "print('PSNR', ch1_psnr, ch2_psnr)\n",
    "\n",
    "w_extended_list,ch1_ssim, ch2_ssim = get_values(ssim_values, mixing_values)\n",
    "print('W', w_extended_list)\n",
    "print('SSIM', ch1_ssim, ch2_ssim)\n",
    "\n",
    "w_extended_list,ch1_lpips, ch2_lpips = get_values(lpips_values, mixing_values)\n",
    "print('W', w_extended_list)\n",
    "print('LPIPS', ch1_lpips, ch2_lpips)"
   ]
  },
  {
   "cell_type": "markdown",
   "metadata": {},
   "source": [
    "## Grouping in 3"
   ]
  },
  {
   "cell_type": "code",
   "execution_count": 45,
   "metadata": {},
   "outputs": [
    {
     "name": "stdout",
     "output_type": "stream",
     "text": [
      "W [0.9, 0.8, 0.7] [0.6, 0.5, 0.4] [0.3, 0.2, 0.1]\n",
      "PSNR 35.8 32.1 24.6\n",
      "MSSSIM 0.914 0.946 0.720\n",
      "LPIPS 0.079 0.077 0.325\n"
     ]
    }
   ],
   "source": [
    "psnr = (np.array(ch1_psnr) + np.array(ch2_psnr))/2\n",
    "ssim = (np.array(ch1_ssim) + np.array(ch2_ssim))/2\n",
    "lpips = (np.array(ch1_lpips) + np.array(ch2_lpips))/2\n",
    "\n",
    "psnr = psnr[::-1]\n",
    "ssim = ssim[::-1]\n",
    "lpips = lpips[::-1]\n",
    "w_extended_list = w_extended_list[::-1]\n",
    "print('W', w_extended_list[0:3], w_extended_list[3:6], w_extended_list[6:9])\n",
    "print(f'PSNR {psnr[:3].mean():.1f} {psnr[3:6].mean():.1f} {psnr[6:9].mean():.1f}')\n",
    "print(f'MSSSIM {ssim[:3].mean():.3f} {ssim[3:6].mean():.3f} {ssim[6:9].mean():.3f}')\n",
    "print(f'LPIPS {lpips[:3].mean():.3f} {lpips[3:6].mean():.3f} {lpips[6:9].mean():.3f}')\n"
   ]
  },
  {
   "cell_type": "code",
   "execution_count": null,
   "metadata": {},
   "outputs": [],
   "source": []
  },
  {
   "cell_type": "code",
   "execution_count": null,
   "metadata": {},
   "outputs": [],
   "source": []
  }
 ],
 "metadata": {
  "kernelspec": {
   "display_name": "Python 3",
   "language": "python",
   "name": "python3"
  },
  "language_info": {
   "codemirror_mode": {
    "name": "ipython",
    "version": 3
   },
   "file_extension": ".py",
   "mimetype": "text/x-python",
   "name": "python",
   "nbconvert_exporter": "python",
   "pygments_lexer": "ipython3",
   "version": "3.9.19"
  }
 },
 "nbformat": 4,
 "nbformat_minor": 2
}
