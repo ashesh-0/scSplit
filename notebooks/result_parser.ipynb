{
 "cells": [
  {
   "cell_type": "code",
   "execution_count": 1,
   "metadata": {},
   "outputs": [],
   "source": [
    "output = \"\"\"\n",
    "Ckpt: 2502/HT_T24-joint_indi-l1/15\n",
    "T:10000 W:0.1 RealInp:False M:10 TPred:False TPredAgg:False TPredFixed:0.5Norm:10000 InfSteps:10000\n",
    "\n",
    "BT Removed: PSNR:\t 41.09+-0.552\t32.48+-0.55\n",
    "BT Removed: MicroSSIM:\t 0.976+-0.0010\t0.867+-0.0070\n",
    "BT Removed: MicroS3IM:\t 0.980+-0.0010\t0.941+-0.0030\n",
    "BT Removed: SSIM:\t 0.986+-0.0000\t0.944+-0.0030\n",
    "BT Removed: MSSSIM:\t 0.980+-0.0010\t0.939+-0.0030\n",
    "BT Removed: lpips:\t 0.037+-0.0020\t0.043+-0.0050\n",
    "\n",
    "Weak Ch Pred: PSNR:\t 32.13+-0.501\t24.19+-0.474\n",
    "Weak Ch Pred: MicroSSIM:\t 0.823+-0.0210\t0.692+-0.0150\n",
    "Weak Ch Pred: MicroS3IM:\t 0.909+-0.0070\t0.799+-0.0070\n",
    "Weak Ch Pred: SSIM:\t 0.897+-0.0200\t0.728+-0.0150\n",
    "Weak Ch Pred: MSSSIM:\t 0.918+-0.0060\t0.805+-0.0070\n",
    "Weak Ch Pred: lpips:\t 0.119+-0.0090\t0.056+-0.0090\n",
    "\n",
    "\n",
    "Ckpt: 2502/HT_T24-joint_indi-l1/15\n",
    "T:10000 W:0.2 RealInp:False M:10 TPred:False TPredAgg:False TPredFixed:0.5Norm:10000 InfSteps:10000\n",
    "\n",
    "BT Removed: PSNR:\t 42.56+-0.58\t32.76+-0.542\n",
    "BT Removed: MicroSSIM:\t 0.975+-0.0020\t0.871+-0.0070\n",
    "BT Removed: MicroS3IM:\t 0.984+-0.0010\t0.944+-0.0020\n",
    "BT Removed: SSIM:\t 0.987+-0.0010\t0.942+-0.0030\n",
    "BT Removed: MSSSIM:\t 0.983+-0.0010\t0.942+-0.0030\n",
    "BT Removed: lpips:\t 0.030+-0.0010\t0.041+-0.0050\n",
    "\n",
    "Weak Ch Pred: PSNR:\t 33.74+-0.522\t27.24+-0.538\n",
    "Weak Ch Pred: MicroSSIM:\t 0.847+-0.0180\t0.753+-0.0150\n",
    "Weak Ch Pred: MicroS3IM:\t 0.933+-0.0060\t0.891+-0.0050\n",
    "Weak Ch Pred: SSIM:\t 0.914+-0.0170\t0.806+-0.0140\n",
    "Weak Ch Pred: MSSSIM:\t 0.938+-0.0060\t0.896+-0.0050\n",
    "Weak Ch Pred: lpips:\t 0.087+-0.0060\t0.022+-0.0030\n",
    "\n",
    "\n",
    "Ckpt: 2502/HT_T24-joint_indi-l1/15\n",
    "T:10000 W:0.3 RealInp:False M:10 TPred:False TPredAgg:False TPredFixed:0.5Norm:10000 InfSteps:10000\n",
    "\n",
    "BT Removed: PSNR:\t 43.63+-0.64\t32.89+-0.543\n",
    "BT Removed: MicroSSIM:\t 0.965+-0.0040\t0.869+-0.0070\n",
    "BT Removed: MicroS3IM:\t 0.986+-0.0010\t0.948+-0.0020\n",
    "BT Removed: SSIM:\t 0.985+-0.0020\t0.938+-0.0030\n",
    "BT Removed: MSSSIM:\t 0.988+-0.0010\t0.942+-0.0030\n",
    "BT Removed: lpips:\t 0.017+-0.0010\t0.039+-0.0050\n",
    "\n",
    "Weak Ch Pred: PSNR:\t 35.83+-0.558\t29.81+-0.598\n",
    "Weak Ch Pred: MicroSSIM:\t 0.872+-0.0150\t0.799+-0.0130\n",
    "Weak Ch Pred: MicroS3IM:\t 0.955+-0.0060\t0.933+-0.0040\n",
    "Weak Ch Pred: SSIM:\t 0.934+-0.0140\t0.862+-0.0110\n",
    "Weak Ch Pred: MSSSIM:\t 0.958+-0.0050\t0.938+-0.0040\n",
    "Weak Ch Pred: lpips:\t 0.049+-0.0030\t0.009+-0.0010\n",
    "\n",
    "\n",
    "Ckpt: 2502/HT_T24-joint_indi-l1/15\n",
    "T:10000 W:0.4 RealInp:False M:10 TPred:False TPredAgg:False TPredFixed:0.5Norm:10000 InfSteps:10000\n",
    "\n",
    "BT Removed: PSNR:\t 43.11+-0.682\t32.88+-0.544\n",
    "BT Removed: MicroSSIM:\t 0.947+-0.0060\t0.864+-0.0080\n",
    "BT Removed: MicroS3IM:\t 0.986+-0.0020\t0.952+-0.0020\n",
    "BT Removed: SSIM:\t 0.978+-0.0050\t0.931+-0.0040\n",
    "BT Removed: MSSSIM:\t 0.989+-0.0020\t0.948+-0.0020\n",
    "BT Removed: lpips:\t 0.008+-0.0010\t0.031+-0.0040\n",
    "\n",
    "Weak Ch Pred: PSNR:\t 38.37+-0.607\t31.45+-0.594\n",
    "Weak Ch Pred: MicroSSIM:\t 0.901+-0.0120\t0.830+-0.0100\n",
    "Weak Ch Pred: MicroS3IM:\t 0.972+-0.0050\t0.948+-0.0030\n",
    "Weak Ch Pred: SSIM:\t 0.952+-0.0110\t0.897+-0.0080\n",
    "Weak Ch Pred: MSSSIM:\t 0.975+-0.0040\t0.950+-0.0030\n",
    "Weak Ch Pred: lpips:\t 0.019+-0.0010\t0.014+-0.0020\n",
    "\n",
    "\n",
    "Ckpt: 2502/HT_T24-joint_indi-l1/15\n",
    "T:10000 W:0.5 RealInp:False M:10 TPred:False TPredAgg:False TPredFixed:0.5Norm:10000 InfSteps:10000\n",
    "\n",
    "BT Removed: PSNR:\t 41.01+-0.659\t32.3+-0.564\n",
    "BT Removed: MicroSSIM:\t 0.925+-0.0090\t0.850+-0.0090\n",
    "BT Removed: MicroS3IM:\t 0.982+-0.0030\t0.951+-0.0020\n",
    "BT Removed: SSIM:\t 0.967+-0.0080\t0.918+-0.0060\n",
    "BT Removed: MSSSIM:\t 0.986+-0.0030\t0.950+-0.0020\n",
    "BT Removed: lpips:\t 0.005+-0.0010\t0.023+-0.0030\n",
    "\n",
    "Weak Ch Pred: PSNR:\t 40.97+-0.656\t32.4+-0.563\n",
    "Weak Ch Pred: MicroSSIM:\t 0.924+-0.0090\t0.851+-0.0090\n",
    "Weak Ch Pred: MicroS3IM:\t 0.982+-0.0040\t0.952+-0.0020\n",
    "Weak Ch Pred: SSIM:\t 0.967+-0.0080\t0.919+-0.0060\n",
    "Weak Ch Pred: MSSSIM:\t 0.985+-0.0030\t0.952+-0.0020\n",
    "Weak Ch Pred: lpips:\t 0.005+-0.0010\t0.022+-0.0030\n",
    "\n",
    "\"\"\""
   ]
  },
  {
   "cell_type": "code",
   "execution_count": 2,
   "metadata": {},
   "outputs": [],
   "source": [
    "lines = output.split(\"\\n\")"
   ]
  },
  {
   "cell_type": "code",
   "execution_count": 3,
   "metadata": {},
   "outputs": [
    {
     "name": "stdout",
     "output_type": "stream",
     "text": [
      "PSNR BT Removed: PSNR:\t 41.09+-0.552\t32.48+-0.55\n",
      "SSIM BT Removed: MSSSIM:\t 0.980+-0.0010\t0.939+-0.0030\n",
      "LPIPS BT Removed: lpips:\t 0.037+-0.0020\t0.043+-0.0050\n",
      "Params T:10000 W:0.1 RealInp:False M:10 TPred:False TPredAgg:False TPredFixed:0.5Norm:10000 InfSteps:10000\n"
     ]
    }
   ],
   "source": [
    "psnr_lines = [line for line in lines if \"PSNR:\" in line]\n",
    "ssim_lines = [line for line in lines if \"MSSSIM:\" in line]\n",
    "lpips_lines = [line for line in lines if \"lpips:\" in line]\n",
    "params = [line for line in lines if \"W:\" in line]\n",
    "\n",
    "print(\"PSNR\", psnr_lines[0])\n",
    "print(\"SSIM\", ssim_lines[0])\n",
    "print(\"LPIPS\", lpips_lines[0])\n",
    "print(\"Params\", params[0])"
   ]
  },
  {
   "cell_type": "code",
   "execution_count": 4,
   "metadata": {},
   "outputs": [
    {
     "data": {
      "text/plain": [
       "['T:10000 W:0.1 RealInp:False M:10 TPred:False TPredAgg:False TPredFixed:0.5Norm:10000 InfSteps:10000',\n",
       " 'T:10000 W:0.2 RealInp:False M:10 TPred:False TPredAgg:False TPredFixed:0.5Norm:10000 InfSteps:10000',\n",
       " 'T:10000 W:0.3 RealInp:False M:10 TPred:False TPredAgg:False TPredFixed:0.5Norm:10000 InfSteps:10000',\n",
       " 'T:10000 W:0.4 RealInp:False M:10 TPred:False TPredAgg:False TPredFixed:0.5Norm:10000 InfSteps:10000',\n",
       " 'T:10000 W:0.5 RealInp:False M:10 TPred:False TPredAgg:False TPredFixed:0.5Norm:10000 InfSteps:10000']"
      ]
     },
     "execution_count": 4,
     "metadata": {},
     "output_type": "execute_result"
    }
   ],
   "source": [
    "\n",
    "params"
   ]
  },
  {
   "cell_type": "code",
   "execution_count": 5,
   "metadata": {},
   "outputs": [],
   "source": [
    "def get_mixing(param_str):\n",
    "    tokens = param_str.split(\" \")\n",
    "    for token in tokens:\n",
    "        if \"W:\" in token:\n",
    "            return float(token.split(\":\")[1])\n",
    "\n",
    "\n",
    "def squeeze(tokens):\n",
    "    output_tokens = []\n",
    "    for token in tokens:\n",
    "        if token == \"\":\n",
    "            continue\n",
    "\n",
    "        output_tokens.append(token.strip(\" \"))\n",
    "    return output_tokens\n",
    "\n",
    "def parse_line(line):\n",
    "    bt_or_weak, metric_name, metric_token = line.strip().split(\":\")\n",
    "    assert bt_or_weak in [\"BT Removed\", \"Weak Ch Pred\"]\n",
    "    ch1_token, ch2_token = squeeze(metric_token.split('\\t'))\n",
    "    ch1_val, ch1_se = map(float, ch1_token.split(\"+-\"))\n",
    "    ch2_val, ch2_se = map(float, ch2_token.split(\"+-\"))\n",
    "    return {\n",
    "        'state':bt_or_weak, \n",
    "        'metric_name':metric_name, \n",
    "        'value':[ch1_val, ch2_val], \n",
    "        'se': [ch1_se, ch2_se]\n",
    "    }"
   ]
  },
  {
   "cell_type": "code",
   "execution_count": 6,
   "metadata": {},
   "outputs": [],
   "source": [
    "mixing_values = [get_mixing(param) for param in params]\n",
    "psnr_values = [parse_line(line) for line in psnr_lines]\n",
    "ssim_values = [parse_line(line) for line in ssim_lines]\n",
    "lpips_values = [parse_line(line) for line in lpips_lines]\n",
    "assert 2*len(mixing_values) == len(psnr_values) \n",
    "assert 2*len(mixing_values)== len(ssim_values) \n",
    "assert 2*len(mixing_values)==len(lpips_values)"
   ]
  },
  {
   "cell_type": "code",
   "execution_count": 7,
   "metadata": {},
   "outputs": [],
   "source": [
    "import numpy as np\n",
    "\n",
    "def get_values(value_list, w_list):\n",
    "    ch1_values = []\n",
    "    ch2_values = []\n",
    "    w_extended_list = []\n",
    "    for i in range(len(value_list)):\n",
    "        ch1, ch2 = value_list[i]['value']\n",
    "        ch1_values.append(ch1)\n",
    "        ch2_values.append(ch2)\n",
    "        if value_list[i]['state'] == 'BT Removed':\n",
    "            w_extended_list.append(1 - w_list[i//2])\n",
    "        else:\n",
    "            assert value_list[i]['state'] == 'Weak Ch Pred'\n",
    "            w_extended_list.append(w_list[i//2])\n",
    "        \n",
    "    sorted_tuples = sorted(zip(w_extended_list, ch1_values, ch2_values), key=lambda x: x[0])      \n",
    "    w_extended_list, ch1_values, ch2_values = zip(*sorted_tuples)\n",
    "    # 0.5 occurs twice, so we need to pick the first\n",
    "    w_extended_list = list(w_extended_list)\n",
    "    ch1_values = list(ch1_values)\n",
    "    ch2_values = list(ch2_values)\n",
    "    \n",
    "    assert len(w_extended_list) == 10\n",
    "    assert w_extended_list[4] == 0.5\n",
    "    assert w_extended_list[5] == 0.5\n",
    "    w_extended_list.pop(5)\n",
    "    ch1_values.pop(5)\n",
    "    ch2_values.pop(5)\n",
    "    return w_extended_list, ch1_values, ch2_values\n",
    "    # np.array(ch1_values), np.array(ch2_values), np.array(w_extended_list)"
   ]
  },
  {
   "cell_type": "code",
   "execution_count": 8,
   "metadata": {},
   "outputs": [
    {
     "name": "stdout",
     "output_type": "stream",
     "text": [
      "W [0.1, 0.2, 0.3, 0.4, 0.5, 0.6, 0.7, 0.8, 0.9]\n",
      "PSNR [32.13, 33.74, 35.83, 38.37, 41.01, 43.11, 43.63, 42.56, 41.09] [24.19, 27.24, 29.81, 31.45, 32.3, 32.88, 32.89, 32.76, 32.48]\n",
      "W [0.1, 0.2, 0.3, 0.4, 0.5, 0.6, 0.7, 0.8, 0.9]\n",
      "SSIM [0.918, 0.938, 0.958, 0.975, 0.986, 0.989, 0.988, 0.983, 0.98] [0.805, 0.896, 0.938, 0.95, 0.95, 0.948, 0.942, 0.942, 0.939]\n",
      "W [0.1, 0.2, 0.3, 0.4, 0.5, 0.6, 0.7, 0.8, 0.9]\n",
      "LPIPS [0.119, 0.087, 0.049, 0.019, 0.005, 0.008, 0.017, 0.03, 0.037] [0.056, 0.022, 0.009, 0.014, 0.023, 0.031, 0.039, 0.041, 0.043]\n"
     ]
    }
   ],
   "source": [
    "w_extended_list,ch1_psnr, ch2_psnr = get_values(psnr_values, mixing_values)\n",
    "assert len(w_extended_list) == len(set(w_extended_list)), \"Duplicate values\"\n",
    "\n",
    "print('W', w_extended_list)\n",
    "print('PSNR', ch1_psnr, ch2_psnr)\n",
    "\n",
    "w_extended_list,ch1_ssim, ch2_ssim = get_values(ssim_values, mixing_values)\n",
    "print('W', w_extended_list)\n",
    "print('SSIM', ch1_ssim, ch2_ssim)\n",
    "\n",
    "w_extended_list,ch1_lpips, ch2_lpips = get_values(lpips_values, mixing_values)\n",
    "print('W', w_extended_list)\n",
    "print('LPIPS', ch1_lpips, ch2_lpips)"
   ]
  },
  {
   "cell_type": "markdown",
   "metadata": {},
   "source": [
    "## Grouping in 3"
   ]
  },
  {
   "cell_type": "code",
   "execution_count": 9,
   "metadata": {},
   "outputs": [
    {
     "name": "stdout",
     "output_type": "stream",
     "text": [
      "W [0.9, 0.8, 0.7] [0.6, 0.5, 0.4] [0.3, 0.2, 0.1]\n",
      "PSNR 37.6 36.5 30.5\n",
      "MSSSIM 0.962 0.966 0.909\n",
      "LPIPS 0.034 0.017 0.057\n"
     ]
    }
   ],
   "source": [
    "psnr = (np.array(ch1_psnr) + np.array(ch2_psnr))/2\n",
    "ssim = (np.array(ch1_ssim) + np.array(ch2_ssim))/2\n",
    "lpips = (np.array(ch1_lpips) + np.array(ch2_lpips))/2\n",
    "\n",
    "psnr = psnr[::-1]\n",
    "ssim = ssim[::-1]\n",
    "lpips = lpips[::-1]\n",
    "w_extended_list = w_extended_list[::-1]\n",
    "print('W', w_extended_list[0:3], w_extended_list[3:6], w_extended_list[6:9])\n",
    "print(f'PSNR {psnr[:3].mean():.1f} {psnr[3:6].mean():.1f} {psnr[6:9].mean():.1f}')\n",
    "print(f'MSSSIM {ssim[:3].mean():.3f} {ssim[3:6].mean():.3f} {ssim[6:9].mean():.3f}')\n",
    "print(f'LPIPS {lpips[:3].mean():.3f} {lpips[3:6].mean():.3f} {lpips[6:9].mean():.3f}')\n"
   ]
  },
  {
   "cell_type": "code",
   "execution_count": null,
   "metadata": {},
   "outputs": [],
   "source": []
  },
  {
   "cell_type": "code",
   "execution_count": null,
   "metadata": {},
   "outputs": [],
   "source": []
  }
 ],
 "metadata": {
  "kernelspec": {
   "display_name": "Python 3",
   "language": "python",
   "name": "python3"
  },
  "language_info": {
   "codemirror_mode": {
    "name": "ipython",
    "version": 3
   },
   "file_extension": ".py",
   "mimetype": "text/x-python",
   "name": "python",
   "nbconvert_exporter": "python",
   "pygments_lexer": "ipython3",
   "version": "3.9.19"
  }
 },
 "nbformat": 4,
 "nbformat_minor": 2
}
