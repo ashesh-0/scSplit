{
 "cells": [
  {
   "cell_type": "code",
   "execution_count": 1,
   "metadata": {},
   "outputs": [],
   "source": [
    "output = \"\"\"\n",
    "PSNR:\t 22.12+-0.502\t35.43+-1.037\n",
    "MicroSSIM:\t 0.829+-0.014\t0.901+-0.001\n",
    "MicroS3IM:\t 0.866+-0.015\t0.976+-0.001\n",
    "SSIM:\t 0.758+-0.022\t0.908+-0.009\n",
    "MSSSIM:\t 0.787+-0.021\t0.931+-0.007\n",
    "lpips:\t 0.311+-0.024\t0.137+-0.011\n",
    "W:0.1 Test_P64_G32_M50_Sk0\n",
    "\n",
    "PSNR:\t 25.83+-0.69\t35.15+-0.945\n",
    "MicroSSIM:\t 0.817+-0.012\t0.878+-0.001\n",
    "MicroS3IM:\t 0.917+-0.008\t0.973+-0.001\n",
    "SSIM:\t 0.807+-0.018\t0.916+-0.007\n",
    "MSSSIM:\t 0.847+-0.015\t0.941+-0.006\n",
    "lpips:\t 0.252+-0.019\t0.133+-0.010\n",
    "W:0.2 Test_P64_G32_M50_Sk0\n",
    "\n",
    "PSNR:\t 28.54+-0.747\t34.53+-0.88\n",
    "MicroSSIM:\t 0.822+-0.012\t0.872+-0.002\n",
    "MicroS3IM:\t 0.940+-0.005\t0.970+-0.001\n",
    "SSIM:\t 0.853+-0.014\t0.921+-0.006\n",
    "MSSSIM:\t 0.898+-0.010\t0.950+-0.005\n",
    "lpips:\t 0.218+-0.016\t0.130+-0.010\n",
    "W:0.3 Test_P64_G32_M50_Sk0\n",
    "\n",
    "PSNR:\t 30.41+-0.714\t33.5+-0.838\n",
    "MicroSSIM:\t 0.829+-0.011\t0.874+-0.002\n",
    "MicroS3IM:\t 0.951+-0.004\t0.966+-0.002\n",
    "SSIM:\t 0.889+-0.010\t0.923+-0.005\n",
    "MSSSIM:\t 0.935+-0.006\t0.958+-0.004\n",
    "lpips:\t 0.201+-0.014\t0.131+-0.010\n",
    "W:0.4 Test_P64_G32_M50_Sk0\n",
    "\n",
    "PSNR:\t 31.67+-0.638\t32.0+-0.789\n",
    "MicroSSIM:\t 0.834+-0.011\t0.877+-0.003\n",
    "MicroS3IM:\t 0.957+-0.003\t0.960+-0.003\n",
    "SSIM:\t 0.913+-0.008\t0.921+-0.005\n",
    "MSSSIM:\t 0.959+-0.004\t0.961+-0.004\n",
    "lpips:\t 0.195+-0.013\t0.137+-0.011\n",
    "W:0.5 Test_P64_G32_M50_Sk0\n",
    "\n",
    "PSNR:\t 32.53+-0.558\t30.0+-0.712\n",
    "MicroSSIM:\t 0.837+-0.011\t0.877+-0.005\n",
    "MicroS3IM:\t 0.960+-0.003\t0.948+-0.005\n",
    "SSIM:\t 0.927+-0.006\t0.913+-0.006\n",
    "MSSSIM:\t 0.971+-0.003\t0.954+-0.005\n",
    "lpips:\t 0.194+-0.013\t0.151+-0.012\n",
    "W:0.6 Test_P64_G32_M50_Sk0\n",
    "\n",
    "PSNR:\t 33.25+-0.474\t27.55+-0.591\n",
    "MicroSSIM:\t 0.838+-0.010\t0.867+-0.007\n",
    "MicroS3IM:\t 0.963+-0.003\t0.925+-0.009\n",
    "SSIM:\t 0.934+-0.005\t0.893+-0.007\n",
    "MSSSIM:\t 0.975+-0.002\t0.930+-0.008\n",
    "lpips:\t 0.196+-0.013\t0.176+-0.014\n",
    "W:0.7 Test_P64_G32_M50_Sk0\n",
    "\n",
    "PSNR:\t 33.99+-0.431\t24.16+-0.554\n",
    "MicroSSIM:\t 0.839+-0.010\t0.839+-0.012\n",
    "MicroS3IM:\t 0.967+-0.002\t0.877+-0.014\n",
    "SSIM:\t 0.935+-0.005\t0.859+-0.011\n",
    "MSSSIM:\t 0.973+-0.003\t0.877+-0.015\n",
    "lpips:\t 0.200+-0.014\t0.219+-0.019\n",
    "W:0.8 Test_P64_G32_M50_Sk0\n",
    "\n",
    "PSNR:\t 35.56+-0.422\t21.98+-0.448\n",
    "MicroSSIM:\t 0.842+-0.010\t0.812+-0.014\n",
    "MicroS3IM:\t 0.973+-0.001\t0.830+-0.019\n",
    "SSIM:\t 0.933+-0.006\t0.835+-0.013\n",
    "MSSSIM:\t 0.969+-0.003\t0.833+-0.019\n",
    "lpips:\t 0.205+-0.014\t0.266+-0.023\n",
    "W:0.9 Test_P64_G32_M50_Sk0\n",
    "\n",
    "\"\"\""
   ]
  },
  {
   "cell_type": "code",
   "execution_count": 2,
   "metadata": {},
   "outputs": [],
   "source": [
    "lines = output.split(\"\\n\")"
   ]
  },
  {
   "cell_type": "code",
   "execution_count": 3,
   "metadata": {},
   "outputs": [
    {
     "name": "stdout",
     "output_type": "stream",
     "text": [
      "PSNR PSNR:\t 22.12+-0.502\t35.43+-1.037\n",
      "SSIM MSSSIM:\t 0.787+-0.021\t0.931+-0.007\n",
      "LPIPS lpips:\t 0.311+-0.024\t0.137+-0.011\n",
      "Params W:0.1 Test_P64_G32_M50_Sk0\n"
     ]
    }
   ],
   "source": [
    "psnr_lines = [line for line in lines if \"PSNR:\" in line]\n",
    "ssim_lines = [line for line in lines if \"MSSSIM:\" in line]\n",
    "lpips_lines = [line for line in lines if \"lpips:\" in line]\n",
    "params = [line for line in lines if \"W:\" in line]\n",
    "\n",
    "print(\"PSNR\", psnr_lines[0])\n",
    "print(\"SSIM\", ssim_lines[0])\n",
    "print(\"LPIPS\", lpips_lines[0])\n",
    "print(\"Params\", params[0])"
   ]
  },
  {
   "cell_type": "code",
   "execution_count": 4,
   "metadata": {},
   "outputs": [
    {
     "data": {
      "text/plain": [
       "['PSNR:', ' 22.12+-0.502', '35.43+-1.037']"
      ]
     },
     "execution_count": 4,
     "metadata": {},
     "output_type": "execute_result"
    }
   ],
   "source": [
    "(psnr_lines[0].split('\\t'))"
   ]
  },
  {
   "cell_type": "code",
   "execution_count": 5,
   "metadata": {},
   "outputs": [],
   "source": [
    "def get_mixing(param_str):\n",
    "    tokens = param_str.split(\" \")\n",
    "    for token in tokens:\n",
    "        if \"W:\" in token:\n",
    "            return float(token.split(\":\")[1])\n",
    "\n",
    "\n",
    "def squeeze(tokens):\n",
    "    output_tokens = []\n",
    "    for token in tokens:\n",
    "        if token == \"\":\n",
    "            continue\n",
    "\n",
    "        output_tokens.append(token.strip(\" \"))\n",
    "    return output_tokens\n",
    "\n",
    "def parse_line(line):\n",
    "    \"\"\"\n",
    "    MSSSIM:\t 0.772+-0.022\t0.976+-0.003\n",
    "    \"\"\"\n",
    "    metric_name, ch1_token, ch2_token = squeeze(line.strip().split(\"\\t\"))\n",
    "    ch1_val, ch1_se = map(float, ch1_token.split(\"+-\"))\n",
    "    ch2_val, ch2_se = map(float, ch2_token.split(\"+-\"))\n",
    "    return {\n",
    "        'metric_name':metric_name, \n",
    "        'value':[ch1_val, ch2_val], \n",
    "        'se': [ch1_se, ch2_se]\n",
    "    }"
   ]
  },
  {
   "cell_type": "code",
   "execution_count": 6,
   "metadata": {},
   "outputs": [],
   "source": [
    "mixing_values = [get_mixing(param) for param in params]\n",
    "psnr_values = [parse_line(line) for line in psnr_lines]\n",
    "ssim_values = [parse_line(line) for line in ssim_lines]\n",
    "lpips_values = [parse_line(line) for line in lpips_lines]\n",
    "assert len(mixing_values) == len(psnr_values) \n",
    "assert len(mixing_values)== len(ssim_values) \n",
    "assert len(mixing_values)==len(lpips_values)"
   ]
  },
  {
   "cell_type": "code",
   "execution_count": 7,
   "metadata": {},
   "outputs": [],
   "source": [
    "import numpy as np\n",
    "\n",
    "def get_values(value_list, w_list, key='value'):\n",
    "    ch1_values = [value_list[i][key][0] for i in range(len(value_list))]\n",
    "    ch2_values = [value_list[i][key][1] for i in range(len(value_list))]\n",
    "    ch2_values = ch2_values[::-1]\n",
    "    return w_list, ch1_values, ch2_values\n",
    "    # np.array(ch1_values), np.array(ch2_values), np.array(w_extended_list)"
   ]
  },
  {
   "cell_type": "code",
   "execution_count": 8,
   "metadata": {},
   "outputs": [
    {
     "name": "stdout",
     "output_type": "stream",
     "text": [
      "W [0.1, 0.2, 0.3, 0.4, 0.5, 0.6, 0.7, 0.8, 0.9]\n",
      "PSNR [22.12, 25.83, 28.54, 30.41, 31.67, 32.53, 33.25, 33.99, 35.56] [21.98, 24.16, 27.55, 30.0, 32.0, 33.5, 34.53, 35.15, 35.43]\n",
      "W [0.1, 0.2, 0.3, 0.4, 0.5, 0.6, 0.7, 0.8, 0.9]\n",
      "SSIM [0.787, 0.847, 0.898, 0.935, 0.959, 0.971, 0.975, 0.973, 0.969] [0.833, 0.877, 0.93, 0.954, 0.961, 0.958, 0.95, 0.941, 0.931]\n",
      "W [0.1, 0.2, 0.3, 0.4, 0.5, 0.6, 0.7, 0.8, 0.9]\n",
      "LPIPS [0.311, 0.252, 0.218, 0.201, 0.195, 0.194, 0.196, 0.2, 0.205] [0.266, 0.219, 0.176, 0.151, 0.137, 0.131, 0.13, 0.133, 0.137]\n"
     ]
    }
   ],
   "source": [
    "w_extended_list,ch1_psnr, ch2_psnr = get_values(psnr_values, mixing_values)\n",
    "assert len(w_extended_list) == len(set(w_extended_list)), \"Duplicate values\"\n",
    "\n",
    "print('W', w_extended_list)\n",
    "print('PSNR', ch1_psnr, ch2_psnr)\n",
    "\n",
    "w_extended_list,ch1_ssim, ch2_ssim = get_values(ssim_values, mixing_values)\n",
    "print('W', w_extended_list)\n",
    "print('SSIM', ch1_ssim, ch2_ssim)\n",
    "\n",
    "w_extended_list,ch1_lpips, ch2_lpips = get_values(lpips_values, mixing_values)\n",
    "print('W', w_extended_list)\n",
    "print('LPIPS', ch1_lpips, ch2_lpips)"
   ]
  },
  {
   "cell_type": "markdown",
   "metadata": {},
   "source": [
    "## Grouping in 3"
   ]
  },
  {
   "cell_type": "code",
   "execution_count": 9,
   "metadata": {},
   "outputs": [
    {
     "name": "stdout",
     "output_type": "stream",
     "text": [
      "W [0.9, 0.8, 0.7] [0.6, 0.5, 0.4] [0.3, 0.2, 0.1]\n",
      "PSNR 34.7 31.7 25.0\n",
      "MSSSIM 0.957 0.956 0.862\n",
      "LPIPS 0.167 0.168 0.240\n"
     ]
    }
   ],
   "source": [
    "psnr = (np.array(ch1_psnr) + np.array(ch2_psnr))/2\n",
    "ssim = (np.array(ch1_ssim) + np.array(ch2_ssim))/2\n",
    "lpips = (np.array(ch1_lpips) + np.array(ch2_lpips))/2\n",
    "\n",
    "psnr = psnr[::-1]\n",
    "ssim = ssim[::-1]\n",
    "lpips = lpips[::-1]\n",
    "w_extended_list = w_extended_list[::-1]\n",
    "print('W', w_extended_list[0:3], w_extended_list[3:6], w_extended_list[6:9])\n",
    "print(f'PSNR {psnr[:3].mean():.1f} {psnr[3:6].mean():.1f} {psnr[6:9].mean():.1f}')\n",
    "print(f'MSSSIM {ssim[:3].mean():.3f} {ssim[3:6].mean():.3f} {ssim[6:9].mean():.3f}')\n",
    "print(f'LPIPS {lpips[:3].mean():.3f} {lpips[3:6].mean():.3f} {lpips[6:9].mean():.3f}')\n"
   ]
  },
  {
   "cell_type": "code",
   "execution_count": 10,
   "metadata": {},
   "outputs": [
    {
     "name": "stdout",
     "output_type": "stream",
     "text": [
      "W [0.1, 0.2, 0.3, 0.4, 0.5, 0.6, 0.7, 0.8, 0.9]\n",
      "PSNR SE [0.502, 0.69, 0.747, 0.714, 0.638, 0.558, 0.474, 0.431, 0.422] [0.448, 0.554, 0.591, 0.712, 0.789, 0.838, 0.88, 0.945, 1.037]\n",
      "W [0.1, 0.2, 0.3, 0.4, 0.5, 0.6, 0.7, 0.8, 0.9]\n",
      "SSIM SE [0.021, 0.015, 0.01, 0.006, 0.004, 0.003, 0.002, 0.003, 0.003] [0.019, 0.015, 0.008, 0.005, 0.004, 0.004, 0.005, 0.006, 0.007]\n",
      "W [0.1, 0.2, 0.3, 0.4, 0.5, 0.6, 0.7, 0.8, 0.9]\n",
      "LPIPS SE [0.024, 0.019, 0.016, 0.014, 0.013, 0.013, 0.013, 0.014, 0.014] [0.023, 0.019, 0.014, 0.012, 0.011, 0.01, 0.01, 0.01, 0.011]\n"
     ]
    }
   ],
   "source": [
    "w_extended_list_se,ch1_psnr_se, ch2_psnr_se = get_values(psnr_values, mixing_values, key='se')\n",
    "assert len(w_extended_list_se) == len(set(w_extended_list_se)), \"Duplicate values\"\n",
    "\n",
    "print('W', w_extended_list_se)\n",
    "print('PSNR SE', ch1_psnr_se, ch2_psnr_se)\n",
    "\n",
    "w_extended_list_se,ch1_ssim_se, ch2_ssim_se = get_values(ssim_values, mixing_values, key='se')\n",
    "print('W', w_extended_list_se)\n",
    "print('SSIM SE', ch1_ssim_se, ch2_ssim_se)\n",
    "\n",
    "w_extended_list_se,ch1_lpips_se, ch2_lpips_se = get_values(lpips_values, mixing_values, key='se')\n",
    "print('W', w_extended_list_se)\n",
    "print('LPIPS SE', ch1_lpips_se, ch2_lpips_se)"
   ]
  },
  {
   "cell_type": "code",
   "execution_count": 11,
   "metadata": {},
   "outputs": [
    {
     "name": "stdout",
     "output_type": "stream",
     "text": [
      "W [0.1, 0.2, 0.3] [0.4, 0.5, 0.6] [0.7, 0.8, 0.9]\n",
      "PSNR_se 0.7 0.7 0.6\n",
      "MSSSIM_se 0.004 0.004 0.015\n",
      "LPIPS_se 0.012 0.012 0.019\n"
     ]
    }
   ],
   "source": [
    "psnr_se = (np.array(ch1_psnr_se) + np.array(ch2_psnr_se))/2\n",
    "ssim_se = (np.array(ch1_ssim_se) + np.array(ch2_ssim_se))/2\n",
    "lpips_se = (np.array(ch1_lpips_se) + np.array(ch2_lpips_se))/2\n",
    "\n",
    "psnr_se = psnr_se[::-1]\n",
    "ssim_se = ssim_se[::-1]\n",
    "lpips_se = lpips_se[::-1]\n",
    "w_extended_list = w_extended_list[::-1]\n",
    "print('W', w_extended_list[0:3], w_extended_list[3:6], w_extended_list[6:9])\n",
    "print(f'PSNR_se {psnr_se[:3].mean():.1f} {psnr_se[3:6].mean():.1f} {psnr_se[6:9].mean():.1f}')\n",
    "print(f'MSSSIM_se {ssim_se[:3].mean():.3f} {ssim_se[3:6].mean():.3f} {ssim_se[6:9].mean():.3f}')\n",
    "print(f'LPIPS_se {lpips_se[:3].mean():.3f} {lpips_se[3:6].mean():.3f} {lpips_se[6:9].mean():.3f}')\n"
   ]
  },
  {
   "cell_type": "code",
   "execution_count": 15,
   "metadata": {},
   "outputs": [],
   "source": [
    "def print_one_line(psnr_arr, ssim_arr, lpips_arr):\n",
    "    dominant_str = f'{psnr_arr[:3].mean():.1f} & {ssim_arr[:3].mean():.3f} & {lpips_arr[:3].mean():.3f}'\n",
    "    balanced_str = f'{psnr_arr[3:6].mean():.1f} & {ssim_arr[3:6].mean():.3f} & {lpips_arr[3:6].mean():.3f}'\n",
    "    weak_str = f'{psnr_arr[6:9].mean():.1f} & {ssim_arr[6:9].mean():.3f} & {lpips_arr[6:9].mean():.3f}'\n",
    "    print(f'{dominant_str} & {balanced_str} & {weak_str}')"
   ]
  },
  {
   "cell_type": "code",
   "execution_count": 17,
   "metadata": {},
   "outputs": [
    {
     "name": "stdout",
     "output_type": "stream",
     "text": [
      "0.7 & 0.004 & 0.012 & 0.7 & 0.004 & 0.012 & 0.6 & 0.015 & 0.019\n"
     ]
    }
   ],
   "source": [
    "print_one_line(psnr_se, ssim_se, lpips_se)"
   ]
  },
  {
   "cell_type": "code",
   "execution_count": null,
   "metadata": {},
   "outputs": [],
   "source": []
  }
 ],
 "metadata": {
  "kernelspec": {
   "display_name": "Python 3",
   "language": "python",
   "name": "python3"
  },
  "language_info": {
   "codemirror_mode": {
    "name": "ipython",
    "version": 3
   },
   "file_extension": ".py",
   "mimetype": "text/x-python",
   "name": "python",
   "nbconvert_exporter": "python",
   "pygments_lexer": "ipython3",
   "version": "3.9.19"
  }
 },
 "nbformat": 4,
 "nbformat_minor": 2
}
