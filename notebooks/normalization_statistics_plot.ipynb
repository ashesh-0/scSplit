{
 "cells": [
  {
   "cell_type": "code",
   "execution_count": 1,
   "metadata": {},
   "outputs": [],
   "source": [
    "import sys\n",
    "sys.path.append('..')\n",
    "\n",
    "from data.tile_stitcher import stitch_predictions\n"
   ]
  },
  {
   "cell_type": "code",
   "execution_count": 2,
   "metadata": {
    "tags": [
     "parameters"
    ]
   },
   "outputs": [
    {
     "data": {
      "text/plain": [
       "'2502/HT_LIF24-joint_indi-l1/60'"
      ]
     },
     "execution_count": 2,
     "metadata": {},
     "output_type": "execute_result"
    }
   ],
   "source": [
    "ckpt = '2502/HT_LIF24-joint_indi-l1/60'\n",
    "# ckpt = '2502/BioSR-joint_indi-l1/5'\n",
    "# ckpt = '2502/Hagen-joint_indi-l1/63'\n",
    "training_rootdir = '/group/GROUPNAMEUSERNAME/training/diffsplit/'\n",
    "num_steps_normalization = 10_000\n",
    "ckpt_time_predictor = None #'2502/BioSR-UnetClassifier-l2/4/'\n",
    "time_predictor = None\n",
    "mmse_count = 10\n",
    "\n",
    "num_timesteps = 1\n",
    "enable_real_input = False\n",
    "infer_time = False\n",
    "use_aggregated_inferred_time = False\n",
    "use_hardcoded_time_for_inference = None\n",
    "\n",
    "\n",
    "ckpt = ckpt.strip('/').strip(' ')\n",
    "ckpt"
   ]
  },
  {
   "cell_type": "code",
   "execution_count": 3,
   "metadata": {},
   "outputs": [],
   "source": [
    "if use_aggregated_inferred_time:\n",
    "    assert ckpt_time_predictor is not None, 'Time predictor is required for aggregated time inference'\n",
    "    assert use_hardcoded_time_for_inference is use_hardcoded_time_for_inference, 'Hardcoded time inference is not supported with aggregated time inference'\n",
    "    assert infer_time is True, 'Time inference must be enabled for aggregated time inference'\n",
    "\n",
    "\n",
    "if infer_time:\n",
    "    assert ckpt_time_predictor is not None, 'Time predictor is required for time inference'\n",
    "\n",
    "if use_hardcoded_time_for_inference is not None:\n",
    "    assert not infer_time, 'Time inference must be disabled for hardcoded time inference'\n",
    "\n",
    "# assert mixing_t_ood >= 0 and mixing_t_ood <= 1, 'mixing_t_ood must be in [0, 1]'\n",
    "assert enable_real_input is False, 'Real input is not supported in this notebook.'"
   ]
  },
  {
   "cell_type": "code",
   "execution_count": 4,
   "metadata": {},
   "outputs": [],
   "source": [
    "import yaml\n",
    "import os\n",
    "import glob\n",
    "\n",
    "def model_checkpoint_fpath(fname=None):\n",
    "    ckpt_dir = os.path.join(training_rootdir, ckpt, 'checkpoint')\n",
    "    if fname is not None:\n",
    "        return os.path.join(training_rootdir, ckpt, fname)\n",
    "    else:\n",
    "        list_of_files = glob.glob(ckpt_dir +'/*_gen.pth') # * means all if need specific format then *.csv\n",
    "        latest_file = max(list_of_files, key=os.path.getctime)\n",
    "        # best_files = [f for f in list_of_files if 'best_gen_' in f]\n",
    "        # assert len(best_files) == 1,f'{best_files}'\n",
    "        # best_file = best_files[0]  \n",
    "        fname = latest_file\n",
    "        return os.path.join(ckpt_dir,fname)\n",
    "\n",
    "def model_checkpoint_fpath_prefix(fname=None):\n",
    "    fpath = model_checkpoint_fpath(fname)\n",
    "    suffix = '_gen.pth'\n",
    "    assert fpath.endswith(suffix)\n",
    "    return fpath[:-len(suffix)]\n",
    "\n",
    "def load_config(ckpt):\n",
    "    config_path = os.path.join(training_rootdir,ckpt,'wandb/latest-run/files/config.yaml')\n",
    "\n",
    "    with open(config_path) as stream:\n",
    "        \n",
    "        try:\n",
    "            opt = yaml.safe_load(stream)\n",
    "        except yaml.YAMLError as exc:\n",
    "            print(exc)\n",
    "    \n",
    "    keys = [\"name\",\"phase\",\"gpu_ids\",\"path\",\"datasets\",\"model\",\"train\", \"distributed\"]\n",
    "    output = {}\n",
    "    for k in keys:\n",
    "        if k in opt:\n",
    "            output[k] = opt[k]['value']\n",
    "    return output"
   ]
  },
  {
   "cell_type": "code",
   "execution_count": 5,
   "metadata": {},
   "outputs": [
    {
     "name": "stderr",
     "output_type": "stream",
     "text": [
      "/localscratch/miniforge3/envs/usplit_vdi/lib/python3.9/site-packages/albumentations/__init__.py:28: UserWarning: A new version of Albumentations is available: '2.0.5' (you have '2.0.4'). Upgrade using: pip install -U albumentations. To disable automatic update checks, set the environment variable NO_ALBUMENTATIONS_UPDATE to 1.\n",
      "  check_for_updates()\n"
     ]
    }
   ],
   "source": [
    "from model.ddpm_modules.time_predictor import TimePredictor\n",
    "from time_prediction_training import get_datasets\n",
    "import os\n",
    "import torch\n",
    "\n",
    "if ckpt_time_predictor is not None:\n",
    "    time_pred_ckpt_fpath = os.path.join(training_rootdir, ckpt_time_predictor)\n",
    "\n",
    "    time_pred_opt = load_config(time_pred_ckpt_fpath)\n",
    "    time_pred_model_opt = time_pred_opt['model']\n",
    "    time_predictor = TimePredictor(\n",
    "        in_channel=time_pred_model_opt['unet']['in_channel'],\n",
    "        out_channel=time_pred_model_opt['unet']['out_channel'],\n",
    "        norm_groups=time_pred_model_opt['unet']['norm_groups'],\n",
    "        inner_channel=time_pred_model_opt['unet']['inner_channel'],\n",
    "        channel_mults=time_pred_model_opt['unet']['channel_multiplier'],\n",
    "        attn_res=time_pred_model_opt['unet']['attn_res'],\n",
    "        res_blocks=time_pred_model_opt['unet']['res_blocks'],\n",
    "        dropout=time_pred_model_opt['unet']['dropout'],\n",
    "        image_size=time_pred_opt['datasets']['patch_size'],\n",
    "        )\n",
    "    \n",
    "    time_predictor = time_predictor.cuda()\n",
    "    time_predictor.load_state_dict(torch.load(os.path.join(time_pred_ckpt_fpath,'best_time_predictor.pth')), strict=True)\n",
    "    time_predictor.eval()\n",
    "    print('Loaded time predictor from', time_pred_ckpt_fpath)\n"
   ]
  },
  {
   "cell_type": "code",
   "execution_count": 6,
   "metadata": {},
   "outputs": [
    {
     "name": "stdout",
     "output_type": "stream",
     "text": [
      "/group/GROUPNAMEUSERNAME/training/diffsplit/2502/HT_LIF24-joint_indi-l1/60/checkpoint/I450000_E4412\n"
     ]
    }
   ],
   "source": [
    "opt = load_config(ckpt)\n",
    "opt['path']['resume_state'] = model_checkpoint_fpath_prefix()\n",
    "# opt['path']['resume_state'] = os.path.join(os.path.dirname(opt['path']['resume_state']),'I110000_E1375')\n",
    "print(opt['path']['resume_state'])\n",
    "\n",
    "opt['model']['beta_schedule']['val']['n_timestep'] = num_timesteps\n",
    "if opt['datasets']['train']['name'] == 'COSEM_jrc-hela':\n",
    "    opt['datasets']['val']['datapath'] = opt['datasets']['val']['datapath'].replace('val_jrc_hela','test_jrc_hela')\n",
    "\n",
    "elif opt['datasets']['train']['name'].lower() == 'hagen':\n",
    "    opt['datasets']['val']['datapath'] = {\n",
    "    'ch0': '/group/GROUPNAMEUSERNAME/data/diffsplit_hagen/test/test_actin-60x-noise2-highsnr.tif',\n",
    "    'ch1': '/group/GROUPNAMEUSERNAME/data/diffsplit_hagen/test/test_mito-60x-noise2-highsnr.tif'\n",
    "    }\n",
    "elif opt['datasets']['train']['name'] in ['HT_LIF24','HT_LIF', 'BioSR', 'HT_T24']:\n",
    "    opt['datasets']['val']['datapath'] = opt['datasets']['val']['datapath'].replace('/val','/test')\n",
    "else:\n",
    "    raise NotImplementedError(f'Unknown dataset {opt[\"datasets\"][\"train\"][\"name\"]}')\n"
   ]
  },
  {
   "cell_type": "code",
   "execution_count": 7,
   "metadata": {},
   "outputs": [],
   "source": [
    "if 'patch_size' not in opt['datasets']:\n",
    "    opt['datasets']['patch_size']  = opt['datasets']['train']['patch_size']\n",
    "\n",
    "if 'uncorrelated_channels' not in opt['datasets']['train']:\n",
    "    opt['datasets']['train']['uncorrelated_channels']  = False\n",
    "\n",
    "if enable_real_input:\n",
    "    opt['datasets']['train']['real_input_fraction'] = 1.0\n",
    "    opt['datasets']['val']['real_input_fraction'] = 1.0\n",
    "\n",
    "opt['datasets']['normalize_channels'] = False"
   ]
  },
  {
   "cell_type": "code",
   "execution_count": 8,
   "metadata": {},
   "outputs": [
    {
     "name": "stdout",
     "output_type": "stream",
     "text": [
      "Loading data from /group/GROUPNAMEUSERNAME/data/diffsplit_HT_LIF/500ms/Ch_B-Ch_D-Ch_BD/train/train_500ms_Ch_B-Ch_D-Ch_BD.tif\n",
      "Using first 0/90 for real input\n",
      "Computing mean and std for normalization\n",
      "[SplitDataset] Data: 90x3x(1608, 1608) Patch:512 Random:1 Aug:True Q:1.0 UpperClip:0Uncor:False RealFraction:0.0 InpFrmNormTar\n",
      "Loading data from /group/GROUPNAMEUSERNAME/data/diffsplit_HT_LIF/500ms/Ch_B-Ch_D-Ch_BD/test/test_500ms_Ch_B-Ch_D-Ch_BD.tif\n",
      "[SplitDataset] Data: 10x3x(1608, 1608) Patch:512 Random:0 Aug:False Q:1.0 UpperClip:0Uncor:False InpFrmNormTar\n"
     ]
    }
   ],
   "source": [
    "import torch\n",
    "import data as Data\n",
    "import model as Model\n",
    "from data.split_dataset import SplitDataset, DataLocation\n",
    "from split import get_datasets\n",
    "import os\n",
    "\n",
    "\n",
    "# data\n",
    "train_set, val_set = get_datasets(opt, tiled_pred=False)"
   ]
  },
  {
   "cell_type": "code",
   "execution_count": 9,
   "metadata": {},
   "outputs": [
    {
     "name": "stdout",
     "output_type": "stream",
     "text": [
      "Random patching set to True\n"
     ]
    },
    {
     "name": "stderr",
     "output_type": "stream",
     "text": [
      "90 patches processed: 100%|██████████| 2/2 [00:04<00:00,  2.16s/it]\n",
      "180 patches processed: 100%|██████████| 2/2 [00:04<00:00,  2.15s/it]\n",
      "270 patches processed: 100%|██████████| 2/2 [00:04<00:00,  2.15s/it]\n",
      "360 patches processed: 100%|██████████| 2/2 [00:04<00:00,  2.15s/it]\n",
      "450 patches processed: 100%|██████████| 2/2 [00:04<00:00,  2.17s/it]\n",
      "540 patches processed: 100%|██████████| 2/2 [00:04<00:00,  2.14s/it]\n",
      "630 patches processed: 100%|██████████| 2/2 [00:04<00:00,  2.14s/it]\n",
      "720 patches processed: 100%|██████████| 2/2 [00:04<00:00,  2.13s/it]\n",
      "810 patches processed: 100%|██████████| 2/2 [00:04<00:00,  2.06s/it]\n",
      "900 patches processed: 100%|██████████| 2/2 [00:04<00:00,  2.13s/it]\n",
      "990 patches processed: 100%|██████████| 2/2 [00:04<00:00,  2.09s/it]\n",
      "1080 patches processed: 100%|██████████| 2/2 [00:04<00:00,  2.14s/it]\n",
      "1170 patches processed: 100%|██████████| 2/2 [00:04<00:00,  2.08s/it]\n",
      "1260 patches processed: 100%|██████████| 2/2 [00:04<00:00,  2.11s/it]\n",
      "1350 patches processed: 100%|██████████| 2/2 [00:04<00:00,  2.12s/it]\n",
      "1440 patches processed: 100%|██████████| 2/2 [00:04<00:00,  2.11s/it]\n",
      "1530 patches processed: 100%|██████████| 2/2 [00:04<00:00,  2.10s/it]\n",
      "1620 patches processed: 100%|██████████| 2/2 [00:04<00:00,  2.10s/it]\n",
      "1710 patches processed: 100%|██████████| 2/2 [00:04<00:00,  2.09s/it]\n",
      "1800 patches processed: 100%|██████████| 2/2 [00:04<00:00,  2.11s/it]\n",
      "1890 patches processed: 100%|██████████| 2/2 [00:04<00:00,  2.12s/it]\n",
      "1980 patches processed: 100%|██████████| 2/2 [00:04<00:00,  2.12s/it]\n",
      "2070 patches processed: 100%|██████████| 2/2 [00:04<00:00,  2.18s/it]\n",
      "2160 patches processed: 100%|██████████| 2/2 [00:04<00:00,  2.14s/it]\n",
      "2250 patches processed: 100%|██████████| 2/2 [00:04<00:00,  2.14s/it]\n",
      "2340 patches processed: 100%|██████████| 2/2 [00:04<00:00,  2.13s/it]\n",
      "2430 patches processed: 100%|██████████| 2/2 [00:04<00:00,  2.16s/it]\n",
      "2520 patches processed: 100%|██████████| 2/2 [00:04<00:00,  2.14s/it]\n",
      "2610 patches processed: 100%|██████████| 2/2 [00:04<00:00,  2.14s/it]\n",
      "2700 patches processed: 100%|██████████| 2/2 [00:04<00:00,  2.12s/it]\n",
      "2790 patches processed: 100%|██████████| 2/2 [00:04<00:00,  2.14s/it]\n",
      "2880 patches processed: 100%|██████████| 2/2 [00:04<00:00,  2.13s/it]\n",
      "2970 patches processed: 100%|██████████| 2/2 [00:04<00:00,  2.16s/it]\n",
      "3060 patches processed: 100%|██████████| 2/2 [00:04<00:00,  2.14s/it]\n",
      "3150 patches processed: 100%|██████████| 2/2 [00:04<00:00,  2.10s/it]\n",
      "3240 patches processed: 100%|██████████| 2/2 [00:04<00:00,  2.14s/it]\n",
      "3330 patches processed: 100%|██████████| 2/2 [00:04<00:00,  2.10s/it]\n",
      "3420 patches processed: 100%|██████████| 2/2 [00:04<00:00,  2.12s/it]\n",
      "3510 patches processed: 100%|██████████| 2/2 [00:04<00:00,  2.15s/it]\n",
      "3600 patches processed: 100%|██████████| 2/2 [00:04<00:00,  2.15s/it]\n",
      "3690 patches processed: 100%|██████████| 2/2 [00:04<00:00,  2.16s/it]\n",
      "3780 patches processed: 100%|██████████| 2/2 [00:04<00:00,  2.13s/it]\n",
      "3870 patches processed: 100%|██████████| 2/2 [00:04<00:00,  2.12s/it]\n",
      "3960 patches processed: 100%|██████████| 2/2 [00:04<00:00,  2.12s/it]\n",
      "4050 patches processed: 100%|██████████| 2/2 [00:04<00:00,  2.17s/it]\n",
      "4140 patches processed: 100%|██████████| 2/2 [00:04<00:00,  2.14s/it]\n",
      "4230 patches processed: 100%|██████████| 2/2 [00:04<00:00,  2.16s/it]\n",
      "4320 patches processed: 100%|██████████| 2/2 [00:04<00:00,  2.15s/it]\n",
      "4410 patches processed: 100%|██████████| 2/2 [00:04<00:00,  2.13s/it]\n",
      "4500 patches processed: 100%|██████████| 2/2 [00:04<00:00,  2.16s/it]\n",
      "4590 patches processed: 100%|██████████| 2/2 [00:04<00:00,  2.16s/it]\n",
      "4680 patches processed: 100%|██████████| 2/2 [00:04<00:00,  2.14s/it]\n",
      "4770 patches processed: 100%|██████████| 2/2 [00:04<00:00,  2.13s/it]\n",
      "4860 patches processed: 100%|██████████| 2/2 [00:04<00:00,  2.15s/it]\n",
      "4950 patches processed: 100%|██████████| 2/2 [00:04<00:00,  2.14s/it]\n",
      "5040 patches processed: 100%|██████████| 2/2 [00:04<00:00,  2.15s/it]\n",
      "5130 patches processed: 100%|██████████| 2/2 [00:04<00:00,  2.12s/it]\n",
      "5220 patches processed: 100%|██████████| 2/2 [00:04<00:00,  2.13s/it]\n",
      "5310 patches processed: 100%|██████████| 2/2 [00:04<00:00,  2.08s/it]\n",
      "5400 patches processed: 100%|██████████| 2/2 [00:04<00:00,  2.12s/it]\n",
      "5490 patches processed: 100%|██████████| 2/2 [00:04<00:00,  2.13s/it]\n",
      "5580 patches processed: 100%|██████████| 2/2 [00:04<00:00,  2.11s/it]\n",
      "5670 patches processed: 100%|██████████| 2/2 [00:04<00:00,  2.13s/it]\n",
      "5760 patches processed: 100%|██████████| 2/2 [00:04<00:00,  2.11s/it]\n",
      "5850 patches processed: 100%|██████████| 2/2 [00:04<00:00,  2.13s/it]\n",
      "5940 patches processed: 100%|██████████| 2/2 [00:04<00:00,  2.12s/it]\n",
      "6030 patches processed: 100%|██████████| 2/2 [00:04<00:00,  2.14s/it]\n",
      "6120 patches processed: 100%|██████████| 2/2 [00:04<00:00,  2.12s/it]\n",
      "6210 patches processed: 100%|██████████| 2/2 [00:04<00:00,  2.12s/it]\n",
      "6300 patches processed: 100%|██████████| 2/2 [00:04<00:00,  2.12s/it]\n",
      "6390 patches processed: 100%|██████████| 2/2 [00:04<00:00,  2.16s/it]\n",
      "6480 patches processed: 100%|██████████| 2/2 [00:04<00:00,  2.13s/it]\n",
      "6570 patches processed: 100%|██████████| 2/2 [00:04<00:00,  2.13s/it]\n",
      "6660 patches processed: 100%|██████████| 2/2 [00:04<00:00,  2.14s/it]\n",
      "6750 patches processed: 100%|██████████| 2/2 [00:04<00:00,  2.15s/it]\n",
      "6840 patches processed: 100%|██████████| 2/2 [00:04<00:00,  2.15s/it]\n",
      "6930 patches processed: 100%|██████████| 2/2 [00:04<00:00,  2.15s/it]\n",
      "7020 patches processed: 100%|██████████| 2/2 [00:04<00:00,  2.14s/it]\n",
      "7110 patches processed: 100%|██████████| 2/2 [00:04<00:00,  2.16s/it]\n",
      "7200 patches processed: 100%|██████████| 2/2 [00:04<00:00,  2.16s/it]\n",
      "7290 patches processed: 100%|██████████| 2/2 [00:04<00:00,  2.13s/it]\n",
      "7380 patches processed: 100%|██████████| 2/2 [00:04<00:00,  2.13s/it]\n",
      "7470 patches processed: 100%|██████████| 2/2 [00:04<00:00,  2.14s/it]\n",
      "7560 patches processed: 100%|██████████| 2/2 [00:04<00:00,  2.16s/it]\n",
      "7650 patches processed: 100%|██████████| 2/2 [00:04<00:00,  2.12s/it]\n",
      "7740 patches processed: 100%|██████████| 2/2 [00:04<00:00,  2.14s/it]\n",
      "7830 patches processed: 100%|██████████| 2/2 [00:04<00:00,  2.19s/it]\n",
      "7920 patches processed: 100%|██████████| 2/2 [00:04<00:00,  2.13s/it]\n",
      "8010 patches processed: 100%|██████████| 2/2 [00:04<00:00,  2.14s/it]\n",
      "8100 patches processed: 100%|██████████| 2/2 [00:04<00:00,  2.13s/it]\n",
      "8190 patches processed: 100%|██████████| 2/2 [00:04<00:00,  2.14s/it]\n",
      "8280 patches processed: 100%|██████████| 2/2 [00:04<00:00,  2.13s/it]\n",
      "8370 patches processed: 100%|██████████| 2/2 [00:04<00:00,  2.10s/it]\n",
      "8460 patches processed: 100%|██████████| 2/2 [00:04<00:00,  2.14s/it]\n",
      "8550 patches processed: 100%|██████████| 2/2 [00:04<00:00,  2.14s/it]\n",
      "8640 patches processed: 100%|██████████| 2/2 [00:04<00:00,  2.13s/it]\n",
      "8730 patches processed: 100%|██████████| 2/2 [00:04<00:00,  2.12s/it]\n",
      "8820 patches processed: 100%|██████████| 2/2 [00:04<00:00,  2.13s/it]\n",
      "8910 patches processed: 100%|██████████| 2/2 [00:04<00:00,  2.13s/it]\n",
      "9000 patches processed: 100%|██████████| 2/2 [00:04<00:00,  2.11s/it]\n",
      "9090 patches processed: 100%|██████████| 2/2 [00:04<00:00,  2.09s/it]\n",
      "9180 patches processed: 100%|██████████| 2/2 [00:04<00:00,  2.16s/it]\n",
      "9270 patches processed: 100%|██████████| 2/2 [00:04<00:00,  2.15s/it]\n",
      "9360 patches processed: 100%|██████████| 2/2 [00:04<00:00,  2.15s/it]\n",
      "9450 patches processed: 100%|██████████| 2/2 [00:04<00:00,  2.13s/it]\n",
      "9540 patches processed: 100%|██████████| 2/2 [00:04<00:00,  2.09s/it]\n",
      "9630 patches processed: 100%|██████████| 2/2 [00:04<00:00,  2.10s/it]\n",
      "9720 patches processed: 100%|██████████| 2/2 [00:04<00:00,  2.10s/it]\n",
      "9810 patches processed: 100%|██████████| 2/2 [00:04<00:00,  2.12s/it]\n",
      "9900 patches processed: 100%|██████████| 2/2 [00:04<00:00,  2.13s/it]\n",
      "9990 patches processed: 100%|██████████| 2/2 [00:04<00:00,  2.14s/it]\n",
      "10054 patches processed:   0%|          | 0/2 [00:00<?, ?it/s]"
     ]
    },
    {
     "name": "stdout",
     "output_type": "stream",
     "text": [
      "Random patching set to False\n"
     ]
    },
    {
     "name": "stderr",
     "output_type": "stream",
     "text": [
      "\n"
     ]
    },
    {
     "data": {
      "text/plain": [
       "True"
      ]
     },
     "execution_count": 9,
     "metadata": {},
     "output_type": "execute_result"
    }
   ],
   "source": [
    "from split import get_xt_normalizer\n",
    "val_set.set_random_patching(True)\n",
    "xt_normalizer1, xt_normalizer2 = get_xt_normalizer(val_set,opt['datasets']['train'], num_bins=100, \n",
    "                                                   num_steps=num_steps_normalization)\n",
    "val_set.set_random_patching(False)"
   ]
  },
  {
   "cell_type": "markdown",
   "metadata": {},
   "source": [
    "# Compute the normalization statistics with normalizer."
   ]
  },
  {
   "cell_type": "code",
   "execution_count": 15,
   "metadata": {},
   "outputs": [],
   "source": [
    "# ignore the normalization for the input channels\n",
    "val_set.normalization_dict['mean_channel'] = val_set.normalization_dict['mean_channel'][:2]\n",
    "val_set.normalization_dict['std_channel'] = val_set.normalization_dict['std_channel'][:2]"
   ]
  },
  {
   "cell_type": "code",
   "execution_count": 16,
   "metadata": {},
   "outputs": [
    {
     "name": "stderr",
     "output_type": "stream",
     "text": [
      "  0%|          | 0/10 [00:00<?, ?it/s]"
     ]
    },
    {
     "name": "stderr",
     "output_type": "stream",
     "text": [
      "100%|██████████| 10/10 [01:04<00:00,  6.48s/it]\n"
     ]
    }
   ],
   "source": [
    "import numpy as np\n",
    "from tqdm import tqdm\n",
    "mixing_t_arr = np.arange(0,1.0, 0.1)\n",
    "from collections import defaultdict\n",
    "\n",
    "mean_list_ours = defaultdict(list)\n",
    "std_list_ours = defaultdict(list)\n",
    "mean_list_inDI = defaultdict(list)\n",
    "std_list_inDI = defaultdict(list)\n",
    "\n",
    "idx_list = np.random.RandomState(955).randint(0,len(val_set),size=2000)\n",
    "for mixing_t in tqdm(mixing_t_arr):\n",
    "    mixing_t = round(mixing_t,2)\n",
    "    for idx in idx_list:\n",
    "        tar = val_set[idx]['target']\n",
    "        inp = tar[0] * (1-mixing_t) + tar[1] * mixing_t\n",
    "        inp = torch.Tensor(inp[None,None]).cuda()\n",
    "        inp = xt_normalizer1.normalize(inp, torch.Tensor([mixing_t]).cuda())\n",
    "        mean_list_ours[mixing_t].append(inp.mean().item())\n",
    "        std_list_ours[mixing_t].append(inp.std().item())\n",
    "\n",
    "        tar_normalized = val_set.normalize_channels(tar)\n",
    "        inp = tar_normalized[0] * (1-mixing_t) + tar_normalized[1] * mixing_t\n",
    "\n",
    "        mean_list_inDI[mixing_t].append(inp.mean())\n",
    "        std_list_inDI[mixing_t].append(inp.std())\n"
   ]
  },
  {
   "cell_type": "code",
   "execution_count": 17,
   "metadata": {},
   "outputs": [],
   "source": [
    "import pandas as pd\n",
    "our_mean_df = pd.DataFrame.from_dict(mean_list_ours)\n",
    "our_std_df = pd.DataFrame.from_dict(std_list_ours)\n",
    "indi_mean_df = pd.DataFrame.from_dict(mean_list_inDI)\n",
    "indi_std_df = pd.DataFrame.from_dict(std_list_inDI)"
   ]
  },
  {
   "cell_type": "code",
   "execution_count": 18,
   "metadata": {},
   "outputs": [],
   "source": [
    "# outputdir = '/group/GROUPNAMEUSERNAME/indiSplitResults/'\n",
    "\n",
    "# _,ax = plt.subplots(figsize=(2,2),ncols=1,nrows=1)\n",
    "# ax[0].plot(indi_mean_df.mean(axis=0), label='inDI', marker='o')\n",
    "# ax[0].plot(our_mean_df.mean(axis=0), label='indiSplit', marker='o')\n",
    "\n",
    "# ax[1].plot(indi_std_df.mean(axis=0), label='inDI-std', marker='o')\n",
    "# ax[1].plot(our_std_df.mean(axis=0), label='indiSplit-std', marker='o')\n",
    "# ax[0].legend(loc='lower right', fancybox=True, framealpha=0.5)\n",
    "# # ax[1].legend(loc = 'lower left',fancybox=True, framealpha=0.5)\n",
    "# ax[0].grid()\n",
    "# ax[1].grid()\n",
    "# ax[0].set_title('Mean')\n",
    "# ax[1].set_title('Std')\n",
    "# ax[0].set_xlabel('$w$')\n",
    "# ax[1].set_xlabel('$w$')\n",
    "\n",
    "# # set face color\n",
    "# for a in ax:\n",
    "#     a.set_facecolor('lightgray')\n",
    "#     # a.set_xlabel('Mixing ratio')\n",
    "#     # a.set_ylabel('Mean')\n",
    "# dset = opt['datasets']['train']['name'].lower()\n",
    "# fpath = f\"{outputdir}/normalization_comparison_{dset}.png\"\n",
    "# plt.tight_layout()\n",
    "# plt.savefig(fpath, dpi=250,bbox_inches='tight')\n",
    "# print(fpath)"
   ]
  },
  {
   "cell_type": "code",
   "execution_count": 20,
   "metadata": {},
   "outputs": [
    {
     "name": "stdout",
     "output_type": "stream",
     "text": [
      "/group/GROUPNAMEUSERNAME/indiSplitResults//normalization_comparison_ht_lif24.png\n"
     ]
    },
    {
     "data": {
      "image/png": "[encoded data removed]",
      "text/plain": [
       "<Figure size 400x400 with 1 Axes>"
      ]
     },
     "metadata": {},
     "output_type": "display_data"
    }
   ],
   "source": [
    "import matplotlib.pyplot as plt\n",
    "\n",
    "outputdir = '/group/GROUPNAMEUSERNAME/indiSplitResults/'\n",
    "\n",
    "_,ax = plt.subplots(figsize=(4,4),ncols=1,nrows=1)\n",
    "# ax.plot(indi_mean_df.mean(axis=0), label='inDI', marker='o')\n",
    "# ax[0].plot(our_mean_df.mean(axis=0), label='indiSplit', marker='o')\n",
    "\n",
    "ax.plot(indi_std_df.mean(axis=0), label='inDI-std', marker='o')\n",
    "ax.plot(our_std_df.mean(axis=0), label='indiSplit-std', marker='o')\n",
    "ax.legend(loc='upper left', fancybox=True, framealpha=0.5)\n",
    "# ax[1].legend(loc = 'lower left',fancybox=True, framealpha=0.5)\n",
    "ax.grid()\n",
    "ax.set_title('Std')\n",
    "ax.set_xlabel('$w$')\n",
    "\n",
    "# set face color\n",
    "ax.set_facecolor('lightgray')\n",
    "dset = opt['datasets']['train']['name'].lower()\n",
    "fpath = f\"{outputdir}/normalization_comparison_{dset}.png\"\n",
    "plt.tight_layout()\n",
    "plt.savefig(fpath, dpi=250,bbox_inches='tight')\n",
    "print(fpath)"
   ]
  },
  {
   "cell_type": "code",
   "execution_count": null,
   "metadata": {},
   "outputs": [],
   "source": []
  }
 ],
 "metadata": {
  "kernelspec": {
   "display_name": "Python 3",
   "language": "python",
   "name": "python3"
  },
  "language_info": {
   "codemirror_mode": {
    "name": "ipython",
    "version": 3
   },
   "file_extension": ".py",
   "mimetype": "text/x-python",
   "name": "python",
   "nbconvert_exporter": "python",
   "pygments_lexer": "ipython3",
   "version": "3.9.19"
  }
 },
 "nbformat": 4,
 "nbformat_minor": 2
}
