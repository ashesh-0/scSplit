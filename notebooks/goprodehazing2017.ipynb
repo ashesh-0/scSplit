{
 "cells": [
  {
   "cell_type": "code",
   "execution_count": 3,
   "metadata": {},
   "outputs": [
    {
     "name": "stdout",
     "output_type": "stream",
     "text": [
      "GOPR0372_07_00\tGOPR0374_11_03\tGOPR0384_11_02\tGOPR0477_11_00\tGOPR0881_11_00\n",
      "GOPR0372_07_01\tGOPR0378_13_00\tGOPR0384_11_03\tGOPR0857_11_00\tGOPR0884_11_00\n",
      "GOPR0374_11_00\tGOPR0379_11_00\tGOPR0384_11_04\tGOPR0868_11_01\n",
      "GOPR0374_11_01\tGOPR0380_11_00\tGOPR0385_11_00\tGOPR0868_11_02\n",
      "GOPR0374_11_02\tGOPR0384_11_01\tGOPR0386_11_00\tGOPR0871_11_01\n"
     ]
    }
   ],
   "source": [
    "! ls /group/jug/ashesh/data/goproDeblurring2017/GOPRO_Large/train/"
   ]
  },
  {
   "cell_type": "code",
   "execution_count": 4,
   "metadata": {},
   "outputs": [],
   "source": [
    "import os\n",
    "rootdir = '/group/jug/ashesh/data/goproDeblurring2017/GOPRO_Large/train/'\n",
    "subdirs = [d for d in os.listdir(rootdir) if os.path.isdir(os.path.join(rootdir, d))]"
   ]
  },
  {
   "cell_type": "code",
   "execution_count": 16,
   "metadata": {},
   "outputs": [],
   "source": [
    "from PIL import Image\n",
    "fpaths = []\n",
    "for subdir in subdirs:\n",
    "    databucket = os.path.join(rootdir, subdir)\n",
    "    fnames = os.listdir(os.path.join(databucket, 'blur'))\n",
    "    fpaths += [os.path.join(databucket, 'blur', f) for f in fnames]\n"
   ]
  },
  {
   "cell_type": "code",
   "execution_count": 21,
   "metadata": {},
   "outputs": [
    {
     "name": "stderr",
     "output_type": "stream",
     "text": [
      "100%|██████████| 2103/2103 [02:52<00:00, 12.22it/s]\n"
     ]
    }
   ],
   "source": [
    "from tqdm import tqdm\n",
    "import numpy as np\n",
    "blur_imgs = []\n",
    "sharp_imgs = []\n",
    "for fpath in tqdm(fpaths):\n",
    "    img = Image.open(fpath)\n",
    "    blur_imgs.append(np.array(img))\n",
    "    sharp_fpath = fpath.replace('/blur/', '/sharp/')\n",
    "    img = Image.open(sharp_fpath)\n",
    "    sharp_imgs.append(np.array(img))"
   ]
  },
  {
   "cell_type": "code",
   "execution_count": 20,
   "metadata": {},
   "outputs": [
    {
     "data": {
      "text/plain": [
       "(720, 1280, 3)"
      ]
     },
     "execution_count": 20,
     "metadata": {},
     "output_type": "execute_result"
    }
   ],
   "source": [
    "\n",
    "np.array(imgs[0]).shape"
   ]
  },
  {
   "cell_type": "code",
   "execution_count": null,
   "metadata": {},
   "outputs": [],
   "source": []
  }
 ],
 "metadata": {
  "kernelspec": {
   "display_name": "Python 3",
   "language": "python",
   "name": "python3"
  },
  "language_info": {
   "codemirror_mode": {
    "name": "ipython",
    "version": 3
   },
   "file_extension": ".py",
   "mimetype": "text/x-python",
   "name": "python",
   "nbconvert_exporter": "python",
   "pygments_lexer": "ipython3",
   "version": "3.9.19"
  }
 },
 "nbformat": 4,
 "nbformat_minor": 2
}
