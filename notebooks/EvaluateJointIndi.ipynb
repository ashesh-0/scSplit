{
 "cells": [
  {
   "cell_type": "code",
   "execution_count": 1,
   "metadata": {},
   "outputs": [],
   "source": [
    "import sys\n",
    "sys.path.append('..')\n",
    "\n",
    "from data.tile_stitcher import stitch_predictions\n"
   ]
  },
  {
   "cell_type": "code",
   "execution_count": 2,
   "metadata": {
    "tags": [
     "parameters"
    ]
   },
   "outputs": [
    {
     "data": {
      "text/plain": [
       "'2502/BioSR-joint_indi-l1/6'"
      ]
     },
     "execution_count": 2,
     "metadata": {},
     "output_type": "execute_result"
    }
   ],
   "source": [
    "# ckpt = '2410/Hagen-joint_indi-l1/36'\n",
    "# ckpt = '2502/HT_T24-joint_indi-l1/14'\n",
    "# ckpt  = '2412/HT_LIF-joint_indi-l1/8'\n",
    "# ckpt = '2501/COSEM_jrc-hela-joint_indi-l1/32'\n",
    "# ckpt = '2502/COSEM_jrc-hela-joint_indi-l1/13'\n",
    "# ckpt = '2502/COSEM_jrc-choroid-plexus-2-joint_indi-l1/5'\n",
    "# ckpt = '2502/COSEM_jrc-choroid-plexus-2-joint_indi-l1/4'\n",
    "ckpt = '2502/BioSR-joint_indi-l1/6'\n",
    "training_rootdir = '/group/jug/ashesh/training/diffsplit/'\n",
    "num_steps_normalization = 10_00\n",
    "ckpt_time_predictor = '2502/BioSR-UnetClassifier-l2/4/'\n",
    "time_predictor = None\n",
    "mixing_t_ood = 0.2\n",
    "mmse_count = 10\n",
    "\n",
    "num_timesteps = 1\n",
    "enable_real_input = False\n",
    "infer_time = True\n",
    "use_aggregated_inferred_time = True\n",
    "use_hardcoded_time_for_inference = None\n",
    "\n",
    "\n",
    "ckpt = ckpt.strip('/').strip(' ')\n",
    "ckpt"
   ]
  },
  {
   "cell_type": "code",
   "execution_count": 3,
   "metadata": {},
   "outputs": [],
   "source": [
    "if use_aggregated_inferred_time:\n",
    "    assert ckpt_time_predictor is not None, 'Time predictor is required for aggregated time inference'\n",
    "    assert use_hardcoded_time_for_inference is use_hardcoded_time_for_inference, 'Hardcoded time inference is not supported with aggregated time inference'\n",
    "    assert infer_time is True, 'Time inference must be enabled for aggregated time inference'\n",
    "\n",
    "\n",
    "if infer_time:\n",
    "    assert ckpt_time_predictor is not None, 'Time predictor is required for time inference'\n",
    "\n",
    "if use_hardcoded_time_for_inference is not None:\n",
    "    assert not infer_time, 'Time inference must be disabled for hardcoded time inference'\n",
    "\n",
    "assert mixing_t_ood >= 0 and mixing_t_ood <= 1, 'mixing_t_ood must be in [0, 1]'\n",
    "assert enable_real_input is False, 'Real input is not supported in this notebook.'"
   ]
  },
  {
   "cell_type": "code",
   "execution_count": 4,
   "metadata": {},
   "outputs": [],
   "source": [
    "import yaml\n",
    "import os\n",
    "import glob\n",
    "\n",
    "def model_checkpoint_fpath(fname=None):\n",
    "    ckpt_dir = os.path.join(training_rootdir, ckpt, 'checkpoint')\n",
    "    if fname is not None:\n",
    "        return os.path.join(training_rootdir, ckpt, fname)\n",
    "    else:\n",
    "        list_of_files = glob.glob(ckpt_dir +'/*_gen.pth') # * means all if need specific format then *.csv\n",
    "        latest_file = max(list_of_files, key=os.path.getctime)\n",
    "        # best_files = [f for f in list_of_files if 'best_gen_' in f]\n",
    "        # assert len(best_files) == 1,f'{best_files}'\n",
    "        # best_file = best_files[0]  \n",
    "        fname = latest_file\n",
    "        return os.path.join(ckpt_dir,fname)\n",
    "\n",
    "def model_checkpoint_fpath_prefix(fname=None):\n",
    "    fpath = model_checkpoint_fpath(fname)\n",
    "    suffix = '_gen.pth'\n",
    "    assert fpath.endswith(suffix)\n",
    "    return fpath[:-len(suffix)]\n",
    "\n",
    "def load_config(ckpt):\n",
    "    config_path = os.path.join(training_rootdir,ckpt,'wandb/latest-run/files/config.yaml')\n",
    "\n",
    "    with open(config_path) as stream:\n",
    "        \n",
    "        try:\n",
    "            opt = yaml.safe_load(stream)\n",
    "        except yaml.YAMLError as exc:\n",
    "            print(exc)\n",
    "    \n",
    "    keys = [\"name\",\"phase\",\"gpu_ids\",\"path\",\"datasets\",\"model\",\"train\", \"distributed\"]\n",
    "    output = {}\n",
    "    for k in keys:\n",
    "        if k in opt:\n",
    "            output[k] = opt[k]['value']\n",
    "    return output"
   ]
  },
  {
   "cell_type": "code",
   "execution_count": 5,
   "metadata": {},
   "outputs": [
    {
     "name": "stdout",
     "output_type": "stream",
     "text": [
      "TimePredictor\n",
      "Loaded time predictor from /group/jug/ashesh/training/diffsplit/2502/BioSR-UnetClassifier-l2/4/\n"
     ]
    }
   ],
   "source": [
    "from model.ddpm_modules.time_predictor import TimePredictor\n",
    "from time_prediction_training import get_datasets\n",
    "import os\n",
    "import torch\n",
    "\n",
    "if ckpt_time_predictor is not None:\n",
    "    time_pred_ckpt_fpath = os.path.join(training_rootdir, ckpt_time_predictor)\n",
    "\n",
    "    time_pred_opt = load_config(time_pred_ckpt_fpath)\n",
    "    time_pred_model_opt = time_pred_opt['model']\n",
    "    time_predictor = TimePredictor(\n",
    "        in_channel=time_pred_model_opt['unet']['in_channel'],\n",
    "        out_channel=time_pred_model_opt['unet']['out_channel'],\n",
    "        norm_groups=time_pred_model_opt['unet']['norm_groups'],\n",
    "        inner_channel=time_pred_model_opt['unet']['inner_channel'],\n",
    "        channel_mults=time_pred_model_opt['unet']['channel_multiplier'],\n",
    "        attn_res=time_pred_model_opt['unet']['attn_res'],\n",
    "        res_blocks=time_pred_model_opt['unet']['res_blocks'],\n",
    "        dropout=time_pred_model_opt['unet']['dropout'],\n",
    "        image_size=time_pred_opt['datasets']['patch_size'],\n",
    "        )\n",
    "    \n",
    "    time_predictor = time_predictor.cuda()\n",
    "    time_predictor.load_state_dict(torch.load(os.path.join(time_pred_ckpt_fpath,'best_time_predictor.pth')), strict=True)\n",
    "    time_predictor.eval()\n",
    "    print('Loaded time predictor from', time_pred_ckpt_fpath)\n"
   ]
  },
  {
   "cell_type": "code",
   "execution_count": 6,
   "metadata": {},
   "outputs": [
    {
     "name": "stdout",
     "output_type": "stream",
     "text": [
      "/group/jug/ashesh/training/diffsplit/2502/BioSR-joint_indi-l1/6/checkpoint/I450000_E75000\n"
     ]
    }
   ],
   "source": [
    "opt = load_config(ckpt)\n",
    "opt['path']['resume_state'] = model_checkpoint_fpath_prefix()\n",
    "# opt['path']['resume_state'] = os.path.join(os.path.dirname(opt['path']['resume_state']),'I110000_E1375')\n",
    "print(opt['path']['resume_state'])\n",
    "\n",
    "opt['model']['beta_schedule']['val']['n_timestep'] = num_timesteps\n",
    "if opt['datasets']['train']['name'] == 'COSEM_jrc-hela':\n",
    "    opt['datasets']['val']['datapath'] = opt['datasets']['val']['datapath'].replace('val_jrc_hela','test_jrc_hela')\n",
    "\n",
    "elif opt['datasets']['train']['name'] == 'hagen':\n",
    "    opt['datasets']['val']['datapath'] = {\n",
    "    'ch0': '/group/jug/ashesh/data/diffsplit_hagen/test/test_actin-60x-noise2-highsnr.tif',\n",
    "    'ch1': '/group/jug/ashesh/data/diffsplit_hagen/test/test_mito-60x-noise2-highsnr.tif'\n",
    "    }\n",
    "elif opt['datasets']['train']['name'] in ['HT_LIF24','HT_LIF', 'BioSR', 'HT_T24']:\n",
    "    opt['datasets']['val']['datapath'] = opt['datasets']['val']['datapath'].replace('/val','/test')\n",
    "else:\n",
    "    raise NotImplementedError(f'Unknown dataset {opt[\"datasets\"][\"train\"][\"name\"]}')\n"
   ]
  },
  {
   "cell_type": "code",
   "execution_count": 7,
   "metadata": {},
   "outputs": [],
   "source": [
    "if 'patch_size' not in opt['datasets']:\n",
    "    opt['datasets']['patch_size']  = opt['datasets']['train']['patch_size']\n",
    "\n",
    "if 'max_qval' not in opt['datasets']:\n",
    "    opt['datasets']['max_qval']  = 0.98\n",
    "\n",
    "if 'uncorrelated_channels' not in opt['datasets']['train']:\n",
    "    opt['datasets']['train']['uncorrelated_channels']  = False\n",
    "\n",
    "if enable_real_input:\n",
    "    opt['datasets']['train']['real_input_fraction'] = 1.0\n",
    "    opt['datasets']['val']['real_input_fraction'] = 1.0\n",
    "\n",
    "opt['datasets']['normalize_channels'] = False"
   ]
  },
  {
   "cell_type": "code",
   "execution_count": 8,
   "metadata": {},
   "outputs": [
    {
     "name": "stdout",
     "output_type": "stream",
     "text": [
      "Loading data from /group/jug/ashesh/data/diffsplit_BioSR/Microtubules-vs-ER/train/train.tif\n",
      "Computing mean and std for normalization\n",
      "[SplitDataset] Data: 45x2x(1004, 1004) Patch:512 Random:1 Aug:True Q:1.0 UpperClip:0Uncor:False InpFrmNormTar\n",
      "Loading data from /group/jug/ashesh/data/diffsplit_BioSR/Microtubules-vs-ER/test/test.tif\n",
      "[TilingDataset] Data: 5x2x(1004, 1004) Patch:512 Random:0 Aug:False Q:1.0 UpperClip:0Uncor:False InpFrmNormTar\n",
      "[IndiFullTranslation]: Sampling mode: linear_indi, Noise mode: gaussian\n",
      "[IndiFullTranslation]: Sampling mode: linear_indi, Noise mode: gaussian\n",
      "[JointIndi]: w_input_loss: 0.1 \n",
      "Scheduler set to ReduceLROnPlateau with patience:  100\n",
      "\n",
      "--------------------------------------------------\n",
      "Number of trainable parameters: 4.88M\n",
      "--------------------------------------------------\n",
      "\n"
     ]
    }
   ],
   "source": [
    "import torch\n",
    "import data as Data\n",
    "import model as Model\n",
    "from data.split_dataset import SplitDataset, DataLocation\n",
    "from split import get_datasets\n",
    "import os\n",
    "\n",
    "\n",
    "# data\n",
    "train_set, val_set = get_datasets(opt, tiled_pred=True)\n",
    "\n",
    "# model\n",
    "diffusion = Model.create_model(opt)\n",
    "diffusion.set_new_noise_schedule(opt['model']['beta_schedule'][opt['phase']], schedule_phase=opt['phase'])\n",
    "\n",
    "# load checkpoint\n",
    "diffusion.load_network()"
   ]
  },
  {
   "cell_type": "code",
   "execution_count": 9,
   "metadata": {},
   "outputs": [
    {
     "name": "stdout",
     "output_type": "stream",
     "text": [
      "Random patching set to True\n"
     ]
    },
    {
     "name": "stderr",
     "output_type": "stream",
     "text": [
      "45 patches processed: 100%|██████████| 1/1 [00:02<00:00,  2.19s/it]\n",
      "90 patches processed: 100%|██████████| 1/1 [00:02<00:00,  2.20s/it]\n",
      "135 patches processed: 100%|██████████| 1/1 [00:02<00:00,  2.21s/it]\n",
      "180 patches processed: 100%|██████████| 1/1 [00:02<00:00,  2.19s/it]\n",
      "225 patches processed: 100%|██████████| 1/1 [00:02<00:00,  2.16s/it]\n",
      "270 patches processed: 100%|██████████| 1/1 [00:02<00:00,  2.17s/it]\n",
      "315 patches processed: 100%|██████████| 1/1 [00:02<00:00,  2.19s/it]\n",
      "360 patches processed: 100%|██████████| 1/1 [00:02<00:00,  2.15s/it]\n",
      "405 patches processed: 100%|██████████| 1/1 [00:02<00:00,  2.20s/it]\n",
      "450 patches processed: 100%|██████████| 1/1 [00:02<00:00,  2.18s/it]\n",
      "495 patches processed: 100%|██████████| 1/1 [00:02<00:00,  2.19s/it]\n",
      "540 patches processed: 100%|██████████| 1/1 [00:02<00:00,  2.19s/it]\n",
      "585 patches processed: 100%|██████████| 1/1 [00:02<00:00,  2.16s/it]\n",
      "630 patches processed: 100%|██████████| 1/1 [00:02<00:00,  2.15s/it]\n",
      "675 patches processed: 100%|██████████| 1/1 [00:02<00:00,  2.18s/it]\n",
      "720 patches processed: 100%|██████████| 1/1 [00:02<00:00,  2.30s/it]\n",
      "765 patches processed: 100%|██████████| 1/1 [00:02<00:00,  2.20s/it]\n",
      "810 patches processed: 100%|██████████| 1/1 [00:02<00:00,  2.17s/it]\n",
      "855 patches processed: 100%|██████████| 1/1 [00:02<00:00,  2.17s/it]\n",
      "900 patches processed: 100%|██████████| 1/1 [00:02<00:00,  2.21s/it]\n",
      "945 patches processed: 100%|██████████| 1/1 [00:02<00:00,  2.17s/it]\n",
      "990 patches processed: 100%|██████████| 1/1 [00:02<00:00,  2.23s/it]\n",
      "1035 patches processed:   0%|          | 0/1 [00:02<?, ?it/s]"
     ]
    },
    {
     "name": "stdout",
     "output_type": "stream",
     "text": [
      "Random patching set to False\n"
     ]
    },
    {
     "name": "stderr",
     "output_type": "stream",
     "text": [
      "\n"
     ]
    },
    {
     "data": {
      "text/plain": [
       "True"
      ]
     },
     "execution_count": 9,
     "metadata": {},
     "output_type": "execute_result"
    }
   ],
   "source": [
    "from split import get_xt_normalizer\n",
    "val_set.set_random_patching(True)\n",
    "xt_normalizer1, xt_normalizer2 = get_xt_normalizer(val_set,opt['datasets']['train'], num_bins=100, \n",
    "                                                   num_steps=num_steps_normalization)\n",
    "val_set.set_random_patching(False)"
   ]
  },
  {
   "cell_type": "code",
   "execution_count": 10,
   "metadata": {},
   "outputs": [
    {
     "data": {
      "text/plain": [
       "(tensor([9762.6787, 9672.0020, 9705.2432, 9700.8340, 9717.6318, 9545.3369,\n",
       "         9577.7891, 9507.7041, 9611.7881, 9562.5391, 9583.9824, 9523.7432,\n",
       "         9564.3418, 9419.1191, 9341.4990, 9372.5615, 9534.0342, 9118.4160,\n",
       "         9324.2822, 9204.9268, 9199.3350, 9183.8027, 9262.1885, 9183.2119,\n",
       "         9238.3838, 9191.6250, 9122.3223, 8873.7314, 8859.7734, 9086.8340,\n",
       "         8920.9629, 9027.2549, 8999.4551, 8815.6768, 8921.3301, 8803.9844,\n",
       "         8957.1514, 8668.7393, 8841.5449, 8820.9473, 8436.3232, 8675.2188,\n",
       "         8667.4307, 8757.9375, 8654.5703, 8628.3115, 8571.6191, 8505.0195,\n",
       "         8520.1572, 8504.9297, 8466.3711, 8429.8506, 8374.3926, 8386.0303,\n",
       "         8443.4482, 8348.0371, 8300.5996, 8345.0186, 8379.6738, 8329.6113,\n",
       "         8269.7773, 8331.0088, 8204.7227, 8187.5835, 8222.8379, 8162.0366,\n",
       "         8104.1562, 8126.9785, 8045.3501, 8045.4263, 8032.4253, 8010.5503,\n",
       "         7970.0571, 7883.7773, 7907.5137, 7902.4688, 7927.7515, 7937.0435,\n",
       "         7860.1494, 7816.2485, 7677.5122, 7788.1855, 7815.3228, 7691.1748,\n",
       "         7635.9448, 7606.7280, 7631.5195, 7607.0513, 7522.9062, 7585.1646,\n",
       "         7562.2598, 7390.1943, 7527.4116, 7460.2671, 7409.6953, 7367.3643,\n",
       "         7360.7197, 7368.3979, 7312.8525, 7376.6206], device='cuda:0'),\n",
       " tensor([6725.6440, 6618.4927, 6572.4604, 6505.1855, 6411.7915, 6356.9214,\n",
       "         6273.9644, 6263.6011, 6224.4155, 6141.3691, 6056.2246, 6041.9834,\n",
       "         5967.4492, 5900.8438, 5814.9233, 5822.3120, 5769.4224, 5708.9141,\n",
       "         5683.2422, 5618.1045, 5555.6396, 5515.8179, 5521.4185, 5470.3462,\n",
       "         5394.3711, 5382.7749, 5328.9976, 5286.9595, 5251.1426, 5217.1470,\n",
       "         5208.3198, 5181.2163, 5198.2847, 5152.6406, 5124.0244, 5096.4399,\n",
       "         5084.7979, 5041.7124, 5042.0469, 5041.4453, 4986.3003, 5019.2998,\n",
       "         4982.4209, 5002.1147, 4971.3276, 4996.9785, 4978.9458, 4947.6582,\n",
       "         4982.5381, 4961.2231, 5003.2588, 4997.4395, 4988.8779, 4975.5811,\n",
       "         5011.0410, 5048.2578, 5020.7319, 5117.2578, 5115.8164, 5137.5371,\n",
       "         5133.1333, 5193.3496, 5168.9756, 5210.6162, 5266.2363, 5313.8086,\n",
       "         5307.2739, 5350.4019, 5344.4019, 5420.4116, 5490.4907, 5502.9199,\n",
       "         5535.8291, 5552.6519, 5624.1147, 5670.5513, 5745.7446, 5795.0215,\n",
       "         5810.4819, 5883.2754, 5828.2783, 5973.9531, 6041.2153, 6071.0757,\n",
       "         6104.4844, 6135.8892, 6247.7505, 6279.4604, 6323.9790, 6410.7075,\n",
       "         6471.6909, 6423.5049, 6603.5815, 6621.7959, 6710.4575, 6751.2876,\n",
       "         6814.9087, 6903.3281, 6959.0464, 7056.1250], device='cuda:0'))"
      ]
     },
     "execution_count": 10,
     "metadata": {},
     "output_type": "execute_result"
    }
   ],
   "source": [
    "xt_normalizer1.data_mean, xt_normalizer1.data_std"
   ]
  },
  {
   "cell_type": "code",
   "execution_count": 11,
   "metadata": {},
   "outputs": [],
   "source": [
    "from collections import defaultdict\n",
    "import numpy as np\n",
    "from tqdm import tqdm\n",
    "import matplotlib.pyplot as plt\n",
    "import pandas as pd\n",
    "\n"
   ]
  },
  {
   "cell_type": "code",
   "execution_count": 12,
   "metadata": {},
   "outputs": [],
   "source": [
    "import numpy as np\n",
    "import random\n",
    "\n",
    "def get_input_dict(data_dict):\n",
    "    if opt['datasets']['train']['name'] in ['HT_LIF', 'HT_LIF24']:\n",
    "        diffusion_data = {'input': data_dict['input'].cuda(), 'target': data_dict['target'].cuda()}\n",
    "    # elif opt['datasets']['train']['name'] == 'Hagen':\n",
    "    #     diffusion_data = {'input': data_dict['target'].mean(dim=1,keepdims=True).cuda(), 'target': data_dict['target'].cuda()}\n",
    "    elif opt['datasets']['train']['name'] in ['Hagen','COSEM_jrc-hela','COSEM_jrc-choroid-plexus-2']:\n",
    "        if enable_real_input:\n",
    "            assert 'input' in data_dict and data_dict['input'].std() > 0, 'Input is not available'\n",
    "            diffusion_data = {'input': data_dict['input'].cuda(), 'target': data_dict['target'].cuda()}\n",
    "        else:\n",
    "            diffusion_data = {'input': data_dict['target'].mean(dim=1,keepdims=True).cuda(), 'target': data_dict['target'].cuda()}\n",
    "            inp = diffusion_data['input']\n",
    "            diffusion_data['input'] = xt_normalizer1.normalize(inp, torch.Tensor([0.5]*len(inp)), update=False)\n",
    "        \n",
    "    return diffusion_data\n",
    "\n",
    "def fix_seeds():\n",
    "    torch.manual_seed(0)\n",
    "    torch.cuda.manual_seed(0)\n",
    "    np.random.seed(0)\n",
    "    random.seed(0)\n",
    "    torch.backends.cudnn.deterministic = True\n",
    "\n",
    "fix_seeds()"
   ]
  },
  {
   "cell_type": "code",
   "execution_count": 13,
   "metadata": {},
   "outputs": [],
   "source": [
    "import numpy as np\n",
    "import matplotlib.pyplot as plt\n",
    "import torch\n",
    "\n",
    "norm_dict = val_set.get_input_target_normalization_dict()\n",
    "# nimgs = 6\n",
    "# dloader = torch.utils.data.DataLoader(\n",
    "#             val_set,\n",
    "#             batch_size=nimgs,\n",
    "#             shuffle=True,\n",
    "#             num_workers=4,\n",
    "#             pin_memory=True)\n",
    "# for batch_data in dloader:\n",
    "#     break\n",
    "\n",
    "# diffusion_batch_input = get_input_dict(batch_data)"
   ]
  },
  {
   "cell_type": "code",
   "execution_count": 14,
   "metadata": {},
   "outputs": [
    {
     "data": {
      "text/plain": [
       "dict_keys(['mean_input', 'std_input', 'mean_channel', 'std_channel'])"
      ]
     },
     "execution_count": 14,
     "metadata": {},
     "output_type": "execute_result"
    }
   ],
   "source": [
    "norm_dict.keys()"
   ]
  },
  {
   "cell_type": "code",
   "execution_count": 15,
   "metadata": {},
   "outputs": [],
   "source": [
    "def get_prediction(data_dict, infer_time=True):\n",
    "    input_unnorm, target_unnorm, pred_unnorm = get_prediction_raw(data_dict, infer_time=infer_time)\n",
    "    target_unnorm = target_unnorm.transpose(0,2,3,1)\n",
    "    pred_unnorm = pred_unnorm.transpose(0,2,3,1)\n",
    "    input_unnorm = input_unnorm.transpose(0,2,3,1)\n",
    "    return input_unnorm, target_unnorm, pred_unnorm\n",
    "\n",
    "def get_prediction_raw(data_dict, infer_time=True):\n",
    "    assert 'input' in data_dict\n",
    "    assert 'target' in data_dict\n",
    "    assert len(data_dict['input'].shape) == 4\n",
    "    assert len(data_dict['target'].shape) == 4\n",
    "    t_float_start = 0.5\n",
    "    if time_predictor is not None and infer_time:\n",
    "        t_float_start = time_predictor(data_dict['input'].cuda())\n",
    "        \n",
    "    # NOTE: infer_time=False must be set for recent models.\n",
    "    prediction = diffusion.netG.inference(data_dict['input'], infer_time=False, t_float_start=t_float_start).detach().cpu().numpy()\n",
    "    input = data_dict['input'].cpu().numpy()\n",
    "    target = data_dict['target'].cpu().numpy()\n",
    "\n",
    "    \n",
    "    # unnormalize \n",
    "    assert len(prediction.shape) == 4\n",
    "    pred_unnorm = prediction * norm_dict['std_target'] + norm_dict['mean_target']\n",
    "    target_unnorm = target * norm_dict['std_target'] + norm_dict['mean_target']\n",
    "    input_unnorm = input * norm_dict['std_input'] + norm_dict['mean_input']\n",
    "\n",
    "\n",
    "    if opt['datasets']['train']['name'] == 'cifar10':\n",
    "        pred_unnorm[pred_unnorm<0] = 0\n",
    "        pred_unnorm[pred_unnorm>255] = 255\n",
    "        pred_unnorm = pred_unnorm.astype(np.uint8)\n",
    "        target_unnorm = target_unnorm.astype(np.uint8)\n",
    "        input_unnorm = input_unnorm.astype(np.uint16)\n",
    "\n",
    "    return input_unnorm, target_unnorm, pred_unnorm"
   ]
  },
  {
   "cell_type": "code",
   "execution_count": 16,
   "metadata": {},
   "outputs": [],
   "source": [
    "diffusion.set_new_noise_schedule(opt['model']['beta_schedule']['val'], schedule_phase='val')\n"
   ]
  },
  {
   "cell_type": "code",
   "execution_count": 17,
   "metadata": {},
   "outputs": [],
   "source": [
    "import seaborn as sns\n",
    "# show_hist = False\n",
    "# if show_hist:\n",
    "#     ncols = predictions.shape[-1]\n",
    "#     _,ax = plt.subplots(figsize=(3*ncols,3),ncols=ncols)\n",
    "#     for ch_idx in range(ncols):\n",
    "#         sns.histplot(targets[:,...,ch_idx].reshape(-1,), label='target',ax=ax[ch_idx])\n",
    "#         sns.histplot(predictions[:,-1,...,ch_idx].reshape(-1,), label='prediction', ax=ax[ch_idx])\n",
    "#     plt.legend()\n",
    "#     plt.tight_layout()"
   ]
  },
  {
   "cell_type": "markdown",
   "metadata": {},
   "source": [
    "## Quantitative Evaluation using the classifier.\n",
    "Here, we also inspect the effect of MMSE count."
   ]
  },
  {
   "cell_type": "code",
   "execution_count": 18,
   "metadata": {},
   "outputs": [
    {
     "name": "stderr",
     "output_type": "stream",
     "text": [
      "100%|██████████| 45/45 [00:09<00:00,  4.80it/s]"
     ]
    },
    {
     "name": "stdout",
     "output_type": "stream",
     "text": [
      "0.2124779396586948 0.8002254856957329\n"
     ]
    },
    {
     "name": "stderr",
     "output_type": "stream",
     "text": [
      "\n"
     ]
    }
   ],
   "source": [
    "\n",
    "if time_predictor is not None:\n",
    "    t_pred1 = []\n",
    "    t_pred2 = []\n",
    "    with torch.no_grad():\n",
    "        for i in tqdm(range(len(val_set))):\n",
    "            data = val_set[i]\n",
    "            inp_indi1 = data['target'][:1]*(1-mixing_t_ood) + data['target'][1:2]*mixing_t_ood\n",
    "            inp_indi2 = data['target'][:1]*mixing_t_ood + data['target'][1:2]*(1-mixing_t_ood)\n",
    "            inp_indi1 = torch.Tensor(inp_indi1[None]).cuda()\n",
    "            inp_indi2 = torch.Tensor(inp_indi2[None]).cuda()\n",
    "            # we can use mixing_t_ood for the normalization, because if it is real image, then we anyway have to normalize it separately.\n",
    "            norm_inp1 = xt_normalizer1.normalize(inp_indi1.cuda(), torch.Tensor([mixing_t_ood]*len(inp_indi1)).cuda(), update=False)\n",
    "            norm_inp2 = xt_normalizer2.normalize(inp_indi2.cuda(), torch.Tensor([mixing_t_ood]*len(inp_indi2)).cuda(), update=False)\n",
    "            \n",
    "            # time predictor notion of time is 1 - t, This formulation ensures that we have the time corresponding to indi1.\n",
    "            t1 = 1 - time_predictor(norm_inp1)\n",
    "            t2 = 1 - time_predictor(norm_inp2)\n",
    "            t_pred1.append(t1.item())\n",
    "            t_pred2.append(t2.item())\n",
    "\n",
    "    t_pred1_aggregated = np.mean(t_pred1) \n",
    "    t_pred2_aggregated = np.mean(t_pred2)\n",
    "    print(t_pred1_aggregated, t_pred2_aggregated)\n",
    "else:\n",
    "    t_pred1_aggregated = None\n",
    "    t_pred2_aggregated = None"
   ]
  },
  {
   "cell_type": "code",
   "execution_count": 19,
   "metadata": {},
   "outputs": [],
   "source": [
    "# use_aggregated_inferred_time = False\n",
    "# use_hardcoded_time_for_inference = 0.5\n",
    "# infer_time = False\n",
    "# mmse_count = 1"
   ]
  },
  {
   "cell_type": "code",
   "execution_count": 20,
   "metadata": {},
   "outputs": [
    {
     "name": "stdout",
     "output_type": "stream",
     "text": [
      "infer_time True use_aggregated_inferred_time True use_hardcoded_time_for_inference None\n"
     ]
    },
    {
     "name": "stderr",
     "output_type": "stream",
     "text": [
      "  0%|          | 0/45 [00:00<?, ?it/s]"
     ]
    },
    {
     "name": "stderr",
     "output_type": "stream",
     "text": [
      "100%|██████████| 45/45 [00:12<00:00,  3.63it/s]\n",
      "100%|██████████| 45/45 [00:12<00:00,  3.72it/s]\n",
      "100%|██████████| 45/45 [00:11<00:00,  3.91it/s]\n",
      "100%|██████████| 45/45 [00:11<00:00,  3.99it/s]\n",
      "100%|██████████| 45/45 [00:11<00:00,  3.98it/s]\n",
      "100%|██████████| 45/45 [00:11<00:00,  3.98it/s]\n",
      "100%|██████████| 45/45 [00:11<00:00,  3.96it/s]\n",
      "100%|██████████| 45/45 [00:11<00:00,  3.96it/s]\n",
      "100%|██████████| 45/45 [00:11<00:00,  4.02it/s]\n",
      "100%|██████████| 45/45 [00:12<00:00,  3.73it/s]\n"
     ]
    }
   ],
   "source": [
    "from core.psnr import PSNR\n",
    "from collections import defaultdict\n",
    "from tqdm import tqdm\n",
    "import numpy as np\n",
    "\n",
    "def sanitize_t(t_val, eps = 1e-6):\n",
    "    t_val = np.clip(t_val, 0+eps, 1-eps)\n",
    "    return t_val\n",
    "\n",
    "print('infer_time', infer_time, 'use_aggregated_inferred_time', use_aggregated_inferred_time, 'use_hardcoded_time_for_inference', use_hardcoded_time_for_inference)\n",
    "indi_model = diffusion.netG\n",
    "psnr_dict_ood = defaultdict(list)\n",
    "all_targets_ood = []\n",
    "all_inputs_ood = []\n",
    "eps = 1e-6\n",
    "\n",
    "pred_t_1_arr = []\n",
    "pred_t_2_arr = []\n",
    "# mmse_pred_bt_removed_arr = []\n",
    "# mmse_pred_dim_arr = []\n",
    "mmse_pred_bt_removed = 0\n",
    "mmse_pred_dim = 0\n",
    "with torch.no_grad():\n",
    "    for mmse_idx in range(mmse_count):\n",
    "        all_predictions_bt_removed = []\n",
    "        all_predictions_dim_pred = []\n",
    "\n",
    "        for i in tqdm(range(len(val_set))):\n",
    "            data = val_set[i]\n",
    "            inp_indi1 = data['target'][:1]*(1-mixing_t_ood) + data['target'][1:2]*mixing_t_ood\n",
    "            inp_indi2 = data['target'][1:2]*(1-mixing_t_ood) + data['target'][:1]*mixing_t_ood\n",
    "\n",
    "            inp_indi1 = torch.Tensor(inp_indi1[None]).cuda()\n",
    "            inp_indi2 = torch.Tensor(inp_indi2[None]).cuda()\n",
    "            # we can use mixing_t_ood for the normalization, because if it is real image, then we anyway have to normalize it separately.\n",
    "            norm_inp1 = xt_normalizer1.normalize(inp_indi1.cuda(), torch.Tensor([mixing_t_ood]*len(inp_indi1)).cuda(), update=False)\n",
    "            norm_inp2 = xt_normalizer2.normalize(inp_indi2.cuda(), torch.Tensor([mixing_t_ood]*len(inp_indi2)).cuda(), update=False)\n",
    "\n",
    "\n",
    "            # picking the time\n",
    "            if infer_time:\n",
    "                if use_aggregated_inferred_time:\n",
    "                    predt_inp1 = t_pred1_aggregated\n",
    "                    predt_inp2 = t_pred2_aggregated\n",
    "                else:\n",
    "                    assert use_hardcoded_time_for_inference is None, 'Hardcoded time inference is not supported with individual time inference'\n",
    "                    predt_inp1 = 1 - time_predictor(norm_inp1).item()\n",
    "                    predt_inp2 = 1 - time_predictor(norm_inp2).item()\n",
    "            elif use_hardcoded_time_for_inference is not None:\n",
    "                predt_inp1 = use_hardcoded_time_for_inference\n",
    "                predt_inp2 = use_hardcoded_time_for_inference\n",
    "            else:\n",
    "                predt_inp1 = mixing_t_ood\n",
    "                predt_inp2 = 1 - mixing_t_ood\n",
    "            predt_inp1 = sanitize_t(predt_inp1)\n",
    "            predt_inp2 = sanitize_t(predt_inp2)\n",
    "\n",
    "\n",
    "\n",
    "\n",
    "            ch1_bt_removed = indi_model.indi1.inference(norm_inp1, num_timesteps=1, t_float_start=predt_inp1)\n",
    "            ch2_bt_removed = indi_model.indi2.inference(norm_inp2,  num_timesteps=1, t_float_start=1-predt_inp2)\n",
    "            \n",
    "            ch2_dim_pred = indi_model.indi2.inference(norm_inp1, num_timesteps=1, t_float_start=1-predt_inp1)\n",
    "            ch1_dim_pred = indi_model.indi1.inference(norm_inp2, num_timesteps=1, t_float_start=predt_inp2)\n",
    "\n",
    "            if mmse_idx == 0:\n",
    "                all_inputs_ood.append(np.concatenate([inp_indi1.cpu().numpy(), inp_indi2.cpu().numpy()], axis=1))\n",
    "            pred_t_1_arr.append(predt_inp1)\n",
    "            pred_t_2_arr.append(predt_inp2)\n",
    "\n",
    "            \n",
    "            pred_bt_removed = np.concatenate([ch1_bt_removed.cpu().numpy(), ch2_bt_removed.cpu().numpy()], axis=1)\n",
    "            pred_dim_pred = np.concatenate([ch1_dim_pred.cpu().numpy(), ch2_dim_pred.cpu().numpy()], axis=1)\n",
    "            # NOTE: unnormalize\n",
    "            \n",
    "            tar_unnorm = data['target']\n",
    "            if mmse_idx == 0:\n",
    "                all_targets_ood.append(tar_unnorm[None])\n",
    "            \n",
    "            all_predictions_bt_removed.append(pred_bt_removed)\n",
    "            all_predictions_dim_pred.append(pred_dim_pred)\n",
    "\n",
    "        all_predictions_bt_removed = np.concatenate(all_predictions_bt_removed, axis=0)\n",
    "        all_predictions_dim_pred = np.concatenate(all_predictions_dim_pred, axis=0)\n",
    "\n",
    "        # mmse_pred_bt_removed_arr.append(all_predictions_bt_removed)\n",
    "        mmse_pred_bt_removed +=all_predictions_bt_removed\n",
    "        mmse_pred_dim += all_predictions_dim_pred\n",
    "\n",
    "mmse_pred_bt_removed /= mmse_count\n",
    "mmse_pred_dim /= mmse_count    \n",
    "all_targets_ood = np.concatenate(all_targets_ood, axis=0)\n",
    "all_inputs_ood = np.concatenate(all_inputs_ood, axis=0)\n",
    "\n",
    "pred_t_1_arr = np.array(pred_t_1_arr)\n",
    "pred_t_2_arr = np.array(pred_t_2_arr)\n"
   ]
  },
  {
   "cell_type": "code",
   "execution_count": 21,
   "metadata": {},
   "outputs": [],
   "source": [
    "# mmse_pred_bt_removed = 0 \n",
    "# mmse_pred_dim_pred = 0\n",
    "# for i in range(mmse_count):\n",
    "#     mmse_pred_bt_removed += mmse_pred_bt_removed_arr[i]/mmse_count\n",
    "#     mmse_pred_dim_pred += mmse_pred_dim_arr[i]/mmse_count"
   ]
  },
  {
   "cell_type": "code",
   "execution_count": 22,
   "metadata": {},
   "outputs": [
    {
     "name": "stdout",
     "output_type": "stream",
     "text": [
      "[5, 1004, 1004, 2]\n",
      "[5, 1004, 1004, 2]\n",
      "[5, 1004, 1004, 2]\n",
      "[5, 1004, 1004, 2]\n"
     ]
    }
   ],
   "source": [
    "\n",
    "pred_bt_removed_stitched = stitch_predictions(mmse_pred_bt_removed, val_set.tile_manager)\n",
    "pred_dim_pred_stitched = stitch_predictions(mmse_pred_dim, val_set.tile_manager)\n",
    "tar_stitched = stitch_predictions(all_targets_ood, val_set.tile_manager)\n",
    "inputs_stitched_ood = stitch_predictions(all_inputs_ood, val_set.tile_manager)\n",
    "\n",
    "mean_val = xt_normalizer1.data_mean[[0, -1]].cpu().numpy().reshape(1,1,1,-1)\n",
    "std_val = xt_normalizer1.data_std[[0, -1]].cpu().numpy().reshape(1,1,1,-1)\n",
    "\n",
    "pred_bt_removed_stitched = pred_bt_removed_stitched*std_val + mean_val\n",
    "pred_dim_pred_stitched = pred_dim_pred_stitched*std_val + mean_val\n",
    "# target_stitched_ood = np.stack(val_set._data_dict, axis=-1)"
   ]
  },
  {
   "cell_type": "code",
   "execution_count": 23,
   "metadata": {},
   "outputs": [],
   "source": [
    "# from metrics import RangeInvariantPsnr\n",
    "# bt_rem = RangeInvariantPsnr(tar_stitched[...,0], pred_bt_removed_stitched[...,0]).mean().item(), RangeInvariantPsnr(tar_stitched[...,1], pred_bt_removed_stitched[...,1]).mean().item()\n",
    "# dim_pred = RangeInvariantPsnr(tar_stitched[...,0], pred_dim_pred_stitched[...,0]).mean().item(), RangeInvariantPsnr(tar_stitched[...,1], pred_dim_pred_stitched[...,1]).mean().item()\n",
    "# print('BT removed', bt_rem)\n",
    "# print('Dim pred', dim_pred)"
   ]
  },
  {
   "cell_type": "code",
   "execution_count": 24,
   "metadata": {},
   "outputs": [
    {
     "name": "stdout",
     "output_type": "stream",
     "text": [
      "Setting up [LPIPS] perceptual loss: trunk [alex], v[0.1], spatial [off]\n"
     ]
    },
    {
     "name": "stderr",
     "output_type": "stream",
     "text": [
      "/localscratch/miniforge3/envs/usplit_vdi/lib/python3.9/site-packages/torchvision/models/_utils.py:208: UserWarning: The parameter 'pretrained' is deprecated since 0.13 and may be removed in the future, please use 'weights' instead.\n",
      "  warnings.warn(\n",
      "/localscratch/miniforge3/envs/usplit_vdi/lib/python3.9/site-packages/torchvision/models/_utils.py:223: UserWarning: Arguments other than a weight enum or `None` for 'weights' are deprecated since 0.13 and may be removed in the future. The current behavior is equivalent to passing `weights=AlexNet_Weights.IMAGENET1K_V1`. You can also use `weights=AlexNet_Weights.DEFAULT` to get the most up-to-date weights.\n",
      "  warnings.warn(msg)\n"
     ]
    },
    {
     "name": "stdout",
     "output_type": "stream",
     "text": [
      "Loading model from: /localscratch/miniforge3/envs/usplit_vdi/lib/python3.9/site-packages/lpips/weights/v0.1/alex.pth\n"
     ]
    },
    {
     "name": "stderr",
     "output_type": "stream",
     "text": [
      "100%|██████████| 5/5 [00:00<00:00, 29.54it/s]\n",
      "100%|██████████| 5/5 [00:00<00:00, 29.25it/s]\n",
      "100%|██████████| 5/5 [00:00<00:00, 29.53it/s]\n",
      "100%|██████████| 5/5 [00:00<00:00, 28.85it/s]\n"
     ]
    },
    {
     "name": "stdout",
     "output_type": "stream",
     "text": [
      "PSNR:\t 38.02+-0.33\t41.03+-0.461\n",
      "MicroSSIM:\t 0.972+-0.002\t0.948+-0.015\n",
      "MicroS3IM:\t 0.986+-0.001\t0.990+-0.000\n",
      "SSIM:\t 0.871+-0.037\t0.983+-0.002\n",
      "MSSSIM:\t 0.981+-0.002\t0.996+-0.000\n",
      "lpips:\t 0.014+-0.001\t0.007+-0.001\n",
      "Setting up [LPIPS] perceptual loss: trunk [alex], v[0.1], spatial [off]\n",
      "Loading model from: /localscratch/miniforge3/envs/usplit_vdi/lib/python3.9/site-packages/lpips/weights/v0.1/alex.pth\n"
     ]
    },
    {
     "name": "stderr",
     "output_type": "stream",
     "text": [
      "100%|██████████| 5/5 [00:00<00:00, 29.84it/s]\n",
      "100%|██████████| 5/5 [00:00<00:00, 29.75it/s]\n",
      "100%|██████████| 5/5 [00:00<00:00, 29.86it/s]\n",
      "100%|██████████| 5/5 [00:00<00:00, 29.55it/s]\n"
     ]
    },
    {
     "name": "stdout",
     "output_type": "stream",
     "text": [
      "PSNR:\t 28.67+-0.511\t27.02+-0.528\n",
      "MicroSSIM:\t 0.835+-0.015\t0.801+-0.022\n",
      "MicroS3IM:\t 0.919+-0.007\t0.872+-0.016\n",
      "SSIM:\t 0.780+-0.033\t0.857+-0.017\n",
      "MSSSIM:\t 0.926+-0.006\t0.868+-0.017\n",
      "lpips:\t 0.104+-0.009\t0.151+-0.012\n"
     ]
    }
   ],
   "source": [
    "from metrics import compute_stats\n",
    "bt_removed_stats_dict = compute_stats(tar_stitched, pred_bt_removed_stitched)\n",
    "dim_pred_stats_dict = compute_stats(tar_stitched, pred_dim_pred_stitched)"
   ]
  },
  {
   "cell_type": "code",
   "execution_count": 25,
   "metadata": {},
   "outputs": [
    {
     "name": "stdout",
     "output_type": "stream",
     "text": [
      "Ckpt: 2502/BioSR-joint_indi-l1/5\n",
      "Classifier: 2502/BioSR-UnetClassifier-l2/4/\n",
      "T:1 W:0.2 RealInp:False M:10 TPred:True TPredAgg:True TPredFixed:NoneNorm:1000 InfSteps:1\n",
      "\n",
      "BT Removed: PSNR:\t 38.02+-0.33\t41.03+-0.461\n",
      "BT Removed: MicroSSIM:\t 0.972+-0.0020\t0.948+-0.0150\n",
      "BT Removed: MicroS3IM:\t 0.986+-0.0010\t0.990+-0.0000\n",
      "BT Removed: SSIM:\t 0.871+-0.0370\t0.983+-0.0020\n",
      "BT Removed: MSSSIM:\t 0.981+-0.0020\t0.996+-0.0000\n",
      "BT Removed: lpips:\t 0.014+-0.0010\t0.007+-0.0010\n",
      "\n",
      "Weak Ch Pred: PSNR:\t 28.67+-0.511\t27.02+-0.528\n",
      "Weak Ch Pred: MicroSSIM:\t 0.835+-0.0150\t0.801+-0.0220\n",
      "Weak Ch Pred: MicroS3IM:\t 0.919+-0.0070\t0.872+-0.0160\n",
      "Weak Ch Pred: SSIM:\t 0.780+-0.0330\t0.857+-0.0170\n",
      "Weak Ch Pred: MSSSIM:\t 0.926+-0.0060\t0.868+-0.0170\n",
      "Weak Ch Pred: lpips:\t 0.104+-0.0090\t0.151+-0.0120\n"
     ]
    }
   ],
   "source": [
    "def ssim_str(ssim_tmp):\n",
    "    return f\"{np.round(ssim_tmp[0], 3):.3f}+-{np.round(ssim_tmp[1], 3):.4f}\"\n",
    "\n",
    "def psnr_str(psnr_tmp):\n",
    "    return f\"{np.round(psnr_tmp[0], 2)}+-{np.round(psnr_tmp[1], 3)}\"\n",
    "\n",
    "def print_stats_dict(stats_dict, prefix=''):\n",
    "    print(\n",
    "        prefix, \"PSNR:\\t\", \"\\t\".join([psnr_str(psnr_tmp) for psnr_tmp in stats_dict['rangeinvpsnr']])\n",
    "    )\n",
    "    print(\n",
    "        prefix, \"MicroSSIM:\\t\",\n",
    "        \"\\t\".join([ssim_str(ssim) for ssim in stats_dict['microssim']]),\n",
    "    )\n",
    "    print(\n",
    "        prefix, \"MicroS3IM:\\t\", \"\\t\".join([ssim_str(ssim) for ssim in stats_dict['ms3im']])\n",
    "    )\n",
    "    print(prefix, \"SSIM:\\t\", \"\\t\".join([ssim_str(ssim) for ssim in stats_dict['ssim']]))\n",
    "    print(prefix, \"MSSSIM:\\t\", \"\\t\".join([ssim_str(ssim) for ssim in stats_dict['msssim']]))\n",
    "    # lpiips\n",
    "    print(prefix, \"lpips:\\t\", \"\\t\".join([ssim_str(lpips) for lpips in stats_dict['lpips']]))\n",
    "\n",
    "print('Ckpt:',ckpt)\n",
    "\n",
    "if ckpt_time_predictor is not None:\n",
    "    print('Classifier:',ckpt_time_predictor)\n",
    "\n",
    "infer_time, 'use_aggregated_inferred_time', use_aggregated_inferred_time, 'use_hardcoded_time_for_inference', use_hardcoded_time_for_inference\n",
    "\n",
    "msg  = f'T:{num_timesteps} W:{mixing_t_ood} RealInp:{enable_real_input} M:{mmse_count} TPred:{infer_time} TPredAgg:{use_aggregated_inferred_time}'\n",
    "msg += f' TPredFixed:{use_hardcoded_time_for_inference}'\n",
    "\n",
    "msg += f'Norm:{num_steps_normalization} InfSteps:{num_timesteps}\\n'\n",
    "\n",
    "print(msg)\n",
    "print_stats_dict(bt_removed_stats_dict, 'BT Removed:')\n",
    "print('')\n",
    "print_stats_dict(dim_pred_stats_dict, 'Weak Ch Pred:')\n"
   ]
  },
  {
   "cell_type": "code",
   "execution_count": 26,
   "metadata": {},
   "outputs": [
    {
     "data": {
      "text/plain": [
       "Text(0, 0.5, 'Target')"
      ]
     },
     "execution_count": 26,
     "metadata": {},
     "output_type": "execute_result"
    },
    {
     "data": {
      "image/png": "[encoded data removed]",
      "text/plain": [
       "<Figure size 800x800 with 9 Axes>"
      ]
     },
     "metadata": {},
     "output_type": "display_data"
    }
   ],
   "source": [
    "import matplotlib.pyplot as plt\n",
    "\n",
    "_,ax = plt.subplots(figsize=(8,8),ncols=3,nrows=3)\n",
    "img_idx = 0\n",
    "hs = 500 \n",
    "ws = 1000\n",
    "sz = 300\n",
    "# inputs\n",
    "ax[0,0].set_title(f'Input w:{mixing_t_ood}', fontsize=15)\n",
    "ax[0,0].imshow(inputs_stitched_ood[img_idx,hs:hs+sz,ws:ws+sz,0])\n",
    "ax[1,0].imshow(inputs_stitched_ood[img_idx,hs:hs+sz,ws:ws+sz,1])\n",
    "\n",
    "#  ch1 predictions\n",
    "ax[0,1].set_title('Channel 1 Pred', fontsize=15)\n",
    "ax[0,1].imshow(pred_bt_removed_stitched[img_idx,hs:hs+sz,ws:ws+sz,0])\n",
    "ax[1,1].imshow(pred_dim_pred_stitched[img_idx,hs:hs+sz,ws:ws+sz,0])\n",
    "\n",
    "# ch2 predictions\n",
    "ax[0,2].set_title('Channel 2 Pred', fontsize=15)\n",
    "ax[0,2].imshow(pred_bt_removed_stitched[img_idx,hs:hs+sz,ws:ws+sz,1])\n",
    "ax[1,2].imshow(pred_dim_pred_stitched[img_idx,hs:hs+sz,ws:ws+sz,1])\n",
    "\n",
    "ax[0,0].set_ylabel('BT Removed', fontsize=15)\n",
    "ax[1,0].set_ylabel('Weak Signal Pred', fontsize=15)\n",
    "\n",
    "# target\n",
    "ax[2,0].axis('off')\n",
    "ax[2,1].imshow(tar_stitched[img_idx,hs:hs+sz,ws:ws+sz,0])\n",
    "ax[2,2].imshow(tar_stitched[img_idx,hs:hs+sz,ws:ws+sz,1])\n",
    "ax[2,1].set_ylabel('Target', fontsize=15)"
   ]
  },
  {
   "cell_type": "markdown",
   "metadata": {},
   "source": [
    "## Saving the predictions"
   ]
  },
  {
   "cell_type": "code",
   "execution_count": 27,
   "metadata": {},
   "outputs": [
    {
     "name": "stdout",
     "output_type": "stream",
     "text": [
      "/group/jug/ashesh/indiSplit/predictions/2502_BioSR-joint_indi-l1_5/T-0.2_MMSE-10_InferT-1_InferTAgg-1_FixedT-None\n"
     ]
    }
   ],
   "source": [
    "param_str = f\"T-{mixing_t_ood}_MMSE-{mmse_count}_InferT-{int(infer_time)}_InferTAgg-{int(use_aggregated_inferred_time)}_FixedT-{use_hardcoded_time_for_inference}\"\n",
    "result_dir = os.path.join('/group/jug/ashesh/indiSplit/', 'predictions',ckpt.replace('/','_'), param_str)\n",
    "os.makedirs(result_dir, exist_ok=True)\n",
    "print(result_dir)"
   ]
  },
  {
   "cell_type": "code",
   "execution_count": 28,
   "metadata": {},
   "outputs": [
    {
     "data": {
      "text/plain": [
       "((5, 1004, 1004, 2), (5, 1004, 1004, 2))"
      ]
     },
     "execution_count": 28,
     "metadata": {},
     "output_type": "execute_result"
    }
   ],
   "source": [
    "from skimage.io import imread, imsave\n",
    "def save_tiff(path, data):\n",
    "    imsave(path, data, plugin='tifffile')\n",
    "\n",
    "\n",
    "save_tiff(os.path.join(result_dir,'bt_removed_pred.tif'), pred_bt_removed_stitched)\n",
    "save_tiff(os.path.join(result_dir,'dim_pred.tif'), pred_dim_pred_stitched)\n",
    "pred_bt_removed_stitched.shape, pred_bt_removed_stitched.shape"
   ]
  },
  {
   "cell_type": "code",
   "execution_count": 29,
   "metadata": {},
   "outputs": [
    {
     "data": {
      "text/plain": [
       "<matplotlib.legend.Legend at 0x7fb9f6539d60>"
      ]
     },
     "execution_count": 29,
     "metadata": {},
     "output_type": "execute_result"
    },
    {
     "data": {
      "image/png": "[encoded data removed]",
      "text/plain": [
       "<Figure size 800x600 with 1 Axes>"
      ]
     },
     "metadata": {},
     "output_type": "display_data"
    }
   ],
   "source": [
    "import matplotlib.pyplot as plt\n",
    "\n",
    "w = [0.1, 0.2, 0.3, 0.4, 0.5, 0.6, 0.7, 0.8, 0.9]\n",
    "indisplit = [28.1, 30.6, 32.0, 32.9, 33.7,34.9,36.4, 38.9, 42.8 ]\n",
    "deepLC = [20.49, 24.05, 28.14, 32.07, 34.4, 33.75, 32.96, 32.03, 31.22]\n",
    "_,ax = plt.subplots(figsize=(8,6),)\n",
    "ax.plot(w, indisplit, label='IndiSplit', marker='o')\n",
    "ax.plot(w, deepLC, label='DeepLC', marker='o')\n",
    "# add grid\n",
    "ax.grid()\n",
    "# background color\n",
    "ax.set_facecolor('lightgrey')\n",
    "ax.set_ylabel('PSNR', fontsize=15)\n",
    "ax.set_xlabel('Channel Weight', fontsize=15)\n",
    "ax.legend()"
   ]
  },
  {
   "cell_type": "code",
   "execution_count": null,
   "metadata": {},
   "outputs": [],
   "source": []
  }
 ],
 "metadata": {
  "kernelspec": {
   "display_name": "Python 3",
   "language": "python",
   "name": "python3"
  },
  "language_info": {
   "codemirror_mode": {
    "name": "ipython",
    "version": 3
   },
   "file_extension": ".py",
   "mimetype": "text/x-python",
   "name": "python",
   "nbconvert_exporter": "python",
   "pygments_lexer": "ipython3",
   "version": "3.9.19"
  }
 },
 "nbformat": 4,
 "nbformat_minor": 2
}
