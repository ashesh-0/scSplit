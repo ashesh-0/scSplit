{
 "cells": [
  {
   "cell_type": "code",
   "execution_count": 2,
   "id": "030ab2c9",
   "metadata": {},
   "outputs": [],
   "source": [
    "# ckpt = '2502/Hagen-joint_indi-l1/63'\n",
    "# ckpt_time_predictor = '2502/Hagen-UnetClassifier-l2/11'\n",
    "\n",
    "# ckpt = '2507/Hagen-joint_indi-l1/14'\n",
    "training_rootdir = '/group/jug/ashesh/training/diffsplit/'\n"
   ]
  },
  {
   "cell_type": "code",
   "execution_count": 3,
   "id": "6acaefe6",
   "metadata": {},
   "outputs": [],
   "source": [
    "import os\n",
    "import glob\n",
    "\n",
    "def model_checkpoint_fpath(ckpt):\n",
    "    ckpt_dir = os.path.join(training_rootdir, ckpt, 'checkpoint')\n",
    "    list_of_files = glob.glob(ckpt_dir +'/*_gen.pth') # * means all if need specific format then *.csv\n",
    "    latest_file = max(list_of_files, key=os.path.getctime)\n",
    "    # best_files = [f for f in list_of_files if 'best_gen_' in f]\n",
    "    # assert len(best_files) == 1,f'{best_files}'\n",
    "    # best_file = best_files[0]  \n",
    "    fname = latest_file\n",
    "    return os.path.join(ckpt_dir,fname)\n",
    "\n",
    "def model_checkpoint_fpath_prefix(ckpt):\n",
    "    fpath = model_checkpoint_fpath(ckpt)\n",
    "    suffix = '_gen.pth'\n",
    "    assert fpath.endswith(suffix)\n",
    "    return fpath[:-len(suffix)]\n"
   ]
  },
  {
   "cell_type": "code",
   "execution_count": 4,
   "id": "fc0c0f05",
   "metadata": {},
   "outputs": [
    {
     "data": {
      "text/plain": [
       "'/group/jug/ashesh/training/diffsplit/2502/BioSR-joint_indi-l1/5/checkpoint/I380000_E63334_gen.pth'"
      ]
     },
     "execution_count": 4,
     "metadata": {},
     "output_type": "execute_result"
    }
   ],
   "source": [
    "model_checkpoint_fpath('2502/BioSR-joint_indi-l1/5')"
   ]
  },
  {
   "cell_type": "code",
   "execution_count": 5,
   "id": "afa9a6d7",
   "metadata": {},
   "outputs": [
    {
     "data": {
      "text/plain": [
       "'/group/jug/ashesh/training/diffsplit/2502/BioSR-joint_indi-l1/5/checkpoint/I380000_E63334'"
      ]
     },
     "execution_count": 5,
     "metadata": {},
     "output_type": "execute_result"
    }
   ],
   "source": [
    "model_checkpoint_fpath_prefix('2502/BioSR-joint_indi-l1/5')"
   ]
  },
  {
   "cell_type": "code",
   "execution_count": 6,
   "id": "1d3099e7",
   "metadata": {},
   "outputs": [],
   "source": [
    "rootoutputdir = '/group/jug/ashesh/neurips2025/'"
   ]
  },
  {
   "cell_type": "code",
   "execution_count": 7,
   "id": "52bf42a6",
   "metadata": {},
   "outputs": [
    {
     "name": "stdout",
     "output_type": "stream",
     "text": [
      "Copied /group/jug/ashesh/training/diffsplit/2502/Hagen-joint_indi-l1/63/checkpoint/I260000_E1625_gen.pth to /group/jug/ashesh/neurips2025/2502/Hagen-joint_indi-l1/63/checkpoint/I260000_E1625_gen.pth\n",
      "Copied /group/jug/ashesh/training/diffsplit/2502/Hagen-joint_indi-l1/63/wandb/latest-run/files/config.yaml to /group/jug/ashesh/neurips2025/2502/Hagen-joint_indi-l1/63/config.yaml\n"
     ]
    }
   ],
   "source": [
    "ckpt = '2502/Hagen-joint_indi-l1/63'\n",
    "output_subdir = ckpt.strip('/')#.replace('/','_')\n",
    "outputdir = os.path.join(rootoutputdir,output_subdir)\n",
    "os.makedirs(outputdir,exist_ok=True)\n",
    "src_ckpt = model_checkpoint_fpath(ckpt)\n",
    "dst_ckpt = os.path.join(outputdir, 'checkpoint', os.path.basename(src_ckpt))\n",
    "os.makedirs(os.path.dirname(dst_ckpt),exist_ok=True)\n",
    "!cp {src_ckpt} {dst_ckpt}\n",
    "print('Copied', src_ckpt, 'to', dst_ckpt)\n",
    "\n",
    "# also copy the config. \n",
    "# /group/jug/ashesh/training/diffsplit/2502/Hagen-joint_indi-l1/63/wandb/latest-run/files/config.yaml\n",
    "src_cfg = os.path.join(os.path.dirname(os.path.dirname(src_ckpt)), 'wandb/latest-run/files/config.yaml')\n",
    "dst_cfg = os.path.join(outputdir, 'config.yaml')\n",
    "!cp {src_cfg} {dst_cfg}\n",
    "print('Copied', src_cfg, 'to', dst_cfg)"
   ]
  },
  {
   "cell_type": "code",
   "execution_count": null,
   "id": "3d6e1589",
   "metadata": {},
   "outputs": [],
   "source": []
  }
 ],
 "metadata": {
  "kernelspec": {
   "display_name": "usplit_vdi",
   "language": "python",
   "name": "python3"
  },
  "language_info": {
   "codemirror_mode": {
    "name": "ipython",
    "version": 3
   },
   "file_extension": ".py",
   "mimetype": "text/x-python",
   "name": "python",
   "nbconvert_exporter": "python",
   "pygments_lexer": "ipython3",
   "version": "3.9.19"
  }
 },
 "nbformat": 4,
 "nbformat_minor": 5
}
