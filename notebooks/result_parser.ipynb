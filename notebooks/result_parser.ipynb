{
 "cells": [
  {
   "cell_type": "code",
   "execution_count": 10,
   "metadata": {},
   "outputs": [],
   "source": [
    "output = \"\"\"\n",
    "Ckpt: 2502/Hagen-joint_indi-l1/63\n",
    "T:10000 W:0.1 RealInp:False M:10 TPred:False TPredAgg:False TPredFixed:0.5Norm:10000 InfSteps:10000\n",
    "\n",
    "BT Removed: PSNR:\t 33.14+-0.976\t34.16+-0.712\n",
    "BT Removed: MicroSSIM:\t 0.975+-0.0010\t0.980+-0.0020\n",
    "BT Removed: MicroS3IM:\t 0.984+-0.0020\t0.988+-0.0010\n",
    "BT Removed: SSIM:\t 0.966+-0.0020\t0.979+-0.0020\n",
    "BT Removed: MSSSIM:\t 0.974+-0.0020\t0.979+-0.0020\n",
    "BT Removed: lpips:\t 0.029+-0.0020\t0.035+-0.0030\n",
    "\n",
    "Weak Ch Pred: PSNR:\t 21.23+-0.519\t22.49+-0.524\n",
    "Weak Ch Pred: MicroSSIM:\t 0.780+-0.0170\t0.842+-0.0160\n",
    "Weak Ch Pred: MicroS3IM:\t 0.818+-0.0170\t0.837+-0.0190\n",
    "Weak Ch Pred: SSIM:\t 0.799+-0.0180\t0.863+-0.0150\n",
    "Weak Ch Pred: MSSSIM:\t 0.813+-0.0180\t0.839+-0.0180\n",
    "Weak Ch Pred: lpips:\t 0.208+-0.0160\t0.188+-0.0180\n",
    "\n",
    "\n",
    "Ckpt: 2502/Hagen-joint_indi-l1/63\n",
    "T:10000 W:0.2 RealInp:False M:10 TPred:False TPredAgg:False TPredFixed:0.5Norm:10000 InfSteps:10000\n",
    "\n",
    "BT Removed: PSNR:\t 33.37+-0.845\t34.82+-0.693\n",
    "BT Removed: MicroSSIM:\t 0.972+-0.0010\t0.978+-0.0020\n",
    "BT Removed: MicroS3IM:\t 0.981+-0.0020\t0.989+-0.0010\n",
    "BT Removed: SSIM:\t 0.967+-0.0020\t0.980+-0.0020\n",
    "BT Removed: MSSSIM:\t 0.975+-0.0020\t0.983+-0.0020\n",
    "BT Removed: lpips:\t 0.029+-0.0020\t0.035+-0.0030\n",
    "\n",
    "Weak Ch Pred: PSNR:\t 24.68+-0.507\t25.13+-0.641\n",
    "Weak Ch Pred: MicroSSIM:\t 0.860+-0.0110\t0.874+-0.0130\n",
    "Weak Ch Pred: MicroS3IM:\t 0.905+-0.0090\t0.883+-0.0140\n",
    "Weak Ch Pred: SSIM:\t 0.867+-0.0110\t0.889+-0.0120\n",
    "Weak Ch Pred: MSSSIM:\t 0.890+-0.0110\t0.880+-0.0140\n",
    "Weak Ch Pred: lpips:\t 0.116+-0.0090\t0.154+-0.0150\n",
    "\n",
    "\n",
    "Ckpt: 2502/Hagen-joint_indi-l1/63\n",
    "T:10000 W:0.3 RealInp:False M:10 TPred:False TPredAgg:False TPredFixed:0.5Norm:10000 InfSteps:10000\n",
    "\n",
    "BT Removed: PSNR:\t 33.5+-0.749\t35.54+-0.633\n",
    "BT Removed: MicroSSIM:\t 0.969+-0.0020\t0.975+-0.0020\n",
    "BT Removed: MicroS3IM:\t 0.979+-0.0020\t0.989+-0.0010\n",
    "BT Removed: SSIM:\t 0.967+-0.0020\t0.981+-0.0020\n",
    "BT Removed: MSSSIM:\t 0.975+-0.0030\t0.987+-0.0010\n",
    "BT Removed: lpips:\t 0.029+-0.0020\t0.036+-0.0030\n",
    "\n",
    "Weak Ch Pred: PSNR:\t 28.28+-0.519\t28.1+-0.675\n",
    "Weak Ch Pred: MicroSSIM:\t 0.917+-0.0070\t0.909+-0.0100\n",
    "Weak Ch Pred: MicroS3IM:\t 0.950+-0.0050\t0.928+-0.0090\n",
    "Weak Ch Pred: SSIM:\t 0.918+-0.0070\t0.919+-0.0090\n",
    "Weak Ch Pred: MSSSIM:\t 0.941+-0.0060\t0.924+-0.0100\n",
    "Weak Ch Pred: lpips:\t 0.065+-0.0050\t0.115+-0.0110\n",
    "\n",
    "Ckpt: 2502/Hagen-joint_indi-l1/63\n",
    "T:10000 W:0.4 RealInp:False M:10 TPred:False TPredAgg:False TPredFixed:0.5Norm:10000 InfSteps:10000\n",
    "\n",
    "BT Removed: PSNR:\t 34.17+-0.653\t35.68+-0.556\n",
    "BT Removed: MicroSSIM:\t 0.967+-0.0020\t0.970+-0.0030\n",
    "BT Removed: MicroS3IM:\t 0.979+-0.0020\t0.987+-0.0010\n",
    "BT Removed: SSIM:\t 0.965+-0.0020\t0.977+-0.0020\n",
    "BT Removed: MSSSIM:\t 0.978+-0.0020\t0.987+-0.0020\n",
    "BT Removed: lpips:\t 0.027+-0.0020\t0.041+-0.0040\n",
    "\n",
    "Weak Ch Pred: PSNR:\t 31.8+-0.544\t31.57+-0.655\n",
    "Weak Ch Pred: MicroSSIM:\t 0.948+-0.0040\t0.940+-0.0060\n",
    "Weak Ch Pred: MicroS3IM:\t 0.970+-0.0030\t0.962+-0.0050\n",
    "Weak Ch Pred: SSIM:\t 0.947+-0.0040\t0.949+-0.0060\n",
    "Weak Ch Pred: MSSSIM:\t 0.968+-0.0030\t0.961+-0.0050\n",
    "Weak Ch Pred: lpips:\t 0.038+-0.0030\t0.079+-0.0080\n",
    "\n",
    "\n",
    "Ckpt: 2502/Hagen-joint_indi-l1/63\n",
    "T:10000 W:0.5 RealInp:False M:10 TPred:False TPredAgg:False TPredFixed:0.5Norm:10000 InfSteps:10000\n",
    "\n",
    "BT Removed: PSNR:\t 34.27+-0.616\t34.57+-0.575\n",
    "BT Removed: MicroSSIM:\t 0.962+-0.0030\t0.961+-0.0030\n",
    "BT Removed: MicroS3IM:\t 0.978+-0.0020\t0.981+-0.0020\n",
    "BT Removed: SSIM:\t 0.960+-0.0030\t0.969+-0.0030\n",
    "BT Removed: MSSSIM:\t 0.978+-0.0020\t0.981+-0.0020\n",
    "BT Removed: lpips:\t 0.028+-0.0020\t0.054+-0.0050\n",
    "\n",
    "Weak Ch Pred: PSNR:\t 34.32+-0.613\t34.57+-0.568\n",
    "Weak Ch Pred: MicroSSIM:\t 0.962+-0.0030\t0.961+-0.0040\n",
    "Weak Ch Pred: MicroS3IM:\t 0.978+-0.0020\t0.981+-0.0020\n",
    "Weak Ch Pred: SSIM:\t 0.959+-0.0030\t0.969+-0.0030\n",
    "Weak Ch Pred: MSSSIM:\t 0.978+-0.0020\t0.981+-0.0030\n",
    "Weak Ch Pred: lpips:\t 0.028+-0.0020\t0.053+-0.0050\n",
    "\n",
    "\"\"\""
   ]
  },
  {
   "cell_type": "code",
   "execution_count": 11,
   "metadata": {},
   "outputs": [],
   "source": [
    "lines = output.split(\"\\n\")"
   ]
  },
  {
   "cell_type": "code",
   "execution_count": 12,
   "metadata": {},
   "outputs": [
    {
     "name": "stdout",
     "output_type": "stream",
     "text": [
      "PSNR BT Removed: PSNR:\t 33.14+-0.976\t34.16+-0.712\n",
      "SSIM BT Removed: MSSSIM:\t 0.974+-0.0020\t0.979+-0.0020\n",
      "LPIPS BT Removed: lpips:\t 0.029+-0.0020\t0.035+-0.0030\n",
      "Params T:10000 W:0.1 RealInp:False M:10 TPred:False TPredAgg:False TPredFixed:0.5Norm:10000 InfSteps:10000\n"
     ]
    }
   ],
   "source": [
    "psnr_lines = [line for line in lines if \"PSNR:\" in line]\n",
    "ssim_lines = [line for line in lines if \"MSSSIM:\" in line]\n",
    "lpips_lines = [line for line in lines if \"lpips:\" in line]\n",
    "params = [line for line in lines if \"W:\" in line]\n",
    "\n",
    "print(\"PSNR\", psnr_lines[0])\n",
    "print(\"SSIM\", ssim_lines[0])\n",
    "print(\"LPIPS\", lpips_lines[0])\n",
    "print(\"Params\", params[0])"
   ]
  },
  {
   "cell_type": "code",
   "execution_count": 13,
   "metadata": {},
   "outputs": [
    {
     "data": {
      "text/plain": [
       "['T:10000 W:0.1 RealInp:False M:10 TPred:False TPredAgg:False TPredFixed:0.5Norm:10000 InfSteps:10000',\n",
       " 'T:10000 W:0.2 RealInp:False M:10 TPred:False TPredAgg:False TPredFixed:0.5Norm:10000 InfSteps:10000',\n",
       " 'T:10000 W:0.3 RealInp:False M:10 TPred:False TPredAgg:False TPredFixed:0.5Norm:10000 InfSteps:10000',\n",
       " 'T:10000 W:0.4 RealInp:False M:10 TPred:False TPredAgg:False TPredFixed:0.5Norm:10000 InfSteps:10000',\n",
       " 'T:10000 W:0.5 RealInp:False M:10 TPred:False TPredAgg:False TPredFixed:0.5Norm:10000 InfSteps:10000']"
      ]
     },
     "execution_count": 13,
     "metadata": {},
     "output_type": "execute_result"
    }
   ],
   "source": [
    "\n",
    "params"
   ]
  },
  {
   "cell_type": "code",
   "execution_count": 14,
   "metadata": {},
   "outputs": [],
   "source": [
    "def get_mixing(param_str):\n",
    "    tokens = param_str.split(\" \")\n",
    "    for token in tokens:\n",
    "        if \"W:\" in token:\n",
    "            return float(token.split(\":\")[1])\n",
    "\n",
    "\n",
    "def squeeze(tokens):\n",
    "    output_tokens = []\n",
    "    for token in tokens:\n",
    "        if token == \"\":\n",
    "            continue\n",
    "\n",
    "        output_tokens.append(token.strip(\" \"))\n",
    "    return output_tokens\n",
    "\n",
    "def parse_line(line):\n",
    "    bt_or_weak, metric_name, metric_token = line.strip().split(\":\")\n",
    "    assert bt_or_weak in [\"BT Removed\", \"Weak Ch Pred\"]\n",
    "    ch1_token, ch2_token = squeeze(metric_token.split('\\t'))\n",
    "    ch1_val, ch1_se = map(float, ch1_token.split(\"+-\"))\n",
    "    ch2_val, ch2_se = map(float, ch2_token.split(\"+-\"))\n",
    "    return {\n",
    "        'state':bt_or_weak, \n",
    "        'metric_name':metric_name, \n",
    "        'value':[ch1_val, ch2_val], \n",
    "        'se': [ch1_se, ch2_se]\n",
    "    }"
   ]
  },
  {
   "cell_type": "code",
   "execution_count": 15,
   "metadata": {},
   "outputs": [],
   "source": [
    "mixing_values = [get_mixing(param) for param in params]\n",
    "psnr_values = [parse_line(line) for line in psnr_lines]\n",
    "ssim_values = [parse_line(line) for line in ssim_lines]\n",
    "lpips_values = [parse_line(line) for line in lpips_lines]\n",
    "assert 2*len(mixing_values) == len(psnr_values) \n",
    "assert 2*len(mixing_values)== len(ssim_values) \n",
    "assert 2*len(mixing_values)==len(lpips_values)"
   ]
  },
  {
   "cell_type": "code",
   "execution_count": 16,
   "metadata": {},
   "outputs": [],
   "source": [
    "import numpy as np\n",
    "\n",
    "def get_values(value_list, w_list):\n",
    "    ch1_values = []\n",
    "    ch2_values = []\n",
    "    w_extended_list = []\n",
    "    for i in range(len(value_list)):\n",
    "        ch1, ch2 = value_list[i]['value']\n",
    "        ch1_values.append(ch1)\n",
    "        ch2_values.append(ch2)\n",
    "        if value_list[i]['state'] == 'BT Removed':\n",
    "            w_extended_list.append(1 - w_list[i//2])\n",
    "        else:\n",
    "            assert value_list[i]['state'] == 'Weak Ch Pred'\n",
    "            w_extended_list.append(w_list[i//2])\n",
    "        \n",
    "    sorted_tuples = sorted(zip(w_extended_list, ch1_values, ch2_values), key=lambda x: x[0])      \n",
    "    w_extended_list, ch1_values, ch2_values = zip(*sorted_tuples)\n",
    "    # 0.5 occurs twice, so we need to pick the first\n",
    "    w_extended_list = list(w_extended_list)\n",
    "    ch1_values = list(ch1_values)\n",
    "    ch2_values = list(ch2_values)\n",
    "    \n",
    "    assert len(w_extended_list) == 10\n",
    "    assert w_extended_list[4] == 0.5\n",
    "    assert w_extended_list[5] == 0.5\n",
    "    w_extended_list.pop(5)\n",
    "    ch1_values.pop(5)\n",
    "    ch2_values.pop(5)\n",
    "    return w_extended_list, ch1_values, ch2_values\n",
    "    # np.array(ch1_values), np.array(ch2_values), np.array(w_extended_list)"
   ]
  },
  {
   "cell_type": "code",
   "execution_count": 17,
   "metadata": {},
   "outputs": [
    {
     "name": "stdout",
     "output_type": "stream",
     "text": [
      "W [0.1, 0.2, 0.3, 0.4, 0.5, 0.6, 0.7, 0.8, 0.9]\n",
      "PSNR [21.23, 24.68, 28.28, 31.8, 34.27, 34.17, 33.5, 33.37, 33.14] [22.49, 25.13, 28.1, 31.57, 34.57, 35.68, 35.54, 34.82, 34.16]\n",
      "W [0.1, 0.2, 0.3, 0.4, 0.5, 0.6, 0.7, 0.8, 0.9]\n",
      "SSIM [0.813, 0.89, 0.941, 0.968, 0.978, 0.978, 0.975, 0.975, 0.974] [0.839, 0.88, 0.924, 0.961, 0.981, 0.987, 0.987, 0.983, 0.979]\n",
      "W [0.1, 0.2, 0.3, 0.4, 0.5, 0.6, 0.7, 0.8, 0.9]\n",
      "LPIPS [0.208, 0.116, 0.065, 0.038, 0.028, 0.027, 0.029, 0.029, 0.029] [0.188, 0.154, 0.115, 0.079, 0.054, 0.041, 0.036, 0.035, 0.035]\n"
     ]
    }
   ],
   "source": [
    "w_extended_list,ch1_psnr, ch2_psnr = get_values(psnr_values, mixing_values)\n",
    "assert len(w_extended_list) == len(set(w_extended_list)), \"Duplicate values\"\n",
    "\n",
    "print('W', w_extended_list)\n",
    "print('PSNR', ch1_psnr, ch2_psnr)\n",
    "\n",
    "w_extended_list,ch1_ssim, ch2_ssim = get_values(ssim_values, mixing_values)\n",
    "print('W', w_extended_list)\n",
    "print('SSIM', ch1_ssim, ch2_ssim)\n",
    "\n",
    "w_extended_list,ch1_lpips, ch2_lpips = get_values(lpips_values, mixing_values)\n",
    "print('W', w_extended_list)\n",
    "print('LPIPS', ch1_lpips, ch2_lpips)"
   ]
  },
  {
   "cell_type": "markdown",
   "metadata": {},
   "source": [
    "## Grouping in 3"
   ]
  },
  {
   "cell_type": "code",
   "execution_count": 18,
   "metadata": {},
   "outputs": [
    {
     "name": "stdout",
     "output_type": "stream",
     "text": [
      "W [0.9, 0.8, 0.7] [0.6, 0.5, 0.4] [0.3, 0.2, 0.1]\n",
      "PSNR 34.1 33.7 25.0\n",
      "MSSSIM 0.979 0.975 0.881\n",
      "LPIPS 0.032 0.045 0.141\n"
     ]
    }
   ],
   "source": [
    "psnr = (np.array(ch1_psnr) + np.array(ch2_psnr))/2\n",
    "ssim = (np.array(ch1_ssim) + np.array(ch2_ssim))/2\n",
    "lpips = (np.array(ch1_lpips) + np.array(ch2_lpips))/2\n",
    "\n",
    "psnr = psnr[::-1]\n",
    "ssim = ssim[::-1]\n",
    "lpips = lpips[::-1]\n",
    "w_extended_list = w_extended_list[::-1]\n",
    "print('W', w_extended_list[0:3], w_extended_list[3:6], w_extended_list[6:9])\n",
    "print(f'PSNR {psnr[:3].mean():.1f} {psnr[3:6].mean():.1f} {psnr[6:9].mean():.1f}')\n",
    "print(f'MSSSIM {ssim[:3].mean():.3f} {ssim[3:6].mean():.3f} {ssim[6:9].mean():.3f}')\n",
    "print(f'LPIPS {lpips[:3].mean():.3f} {lpips[3:6].mean():.3f} {lpips[6:9].mean():.3f}')\n"
   ]
  },
  {
   "cell_type": "code",
   "execution_count": null,
   "metadata": {},
   "outputs": [],
   "source": []
  },
  {
   "cell_type": "code",
   "execution_count": null,
   "metadata": {},
   "outputs": [],
   "source": []
  }
 ],
 "metadata": {
  "kernelspec": {
   "display_name": "Python 3",
   "language": "python",
   "name": "python3"
  },
  "language_info": {
   "codemirror_mode": {
    "name": "ipython",
    "version": 3
   },
   "file_extension": ".py",
   "mimetype": "text/x-python",
   "name": "python",
   "nbconvert_exporter": "python",
   "pygments_lexer": "ipython3",
   "version": "3.9.19"
  }
 },
 "nbformat": 4,
 "nbformat_minor": 2
}
