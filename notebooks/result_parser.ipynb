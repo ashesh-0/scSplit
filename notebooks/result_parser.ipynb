{
 "cells": [
  {
   "cell_type": "code",
   "execution_count": 14,
   "metadata": {},
   "outputs": [],
   "source": [
    "output = \"\"\"\n",
    "Ckpt: 2502/Hagen-joint_indi-l1/57\n",
    "Classifier: 2502/Hagen-UnetClassifier-l2/8\n",
    "T:1 W:0.1 RealInp:False M:10 TPred:True TPredAgg:False TPredFixed:NoneNorm:50 InfSteps:1\n",
    "\n",
    "BT Removed: PSNR:\t 41.84+-0.708\t44.57+-0.576\n",
    "BT Removed: MicroSSIM:\t 0.989+-0.0010\t0.992+-0.0010\n",
    "BT Removed: MicroS3IM:\t 0.996+-0.0000\t0.998+-0.0000\n",
    "BT Removed: SSIM:\t 0.983+-0.0010\t0.996+-0.0000\n",
    "BT Removed: MSSSIM:\t 0.995+-0.0000\t0.998+-0.0000\n",
    "BT Removed: lpips:\t 0.006+-0.0000\t0.007+-0.0010\n",
    "\n",
    "Weak Ch Pred: PSNR:\t 26.72+-0.78\t25.49+-0.838\n",
    "Weak Ch Pred: MicroSSIM:\t 0.868+-0.0060\t0.855+-0.0070\n",
    "Weak Ch Pred: MicroS3IM:\t 0.920+-0.0040\t0.881+-0.0090\n",
    "Weak Ch Pred: SSIM:\t 0.873+-0.0060\t0.890+-0.0070\n",
    "Weak Ch Pred: MSSSIM:\t 0.920+-0.0040\t0.884+-0.0090\n",
    "Weak Ch Pred: lpips:\t 0.121+-0.0060\t0.187+-0.0120\n",
    "\n",
    "\n",
    "Ckpt: 2502/Hagen-joint_indi-l1/57\n",
    "Classifier: 2502/Hagen-UnetClassifier-l2/8\n",
    "T:1 W:0.2 RealInp:False M:10 TPred:True TPredAgg:False TPredFixed:NoneNorm:50 InfSteps:1\n",
    "\n",
    "BT Removed: PSNR:\t 38.45+-0.646\t41.06+-0.617\n",
    "BT Removed: MicroSSIM:\t 0.986+-0.0010\t0.986+-0.0010\n",
    "BT Removed: MicroS3IM:\t 0.991+-0.0010\t0.995+-0.0010\n",
    "BT Removed: SSIM:\t 0.977+-0.0010\t0.991+-0.0010\n",
    "BT Removed: MSSSIM:\t 0.991+-0.0010\t0.996+-0.0000\n",
    "BT Removed: lpips:\t 0.011+-0.0010\t0.014+-0.0020\n",
    "\n",
    "Weak Ch Pred: PSNR:\t 29.35+-0.653\t27.53+-0.787\n",
    "Weak Ch Pred: MicroSSIM:\t 0.907+-0.0040\t0.876+-0.0060\n",
    "Weak Ch Pred: MicroS3IM:\t 0.952+-0.0020\t0.914+-0.0070\n",
    "Weak Ch Pred: SSIM:\t 0.909+-0.0030\t0.913+-0.0060\n",
    "Weak Ch Pred: MSSSIM:\t 0.952+-0.0020\t0.919+-0.0070\n",
    "Weak Ch Pred: lpips:\t 0.080+-0.0040\t0.155+-0.010\n",
    "\n",
    "Ckpt: 2502/Hagen-joint_indi-l1/57\n",
    "Classifier: 2502/Hagen-UnetClassifier-l2/8\n",
    "T:1 W:0.3 RealInp:False M:10 TPred:True TPredAgg:False TPredFixed:NoneNorm:50 InfSteps:1\n",
    "\n",
    "BT Removed: PSNR:\t 35.89+-0.67\t38.07+-0.618\n",
    "BT Removed: MicroSSIM:\t 0.981+-0.0010\t0.976+-0.0010\n",
    "BT Removed: MicroS3IM:\t 0.986+-0.0010\t0.991+-0.0010\n",
    "BT Removed: SSIM:\t 0.973+-0.0010\t0.984+-0.0010\n",
    "BT Removed: MSSSIM:\t 0.986+-0.0010\t0.992+-0.0010\n",
    "BT Removed: lpips:\t 0.017+-0.0010\t0.026+-0.0030\n",
    "\n",
    "Weak Ch Pred: PSNR:\t 30.97+-0.608\t29.31+-0.739\n",
    "Weak Ch Pred: MicroSSIM:\t 0.932+-0.0030\t0.897+-0.0050\n",
    "Weak Ch Pred: MicroS3IM:\t 0.966+-0.0020\t0.937+-0.0050\n",
    "Weak Ch Pred: SSIM:\t 0.934+-0.0020\t0.931+-0.0050\n",
    "Weak Ch Pred: MSSSIM:\t 0.966+-0.0020\t0.943+-0.0050\n",
    "Weak Ch Pred: lpips:\t 0.054+-0.0030\t0.126+-0.0080\n",
    "\n",
    "Ckpt: 2502/Hagen-joint_indi-l1/57\n",
    "Classifier: 2502/Hagen-UnetClassifier-l2/8\n",
    "T:1 W:0.4 RealInp:False M:10 TPred:True TPredAgg:False TPredFixed:NoneNorm:50 InfSteps:1\n",
    "\n",
    "BT Removed: PSNR:\t 34.14+-0.661\t35.68+-0.633\n",
    "BT Removed: MicroSSIM:\t 0.971+-0.0020\t0.963+-0.0020\n",
    "BT Removed: MicroS3IM:\t 0.981+-0.0010\t0.984+-0.0010\n",
    "BT Removed: SSIM:\t 0.957+-0.0010\t0.975+-0.0020\n",
    "BT Removed: MSSSIM:\t 0.980+-0.0010\t0.986+-0.0010\n",
    "BT Removed: lpips:\t 0.024+-0.0010\t0.044+-0.0040\n",
    "\n",
    "Weak Ch Pred: PSNR:\t 32.02+-0.633\t31.28+-0.687\n",
    "Weak Ch Pred: MicroSSIM:\t 0.948+-0.0030\t0.922+-0.0040\n",
    "Weak Ch Pred: MicroS3IM:\t 0.972+-0.0010\t0.956+-0.0040\n",
    "Weak Ch Pred: SSIM:\t 0.939+-0.0010\t0.948+-0.0040\n",
    "Weak Ch Pred: MSSSIM:\t 0.971+-0.0010\t0.961+-0.0030\n",
    "Weak Ch Pred: lpips:\t 0.040+-0.0020\t0.097+-0.0070\n",
    "\n",
    "Ckpt: 2502/Hagen-joint_indi-l1/57\n",
    "Classifier: 2502/Hagen-UnetClassifier-l2/8\n",
    "T:1 W:0.5 RealInp:False M:10 TPred:True TPredAgg:False TPredFixed:NoneNorm:50 InfSteps:1\n",
    "\n",
    "BT Removed: PSNR:\t 33.05+-0.671\t33.47+-0.655\n",
    "BT Removed: MicroSSIM:\t 0.961+-0.0020\t0.945+-0.0030\n",
    "BT Removed: MicroS3IM:\t 0.977+-0.0010\t0.972+-0.0020\n",
    "BT Removed: SSIM:\t 0.949+-0.0010\t0.963+-0.0030\n",
    "BT Removed: MSSSIM:\t 0.975+-0.0010\t0.975+-0.0020\n",
    "BT Removed: lpips:\t 0.031+-0.0010\t0.070+-0.0060\n",
    "\n",
    "Weak Ch Pred: PSNR:\t 33.03+-0.674\t33.5+-0.657\n",
    "Weak Ch Pred: MicroSSIM:\t 0.961+-0.0020\t0.945+-0.0030\n",
    "Weak Ch Pred: MicroS3IM:\t 0.976+-0.0010\t0.973+-0.0020\n",
    "Weak Ch Pred: SSIM:\t 0.949+-0.0010\t0.963+-0.0030\n",
    "Weak Ch Pred: MSSSIM:\t 0.975+-0.0010\t0.976+-0.0020\n",
    "Weak Ch Pred: lpips:\t 0.031+-0.0010\t0.070+-0.0060\n",
    "\"\"\""
   ]
  },
  {
   "cell_type": "code",
   "execution_count": 15,
   "metadata": {},
   "outputs": [],
   "source": [
    "lines = output.split(\"\\n\")"
   ]
  },
  {
   "cell_type": "code",
   "execution_count": 16,
   "metadata": {},
   "outputs": [
    {
     "name": "stdout",
     "output_type": "stream",
     "text": [
      "PSNR BT Removed: PSNR:\t 41.84+-0.708\t44.57+-0.576\n",
      "SSIM BT Removed: MSSSIM:\t 0.995+-0.0000\t0.998+-0.0000\n",
      "LPIPS BT Removed: lpips:\t 0.006+-0.0000\t0.007+-0.0010\n",
      "Params T:1 W:0.1 RealInp:False M:10 TPred:True TPredAgg:False TPredFixed:NoneNorm:50 InfSteps:1\n"
     ]
    }
   ],
   "source": [
    "psnr_lines = [line for line in lines if \"PSNR:\" in line]\n",
    "ssim_lines = [line for line in lines if \"MSSSIM:\" in line]\n",
    "lpips_lines = [line for line in lines if \"lpips:\" in line]\n",
    "params = [line for line in lines if \"W:\" in line]\n",
    "\n",
    "print(\"PSNR\", psnr_lines[0])\n",
    "print(\"SSIM\", ssim_lines[0])\n",
    "print(\"LPIPS\", lpips_lines[0])\n",
    "print(\"Params\", params[0])"
   ]
  },
  {
   "cell_type": "code",
   "execution_count": 17,
   "metadata": {},
   "outputs": [
    {
     "data": {
      "text/plain": [
       "['T:1 W:0.1 RealInp:False M:10 TPred:True TPredAgg:False TPredFixed:NoneNorm:50 InfSteps:1',\n",
       " 'T:1 W:0.2 RealInp:False M:10 TPred:True TPredAgg:False TPredFixed:NoneNorm:50 InfSteps:1',\n",
       " 'T:1 W:0.3 RealInp:False M:10 TPred:True TPredAgg:False TPredFixed:NoneNorm:50 InfSteps:1',\n",
       " 'T:1 W:0.4 RealInp:False M:10 TPred:True TPredAgg:False TPredFixed:NoneNorm:50 InfSteps:1',\n",
       " 'T:1 W:0.5 RealInp:False M:10 TPred:True TPredAgg:False TPredFixed:NoneNorm:50 InfSteps:1']"
      ]
     },
     "execution_count": 17,
     "metadata": {},
     "output_type": "execute_result"
    }
   ],
   "source": [
    "\n",
    "params"
   ]
  },
  {
   "cell_type": "code",
   "execution_count": 18,
   "metadata": {},
   "outputs": [],
   "source": [
    "def get_mixing(param_str):\n",
    "    tokens = param_str.split(\" \")\n",
    "    for token in tokens:\n",
    "        if \"W:\" in token:\n",
    "            return float(token.split(\":\")[1])\n",
    "\n",
    "\n",
    "def squeeze(tokens):\n",
    "    output_tokens = []\n",
    "    for token in tokens:\n",
    "        if token == \"\":\n",
    "            continue\n",
    "\n",
    "        output_tokens.append(token.strip(\" \"))\n",
    "    return output_tokens\n",
    "\n",
    "def parse_line(line):\n",
    "    bt_or_weak, metric_name, metric_token = line.strip().split(\":\")\n",
    "    assert bt_or_weak in [\"BT Removed\", \"Weak Ch Pred\"]\n",
    "    ch1_token, ch2_token = squeeze(metric_token.split('\\t'))\n",
    "    ch1_val, ch1_se = map(float, ch1_token.split(\"+-\"))\n",
    "    ch2_val, ch2_se = map(float, ch2_token.split(\"+-\"))\n",
    "    return {\n",
    "        'state':bt_or_weak, \n",
    "        'metric_name':metric_name, \n",
    "        'value':[ch1_val, ch2_val], \n",
    "        'se': [ch1_se, ch2_se]\n",
    "    }"
   ]
  },
  {
   "cell_type": "code",
   "execution_count": 19,
   "metadata": {},
   "outputs": [],
   "source": [
    "mixing_values = [get_mixing(param) for param in params]\n",
    "psnr_values = [parse_line(line) for line in psnr_lines]\n",
    "ssim_values = [parse_line(line) for line in ssim_lines]\n",
    "lpips_values = [parse_line(line) for line in lpips_lines]\n",
    "assert 2*len(mixing_values) == len(psnr_values) \n",
    "assert 2*len(mixing_values)== len(ssim_values) \n",
    "assert 2*len(mixing_values)==len(lpips_values)"
   ]
  },
  {
   "cell_type": "code",
   "execution_count": 28,
   "metadata": {},
   "outputs": [],
   "source": [
    "import numpy as np\n",
    "\n",
    "def get_values(value_list, w_list):\n",
    "    ch1_values = []\n",
    "    ch2_values = []\n",
    "    w_extended_list = []\n",
    "    for i in range(len(value_list)):\n",
    "        ch1, ch2 = value_list[i]['value']\n",
    "        ch1_values.append(ch1)\n",
    "        ch2_values.append(ch2)\n",
    "        if value_list[i]['state'] == 'BT Removed':\n",
    "            w_extended_list.append(1 - w_list[i//2])\n",
    "        else:\n",
    "            assert value_list[i]['state'] == 'Weak Ch Pred'\n",
    "            w_extended_list.append(w_list[i//2])\n",
    "        \n",
    "    sorted_tuples = sorted(zip(w_extended_list, ch1_values, ch2_values), key=lambda x: x[0])      \n",
    "    w_extended_list, ch1_values, ch2_values = zip(*sorted_tuples)\n",
    "    # 0.5 occurs twice, so we need to pick the first\n",
    "    w_extended_list = list(w_extended_list)\n",
    "    ch1_values = list(ch1_values)\n",
    "    ch2_values = list(ch2_values)\n",
    "    \n",
    "    assert len(w_extended_list) == 10\n",
    "    assert w_extended_list[4] == 0.5\n",
    "    assert w_extended_list[5] == 0.5\n",
    "    w_extended_list.pop(5)\n",
    "    ch1_values.pop(5)\n",
    "    ch2_values.pop(5)\n",
    "    return w_extended_list, ch1_values, ch2_values\n",
    "    # np.array(ch1_values), np.array(ch2_values), np.array(w_extended_list)"
   ]
  },
  {
   "cell_type": "code",
   "execution_count": 29,
   "metadata": {},
   "outputs": [
    {
     "name": "stdout",
     "output_type": "stream",
     "text": [
      "W [0.1, 0.2, 0.3, 0.4, 0.5, 0.6, 0.7, 0.8, 0.9]\n",
      "PSNR [26.72, 29.35, 30.97, 32.02, 33.05, 34.14, 35.89, 38.45, 41.84] [25.49, 27.53, 29.31, 31.28, 33.47, 35.68, 38.07, 41.06, 44.57]\n",
      "W [0.1, 0.2, 0.3, 0.4, 0.5, 0.6, 0.7, 0.8, 0.9]\n",
      "SSIM [0.92, 0.952, 0.966, 0.971, 0.975, 0.98, 0.986, 0.991, 0.995] [0.884, 0.919, 0.943, 0.961, 0.975, 0.986, 0.992, 0.996, 0.998]\n",
      "W [0.1, 0.2, 0.3, 0.4, 0.5, 0.6, 0.7, 0.8, 0.9]\n",
      "LPIPS [0.121, 0.08, 0.054, 0.04, 0.031, 0.024, 0.017, 0.011, 0.006] [0.187, 0.155, 0.126, 0.097, 0.07, 0.044, 0.026, 0.014, 0.007]\n"
     ]
    }
   ],
   "source": [
    "w_extended_list,ch1_psnr, ch2_psnr = get_values(psnr_values, mixing_values)\n",
    "assert len(w_extended_list) == len(set(w_extended_list)), \"Duplicate values\"\n",
    "\n",
    "print('W', w_extended_list)\n",
    "print('PSNR', ch1_psnr, ch2_psnr)\n",
    "\n",
    "w_extended_list,ch1_ssim, ch2_ssim = get_values(ssim_values, mixing_values)\n",
    "print('W', w_extended_list)\n",
    "print('SSIM', ch1_ssim, ch2_ssim)\n",
    "\n",
    "w_extended_list,ch1_lpips, ch2_lpips = get_values(lpips_values, mixing_values)\n",
    "print('W', w_extended_list)\n",
    "print('LPIPS', ch1_lpips, ch2_lpips)"
   ]
  },
  {
   "cell_type": "markdown",
   "metadata": {},
   "source": [
    "## Grouping in 3"
   ]
  },
  {
   "cell_type": "code",
   "execution_count": 32,
   "metadata": {},
   "outputs": [
    {
     "name": "stdout",
     "output_type": "stream",
     "text": [
      "W [0.9, 0.8, 0.7] [0.6, 0.5, 0.4] [0.3, 0.2, 0.1]\n",
      "PSNR 39.98 33.27 28.23\n",
      "MSSSIM 0.993 0.975 0.931\n",
      "LPIPS 0.013 0.051 0.120\n"
     ]
    }
   ],
   "source": [
    "psnr = (np.array(ch1_psnr) + np.array(ch2_psnr))/2\n",
    "ssim = (np.array(ch1_ssim) + np.array(ch2_ssim))/2\n",
    "lpips = (np.array(ch1_lpips) + np.array(ch2_lpips))/2\n",
    "\n",
    "psnr = psnr[::-1]\n",
    "ssim = ssim[::-1]\n",
    "lpips = lpips[::-1]\n",
    "w_extended_list = w_extended_list[::-1]\n",
    "print('W', w_extended_list[0:3], w_extended_list[3:6], w_extended_list[6:9])\n",
    "print(f'PSNR {psnr[:3].mean():.2f} {psnr[3:6].mean():.2f} {psnr[6:9].mean():.2f}')\n",
    "print(f'MSSSIM {ssim[:3].mean():.3f} {ssim[3:6].mean():.3f} {ssim[6:9].mean():.3f}')\n",
    "print(f'LPIPS {lpips[:3].mean():.3f} {lpips[3:6].mean():.3f} {lpips[6:9].mean():.3f}')\n"
   ]
  }
 ],
 "metadata": {
  "kernelspec": {
   "display_name": "Python 3",
   "language": "python",
   "name": "python3"
  },
  "language_info": {
   "codemirror_mode": {
    "name": "ipython",
    "version": 3
   },
   "file_extension": ".py",
   "mimetype": "text/x-python",
   "name": "python",
   "nbconvert_exporter": "python",
   "pygments_lexer": "ipython3",
   "version": "3.9.19"
  }
 },
 "nbformat": 4,
 "nbformat_minor": 2
}
