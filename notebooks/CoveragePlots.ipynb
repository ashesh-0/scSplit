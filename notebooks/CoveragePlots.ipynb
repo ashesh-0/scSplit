{
 "cells": [
  {
   "cell_type": "code",
   "execution_count": 1,
   "id": "0e2fe59c",
   "metadata": {},
   "outputs": [],
   "source": [
    "import torch.nn as nn"
   ]
  },
  {
   "cell_type": "code",
   "execution_count": 6,
   "id": "f85e9189",
   "metadata": {},
   "outputs": [],
   "source": [
    "import torch\n",
    "x = torch.arange(0, 100).view(2,2,5,5) * 1.0"
   ]
  },
  {
   "cell_type": "code",
   "execution_count": 7,
   "id": "22e93dbd",
   "metadata": {},
   "outputs": [],
   "source": [
    "norm = nn.InstanceNorm2d(2)"
   ]
  },
  {
   "cell_type": "code",
   "execution_count": 8,
   "id": "31cfb6df",
   "metadata": {},
   "outputs": [],
   "source": [
    "y = norm(x)"
   ]
  },
  {
   "cell_type": "code",
   "execution_count": 10,
   "id": "b1ac2c9c",
   "metadata": {},
   "outputs": [
    {
     "data": {
      "text/plain": [
       "(tensor(-9.5367e-09),\n",
       " tensor(4.2915e-08),\n",
       " tensor(3.5763e-07),\n",
       " tensor(1.9073e-07))"
      ]
     },
     "execution_count": 10,
     "metadata": {},
     "output_type": "execute_result"
    }
   ],
   "source": [
    "y[0,0].mean(), y[0,1].mean(), y[1,0].mean(), y[1,1].mean()"
   ]
  },
  {
   "cell_type": "code",
   "execution_count": 11,
   "id": "2fc1c475",
   "metadata": {},
   "outputs": [
    {
     "data": {
      "text/plain": [
       "(tensor(1.0206), tensor(1.0206), tensor(1.0206), tensor(1.0206))"
      ]
     },
     "execution_count": 11,
     "metadata": {},
     "output_type": "execute_result"
    }
   ],
   "source": [
    "y[0,0].std(), y[0,1].std(), y[1,0].std(), y[1,1].std()"
   ]
  },
  {
   "cell_type": "code",
   "execution_count": 12,
   "id": "0c51d875",
   "metadata": {},
   "outputs": [
    {
     "data": {
      "text/plain": [
       "(tensor(12.), tensor(37.), tensor(62.), tensor(87.))"
      ]
     },
     "execution_count": 12,
     "metadata": {},
     "output_type": "execute_result"
    }
   ],
   "source": [
    "x[0,0].mean(), x[0,1].mean(), x[1,0].mean(), x[1,1].mean()"
   ]
  },
  {
   "cell_type": "code",
   "execution_count": null,
   "id": "695a26ea",
   "metadata": {},
   "outputs": [],
   "source": []
  }
 ],
 "metadata": {
  "kernelspec": {
   "display_name": "usplit_vdi",
   "language": "python",
   "name": "python3"
  },
  "language_info": {
   "codemirror_mode": {
    "name": "ipython",
    "version": 3
   },
   "file_extension": ".py",
   "mimetype": "text/x-python",
   "name": "python",
   "nbconvert_exporter": "python",
   "pygments_lexer": "ipython3",
   "version": "3.9.19"
  }
 },
 "nbformat": 4,
 "nbformat_minor": 5
}
