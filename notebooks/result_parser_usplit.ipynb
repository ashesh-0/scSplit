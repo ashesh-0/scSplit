{
 "cells": [
  {
   "cell_type": "code",
   "execution_count": 49,
   "metadata": {},
   "outputs": [],
   "source": [
    "output = \"\"\"\n",
    "PSNR:\t 22.94+-0.566\t41.53+-0.653\n",
    "MicroSSIM:\t 0.619+-0.053\t0.950+-0.022\n",
    "MicroS3IM:\t 0.718+-0.039\t0.990+-0.003\n",
    "SSIM:\t 0.389+-0.016\t0.828+-0.013\n",
    "MSSSIM:\t 0.583+-0.012\t0.909+-0.004\n",
    "lpips:\t 0.479+-0.018\t0.085+-0.007\n",
    "W:0.1 Test_P64_G32_M10_Sk0\n",
    "/group/jug/USERNAME/training/disentangle/2502/D13-M3-S0-L0/11\n",
    "\n",
    "PSNR:\t 27.14+-0.719\t38.89+-0.595\n",
    "MicroSSIM:\t 0.781+-0.037\t0.928+-0.034\n",
    "MicroS3IM:\t 0.862+-0.022\t0.985+-0.004\n",
    "SSIM:\t 0.594+-0.019\t0.893+-0.013\n",
    "MSSSIM:\t 0.758+-0.010\t0.937+-0.003\n",
    "lpips:\t 0.248+-0.014\t0.073+-0.004\n",
    "W:0.2 Test_P64_G32_M10_Sk0\n",
    "/group/jug/USERNAME/training/disentangle/2502/D13-M3-S0-L0/11\n",
    "\n",
    "PSNR:\t 30.53+-0.466\t37.82+-0.368\n",
    "MicroSSIM:\t 0.864+-0.023\t0.909+-0.053\n",
    "MicroS3IM:\t 0.930+-0.009\t0.981+-0.006\n",
    "SSIM:\t 0.747+-0.023\t0.932+-0.020\n",
    "MSSSIM:\t 0.885+-0.006\t0.965+-0.002\n",
    "lpips:\t 0.113+-0.008\t0.042+-0.005\n",
    "W:0.3 Test_P64_G32_M10_Sk0\n",
    "/group/jug/USERNAME/training/disentangle/2502/D13-M3-S0-L0/11\n",
    "\n",
    "PSNR:\t 32.96+-0.197\t36.32+-0.146\n",
    "MicroSSIM:\t 0.910+-0.018\t0.880+-0.063\n",
    "MicroS3IM:\t 0.959+-0.005\t0.973+-0.008\n",
    "SSIM:\t 0.819+-0.024\t0.928+-0.034\n",
    "MSSSIM:\t 0.950+-0.004\t0.979+-0.004\n",
    "lpips:\t 0.052+-0.006\t0.031+-0.005\n",
    "W:0.4 Test_P64_G32_M10_Sk0\n",
    "/group/jug/USERNAME/training/disentangle/2502/D13-M3-S0-L0/11\n",
    "\n",
    "PSNR:\t 34.18+-0.194\t33.82+-0.146\n",
    "MicroSSIM:\t 0.931+-0.013\t0.840+-0.069\n",
    "MicroS3IM:\t 0.967+-0.002\t0.957+-0.010\n",
    "SSIM:\t 0.839+-0.024\t0.894+-0.043\n",
    "MSSSIM:\t 0.968+-0.002\t0.973+-0.006\n",
    "lpips:\t 0.032+-0.004\t0.045+-0.007\n",
    "W:0.5 Test_P64_G32_M10_Sk0\n",
    "/group/jug/USERNAME/training/disentangle/2502/D13-M3-S0-L0/11\n",
    "\n",
    "PSNR:\t 35.07+-0.239\t31.11+-0.149\n",
    "MicroSSIM:\t 0.943+-0.010\t0.792+-0.072\n",
    "MicroS3IM:\t 0.971+-0.002\t0.929+-0.013\n",
    "SSIM:\t 0.833+-0.022\t0.838+-0.046\n",
    "MSSSIM:\t 0.958+-0.001\t0.941+-0.007\n",
    "lpips:\t 0.032+-0.002\t0.080+-0.011\n",
    "W:0.6 Test_P64_G32_M10_Sk0\n",
    "/group/jug/USERNAME/training/disentangle/2502/D13-M3-S0-L0/11\n",
    "\n",
    "PSNR:\t 35.73+-0.228\t28.18+-0.182\n",
    "MicroSSIM:\t 0.953+-0.006\t0.730+-0.073\n",
    "MicroS3IM:\t 0.974+-0.001\t0.882+-0.014\n",
    "SSIM:\t 0.812+-0.019\t0.756+-0.040\n",
    "MSSSIM:\t 0.933+-0.001\t0.871+-0.005\n",
    "lpips:\t 0.044+-0.003\t0.146+-0.014\n",
    "W:0.7 Test_P64_G32_M10_Sk0\n",
    "/group/jug/USERNAME/training/disentangle/2502/D13-M3-S0-L0/11\n",
    "\n",
    "PSNR:\t 36.49+-0.143\t25.01+-0.5\n",
    "MicroSSIM:\t 0.964+-0.003\t0.644+-0.066\n",
    "MicroS3IM:\t 0.977+-0.001\t0.781+-0.011\n",
    "SSIM:\t 0.789+-0.013\t0.652+-0.030\n",
    "MSSSIM:\t 0.899+-0.003\t0.749+-0.007\n",
    "lpips:\t 0.062+-0.004\t0.260+-0.015\n",
    "W:0.8 Test_P64_G32_M10_Sk0\n",
    "/group/jug/USERNAME/training/disentangle/2502/D13-M3-S0-L0/11\n",
    "\n",
    "PSNR:\t 38.23+-0.145\t21.74+-1.079\n",
    "MicroSSIM:\t 0.977+-0.001\t0.544+-0.041\n",
    "MicroS3IM:\t 0.985+-0.001\t0.593+-0.024\n",
    "SSIM:\t 0.783+-0.007\t0.556+-0.029\n",
    "MSSSIM:\t 0.866+-0.005\t0.600+-0.030\n",
    "lpips:\t 0.084+-0.005\t0.458+-0.023\n",
    "W:0.9 Test_P64_G32_M10_Sk0\n",
    "/group/jug/USERNAME/training/disentangle/2502/D13-M3-S0-L0/11\n",
    "\"\"\""
   ]
  },
  {
   "cell_type": "code",
   "execution_count": 50,
   "metadata": {},
   "outputs": [],
   "source": [
    "lines = output.split(\"\\n\")"
   ]
  },
  {
   "cell_type": "code",
   "execution_count": 51,
   "metadata": {},
   "outputs": [
    {
     "name": "stdout",
     "output_type": "stream",
     "text": [
      "PSNR PSNR:\t 22.94+-0.566\t41.53+-0.653\n",
      "SSIM MSSSIM:\t 0.583+-0.012\t0.909+-0.004\n",
      "LPIPS lpips:\t 0.479+-0.018\t0.085+-0.007\n",
      "Params W:0.1 Test_P64_G32_M10_Sk0\n"
     ]
    }
   ],
   "source": [
    "psnr_lines = [line for line in lines if \"PSNR:\" in line]\n",
    "ssim_lines = [line for line in lines if \"MSSSIM:\" in line]\n",
    "lpips_lines = [line for line in lines if \"lpips:\" in line]\n",
    "params = [line for line in lines if \"W:\" in line]\n",
    "\n",
    "print(\"PSNR\", psnr_lines[0])\n",
    "print(\"SSIM\", ssim_lines[0])\n",
    "print(\"LPIPS\", lpips_lines[0])\n",
    "print(\"Params\", params[0])"
   ]
  },
  {
   "cell_type": "code",
   "execution_count": 52,
   "metadata": {},
   "outputs": [
    {
     "data": {
      "text/plain": [
       "['PSNR:', ' 22.94+-0.566', '41.53+-0.653']"
      ]
     },
     "execution_count": 52,
     "metadata": {},
     "output_type": "execute_result"
    }
   ],
   "source": [
    "(psnr_lines[0].split('\\t'))"
   ]
  },
  {
   "cell_type": "code",
   "execution_count": 53,
   "metadata": {},
   "outputs": [],
   "source": [
    "def get_mixing(param_str):\n",
    "    tokens = param_str.split(\" \")\n",
    "    for token in tokens:\n",
    "        if \"W:\" in token:\n",
    "            return float(token.split(\":\")[1])\n",
    "\n",
    "\n",
    "def squeeze(tokens):\n",
    "    output_tokens = []\n",
    "    for token in tokens:\n",
    "        if token == \"\":\n",
    "            continue\n",
    "\n",
    "        output_tokens.append(token.strip(\" \"))\n",
    "    return output_tokens\n",
    "\n",
    "def parse_line(line):\n",
    "    \"\"\"\n",
    "    MSSSIM:\t 0.772+-0.022\t0.976+-0.003\n",
    "    \"\"\"\n",
    "    metric_name, ch1_token, ch2_token = squeeze(line.strip().split(\"\\t\"))\n",
    "    ch1_val, ch1_se = map(float, ch1_token.split(\"+-\"))\n",
    "    ch2_val, ch2_se = map(float, ch2_token.split(\"+-\"))\n",
    "    return {\n",
    "        'metric_name':metric_name, \n",
    "        'value':[ch1_val, ch2_val], \n",
    "        'se': [ch1_se, ch2_se]\n",
    "    }"
   ]
  },
  {
   "cell_type": "code",
   "execution_count": 54,
   "metadata": {},
   "outputs": [],
   "source": [
    "mixing_values = [get_mixing(param) for param in params]\n",
    "psnr_values = [parse_line(line) for line in psnr_lines]\n",
    "ssim_values = [parse_line(line) for line in ssim_lines]\n",
    "lpips_values = [parse_line(line) for line in lpips_lines]\n",
    "assert len(mixing_values) == len(psnr_values) \n",
    "assert len(mixing_values)== len(ssim_values) \n",
    "assert len(mixing_values)==len(lpips_values)"
   ]
  },
  {
   "cell_type": "code",
   "execution_count": 55,
   "metadata": {},
   "outputs": [],
   "source": [
    "import numpy as np\n",
    "\n",
    "def get_values(value_list, w_list):\n",
    "    ch1_values = [value_list[i]['value'][0] for i in range(len(value_list))]\n",
    "    ch2_values = [value_list[i]['value'][1] for i in range(len(value_list))]\n",
    "    ch2_values = ch2_values[::-1]\n",
    "    return w_list, ch1_values, ch2_values\n",
    "    # np.array(ch1_values), np.array(ch2_values), np.array(w_extended_list)"
   ]
  },
  {
   "cell_type": "code",
   "execution_count": 56,
   "metadata": {},
   "outputs": [
    {
     "name": "stdout",
     "output_type": "stream",
     "text": [
      "W [0.1, 0.2, 0.3, 0.4, 0.5, 0.6, 0.7, 0.8, 0.9]\n",
      "PSNR [22.94, 27.14, 30.53, 32.96, 34.18, 35.07, 35.73, 36.49, 38.23] [21.74, 25.01, 28.18, 31.11, 33.82, 36.32, 37.82, 38.89, 41.53]\n",
      "W [0.1, 0.2, 0.3, 0.4, 0.5, 0.6, 0.7, 0.8, 0.9]\n",
      "SSIM [0.583, 0.758, 0.885, 0.95, 0.968, 0.958, 0.933, 0.899, 0.866] [0.6, 0.749, 0.871, 0.941, 0.973, 0.979, 0.965, 0.937, 0.909]\n",
      "W [0.1, 0.2, 0.3, 0.4, 0.5, 0.6, 0.7, 0.8, 0.9]\n",
      "LPIPS [0.479, 0.248, 0.113, 0.052, 0.032, 0.032, 0.044, 0.062, 0.084] [0.458, 0.26, 0.146, 0.08, 0.045, 0.031, 0.042, 0.073, 0.085]\n"
     ]
    }
   ],
   "source": [
    "w_extended_list,ch1_psnr, ch2_psnr = get_values(psnr_values, mixing_values)\n",
    "assert len(w_extended_list) == len(set(w_extended_list)), \"Duplicate values\"\n",
    "\n",
    "print('W', w_extended_list)\n",
    "print('PSNR', ch1_psnr, ch2_psnr)\n",
    "\n",
    "w_extended_list,ch1_ssim, ch2_ssim = get_values(ssim_values, mixing_values)\n",
    "print('W', w_extended_list)\n",
    "print('SSIM', ch1_ssim, ch2_ssim)\n",
    "\n",
    "w_extended_list,ch1_lpips, ch2_lpips = get_values(lpips_values, mixing_values)\n",
    "print('W', w_extended_list)\n",
    "print('LPIPS', ch1_lpips, ch2_lpips)"
   ]
  },
  {
   "cell_type": "markdown",
   "metadata": {},
   "source": [
    "## Grouping in 3"
   ]
  },
  {
   "cell_type": "code",
   "execution_count": 57,
   "metadata": {},
   "outputs": [
    {
     "name": "stdout",
     "output_type": "stream",
     "text": [
      "W [0.9, 0.8, 0.7] [0.6, 0.5, 0.4] [0.3, 0.2, 0.1]\n",
      "PSNR 38.1 33.9 25.9\n",
      "MSSSIM 0.918 0.962 0.741\n",
      "LPIPS 0.065 0.045 0.284\n"
     ]
    }
   ],
   "source": [
    "psnr = (np.array(ch1_psnr) + np.array(ch2_psnr))/2\n",
    "ssim = (np.array(ch1_ssim) + np.array(ch2_ssim))/2\n",
    "lpips = (np.array(ch1_lpips) + np.array(ch2_lpips))/2\n",
    "\n",
    "psnr = psnr[::-1]\n",
    "ssim = ssim[::-1]\n",
    "lpips = lpips[::-1]\n",
    "w_extended_list = w_extended_list[::-1]\n",
    "print('W', w_extended_list[0:3], w_extended_list[3:6], w_extended_list[6:9])\n",
    "print(f'PSNR {psnr[:3].mean():.1f} {psnr[3:6].mean():.1f} {psnr[6:9].mean():.1f}')\n",
    "print(f'MSSSIM {ssim[:3].mean():.3f} {ssim[3:6].mean():.3f} {ssim[6:9].mean():.3f}')\n",
    "print(f'LPIPS {lpips[:3].mean():.3f} {lpips[3:6].mean():.3f} {lpips[6:9].mean():.3f}')\n"
   ]
  },
  {
   "cell_type": "code",
   "execution_count": 48,
   "metadata": {},
   "outputs": [
    {
     "data": {
      "text/plain": [
       "([21.08, 22.98, 25.47, 28.14, 30.37, 31.69, 32.22, 32.39, 32.38],\n",
       " [19.85, 20.47, 21.21, 22.0, 22.53, 22.66, 22.47, 22.32, 22.23])"
      ]
     },
     "execution_count": 48,
     "metadata": {},
     "output_type": "execute_result"
    }
   ],
   "source": [
    "ch1_psnr,ch2_psnr"
   ]
  },
  {
   "cell_type": "code",
   "execution_count": null,
   "metadata": {},
   "outputs": [],
   "source": []
  },
  {
   "cell_type": "code",
   "execution_count": null,
   "metadata": {},
   "outputs": [],
   "source": []
  }
 ],
 "metadata": {
  "kernelspec": {
   "display_name": "Python 3",
   "language": "python",
   "name": "python3"
  },
  "language_info": {
   "codemirror_mode": {
    "name": "ipython",
    "version": 3
   },
   "file_extension": ".py",
   "mimetype": "text/x-python",
   "name": "python",
   "nbconvert_exporter": "python",
   "pygments_lexer": "ipython3",
   "version": "3.9.19"
  }
 },
 "nbformat": 4,
 "nbformat_minor": 2
}
