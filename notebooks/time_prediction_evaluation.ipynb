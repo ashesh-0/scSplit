{
 "cells": [
  {
   "cell_type": "code",
   "execution_count": 1,
   "metadata": {},
   "outputs": [],
   "source": [
    "import sys\n",
    "sys.path.append('..')"
   ]
  },
  {
   "cell_type": "code",
   "execution_count": 2,
   "metadata": {},
   "outputs": [],
   "source": [
    "# ckpt = '2501/COSEM_jrc-hela-UnetClassifier-l2/3/'\n",
    "# ckpt = '2501/COSEM_jrc-hela-UnetClassifier-l2/6'\n",
    "ckpt = '2502/Hagen-UnetClassifier-l2/3'\n",
    "evaluate_test_data = True\n",
    "\n",
    "training_rootdir = '/group/jug/ashesh/training/diffsplit/'"
   ]
  },
  {
   "cell_type": "code",
   "execution_count": 3,
   "metadata": {},
   "outputs": [],
   "source": [
    "import yaml\n",
    "import os\n",
    "import glob\n",
    "import torch\n",
    "\n",
    "def model_checkpoint_fpath(ckpt, fname=None):\n",
    "    ckpt_dir = os.path.join(training_rootdir, ckpt, 'checkpoint')\n",
    "    if fname is not None:\n",
    "        return os.path.join(training_rootdir, ckpt, fname)\n",
    "    else:\n",
    "        list_of_files = glob.glob(ckpt_dir +'/*_gen.pth') # * means all if need specific format then *.csv\n",
    "        latest_file = max(list_of_files, key=os.path.getctime)\n",
    "        fname = latest_file\n",
    "        return os.path.join(ckpt_dir,latest_file)\n",
    "\n",
    "def model_checkpoint_fpath_prefix(ckpt, fname=None):\n",
    "    fpath = model_checkpoint_fpath(ckpt, fname)\n",
    "    suffix = '_gen.pth'\n",
    "    assert fpath.endswith(suffix)\n",
    "    return fpath[:-len(suffix)]\n",
    "\n",
    "def load_config(ckpt):\n",
    "    config_path = os.path.join(training_rootdir,ckpt,'wandb/latest-run/files/config.yaml')\n",
    "\n",
    "    with open(config_path) as stream:\n",
    "        try:\n",
    "            opt = yaml.safe_load(stream)\n",
    "        except yaml.YAMLError as exc:\n",
    "            print(exc)\n",
    "    \n",
    "    keys = [\"name\",\"phase\",\"gpu_ids\",\"path\",\"datasets\",\"model\",\"train\"]\n",
    "    return {k: opt[k]['value'] for k in keys}"
   ]
  },
  {
   "cell_type": "code",
   "execution_count": 4,
   "metadata": {},
   "outputs": [
    {
     "name": "stderr",
     "output_type": "stream",
     "text": [
      "INFO:albumentations.check_version:A new version of Albumentations is available: 2.0.3 (you have 1.4.7). Upgrade using: pip install --upgrade albumentations\n"
     ]
    },
    {
     "name": "stdout",
     "output_type": "stream",
     "text": [
      "TimePredictor\n",
      "HARDCODED upperclip to 1993. Disable it if not needed !!!\n",
      "[TimePredictorDataset] Data: 80x2x(2048, 2048) Patch:512 Random:1 Aug:True Q:1.0 UpperClip:0Uncor:False ChW:[1.0, 1.0]\n",
      "Adding Gaussian noise with std factor:  0.05\n",
      "HARDCODED upperclip to 1993. Disable it if not needed !!!\n",
      "[TimePredictorDataset] Data: 10x2x(2048, 2048) Patch:512 Random:0 Aug:False Q:1.0 UpperClip:0Uncor:False ChW:[1.0, 1.0]\n"
     ]
    }
   ],
   "source": [
    "from model.ddpm_modules.time_predictor import TimePredictor\n",
    "from time_prediction_training import get_datasets\n",
    "import os\n",
    "\n",
    "classifier_ckpt = os.path.join(training_rootdir, ckpt)\n",
    "\n",
    "opt = load_config(classifier_ckpt)\n",
    "model_opt = opt['model']\n",
    "model = TimePredictor(\n",
    "    in_channel=model_opt['unet']['in_channel'],\n",
    "    out_channel=model_opt['unet']['out_channel'],\n",
    "    norm_groups=model_opt['unet']['norm_groups'],\n",
    "    inner_channel=model_opt['unet']['inner_channel'],\n",
    "    channel_mults=model_opt['unet']['channel_multiplier'],\n",
    "    attn_res=model_opt['unet']['attn_res'],\n",
    "    res_blocks=model_opt['unet']['res_blocks'],\n",
    "    dropout=model_opt['unet']['dropout'],\n",
    "    image_size=opt['datasets']['patch_size'],\n",
    "    )\n",
    "model = model.cuda()\n",
    "model.load_state_dict(torch.load(os.path.join(classifier_ckpt,'best_time_predictor.pth')), strict=True)\n",
    "\n",
    "\n",
    "# loading dataset.\n",
    "if evaluate_test_data:\n",
    "    if opt['datasets']['train']['name'] == 'Hagen':\n",
    "        opt['datasets']['val']['datapath'] = {\n",
    "        'ch0': '/group/jug/ashesh/data/diffsplit_hagen/test/test_actin-60x-noise2-highsnr.tif',\n",
    "        'ch1': '/group/jug/ashesh/data/diffsplit_hagen/test/test_mito-60x-noise2-highsnr.tif'\n",
    "        }\n",
    "    elif opt['datasets']['train']['name'] == 'COSEM_jrc-hela':\n",
    "        opt['datasets']['val']['datapath'] = \"/group/jug/ashesh/bleedthroughsimulation/jrc_hela-3/train-val-test-split/test_jrc_hela-3_bleedthrough_EGFP_Venus_R3.0_S4_D1_Ex100.0ms.tif\"\n",
    "    else:\n",
    "        raise NotImplementedError(f'{opt[\"datasets\"][\"train\"][\"name\"]} not implemented')\n",
    "\n",
    "if 'patch_size' not in opt['datasets']:\n",
    "    opt['datasets']['patch_size']  = opt['datasets']['train']['patch_size']\n",
    "\n",
    "if 'max_qval' not in opt['datasets']:\n",
    "    opt['datasets']['max_qval']  = 0.98\n",
    "\n",
    "if 'uncorrelated_channels' not in opt['datasets']['train']:\n",
    "    opt['datasets']['train']['uncorrelated_channels']  = False\n",
    "\n",
    "\n",
    "\n",
    "# data\n",
    "train_set, val_set = get_datasets(opt, tiled_pred=False)\n"
   ]
  },
  {
   "cell_type": "code",
   "execution_count": 5,
   "metadata": {},
   "outputs": [
    {
     "name": "stderr",
     "output_type": "stream",
     "text": [
      "100%|██████████| 20/20 [04:19<00:00, 12.97s/it]\n"
     ]
    }
   ],
   "source": [
    "from model.normalizer import NormalizerXT\n",
    "from tqdm import tqdm \n",
    "data_mean_arr = []\n",
    "data_std_arr = []\n",
    "train_loader = torch.utils.data.DataLoader(train_set, batch_size=16, shuffle=True, num_workers=0)\n",
    "xt_normalizer = NormalizerXT()\n",
    "normalizer_count = 20\n",
    "for _ in tqdm(range(normalizer_count)):\n",
    "    bar = enumerate(train_loader)\n",
    "    for i, (x, t_float) in bar:\n",
    "        x = x.cuda()\n",
    "        t_float = t_float.cuda()\n",
    "        x = xt_normalizer.normalize(x,t_float, update=True)\n",
    "        data_mean_arr.append(xt_normalizer.data_mean.cpu().numpy())\n",
    "        data_std_arr.append(xt_normalizer.data_std.cpu().numpy())\n",
    "# num_timesteps = 100\n",
    "# input_normalization_dict = compute_input_normalization_dict(val_set._data_dict, num_timesteps, val_set._mean_target, val_set._std_target)"
   ]
  },
  {
   "cell_type": "code",
   "execution_count": 9,
   "metadata": {},
   "outputs": [
    {
     "data": {
      "text/plain": [
       "tensor([1.6217e-01, 9.0846e-01, 3.6924e-01, 8.5249e-01, 2.0391e-01, 9.2691e-01,\n",
       "        1.0375e-01, 5.7447e-01, 2.1426e-01, 3.0060e-02, 6.2326e-02, 4.9625e-01,\n",
       "        7.2652e-01, 7.1068e-01, 2.8081e-04, 9.5315e-01], device='cuda:0',\n",
       "       dtype=torch.float64)"
      ]
     },
     "execution_count": 9,
     "metadata": {},
     "output_type": "execute_result"
    }
   ],
   "source": [
    "t_float"
   ]
  },
  {
   "cell_type": "code",
   "execution_count": null,
   "metadata": {},
   "outputs": [],
   "source": []
  },
  {
   "cell_type": "code",
   "execution_count": 7,
   "metadata": {},
   "outputs": [
    {
     "data": {
      "text/plain": [
       "[<matplotlib.lines.Line2D at 0x7ff891455a60>]"
      ]
     },
     "execution_count": 7,
     "metadata": {},
     "output_type": "execute_result"
    },
    {
     "data": {
      "image/png": "[encoded data removed]",
      "text/plain": [
       "<Figure size 640x480 with 1 Axes>"
      ]
     },
     "metadata": {},
     "output_type": "display_data"
    }
   ],
   "source": [
    "import numpy as np\n",
    "import matplotlib.pyplot as plt\n",
    "plt.plot(np.stack(data_mean_arr)[:,50])"
   ]
  },
  {
   "cell_type": "code",
   "execution_count": 6,
   "metadata": {},
   "outputs": [
    {
     "data": {
      "text/plain": [
       "(tensor([0., 0., 0., 0., 0., 0., 0., 0., 0., 0., 0., 0., 0., 0., 0., 0., 0., 0., 0., 0., 0., 0., 0., 0.,\n",
       "         0., 0., 0., 0., 0., 0., 0., 0., 0., 0., 0., 0., 0., 0., 0., 0., 0., 0., 0., 0., 0., 0., 0., 0.,\n",
       "         0., 0., 0., 0., 0., 0., 0., 0., 0., 0., 0., 0., 0., 0., 0., 0., 0., 0., 0., 0., 0., 0., 0., 0.,\n",
       "         0., 0., 0., 0., 0., 0., 0., 0., 0., 0., 0., 0., 0., 0., 0., 0., 0., 0., 0., 0., 0., 0., 0., 0.,\n",
       "         0., 0., 0., 0.], device='cuda:0'),\n",
       " tensor([1., 1., 1., 1., 1., 1., 1., 1., 1., 1., 1., 1., 1., 1., 1., 1., 1., 1.,\n",
       "         1., 1., 1., 1., 1., 1., 1., 1., 1., 1., 1., 1., 1., 1., 1., 1., 1., 1.,\n",
       "         1., 1., 1., 1., 1., 1., 1., 1., 1., 1., 1., 1., 1., 1., 1., 1., 1., 1.,\n",
       "         1., 1., 1., 1., 1., 1., 1., 1., 1., 1., 1., 1., 1., 1., 1., 1., 1., 1.,\n",
       "         1., 1., 1., 1., 1., 1., 1., 1., 1., 1., 1., 1., 1., 1., 1., 1., 1., 1.,\n",
       "         1., 1., 1., 1., 1., 1., 1., 1., 1., 1.], device='cuda:0'))"
      ]
     },
     "execution_count": 6,
     "metadata": {},
     "output_type": "execute_result"
    }
   ],
   "source": [
    "xt_normalizer.data_mean, xt_normalizer.data_std"
   ]
  },
  {
   "cell_type": "code",
   "execution_count": 7,
   "metadata": {},
   "outputs": [
    {
     "name": "stderr",
     "output_type": "stream",
     "text": [
      "  0%|          | 0/80 [00:00<?, ?it/s]"
     ]
    },
    {
     "name": "stderr",
     "output_type": "stream",
     "text": [
      "100%|██████████| 80/80 [03:07<00:00,  2.35s/it]\n"
     ]
    }
   ],
   "source": [
    "from tqdm import tqdm\n",
    "import numpy as np\n",
    "\n",
    "num_timesteps = 80\n",
    "gt = np.arange(0,1.0,1/num_timesteps)\n",
    "pred_arr = []\n",
    "inp_arr = []\n",
    "# mean_inp = -0.7193205 \n",
    "# std_inp = 0.18258347\n",
    "# def normalize(inp):\n",
    "#     return 2*(inp - inp_min)/(inp_max-inp_min) - 1\n",
    "# def min_max_normalize(img, t_int):\n",
    "#     t_min, t_max = input_normalization_dict[t_int]\n",
    "#     return 2*(img - t_min)/(t_max - t_min) -1\n",
    "for mixing_t in tqdm(gt):\n",
    "    val_set.set_fixed_t(mixing_t)\n",
    "    dloader = torch.utils.data.DataLoader(\n",
    "                val_set,\n",
    "                batch_size=16,\n",
    "                shuffle=False,\n",
    "                num_workers=2,\n",
    "                pin_memory=True)\n",
    "    for data in dloader:\n",
    "        inp, t_float = data\n",
    "        assert torch.std(t_float) < 1e-6, f'{t_float}'\n",
    "        assert t_float[0] == mixing_t, f'{t_float} != {mixing_t}'\n",
    "        inp = inp.cuda()\n",
    "        t_float = t_float.cuda()\n",
    "        inp = xt_normalizer.normalize(inp, t_float)\n",
    "        inp_arr.append(inp.cpu().numpy())\n",
    "        with torch.no_grad():\n",
    "            pred = model(inp.cuda())\n",
    "            pred_arr.append(pred.cpu().numpy())\n",
    "all_pred = np.concatenate(pred_arr).reshape(len(gt),-1)\n",
    "inp_arr = np.concatenate(inp_arr,axis=0)\n"
   ]
  },
  {
   "cell_type": "code",
   "execution_count": 8,
   "metadata": {},
   "outputs": [],
   "source": [
    "all_pred = np.concatenate(pred_arr).reshape(len(gt),-1)\n",
    "inp_arr = np.concatenate(inp_arr,axis=0)\n"
   ]
  },
  {
   "cell_type": "code",
   "execution_count": 9,
   "metadata": {},
   "outputs": [
    {
     "name": "stderr",
     "output_type": "stream",
     "text": [
      "/tmp/ipykernel_21544/2798052624.py:8: UserWarning: color is redundantly defined by the 'color' keyword argument and the fmt string \"k--\" (-> color='k'). The keyword argument will take precedence.\n",
      "  ax.plot(gt,gt, 'k--', color='black')\n"
     ]
    },
    {
     "data": {
      "image/png": "[encoded data removed]",
      "text/plain": [
       "<Figure size 640x480 with 1 Axes>"
      ]
     },
     "metadata": {},
     "output_type": "display_data"
    }
   ],
   "source": [
    "import matplotlib.pyplot as plt\n",
    "\n",
    "err = all_pred.std(axis=1)\n",
    "avg_pred = all_pred.mean(axis=1)\n",
    "_,ax  = plt.subplots()\n",
    "# plot with error bars\n",
    "ax.errorbar(gt, avg_pred, yerr=err, fmt='o')\n",
    "ax.plot(gt,gt, 'k--', color='black')\n",
    "ax.set_xlabel('Ground Truth', fontsize=15)\n",
    "ax.set_ylabel('Predicted', fontsize=15)\n",
    "ax.grid()"
   ]
  },
  {
   "cell_type": "code",
   "execution_count": 10,
   "metadata": {},
   "outputs": [
    {
     "name": "stdout",
     "output_type": "stream",
     "text": [
      "Hagen Test NormCount:20 RMSE: 0.11162947901762457\n"
     ]
    }
   ],
   "source": [
    "mse = ((all_pred - gt.reshape(-1,1))**2).mean(axis=1)\n",
    "dataset_str = opt['datasets']['train']['name']\n",
    "dataset_str += ' Test' if evaluate_test_data else ' Val'\n",
    "print(f'{dataset_str} NormCount:{normalizer_count} RMSE: {np.sqrt(mse.mean())}')"
   ]
  },
  {
   "cell_type": "code",
   "execution_count": 11,
   "metadata": {},
   "outputs": [
    {
     "name": "stdout",
     "output_type": "stream",
     "text": [
      "COSEM_jrc-hela Test NormCount:20 RMSE wrt Aggregated (mean) prediction: 0.07338385015379031\n",
      "COSEM_jrc-hela Test NormCount:20 RMSE wrt Aggregated (median) prediction: 0.08459480328758699\n"
     ]
    }
   ],
   "source": [
    "mse_mean = ((np.mean(all_pred, axis=1) - gt)**2).mean()\n",
    "mse_median = ((np.median(all_pred, axis=1) - gt)**2).mean()\n",
    "print(f'{dataset_str} NormCount:{normalizer_count} RMSE wrt Aggregated (mean) prediction: {np.sqrt(mse_mean)}')\n",
    "print(f'{dataset_str} NormCount:{normalizer_count} RMSE wrt Aggregated (median) prediction: {np.sqrt(mse_median)}')"
   ]
  },
  {
   "cell_type": "code",
   "execution_count": 12,
   "metadata": {},
   "outputs": [
    {
     "data": {
      "text/plain": [
       "96"
      ]
     },
     "execution_count": 12,
     "metadata": {},
     "output_type": "execute_result"
    }
   ],
   "source": [
    "len(train_set._data_dict[0])"
   ]
  },
  {
   "cell_type": "code",
   "execution_count": 13,
   "metadata": {},
   "outputs": [],
   "source": [
    "# Test dataset\n",
    "\n",
    "# 1 RMSE: 0.18584609868369045\n",
    "# 10 COSEM_jrc-hela Test NormCount:10 RMSE: 0.11467985740375906\n",
    "# 20 COSEM_jrc-hela Test NormCount:20 RMSE: 0.10733180019946625\n",
    "# COSEM_jrc-hela Test NormCount:50 RMSE: 0.10229460707714132\n"
   ]
  },
  {
   "cell_type": "code",
   "execution_count": 14,
   "metadata": {},
   "outputs": [],
   "source": [
    "# COSEM_jrc-hela Test NormCount:50 RMSE: 0.10632874237278825\n",
    "# COSEM_jrc-hela Test NormCount:20 RMSE: 0.11445337831205459\n",
    "# COSEM_jrc-hela Test NormCount:10 RMSE: 0.11869922239826158\n",
    "# COSEM_jrc-hela Test NormCount:1 RMSE: 0.18200486158911253\n",
    "\n"
   ]
  },
  {
   "cell_type": "code",
   "execution_count": 15,
   "metadata": {},
   "outputs": [],
   "source": [
    "# RMSE\n",
    "# RMSE 0.12 (15 times training dataloader was used to generate the patch statistics)\n",
    "# RMSE 0.164 (1 times training dataloader was used to generate the patch statistics)"
   ]
  }
 ],
 "metadata": {
  "kernelspec": {
   "display_name": "Python 3",
   "language": "python",
   "name": "python3"
  },
  "language_info": {
   "codemirror_mode": {
    "name": "ipython",
    "version": 3
   },
   "file_extension": ".py",
   "mimetype": "text/x-python",
   "name": "python",
   "nbconvert_exporter": "python",
   "pygments_lexer": "ipython3",
   "version": "3.9.19"
  }
 },
 "nbformat": 4,
 "nbformat_minor": 2
}
